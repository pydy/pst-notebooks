{
  "cells": [
    {
      "cell_type": "markdown",
      "metadata": {},
      "source": [
        "\n# 3D Drone with Propellers\n\n## Objectives\n\n- Show how opty can optimize unknown trajectories (here: the torques on the\n  propellers of a drone) and known parameters (here: the radius of the\n  propellers) simultaneously and also it optimizes the speed.\n- Show how sometimes one gets better results with an iterative approach.\n- Show how different objective functions, with the same goal - a balance\n  between speed and energy consumption - can affect the results.\n\n## Description\nA drone is modeled as a rigid body in 3D space, with four propellers attached\nto it. The drone's body is represented as a solid ball, and the propellers are\nmodeled as solid discs. To create lift, two propellers must rotate\n'positively', two 'negatively', else the drone will rotate. Also the radius\nof the propeller is optimized.\n\nThe objective function to be minimized is $\\int_0^{t_{\\text{final}}}\n(T_1^2 + T_2^2 + T_3^2 + T_4^2) \\, dt + \\textrm{weight} \\cdot t_{\\text{final}}$\n, where $T_i$ is the torque applied to propeller `i`, and\n$t_{\\text{final}}$ is the final time of the trajectory, it is variable,\nits value determined by opty.\n\n## Notes\n- Initially this objective function was used:\n  $t_{\\text{final}}^7 \\cdot\n  \\int_0^{t_{\\text{final}}} (T_1^2 + T_2^2 + T_3^2 + T_4^2) \\, dt$\n  It converged easily, but the duration of the flight varied from 6.8 sec to\n  9.4 sec, identical initial conditions. Apparently high powers of the variable\n  time interval are to be avoided.\n- This is merely a somewhat more complex example of this one:\n  https://opty.readthedocs.io/stable/examples/intermediate/plot_drone.html#sphx-glr-examples-intermediate-plot-drone-py\n- The relationships regarding friction, lifting power of the propellers, etc.,\n  are arbitrary.\n\n**States**\n\n- $x, y, z$ : Position of the drone body's mass center in 3D space.\n- $q_1, q_2, q_3$ : Angles of rotation of the drone body in 3D space.\n- $u_x, u_y, u_z$ : Linear velocities of the drone body in 3D space.\n- $u_1, u_2, u_3$ : Angular velocities of the drone body in 3D space.\n- $q_{p1}, q_{p2}, q_{p3}, q_{p4}$ : rotation angles of the propellers.\n- $u_{p1}, u_{p2}, u_{p3}, u_{p4}$ : Angular velocity of the propellers.\n\n**Control Inputs**\n\n- $T_1, T_2, T_3, T_4$ : Torques applied to the propellers.\n\n**Parameters**\n\n- $m_D, m_M, m_P$ : Masses of the drone body, motors, and propellers.\n- $g$ : Gravitational acceleration.\n- $a$ : Distance of the motors from the drone's mass center.\n- $r_b, r_M, r_P$ : Radii of the drone body, motors, and propellers.\n- $l_1$ : Distance of the propellers from the motors.\n- $\\text{reibung}$ : Friction coefficient for the drone body.\n- $\\text{reibungP}$ : Friction coefficient for the propellers.\n- $\\text{x_m, y_m, z_m}$ : Coordinates of an intermediate stopping point.\n- $\\textrm{weight}$ : Relative importance of the speed.\n"
      ]
    },
    {
      "cell_type": "code",
      "execution_count": null,
      "metadata": {
        "collapsed": false
      },
      "outputs": [],
      "source": [
        "import sympy.physics.mechanics as me\nimport numpy as np\nimport sympy as sm\nfrom scipy.interpolate import CubicSpline\nfrom opty.direct_collocation import Problem\nimport matplotlib.pyplot as plt\nfrom matplotlib.animation import FuncAnimation"
      ]
    },
    {
      "cell_type": "markdown",
      "metadata": {},
      "source": [
        "## Kane's Equations of Motion\n\n\n"
      ]
    },
    {
      "cell_type": "code",
      "execution_count": null,
      "metadata": {
        "collapsed": false
      },
      "outputs": [],
      "source": [
        "# inertial frame, frame of the drone body\nN, Ab = sm.symbols('N Ab', cls=me.ReferenceFrame)\n# frame of the propellers.\nAp1, Ap2, Ap3, Ap4 = sm.symbols('Ap1 Ap2 Ap3 Ap4', cls=me.ReferenceFrame)\nt = me.dynamicsymbols._t\n# origin, mass center of the drone, of the motors P1...P4\nO, DmcD, P1, P2, P3, P4 = sm.symbols('O DmcD P1 P2 P3 P4', cls=me.Point)\n# mass centers of the propellers\nPp1, Pp2, Pp3, Pp4 = sm.symbols('Pp1 Pp2 Pp3 Pp4', cls=me.Point)\nO.set_vel(N, 0)\n\n# position of the mass center of the drone\nx, y, z = me.dynamicsymbols('x y z')\nux, uy, uz = me.dynamicsymbols('u_x, u_y, u_z')\n\n# angle of rotation of the drone wrt N\nq1, q2, q3 = me.dynamicsymbols('q_1, q_2, q_3')\nu1, u2, u3 = me.dynamicsymbols('u_1, u_2, u_3')\n\n# angle of rotation of the propellers wrt Ab\nqp1, qp2, qp3, qp4 = me.dynamicsymbols('q_p1, q_p2, q_p3, q_p4')\nup1, up2, up3, up4 = me.dynamicsymbols('u_p1, u_p2, u_p3, u_p4')\n\n# torques applied to the propellers, control input\nT1, T2, T3, T4 = me.dynamicsymbols('T_1, T_2, T_3, T_4')\n\n# mass of body of ther drone, mass of the motors, mass of propellers per unit\n# radius of it , gravity, distance of the motors from the mass center,\n# friction coefficient\n\nmD, mM, mP, g, a, reibung = sm.symbols('m_D,m_M, m_P, g, a, reibung')\n# radius of the body, radius of the motors, radius of the propellers,\n# location of the propellers 'above' the drone\nrb, rM, rP, l1 = sm.symbols('r_b r_M r_P l_1')\n\n# Location of the intermediate stopping point.\nxm, ym, zm = sm.symbols('xm ym zm')\n\n# friction coefficient of the propellers\nreibungP = sm.symbols('reibungP')\n\nAb.orient_body_fixed(N, (q1, q2, q3), 'XYZ')\nrot = Ab.ang_vel_in(N)  # needed for the kinematic equations\nAb.set_ang_vel(N, u1 * Ab.x + u2*Ab.y + u3*Ab.z)\nrot1 = Ab.ang_vel_in(N)  # needed for the kinematic equations\n\n# orientation of the propellers\nAp1.orient_axis(Ab, qp1, Ab.z)\nAp1.set_ang_vel(Ab, up1 * Ab.z)\nAp2.orient_axis(Ab, qp2, Ab.z)\nAp2.set_ang_vel(Ab, up2 * Ab.z)\nAp3.orient_axis(Ab, qp3, Ab.z)\nAp3.set_ang_vel(Ab, up3 * Ab.z)\nAp4.orient_axis(Ab, qp4, Ab.z)\nAp4.set_ang_vel(Ab, up4 * Ab.z)\n\n# position of the mass center of the drone\nDmcD.set_pos(O, x*N.x + y*N.y + z*N.z)\nDmcD.set_vel(N, ux*N.x + uy*N.y + uz*N.z)\n\n# position of the motors\nP1.set_pos(DmcD, a * Ab.x)\nP2.set_pos(DmcD, -a * Ab.x)\nP3.set_pos(DmcD, a * Ab.y)\nP4.set_pos(DmcD, -a * Ab.y)\n\nP1.v2pt_theory(DmcD, N, Ab)\nP2.v2pt_theory(DmcD, N, Ab)\nP3.v2pt_theory(DmcD, N, Ab)\nP4.v2pt_theory(DmcD, N, Ab)\n\n# position of the propellers\nPp1.set_pos(P1, l1 * Ab.z)\nPp2.set_pos(P2, l1 * Ab.z)\nPp3.set_pos(P3, l1 * Ab.z)\nPp4.set_pos(P4, l1 * Ab.z)\n\nPp1.v2pt_theory(P1, N, Ab)\nPp2.v2pt_theory(P2, N, Ab)\nPp3.v2pt_theory(P3, N, Ab)\nPp4.v2pt_theory(P4, N, Ab)\n\n# Create the bodies\n# drone body and motors are modelled as solid balls of of radius rb, rM and\n# masses mD, mM\n# the propellers are modelled as solid disks of radius rP and mass mP\niXXd = 2 / 5 * mD * rb**2\niYYd = iXXd\niZZd = iXXd\ninertiaD = (me.inertia(Ab, iXXd, iYYd, iZZd))\nDmcDa = me.RigidBody('DmcDa', DmcD, Ab, mD, (inertiaD, DmcD))\n\niXXm = 2 / 5 * mM * rM**2\niYYm = iXXm\niZZm = iXXm\ninertiaM = (me.inertia(Ab, iXXm, iYYm, iZZm))\nP1a = me.RigidBody('P1a', P1, Ab, mM, (inertiaM, P1))\nP2a = me.RigidBody('P2a', P2, Ab, mM, (inertiaM, P2))\nP3a = me.RigidBody('P3a', P3, Ab, mM, (inertiaM, P3))\nP4a = me.RigidBody('P4a', P4, Ab, mM, (inertiaM, P4))\n\niXXp = 1./4. * (mP * rP) * rP**2\niYYp = iXXp\niZZp = 1./2. * (mP * rP) * rP**2\ninertiaP1 = (me.inertia(Ap1, iXXp, iYYp, iZZp))\ninertiaP2 = (me.inertia(Ap2, iXXp, iYYp, iZZp))\ninertiaP3 = (me.inertia(Ap3, iXXp, iYYp, iZZp))\ninertiaP4 = (me.inertia(Ap4, iXXp, iYYp, iZZp))\nPp1a = me.RigidBody('Pp1a', Pp1, Ap1, mP, (inertiaP1, Pp1))\nPp2a = me.RigidBody('Pp2a', Pp2, Ap2, mP, (inertiaP2, Pp2))\nPp3a = me.RigidBody('Pp3a', Pp3, Ap3, mP, (inertiaP3, Pp3))\nPp4a = me.RigidBody('Pp4a', Pp4, Ap4, mP, (inertiaP4, Pp4))\n\nBODY = [DmcDa, P1a, P2a, P3a, P4a, Pp1a, Pp2a, Pp3a, Pp4a]"
      ]
    },
    {
      "cell_type": "markdown",
      "metadata": {},
      "source": [
        "Forces\n\nIt is assumed that the frictional forces are proportionmal to the velocity of\nthe drone squared, and diminish with height.\nThe exponents used for the radius of the propellers, rD, for the fritction\nand for the lift are arbitrary.\n\n"
      ]
    },
    {
      "cell_type": "code",
      "execution_count": null,
      "metadata": {
        "collapsed": false
      },
      "outputs": [],
      "source": [
        "FL = [\n    # drive the propellers. the control variables.\n    (Ap1, T1 * Ab.z - reibungP * rP**(2/3) * up1 * Ab.z),\n    (Ap2, T2 * Ab.z - reibungP * rP**(2/3) * up2 * Ab.z),\n    (Ap3, T3 * Ab.z - reibungP * rP**(2/3) * up3 * Ab.z),\n    (Ap4, T4 * Ab.z - reibungP * rP**(2/3) * up4 * Ab.z),\n    # moment of the propellers onto the drone\n    (Ab, -(T1 + T2 + T3 + T4) * Ab.z),\n    (DmcD, -mD*g*N.z - reibung * DmcD.vel(N).magnitude()*DmcD.vel(N) /\n     (1 + z**2)),\n    (P1, -mM*g*N.z - reibung * P1.vel(N).magnitude()*P1.vel(N) / (1 + z**2)),\n    (P2, -mM*g*N.z - reibung * P2.vel(N).magnitude()*P2.vel(N) / (1 + z**2)),\n    (P3, -mM*g*N.z - reibung * P3.vel(N).magnitude()*P3.vel(N) / (1 + z**2)),\n    (P4, -mM*g*N.z - reibung * P4.vel(N).magnitude()*P4.vel(N) / (1 + z**2)),\n    # propellers must run in different directions\n    # otherwise the drone will rotate.\n    (Pp1,  -mP*g*N.z - reibung * Pp1.vel(N).magnitude()*Pp1.vel(N) /\n     (1 + z**2) + rP**2 * up1 * Ap1.z),\n    (Pp2,  -mP*g*N.z - reibung * Pp2.vel(N).magnitude()*Pp2.vel(N) /\n     (1 + z**2) - rP**2 * up2 * Ap2.z),\n    (Pp3,  -mP*g*N.z - reibung * Pp3.vel(N).magnitude()*Pp3.vel(N) /\n     (1 + z**2) + rP**2 * up3 * Ap3.z),\n    (Pp4,  -mP*g*N.z - reibung * Pp4.vel(N).magnitude()*Pp4.vel(N) /\n     (1 + z**2) - rP**2 * up4 * Ap4.z),\n    ]\n\nkd = sm.Matrix([\n               ux - x.diff(t), uy - y.diff(t), uz - z.diff(t),\n               *[(rot-rot1).dot(uv) for uv in N],\n               up1 - qp1.diff(t), up2 - qp2.diff(t), up3 - qp3.diff(t),\n               up4 - qp4.diff(t),\n               ])\nq_ind = [x, y, z, q1, q2, q3, qp1, qp2, qp3, qp4]\nu_ind = [ux, uy, uz, u1, u2, u3, up1, up2, up3, up4]\n\n# Create the KanesMethod object\nKM = me.KanesMethod(\n    N,\n    q_ind=q_ind,\n    u_ind=u_ind,\n    kd_eqs=kd,\n)\n\nfr, frstar = KM.kanes_equations(BODY, FL)\nEOM = kd.col_join(fr + frstar)\n\nprint('EOM shape', EOM.shape, '\\n')\nprint('EOM DS', me.find_dynamicsymbols(EOM), '\\n')\nprint('EOM FS', EOM.free_symbols, '\\n')\nprint(f'EOMs contain {sm.count_ops(EOM):,} operations')\n\nqL = [wert for wert in KM.q] + [wert for wert in KM.u]\nprint('sequence of states:', qL)"
      ]
    },
    {
      "cell_type": "markdown",
      "metadata": {},
      "source": [
        "## Set Up the Optimization Problem and Solve It\n\n"
      ]
    },
    {
      "cell_type": "code",
      "execution_count": null,
      "metadata": {
        "collapsed": false
      },
      "outputs": [],
      "source": [
        "state_symbols = qL\nlaenge = len(state_symbols)\nconstant_symbols = tuple((mD, mM, mP, g, a, reibung, rb, rM, l1))\nspecified_symbols = ((T1, T2, T3, T4))\nunknown_symbols = [rP]\n\n# Specify the known system parameters.\npar_map = {}\npar_map[mD] = 5.0  # Mass of the drone body\npar_map[mM] = 0.5  # Mass of the motors\npar_map[mP] = 0.1  # Mass of the propellers\npar_map[g] = 9.81  # Acceleration due to gravity\npar_map[a] = 3.0   # Distance of the mass center of the drone from P_i\npar_map[reibung] = 0.1  # Friction coefficient.\npar_map[reibungP] = 0.25  # Friction coefficient of the propellers\npar_map[rb] = 2.0  # Radius of the body\npar_map[rM] = 0.5  # Radius of the motors\npar_map[l1] = 0.5  # Distance of the propellers from the mass center\npar_map[xm] = 50.0  # x-coordinate of the goal point\npar_map[ym] = 50.0  # y-coordinate of the goal point\npar_map[zm] = 75.0  # z-coordinate of the goal point\n\nnum_nodes = 100   # The number of nodes\nh = sm.symbols('h', real=True)\ninterval_value = h\nt0, t_int, tf = 0.0, num_nodes // 2 * h, (num_nodes - 1) * h\n\nweight = 1.e6\n\n\ndef obj(free):\n    summe = (np.sum(free[20 * num_nodes: 24 * num_nodes]**2) * free[-1] +\n             weight * free[-1])\n    return summe\n\n\ndef obj_grad(free):\n    \"\"\"Gradient of the objective function.\"\"\"\n    grad = np.zeros_like(free)\n    grad[20 * num_nodes: 24 * num_nodes] = (2 * free[20 * num_nodes: 24 *\n                                                     num_nodes] * free[-1])\n    grad[-1] = np.sum(free[20 * num_nodes: 24 * num_nodes]**2) + weight\n    return grad\n\n\ninitial_state_constraints = {\n    x: 0.0,\n    y: 0.0,\n    z: 0.0,\n    q1: 0.0,\n    q2: 0.0,\n    q3: 0.0,\n    qp1: 0.0,\n    qp2: 0.0,\n    qp3: 0.0,\n    qp4: 0.0,\n    ux: 0.0,\n    uy: 0.0,\n    uz: 0.0,\n    u1: 0.0,\n    u2: 0.0,\n    u3: 0.0,\n    up1: 0.0,\n    up2: 0.0,\n    up3: 0.0,\n    up4: 0.0,\n}\n\nintermediate_state_constraints = {\n    x: par_map[xm],\n    y: par_map[ym],\n    z: par_map[zm],\n    q1: 0.0,\n    q2: 0.0,\n    q3: 0.0,\n    ux: 0.0,   # Value has no meaning, will be set during iteratio\n    uy: 0.0,   # Value has no meaning, will be set during iteration\n    uz: 0.0,   # Value has no meaning, will be set during iteration\n    u1: 0.0,\n    u2: 0.0,\n    u3: 0.0\n}\n\nfinal_state_constraints = {\n    x: 100.0,\n    y: 100.0,\n    z: 100.0,\n    q1: 0.0,\n    q2: 0.0,\n    q3: 0.0,\n    ux: 0.0,   # Value has no meaning, will be set during iteration\n    uy: 0.0,   # Value has no meaning, will be set during iteration\n    uz: 0.0,   # Value has no meaning, will be set during iteration\n    u1: 0.0,\n    u2: 0.0,\n    u3: 0.0,\n}\n\n\nstaerke = 100.0  # The maximum strength of the control input\nteiler = 3.0\nbounds = {\n    h: (0.0, 0.5),  # Bounding h > 0 avoids problems with negative time.\n    T1: (-staerke, staerke),\n    T2: (-staerke, staerke),\n    T3: (-staerke, staerke),\n    T4: (-staerke, staerke),\n    x: (0., 110),\n    y: (0., 110),\n    z: (0., 110),\n    # the drone must not rotate too much\n    q1: (-np.pi / teiler, np.pi / teiler),\n    q2: (-np.pi / teiler, np.pi / teiler),\n    rP: (0.5, 5.0),\n}\n\ninstance_constraints = (\n    *tuple(xi.subs({t: t0}) - xi_val for xi, xi_val in\n           initial_state_constraints.items()),\n    *tuple(xi.subs({t: t_int}) - xi_val for xi, xi_val in\n           intermediate_state_constraints.items()),\n    *tuple(xi.subs({t: tf}) - xi_val for xi, xi_val in\n           final_state_constraints.items()),\n)\n\niterationen = 5\nteilen = iterationen / 2.5\napproximation = 2.5001\nfor i in range(iterationen):\n    # for some reason, the intermediate / final states ux = uy = uz = 0 give\n    # problems. Hence iteration towards them. Approximation = 2.5, that is\n    # ux = uy = uz = 0 at the end of the iteration will created problems.\n    # Trying to go there in one step (no iteration) will give a result, which\n    # clearly is not optimal.\n    final_state_constraints[ux] = approximation - (i+1) / teilen\n    final_state_constraints[uy] = approximation - (i+1) / teilen\n    final_state_constraints[uz] = approximation - (i+1) / teilen\n\n    intermediate_state_constraints[ux] = approximation - (i+1) / teilen\n    intermediate_state_constraints[uy] = approximation - (i+1) / teilen\n    intermediate_state_constraints[uz] = approximation - (i+1) / teilen\n\n    instance_constraints = (\n        *tuple(xi.subs({t: t0}) - xi_val for xi, xi_val in\n               initial_state_constraints.items()),\n        *tuple(xi.subs({t: t_int}) - xi_val for xi, xi_val in\n               intermediate_state_constraints.items()),\n        *tuple(xi.subs({t: tf}) - xi_val for xi, xi_val in\n               final_state_constraints.items()),\n    )\n\n    prob = Problem(\n        obj,\n        obj_grad,\n        EOM,\n        state_symbols,\n        num_nodes,\n        interval_value,\n        known_parameter_map=par_map,\n        instance_constraints=instance_constraints,\n        bounds=bounds,\n    )\n\n    prob.add_option('max_iter', 3000)  # default is 3000\n    if i == 0:\n        initial_guess = np.ones(prob.num_free)\n\n    # Find the optimal solution.\n    solution, info = prob.solve(initial_guess)\n    print(f'{i+1} - th iteration')\n    print('message from optimizer:', info['status_msg'])\n    print('Iterations needed', len(prob.obj_value))\n    print(f\"objective value {info['obj_val']:.3e}\")\n    print(f'radius of propellers {solution[-2]:.3f} \\n')\n\n    initial_guess = solution"
      ]
    },
    {
      "cell_type": "markdown",
      "metadata": {},
      "source": [
        "Plot the results.\n\n"
      ]
    },
    {
      "cell_type": "code",
      "execution_count": null,
      "metadata": {
        "collapsed": false
      },
      "outputs": [],
      "source": [
        "ax = prob.plot_trajectories(solution)\ncenter = solution[-1] * (num_nodes // 2)\nfor i in range(len(ax)):\n    ax[i].axvline(center, color='black', lw=0.5, ls='--')\n    ax[i].axhline(0.0, color='black', lw=0.5, ls='--')\nax[2].axhline(par_map[zm], color='black', lw=0.5, ls='--')\n\nlimit = np.pi / teiler\nfor i in range(3, 6):\n    ax[i].axhline(-limit, color='black', lw=0.5, ls='--')\n    _ = ax[i].axhline(limit, color='black', lw=0.5, ls='--')"
      ]
    },
    {
      "cell_type": "markdown",
      "metadata": {},
      "source": [
        "Plot the objective values.\n\n"
      ]
    },
    {
      "cell_type": "code",
      "execution_count": null,
      "metadata": {
        "collapsed": false
      },
      "outputs": [],
      "source": [
        "_ = prob.plot_objective_value()"
      ]
    },
    {
      "cell_type": "markdown",
      "metadata": {},
      "source": [
        "Plot the constraint violations.\n\n"
      ]
    },
    {
      "cell_type": "code",
      "execution_count": null,
      "metadata": {
        "collapsed": false
      },
      "outputs": [],
      "source": [
        "_ = prob.plot_constraint_violations(solution)"
      ]
    },
    {
      "cell_type": "markdown",
      "metadata": {},
      "source": [
        "## Animation\n\n"
      ]
    },
    {
      "cell_type": "code",
      "execution_count": null,
      "metadata": {
        "collapsed": false
      },
      "outputs": [],
      "source": [
        "fps = 10\n\n# trace the paths of the drone body and of the propellers\ntraceD = []\nstate_vals, input_vals, prop_radius, h_val = prob.parse_free(solution)\ntf = h_val * (num_nodes - 1)\n\nt_arr = np.linspace(t0, tf, num_nodes)\nstate_sol = CubicSpline(t_arr, state_vals.T)\ninput_sol = CubicSpline(t_arr, input_vals.T)\n\nqL = [*state_symbols, *specified_symbols]\npar_map[a] = 15.   # I change this for better visibility\npL, pL_vals = [*constant_symbols], [par_map[const]\n                                    for const in constant_symbols]\n\n# define final points of the force arrows\n# the forces of the propellers on the drone, will be calculated below\nf1, f2, f3, f4 = sm.symbols('f1 f2 f3 f4')\nFf1, Ff2, Ff3, Ff4 = sm.symbols('Ff1, Ff2, Ff3, Ff4', cls=me.Point)\nFf1.set_pos(P1, f1 * Ab.z)\nFf2.set_pos(P2, f2 * Ab.z)\nFf3.set_pos(P3, f3 * Ab.z)\nFf4.set_pos(P4, f4 * Ab.z)\n\nhead = me.Point('head')\nhead.set_pos(DmcD, 15.0 * par_map[l1] * Ab.z)\n\ncoordinates = DmcD.pos_from(O).to_matrix(N)\nfor point in [P1, P2, P3, P4, Ff1, Ff2, Ff3, Ff4, head]:\n    coordinates = coordinates.row_join(point.pos_from(O).to_matrix(N))\ncoords_lam = sm.lambdify(qL + pL + [f1, f2, f3, f4], coordinates, cse=True)\n\n# to keep the order of the states in the animation\nidx = []\nfor ort in initial_state_constraints.keys():\n    idx.append(qL.index(ort))\n\n# needed to give the picture the right size\nxmin, xmax = (np.min(state_vals[idx[0], :]) -\n              par_map[a], np.max(state_vals[idx[0], :]) + par_map[a])\nymin, ymax = (np.min(state_vals[idx[1], :]) -\n              par_map[a], np.max(state_vals[idx[1], :]) + par_map[a])\nzmin, zmax = (np.min(state_vals[idx[2], :]) -\n              par_map[a], np.max(state_vals[idx[2], :]) + par_map[a])\n\n\ndef plot_3d_plane(x_min, x_max, y_min, y_max):\n    # Create a meshgrid for x and y values\n    x = np.linspace(x_min, x_max, 100)\n    y = np.linspace(y_min, y_max, 100)\n    x, y = np.meshgrid(x, y)\n\n    # Z values are set to 0 for the plane\n    z = np.zeros_like(x)\n\n    # Plot the 3D plane\n    ax.plot_surface(x, y, z, alpha=0.1, rstride=100, cstride=100, color='c')\n\n\nfig = plt.figure(figsize=(10, 10))\nax = fig.add_subplot(111, projection='3d')\nax.set_xlim(xmin - 1., xmax + 1.)\nax.set_ylim(ymin - 1., ymax + 1.)\nax.set_zlim(zmin - 1., zmax + 1.)\nax.set_aspect('equal')\nax.set_xlabel('X-axis')\nax.set_ylabel('Y-axis')\nax.set_zlabel('Z-axis')\n\nebene = plot_3d_plane(xmin - 1., xmax + 1., ymin - 1., ymax + 1.)\n\n\n# Drone body, dorne 'head\nline1, = ax.plot([], [], [], color='red', marker='o', markersize=10)\nline1a, = ax.plot([], [], [], color='blue', marker='o', markersize=10)\n\n# Propellers\nline2, = ax.plot([], [], [], color='blue', marker='o', markersize=5)\nline3, = ax.plot([], [], [], color='magenta', marker='o', markersize=5)\nline4, = ax.plot([], [], [], color='orange', marker='o', markersize=5)\nline5, = ax.plot([], [], [], color='black', marker='o', markersize=5)\n\n# Connecting lines between propellers\nline6, = ax.plot([], [], [], color='black', lw=0.5, markersize=1)\nline7, = ax.plot([], [], [], color='black', lw=0.5, markersize=1)\n\n# line conneting drone body to drone head\nline7a, = ax.plot([], [], [], color='black', lw=1.0, markersize=0)\n\n# Trace line for the drone body\nline8, = ax.plot([], [], [], color='red', lw=0.5, markersize=1)\n\n# Quiver arrows for the forces\nquiver1 = ax.quiver([], [], [], [], [], [], color='r')\nquiver2 = ax.quiver([], [], [], [], [], [], color='r')\nquiver3 = ax.quiver([], [], [], [], [], [], color='r')\nquiver4 = ax.quiver([], [], [], [], [], [], color='r')\n\n# Start, intermediate, and final points\nax.plot(initial_state_constraints[x], initial_state_constraints[y],\n        initial_state_constraints[z], marker='o', markersize=5, color='red')\nax.plot(intermediate_state_constraints[x], intermediate_state_constraints[y],\n        intermediate_state_constraints[z], marker='o', markersize=5,\n        color='blue')\nax.plot(final_state_constraints[x], final_state_constraints[y],\n        final_state_constraints[z], marker='o', markersize=5, color='green')\n\n# Function to update the plot for each animation frame\n\n\ndef update(t):\n    global quiver1, quiver2, quiver3, quiver4\n    message = (f'Running time {t:.2f} sec \\n The green arrows are the forces '\n               f'\\n Optimal radius of the propellers is {solution[-2]:.3f}')\n    ax.set_title(message, fontsize=15)\n\n    # scaling factor for the forces, to make them look 'right'.\n    skala = 2.5\n    f11 = prop_radius[0]**2 * state_sol(t)[idx[-4]] / skala\n    f21 = -prop_radius[0]**2 * state_sol(t)[idx[-3]] / skala\n    f31 = prop_radius[0]**2 * state_sol(t)[idx[-2]] / skala\n    f41 = -prop_radius[0]**2 * state_sol(t)[idx[-1]] / skala\n\n    coords = coords_lam(*state_sol(t), *input_sol(t), *pL_vals, f11, f21,\n                        f31, f41)\n    line1.set_data([coords[0, 0]], [coords[1, 0]])\n    line1.set_3d_properties([coords[2, 0]])\n    line1a.set_data([coords[0, 9]], [coords[1, 9]])\n    line1a.set_3d_properties([coords[2, 9]])\n    line2.set_data([coords[0, 1]], [coords[1, 1]])\n    line2.set_3d_properties([coords[2, 1]])\n    line3.set_data([coords[0, 2]], [coords[1, 2]])\n    line3.set_3d_properties([coords[2, 2]])\n    line4.set_data([coords[0, 3]], [coords[1, 3]])\n    line4.set_3d_properties([coords[2, 3]])\n    line5.set_data([coords[0, 4]], [coords[1, 4]])\n    line5.set_3d_properties([coords[2, 4]])\n\n    line6.set_data([coords[0, 1], coords[0, 2]], [coords[1, 1], coords[1, 2]])\n    line7.set_data([coords[0, 3], coords[0, 4]], [coords[1, 3], coords[1, 4]])\n    line7.set_3d_properties([coords[2, 3], coords[2, 4]])\n    line7a.set_data([coords[0, 0], coords[0, 9]], [coords[1, 0], coords[1, 9]])\n    line7a.set_3d_properties([coords[2, 0], coords[2, 9]])\n    line6.set_3d_properties([coords[2, 1], coords[2, 2]])\n\n    quiver1.remove()\n    quiver2.remove()\n    quiver3.remove()\n    quiver4.remove()\n    quiver1 = ax.quiver(coords[0, 1], coords[1, 1], coords[2, 1],\n                        coords[0, 5] - coords[0, 1], coords[1, 5] -\n                        coords[1, 1], coords[2, 5] - coords[2, 1], color='g')\n    quiver2 = ax.quiver(coords[0, 2], coords[1, 2], coords[2, 2],\n                        coords[0, 6] - coords[0, 2], coords[1, 6] -\n                        coords[1, 2], coords[2, 6] - coords[2, 2], color='g')\n    quiver3 = ax.quiver(coords[0, 3], coords[1, 3], coords[2, 3],\n                        coords[0, 7] - coords[0, 3], coords[1, 7] -\n                        coords[1, 3], coords[2, 7] - coords[2, 3], color='g')\n    quiver4 = ax.quiver(coords[0, 4], coords[1, 4], coords[2, 4],\n                        coords[0, 8] - coords[0, 4], coords[1, 8] -\n                        coords[1, 4], coords[2, 8] - coords[2, 4], color='g')\n\n    traceD.append([coords[0, 0], coords[1, 0], coords[2, 0]])\n    line8.set_data(np.array(traceD)[:, 0:2].T)\n    line8.set_3d_properties(np.array(traceD)[:, 2])\n\n\n# Create the animation\nanimation = FuncAnimation(fig, update, frames=np.arange(t0, tf, 1 / fps),\n                          interval=1000 / fps)\nplt.show()"
      ]
    }
  ],
  "metadata": {
    "kernelspec": {
      "display_name": "Python 3",
      "language": "python",
      "name": "python3"
    },
    "language_info": {
      "codemirror_mode": {
        "name": "ipython",
        "version": 3
      },
      "file_extension": ".py",
      "mimetype": "text/x-python",
      "name": "python",
      "nbconvert_exporter": "python",
      "pygments_lexer": "ipython3",
      "version": "3.13.3"
    }
  },
  "nbformat": 4,
  "nbformat_minor": 0
}