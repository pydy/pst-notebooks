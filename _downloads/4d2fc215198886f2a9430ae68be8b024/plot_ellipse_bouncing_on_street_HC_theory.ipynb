{
  "cells": [
    {
      "cell_type": "markdown",
      "metadata": {},
      "source": [
        "\n# Bouncing Ellipse\n\n## Objective\n\n- Show how to use Hunt-Crossley's theory of impact on a somewhat non-trivial\n  example.\n\n## Description of the Model\n\nA homogenious ellipse of mass $m$ and semi axes $a, b$ is dropped\nor thrown on an uneven street. A particle of mass $m_o$ may be attached\nanywhere within th ellipse.\n\nThe street is a curve in the X/Y plane, gravitation points in the negative\nY - direction.\n\nThe impact is modelled using the **Hunt-Crossley method**, details below.\n\n## Notes\n\n- The *force related terms*, such as *spring energy* and the *H-C hysteresis\n  curves* take a long time to calculate. Hence this may be suppressed by\n  setting *force_display* = False.\n- The integration with the parameters as given takes about 15 min on a decent\n  PC.\n\n**Parameters and Variables**\n\n- $N$ : inertial frame\n- $A$ : frame fixed to the ellipse\n- $P_0$ : point fixed in *N*\n- $Dmc$ : center of the ellipse\n- $CP_h, CP_{hs}$ : contact points, explained in more detail below.\n- $P_o$ : location of the particle fixed to the ellipse\n- $q, u$ : angle of rotation of the ellipse, angular speed\n- $m_x, m_y, um_x, um_y$ : coordinates of the center of the ellipse,\n  its speeds\n- $x$ : X - coordinate of the impact point $CP_{hs}$ ,of course the\n  Y - coordinate is $\\textrm{gesamt}(x)$\n- $m, m_o$ : mass of the ellipse, of the particle attached to the ellipse\n- $a, b$ : semi axes of the ellipse\n- $\\textrm{amplitude, frequenz}$ : parameters for the street.\n- $i_{ZZ}$ : moment of inertia of the ellipse around the Z axis\n- $\\alpha, \\beta$ : determine the location of the particle w.r.t.\n  $Dmc$\n- $\\textrm{reibung}$ : speed dependent friction between the ellipse and\n  the street.\n- $\\nu, E_Y$ : Poisson's ratio and Young's modulus\n- $rhodt_{max}$ : speed at the moment of impact, needed for\n  Hunt-Crossley's method, described below.\n"
      ]
    },
    {
      "cell_type": "code",
      "execution_count": null,
      "metadata": {
        "collapsed": false
      },
      "outputs": [],
      "source": [
        "import sympy as sm\nimport sympy.physics.mechanics as me\nimport numpy as np\nfrom scipy.optimize import minimize, root\nfrom scipy.integrate import solve_ivp\nimport itertools as itt\nfrom matplotlib import animation\nimport matplotlib\nfrom matplotlib import patches\nimport matplotlib.pyplot as plt\nmatplotlib.rcParams['animation.embed_limit'] = 2**128\n\nforce_display = True\n\nm, mo, g, a, b, iZZ, alpha, beta, reibung = sm.symbols(('m, mo, g, a, b, iZZ, '\n                                                        'alpha, beta, '\n                                                        'reibung'))\nnue, nus, EYe, EYs, ctau = sm.symbols('nue, nus EYe, EYs, ctau')\namplitude, frequenz = sm.symbols('amplitude, frequenz')\nx, rhodtmax = sm.symbols('x, rhodtmax')\n\nmx, my, umx, umy = me.dynamicsymbols('mx, my, umx, umy')\nq, u = me.dynamicsymbols('q, u')\n\nt = me.dynamicsymbols._t\n\nN, A = sm.symbols('N, A', cls=me.ReferenceFrame)\nP0, Dmc, CPh, CPhs, Po = sm.symbols('P0, Dmc, CPh, CPhs, Po', cls=me.Point)\n\nP0.set_vel(N, 0.)\n\nA.orient_axis(N, q, N.z)\nA.set_ang_vel(N, u*N.z)"
      ]
    },
    {
      "cell_type": "markdown",
      "metadata": {},
      "source": [
        "Model the street.\n\n"
      ]
    },
    {
      "cell_type": "code",
      "execution_count": null,
      "metadata": {
        "collapsed": false
      },
      "outputs": [],
      "source": [
        "# It is a parabola, open to the top, with superimposed sinus waves.\n# Then the radius of the osculating circle is calculated, the formula is from\n# the internet.\n\nrumpel = 5  # the higher the number the more 'uneven the street'\n\n\ndef gesamt1(x, amplitude, frequenz):\n    strasse = sum([amplitude/j * sm.sin(j*frequenz * x)\n                   for j in range(1, rumpel)])\n    strassen_form = (frequenz/2. * x)**2\n    gesamt = strassen_form + strasse\n    return gesamt\n\n\nr_max = ((sm.S(1.) + (gesamt1(x, amplitude, frequenz).diff(x))**2)**sm.S(3/2) /\n         gesamt1(x, amplitude, frequenz).diff(x, 2))"
      ]
    },
    {
      "cell_type": "markdown",
      "metadata": {},
      "source": [
        "## Find the Point where the Ellipse Hits the Street\nThe idea is as follows:\n\nWhen the ellipse hits the street, the tangent at the ellipse at the hitting\npoint, and the tangent at the street at the hitting point must be parallel.\nSo, look for the point where the ellipse would touch the street if it was\n'inflated' by just the right amount to touch the street for every point of\nthe integration time. This sequence of potential hitting points will\neventually give the real hitting point.\n\n- let $CP_{hs}$ be the point of the street where a multiple of the\n  vector $\\hat n$ which is normal to the tanget of the ellipse at\n  $CP_h \\in \\textrm{circumference of ellipse}$  intersects with\n  the street below.\n- is the tangent of the ellipse at $CP_h$ parallel to the tangent of\n  the street at $CP_{hs}$?\n- if YES, $CP_{hs}$ is a potential impact point.\n- collect all potential impact points, and select the one closest to the\n  ellipse. This is the point the ellipse would touch, if it were 'blown up'\n  to just touch the street.\n\nAll this has to be done numerically during integration.\n\nIn more **detail**:\n\nTo get the derivative of the ellipse at the point\n$(x, y) \\in \\textrm{circumference of ellipse}$ calculate:\n$\\dfrac{d}{dx}(\\dfrac{x^2}{a^2}  + \\dfrac{y^2}{b^2} = 1)$\n\nto get:\n\n$\\dfrac{dy}{dx} = - \\dfrac{b^2}{a^2} \\cdot \\dfrac{x}{y}$\nfor $y \\neq 0$\n\nhence the normalized tanget vector is\n\n$t_{\\textrm{ellipse}} = (\\hat{ A.x + \\dfrac{dy}{dx} \\cdot A.y})$\nfor $y \\neq 0$\n\n$t_{\\textrm{ellipse}} = +/- A.y$ for $y = 0.$\n\nTherefore the normal vector in the **unrotated** ellipse is:\n\n$\\hat n = (\\hat{ \\dfrac{dy}{dx} \\cdot A.x - A.y})$ for $y \\neq 0$\n\n$\\hat n =   A.x$ for $y = 0, x = a$\n\n$\\hat n = -A.x$ for $y = 0, x = -a$\n\nTo get $\\hat n$ in the ellipse **rotated by q**, one calculates:\n$\\hat n_{\\textrm{rotated by q}} = A(q)^T \\cdot \\hat n$\n\nFind the **location** of $CP_{hs}$\t:\n$CP_{hs} \\in$ gesamt(x, parameters)\twhere the function\n*gesamt(x, parameters)* models the street\n\nLet $l = |{}^{CP_{hd}} r^{CP_h}| = |l \\hat n|$, then we get two\nequations:\n\n- $(l\\hat n \\cdot N.x) = x$\n- $(l\\hat n \\cdot N.y) = gesamt(x),$\n\nto be solved during each step of the numerical integration.\nHowever, during integration solved only if $\\hat n \\cdot N.y \\leq 0$.\nFor the shape of the street, this seems adequate and reduces running time.\n\n$\\sin(\\theta) = |  \\textrm{tangent}_{\\textrm{ellipse}} \\times\n\\textrm{tangent}_{\\textrm{street}}   |$\nis taken as a measure how 'parallel' the tangents at the collision points\nare, where the tangents are unit vectors, and $\\theta$ is the angle\nbetween them.\n\n\n"
      ]
    },
    {
      "cell_type": "code",
      "execution_count": null,
      "metadata": {
        "collapsed": false
      },
      "outputs": [],
      "source": [
        "Dmc.set_pos(P0, mx*N.x + my*N.y)\nDmc.set_vel(N, umx*N.x + umy*N.y)\n# define the 'observer'\nPo.set_pos(Dmc, alpha*a*A.x + beta*b*A.y)\nPo.v2pt_theory(Dmc, N, A)\n\n\n# find the vector normal to the tanget at the unrotated ellipse\n# at the point CPh\ndelta, l = sm.symbols('delta, l')\n\nCPhx = a * sm.cos(delta)\nCPhy = b * sm.sin(delta)\n\nausdruckk = (sm.Abs(CPhy) <= 1.e-15)\nausdruckg = (sm.Abs(CPhy) > 1.e-15)\n\ndydx = sm.Piecewise((-b**2/a**2 * CPhx/CPhy, ausdruckg), (1.e15, ausdruckk),\n                    (1., True))\nthat0 = (A.x + dydx*A.y).normalize()\n\nhilfsx = sm.Piecewise((1., delta == sm.S(0)), (-1., delta == sm.pi),\n                      (-dydx, delta < sm.pi/2.), (-dydx, delta < sm.pi),\n                      (dydx, delta < 3./2.*sm.pi), (dydx, delta < 2.*sm.pi),\n                      (1., True))\nhilfsy = sm.Piecewise((0., ausdruckk), (1., delta < sm.pi/2.),\n                      (1., delta < sm.pi), (-1.,  delta < 3./2.*sm.pi),\n                      (-1, delta < 2.*sm.pi), (1., True))\n\nnhat0 = hilfsx*A.x + hilfsy*A.y\n\n# rotated the normal vector\nA1 = A.dcm(N).T\nprint('A1 = ', '\\n', A1, '\\n')\nnhat1 = A1 @ sm.Matrix([hilfsx, hilfsy, 0.])\nthat1 = A1 @ sm.Matrix([1., dydx, 0.])\nnhat = (nhat1[0]*N.x + nhat1[1]*N.y).normalize()\nthat = (that1[0]*N.x + that1[1]*N.y).normalize()\nprint('nhat DS', me.find_dynamicsymbols(nhat, reference_frame=N))\nprint('nhat FS', nhat.free_symbols(reference_frame=N))\n\n# define CPh and CHhs\nCPh.set_pos(Dmc, CPhx*A.x + CPhy*A.y)\nCPh.v2pt_theory(Dmc, N, A)\n\nCPhs.set_pos(CPh, l*nhat)\nhilfs1 = CPhs.pos_from(P0)\n\n# CPhs_ort to be solved numerically later duering each step of the integration.\nCPhs_ort = sm.Matrix([me.dot(hilfs1, N.x) - x, me.dot(hilfs1, N.y)\n                      - gesamt1(x, amplitude, frequenz)])\nprint('CPhs_ort DS', me.find_dynamicsymbols(CPhs_ort))\nprint('CPhs_ort FS', CPhs_ort.free_symbols)\nprint((f'CPhs_ort has {sm.count_ops(CPhs_ort)} operations. After cse it has '\n       f'{sm.count_ops(sm.cse(CPhs_ort))}'))\n\nstrasse = gesamt1(x, amplitude, frequenz)\nstrassedx = strasse.diff(x)\ntangente_strasse = (N.x + strassedx * N.y).normalize()\nparallel = (that.cross(tangente_strasse)).magnitude()\n\nprint('parallel FS', parallel.free_symbols)\n\nparallel_lam = sm.lambdify([q, mx, my] + [x, delta, a, b, amplitude, frequenz],\n                           parallel, cse=True)\nCPhs_ort_lam = sm.lambdify([x, l] + [q, mx, my] + [a, b, amplitude, frequenz,\n                                                   delta], CPhs_ort, cse=True)\n\n# This is needed only for the plot with the initial conditions\nCPha = me.Point('CPha')\nCPhe = me.Point('CPhe')\nCPha.set_pos(Dmc, CPhx*A.x + CPhy*A.y)\nCPhe.set_pos(CPha, 1.*nhat)\nliste = [[me.dot(punkt.pos_from(P0), uv) for uv in (N.x, N.y)]\n         for punkt in (CPha, CPhe)]\nliste_lam = sm.lambdify([q, mx, my, delta, a, b], liste, cse=True)\nnhat_lam = sm.lambdify([q, delta, a, b],\n                       [me.dot(nhat, N.x), me.dot(nhat, N.y)], cse=True)\nsenkrecht = me.dot(nhat, that)\nsenkrecht_lam = sm.lambdify((q, delta, a, b), senkrecht, cse=True)"
      ]
    },
    {
      "cell_type": "markdown",
      "metadata": {},
      "source": [
        "Force and Friction on $CP_h$ during impact\n\nForce acting on $CP_h$ during impact\nHunt_Crossley's method is used to calculate it.\n\n**Hunt Crossley's method**\n\nThis article is the reference for the Hunt-Crossley method:\nhttps://www.sciencedirect.com/science/article/pii/S0094114X23000782\n\n\nThis is with dissipation during the collision, the general force is given in\nequation (63) of this article as\n$f_n = k_0 \\cdot \\rho + \\chi \\cdot \\dot \\rho$, with $k_0$ as\nbelow, $\\rho$ the penetration, and $\\dot\\rho$ the speed of the\npenetration. In the article it is stated, that $n = \\frac{3}{2}$ is a\ngood choice, it is derived in Hertz' approach. Of course,\n$\\rho, \\dot\\rho$ must be the signed magnitudes of the respective\nvectors.\n\nA more realistic force is given in (64) as:\n$f_n = k_0 \\cdot \\rho^n + \\chi \\cdot \\rho^n\\cdot \\dot \\rho$, as this\navoids discontinuity at the moment of impact.\n\n**Hunt and Crossley** give this value for $\\chi$, see table 1:\n\n$\\chi = \\dfrac{3}{2} \\cdot(1 - c_\\tau) \\cdot \\dfrac{k_0}{\\dot\n\\rho^{(-)}}$,\n\nwhere $c_\\tau = \\dfrac{v_1^{(+)} - v_2^{(+)}}{v_1^{(-)} - v_2^{(-)}}$,\n\nwhere $v_i^{(-)}, v_i^{(+)}$ are the speeds of $body_i$, before\nand after the collosion, see (45),\n\n$\\dot\\rho^{(-)}$ is the speed right at the time the impact starts.\n\n$c_\\tau$ is an experimental factor, apparently around 0.8 for steel.\n\nUsing (64), this results in their expression for the force:\n\n$f_n = k_0 \\cdot \\rho^n \\left[1 + \\dfrac{3}{2} \\cdot(1 - c_\\tau) \\cdot\n\\dfrac{\\dot\\rho}{\\dot\\rho^{(-)}}\\right]$\n\nwith $k_0 = \\frac{4}{3\\cdot(\\sigma_1 + \\sigma_2)} \\cdot\n\\sqrt{\\frac{R_1 \\cdot R_2}{R_1 + R_2}}$,\nwhere\n\n$\\sigma_i = \\frac{1 - \\nu_i^2}{E_i}$,\n\nwith\n\n$\\nu_i$ = Poisson's ratio, $E_i$ = Youngs modulus,\n$R_1, R_2$ the radii of the colliding bodies,\n$\\rho$ the penetration depth.\n\nAll is near equations (54) and (61) of this article.\n\n1. Penetration depth $\\rho$:\n\nFrom the description above, it is clear that\n$\\rho = |l| \\cdot H(-l)$, with $l$ from above (found numerically)\n, and $H(...)$ being the Heaviside function (step function).\n\n\n2. Determine $R_1, R_2$ in the above formulas:\n\nFor a function $y = f(x)$ the signed curvature is:\n$\\kappa = \\dfrac{\\frac{d^2}{dx^2} f(x)}{(1 + (\\frac{d}{dx} f(x))^2)^\n{\\frac{3}{2}}}$\n\nFor an ellipse, $\\kappa = \\dfrac{a \\cdot b}{ \\left( \\sqrt{a^2\n\\sin^2(\\delta) + b^2 \\cos^2(\\delta)} \\right)^3}  > 0     \\forall \\delta\n\\in [0, 2 \\pi)$ where $\\delta$ is the angle from $A.x$ to the\npoint.\nAs an approximation for $R_1, R_2$ I take the radius of the osculating\ncircle, which is:\n$R_i = \\dfrac{1}{\\kappa_i}$ If the penetration depth is no too large,\nthis should be o.k.\nNote,that *negative* $R_2$ are allowed: This means, the street is\nconcave from the ellipse's point of view.\nAt a contact point, either $R_2 > 0$ or $|R_2| \\leq R_1$ there\nshould be no problems.\n\nUnclear whether this approach is within the **validity of the H-C method**\n\n3. Penetration speed\n\n$\\frac{d}{dt} \\rho(t)$\nOnly the component of $\\frac{d}{dt} CP_h(t)$ is relevant, hence:\n$\\frac{d}{dt} \\rho(t) = \\frac{d}{dt} CP_h \\cdot \\hat n$\n\n*spring energy* = $k_0 \\cdot \\int_{0}^{\\rho} k^{3/2}\\,dk = k_0\n\\cdot\\frac{2}{5} \\cdot \\rho^{5/2}$\nThe article does not give a closed form for the dissipated energy.\n\nNote\n\n$c_\\tau = 1.$ gives **Hertz's** solution to the impact problem, also\ndescribed in the article.\n\n4. Friction when the ellipse hits the street\n\nIt acts on $CP_h$\n\n$|\\textrm{friction force}| = |\\textrm{impact force}| \\cdot\n\\textrm{reibung} \\cdot |\\bar v(CP_h)\\bot \\hat n |$ and opposite in direction\nto the component of $\\bar v(CP_h) \\bot \\hat n$\n\n\n"
      ]
    },
    {
      "cell_type": "code",
      "execution_count": null,
      "metadata": {
        "collapsed": false
      },
      "outputs": [],
      "source": [
        "# impact force on :math:`CP_h`\n#\n# curvature of the ellipse at the point :math:`P((a \\cos(\\delta) | b\n# \\sin(\\delta))`,  from the internet:\nkappa1 = (a * b) / (sm.sqrt((a*sm.sin(delta))**2 + (b*sm.cos(delta))**2))**3\n\n# formula for the curvature of a function. From the internet.\nhilfs = gesamt1(x, amplitude, frequenz)\nhilfsdx = hilfs.diff(x)\nhilfsdxdx = hilfsdx.diff(x)\nkappa2 = sm.Piecewise((hilfsdxdx**2 / (1. + hilfsdx**2)**1.5, hilfsdxdx != 0.),\n                      (1.e-5, True))\n\nR1 = 1. / kappa1\nR2 = 1. / kappa2\nsigmae = (1. - nue**2) / EYe\nsigmas = (1. - nus**2) / EYs\nk0 = 4./3. * 1./(sigmae + sigmas) * sm.sqrt(R1*R2 / (R1 + R2))\n\nrhodt = me.dot(CPh.pos_from(P0).diff(t, N), nhat).subs({\n    sm.Derivative(mx, t): umx, sm.Derivative(my, t): umy,\n    sm.Derivative(q, t): u})\nrho = sm.Abs(l) * sm.Heaviside(-l, sm.S(0))\nprint('rhodt DS', me.find_dynamicsymbols(rhodt))\nprint('rhodt FS', rhodt.free_symbols)\nfHC_betrag = (k0 * rho**(3/2) * (1. + 3./2. * (1. - ctau)\n                                 * (rhodt) / sm.Abs(rhodtmax)))\n# the force is acting on CPh, hence the minus sign.\nfHC = fHC_betrag * (-nhat) * sm.Heaviside(-l, sm.S(0))\n\nprint('fHC DS', me.find_dynamicsymbols(fHC, reference_frame=N))\nprint('fHC FS', fHC.free_symbols(reference_frame=N))\n\n# friction force on CPh\nthat = me.dot(nhat, N.y)*N.x - me.dot(nhat, N.x)*N.y\nvCPh = (me.dot(CPh.pos_from(P0).diff(t, N), that)).subs(\n    {sm.Derivative(mx, t): umx, sm.Derivative(my, t): umy,\n     sm.Derivative(q, t): u})\nF_friction = (fHC.magnitude() * reibung * vCPh * (-that)\n              * sm.Heaviside(-l, sm.S(0)))\n\nprint('F_friction DS', me.find_dynamicsymbols(F_friction, reference_frame=N))\nprint('F_friction FS', F_friction.free_symbols(reference_frame=N))"
      ]
    },
    {
      "cell_type": "markdown",
      "metadata": {},
      "source": [
        "Kane's equations.\n\n"
      ]
    },
    {
      "cell_type": "code",
      "execution_count": null,
      "metadata": {
        "collapsed": false
      },
      "outputs": [],
      "source": [
        "Ie = me.inertia(A, 0., 0., iZZ)\nbodye = me.RigidBody('bodye', Dmc, A, m, (Ie, Dmc))\nPoa = me.Particle('Poa', Po, mo)\nBODY = [bodye, Poa]\n\nFL = [(Dmc, -m*g*N.y), (Po, -mo*g*N.y), (CPh, fHC), (CPh, F_friction)]\n\nkd = [u - q.diff(t), umx - mx.diff(t), umy - my.diff(t)]\n\nq_ind = [q, mx, my]\nu_ind = [u, umx, umy]\n\nKM = me.KanesMethod(N, q_ind=q_ind, u_ind=u_ind, kd_eqs=kd)\n(fr, frstar) = KM.kanes_equations(BODY, FL)\nMM = KM.mass_matrix_full\nforce = KM.forcing_full\n\nprint('force DS', me.find_dynamicsymbols(force))\nprint('force free symbols', force.free_symbols)\nprint((f'force has {sm.count_ops(force)} operations, '\n       f'{sm.count_ops(sm.cse(force))} operations after cse', '\\n'))\n\nprint('MM DS', me.find_dynamicsymbols(MM))\nprint('MM free symbols', MM.free_symbols)\nprint((f'MM has {sm.count_ops(MM)} operations, {sm.count_ops(sm.cse(MM))} '\n       f'operations after cse', '\\n'))"
      ]
    },
    {
      "cell_type": "markdown",
      "metadata": {},
      "source": [
        "Lambdify the functions\n\nCalculate the expressions for the energies.\n\n"
      ]
    },
    {
      "cell_type": "code",
      "execution_count": null,
      "metadata": {
        "collapsed": false
      },
      "outputs": [],
      "source": [
        "pot_energie = (m * g * me.dot(Dmc.pos_from(P0), N.y) + mo * g\n               * me.dot(Po.pos_from(P0), N.y))\nkin_energie = sum([koerper.kinetic_energy(N) for koerper in BODY])\nspring_energie = 2./5. * k0 * sm.Abs(l)**(5/2) * sm.Heaviside(-l, 0.)\n\nqL = q_ind + u_ind\npL = [x, l, delta] + [m, mo, g, a, b, iZZ, alpha, beta, amplitude,\n                      frequenz, reibung] + [ctau, EYe, EYs, nue, nus, rhodtmax]\n\nMM_lam = sm.lambdify(qL + pL, MM, cse=True)\nforce_lam = sm.lambdify(qL + pL, force, cse=True)\nrhodt_lam = sm.lambdify([q, u, umx, umy] + [a, b, delta], rhodt, cse=True)\n\ngesamt = gesamt1(x, amplitude, frequenz)\ngesamt_lam = sm.lambdify([x, amplitude, frequenz], gesamt, cse=True)\n\nPo_ort_lam = sm.lambdify([q, mx, my] + [a, b, alpha, beta],\n                         [me.dot(Po.pos_from(P0), uv)\n                          for uv in (N.x, N.y)], cse=True)\n\npot_lam = sm.lambdify(qL + pL, pot_energie, cse=True)\nkin_lam = sm.lambdify(qL + pL, kin_energie, cse=True)\nspring_lam = sm.lambdify(qL + pL, spring_energie, cse=True)\n\nr_max_lam = sm.lambdify([x, amplitude, frequenz], r_max, cse=True)\nk0_lam = sm.lambdify(qL + pL, k0*sm.Heaviside(-l, 0), cse=True)"
      ]
    },
    {
      "cell_type": "markdown",
      "metadata": {},
      "source": [
        "## Numerical integration\n- the parameters and the initial values of independent coordinates are set.\n- an exception is raised if $\\alpha$ or $\\beta$ are selected such\n  that the particle will be outside of the ellipse.\n- Check whether the minimum osculating cycle of the street is smaller than\n  *max(a, b)*.\n\nPlot the initial location of the ellipse. This plot also give possible\ncontact points. The closest one is marked on the street.\nMaking $EY_e$ or $EY_s$ too large results in a stiff system.\nThe simulation becomes inaccurate, unless *max_step* is made very small.\n\n"
      ]
    },
    {
      "cell_type": "code",
      "execution_count": null,
      "metadata": {
        "collapsed": false
      },
      "outputs": [],
      "source": [
        "# Input parameters\nm1 = 1.\nmo1 = 1.\ng1 = 9.8\na1 = 2.\nb1 = 1.\n\namplitude1 = 1.\nfrequenz1 = 0.25\nreibung1 = 0.1\n\nEYe1 = 1.e4\nEYs1 = 1.e7\nctau1 = 0.9\nnue1 = 0.28\nnus1 = 0.28\n\nalpha1 = 0.5\nbeta1 = 0.5\n\nq1 = np.pi/8. * 7.\nu1 = 5.5\nmx1 = 2.5\nmy1 = 6.\numx1 = 0.\numy1 = -4.75\n\nintervall = 5.0\n# max sin(angle) how the tangents of the street and the ellipse may differ\n# for a contact point\nmin_winkel = 0.1\n\nif alpha1**2/a1**2 + beta1**2/b1**2 >= 1.:\n    raise Exception('Particle is outside the ellipse')\n\niZZ1 = 0.25 * m1 * (a1**2 + b1**2)   # from the internet\n# schritte should be close to nfev, the number of times solve_ivp calls\n# the function.\nschritte = int(intervall * 568.)\n\n# Find the largest admissible r_max, given strasse, amplitude, frequenz\nr_max = max(a1**2/b1, b1**2/a1)  # max osculating circle of an ellipse\n\n\ndef func2(x, args):\n    # just needed to get the arguments matching for minimize\n    return np.abs(r_max_lam(x, *args))\n\n\nx0 = 0.1  # initial guess\nminimal = minimize(func2, x0, [amplitude1, frequenz1])\nif r_max < (x111 := minimal.get('fun')):\n    print(('selected r_max of the ellipse = {} is less than the minimal '\n           'osculating circle of the street = {:.2f}')\n          .format(r_max, x111), '\\n')\nelse:\n    print(('selected r_max of the ellipse =  {} is larger than the minimal '\n           'osculating circle of the street = {:.2f}')\n          .format(r_max, x111), '\\n')\n\n# numerically find x1 = X coordinate of CPhs and l1 := distance\n# from CPh to CPhs for the initial condition\n# and make a plot of the initial situation\n\n\ndef func_x1_l1(x0, args):\n    return CPhs_ort_lam(*x0, *args).reshape(2)\n\n\ndelta1 = 0.    # of no consequence, any value will do\nrhodtmax1 = 1.    # dto.\n\n\nTEST = []\nTEST1 = []\nx0 = list((-100., 100.))\nfor epsilon in np.linspace(1.e-15, 2.*np.pi, int(25/min_winkel)):\n\n    if nhat_lam(q1, epsilon, a1, b1)[1] <= 0.:\n        args1 = list((q1, mx1, my1, a1, b1, amplitude1, frequenz1, epsilon))\n        ergebnis = root(func_x1_l1, x0, args1, method='broyden1')\n        x0 = ergebnis.x\n        x1 = x0[0]\n\n        if parallel_lam(q1, mx1, my1, x1, epsilon, a1, b1, amplitude1,\n                        frequenz1) < min_winkel:\n            TEST1.append(liste_lam(q1, mx1, my1, epsilon, a1, b1))\n            TEST.append((*x0, epsilon))\nkontakt = min(TEST, key=lambda k: k[1])\n\nCax = np.array([TEST1[i][0][0] for i in range(len(TEST1))])\nCay = np.array([TEST1[i][0][1] for i in range(len(TEST1))])\nCex = np.array([TEST1[i][1][0] for i in range(len(TEST1))])\nCey = np.array([TEST1[i][1][1] for i in range(len(TEST1))])\n\nfig, ax = plt.subplots(figsize=(10, 10))\nax.set_aspect('equal')\nelli = patches.Ellipse((mx1, my1), width=2.*a1, height=2.*b1,\n                       angle=np.rad2deg(q1), zorder=1, fill=True, color='red',\n                       ec='black')\nax.add_patch(elli)\nweite = 10.\nax.plot(mx1, my1, color='yellow', marker='o', markersize=2)\nax.plot(Po_ort_lam(q1, mx1, my1, a1, b1, alpha1, beta1)[0],\n        Po_ort_lam(q1, mx1, my1, a1, b1, alpha1, beta1)[1], color='black',\n        marker='o', markersize=5)\nax.plot(kontakt[0], gesamt1(kontakt[0], amplitude1, frequenz1), color='blue',\n        marker='o', markersize=7)\nax.plot(np.linspace(-weite, weite, 100),\n        gesamt_lam(np.linspace(-weite, weite, 100), amplitude1, frequenz1))\nfor i in range(len(Cax)):\n    x_werte = [Cax[i], Cex[i]]\n    y_werte = [Cay[i], Cey[i]]\n    ax.plot(x_werte, y_werte)\n    ax.arrow(Cax[i], Cay[i], Cex[i]-Cax[i], Cey[i] - Cay[i], shape='full',\n             width=0.025)\nax.set_title((f'possible contact points are where the tangents of street and '\n              f'ellipse differ by less than '\n              f'{np.rad2deg(np.arcsin(min_winkel)):.1f}\u00b0 \\n The blue dot '\n              f'indicates the closest one'))\n\npL = [x, l, delta] + [m, mo, g, a, b, iZZ, alpha, beta, amplitude,\n                      frequenz, reibung] + [ctau, EYe, EYs, nue, nus, rhodtmax]\npL_vals = [kontakt[0], kontakt[1], delta1] + \\\n    [m1, mo1, g1, a1, b1, iZZ1, alpha1, beta1, amplitude1,\n     frequenz1, reibung1] + [ctau1, EYe1, EYs1, nue1, nus1, rhodtmax1]\n\n\nprint('Initial parameters are:', pL_vals, '\\n')\ny0 = [q1, mx1, my1] + [u1, umx1, umy1]\nprint('starting values are:   ', y0)"
      ]
    },
    {
      "cell_type": "markdown",
      "metadata": {},
      "source": [
        "Here the actual **integration** starts.\n*cut_off* determines, after how many failures to find contact points the\nintegration should stop with an exception. This to avoid endless looping of\nthe integration if root does not find a solution.\n\n*scipy.optimize.root*, but only with *method=broyden1* works much better\nthan *fsolve*. In the preliminary tests, it always found a solution\nimmediately, or else it terminates with an error like 'jacobian is singular'\nor similar.\n\n"
      ]
    },
    {
      "cell_type": "code",
      "execution_count": null,
      "metadata": {
        "collapsed": false
      },
      "outputs": [],
      "source": [
        "cut_off = 25\n\nx0 = list((pL_vals[0], pL_vals[1]))  # initial guess for fsolve\n# root checks zaehler/min_winkel locations around the circumference of the\n# ellipse for possible contact points. If this is too crude,\n# this number will be tripled, and tried again.\nzaehler = 25\nzaehler1 = zaehler\nnixwars = 0\n\n\ndef gradient(t, y, args):\n    global x0, zaehler1, nixwars\n\n# numerically determine the closest potential contact point\n    TEST = []\n    for epsilon in np.linspace(1.e-18, 2.*np.pi, int(zaehler1/min_winkel)):\n        if nhat_lam(y[0], epsilon, a1, b1)[1] <= 0.:\n            args1 = list((y[0], y[1], y[2], a1, b1, amplitude1, frequenz1,\n                          epsilon))\n            for _ in range(2):\n                ergebnis = root(func_x1_l1, x0, args1, method='broyden1')\n                x0 = ergebnis.x\n            x1 = x0[0]\n            l1 = x0[1]\n\n            args[0] = x1\n            args[1] = l1\n            args[2] = epsilon\n\n            if parallel_lam(y[0], y[1], y[2], args[0], epsilon, a1, b1,\n                            amplitude1, frequenz1) < min_winkel:\n                TEST.append((args[0], args[1], epsilon, t))\n\n    if len(TEST) > 0:\n        kontakt = min(TEST, key=lambda k: k[1])\n        args[0] = kontakt[0]\n        args[1] = kontakt[1]\n        args[2] = kontakt[2]\n        zaehler1 = zaehler\n    else:\n        # find a new initial guess at random\n        hilfsort = np.random.choice(np.linspace(-10., 10., 100))\n        x0 = list((hilfsort, gesamt_lam(hilfsort, amplitude1, frequenz1)))\n        # look for a possible contact point with smaller spacing\n        zaehler1 = int(10*zaehler)\n        nixwars += 1\n\n        if nixwars > cut_off:\n            raise Exception((f'At {t:.3f} sec fsolve(..) did not find a '\n                             f'solution for the {nixwars}th time. Hence '\n                             f'integration was terminated'))\n        print((f'at time {t:.6f} no contact point was found immediately. '\n               f'Totally {nixwars} such occurences'))\n\n        # determine rhodtmax, the speed right at the impact time\n        if 0. <= args[1] <= 0.1:\n            args[-1] = rhodt_lam(y[0], y[3], y[4], y[5], a1, b1, args[2])\n\n    sol = np.linalg.solve(MM_lam(*y, *args), force_lam(*y, *args))\n    return np.array(sol).T[0]\n\n\ntimes = np.linspace(0., intervall, schritte)\nt_span = (0., intervall)\n\n#fname = 'ellipse-bouncing-solution.csv'\n#if os.path.exists(fname) is False:\nresultat1 = solve_ivp(gradient, t_span, y0, t_eval=times, args=(pL_vals,),\n                      atol=1.e-4, rtol=1.e-4, method='BDF')\nresultat = resultat1.y.T\nprint('Shape of result: ', resultat.shape)\nprint(resultat1.message)\nprint('the integration made {} function calls.'.format(resultat1.nfev))\n#else:\n#    resultat = np.loadtxt(fname).T"
      ]
    },
    {
      "cell_type": "markdown",
      "metadata": {},
      "source": [
        "Plot the generalized coordinates you want to see.\n\n"
      ]
    },
    {
      "cell_type": "code",
      "execution_count": null,
      "metadata": {
        "collapsed": false
      },
      "outputs": [],
      "source": [
        "fig, ax = plt.subplots(figsize=(10, 5))\nbezeichnung = ['q', 'mx', 'my', 'u', 'umx', 'umy']\nfor i in (0, 1, 2, 3, 4, 5):\n    ax.plot(times[: resultat.shape[0]], resultat[:, i], label=bezeichnung[i])\nax.set_xlabel('time (sec)')\nax.set_ylabel('units depend on which gen. coordinates were selected')\nax.set_title('generalized coordinates')\n_ = ax.legend()"
      ]
    },
    {
      "cell_type": "markdown",
      "metadata": {},
      "source": [
        "Location and distance of contact point\n\nThe distance is needed for the spring energy and the H-C hysteresis curves\nbelow.The closest distance to a possible contact point is available only\nduring numerical integration, so they must be calculated again here.\nThis is time consuming.\n\n"
      ]
    },
    {
      "cell_type": "code",
      "execution_count": null,
      "metadata": {
        "collapsed": false
      },
      "outputs": [],
      "source": [
        "def nachrechnen():\n    x0 = list((-100., 100.))\n    kontakte = []\n    for i in range(schritte):\n        q1 = resultat[i, 0]\n        mx1 = resultat[i, 1]\n        my1 = resultat[i, 2]\n\n        TEST = []\n\n        for epsilon in np.linspace(1.e-15, 2.*np.pi, int(25/min_winkel)):\n\n            if nhat_lam(q1, epsilon, a1, b1)[1] <= 0.:\n                args1 = list((q1, mx1, my1, a1, b1, amplitude1, frequenz1,\n                              epsilon))\n                ergebnis = root(func_x1_l1, x0, args1, method='broyden1')\n                x0 = ergebnis.x\n                x1 = x0[0]\n\n                if parallel_lam(q1, mx1, my1, x1, epsilon, a1, b1, amplitude1,\n                                frequenz1) < min_winkel:\n                    TEST.append((*x0, epsilon))\n        if len(TEST) > 0:\n            kontakt = min(TEST, key=lambda k: k[1])\n        else:\n            # simply attach the last 'valid' contact point data\n            kontakt = [kontakt[0], kontakt[1], epsilon]\n\n        kontakte.append(kontakt)\n\n    kontakte = np.array(kontakte)\n    if len(kontakte) != len(times):\n        raise Exception('something is wrong!')\n    return kontakte\n\n\nif force_display is True:\n    kontakte = nachrechnen()\n    fig, ax = plt.subplots(2, 1, figsize=(10, 5), layout='constrained')\n    ax[0].plot(times, kontakte[:, 1])\n    ax[0].set_title('distance of contact point from the ellipse')\n    ax[0].set_xlabel('time (sec)')\n    ax[0].set_ylabel('distance (m)')\n\n    test1 = []\n    test2 = []\n    for i in range(len(kontakte)):\n        if kontakte[i, 1] <= 0.:\n            test1.append(times[i])\n            test2.append(kontakte[i, 1])\n\n    ax[1].plot(test1, test2)\n    ax[1].set_title('Penetration close up view')\n    ax[1].set_xlabel('time (sec)')\n    _ = ax[1].set_ylabel('penetration depth (m)')\n    print((f'There are {len(test1)} points where penetration takes place, '\n           f'{(len(test1)/schritte * 100):.3f} % of total points'))\nelse:\n    pass"
      ]
    },
    {
      "cell_type": "markdown",
      "metadata": {},
      "source": [
        "Energies of the system\n\nFor $c_{\\tau} = 1$ and reibung = 0.0, the total energy should be\nconstant, else it should drop.\nThe spring energy is wrong sometimes. Maybe this is the reason:\nThe penetration depths are calculated again, see above. This may not give the\nsame values as the ones used during the integration.\n\n"
      ]
    },
    {
      "cell_type": "code",
      "execution_count": null,
      "metadata": {
        "collapsed": false
      },
      "outputs": [],
      "source": [
        "show_spring = True\n\nkin_np = np.empty(schritte)\npot_np = np.empty(schritte)\nspring_np = np.empty(schritte)\ntotal_np = np.empty(schritte)\ntotal1_np = np.empty(schritte)\n\nfor i in range(schritte):\n    if force_display is True:\n        pL_vals[1] = kontakte[i, 1]\n        pL_vals[2] = kontakte[i, 2]\n\n    kin_np[i] = kin_lam(*[resultat[i, j] for j in range(resultat.shape[1])],\n                        *pL_vals)\n    pot_np[i] = pot_lam(*[resultat[i, j] for j in range(resultat.shape[1])],\n                        *pL_vals)\n    spring_np[i] = spring_lam(*[resultat[i, j]\n                                for j in range(resultat.shape[1])], *pL_vals)\n    total_np[i] = kin_np[i] + pot_np[i] + spring_np[i]\n    total1_np[i] = kin_np[i] + pot_np[i]\n\nfig, ax = plt.subplots(figsize=(10, 5))\nif show_spring is True and force_display is True:\n    ax.plot(times, pot_np, label='potential energy')\n    ax.plot(times, kin_np, label='kinetic energy')\n    ax.plot(times, spring_np, label='spring energy')\n    ax.plot(times, total_np, label='total energy')\nelse:\n    ax.plot(times, pot_np, label='potential energy')\n    ax.plot(times, kin_np, label='kinetic energy')\n    ax.plot(times, total1_np, label='total energy')\n\nax.set_xlabel('time (sec)')\nax.set_ylabel(\"energy (Nm)\")\nax.set_title(f'Energies of the system, with ctau = {ctau1}, '\n             f'friction = {reibung1}')\n_ = ax.legend()\ntotal_max = np.max(total_np)\ntotal_min = np.min(total_np)\nif ctau1 == 1.:\n    print(('max deviation of total energy from being constant is {:.2e} % of '\n           'max total energy'.format((total_max - total_min)/total_max * 100)))"
      ]
    },
    {
      "cell_type": "markdown",
      "metadata": {},
      "source": [
        "## Hunt-Crossley Hysteresis Curve\nThe H-C model of impact, when the force is plotted against the penetration\ndepth should give a *hysterisis curve*. This is done here.\nThe black numbers on the graph give the approximate time of the 'process' of\nthe impact.\n$i_0$ is used to get the approximate $\\dot \\rho^{(-)}$, the speed\nright before the impact takes place, needed for the H-C model.\nAs the contact force depends on the location of the contact point and on\nthe rotation of the ellipse, via $R_1$ and $R_2$, the curves are\nnot necessarily nested as in other examples.\n\n"
      ]
    },
    {
      "cell_type": "code",
      "execution_count": null,
      "metadata": {
        "collapsed": false
      },
      "outputs": [],
      "source": [
        "if force_display is True:\n    # Select approx. how many times should be printed on the graph\n    # select, which hystersis curves you want to see\n    # =======================\n    zeitpunkte = 5\n    ansehen = [0, 2, 4]\n    # =======================\n    ansehen = sorted(ansehen)\n    fHC_betrag_lam = sm.lambdify(qL + pL, fHC_betrag, cse=True)\n\n    HC_kraft = []\n    HC_displ = []\n    HC_times = []\n\n    zaehler = 0\n    i0 = 0\n\n    for i in range(resultat.shape[0]):\n\n        abstand = -kontakte[i, 1]\n        if abstand < 0.:\n            i0 = i+1\n\n        if abstand >= 0. and i0 == i:\n            pL_vals[1] = kontakte[i, 1]\n            pL_vals[2] = kontakte[i, 2]\n            pL_vals[-1] = rhodt_lam(*[resultat[i, j] for j in (0, 3, 4, 5)],\n                                    a1, b1, pL_vals[2])\n\n# Put a marker, so later the individual hysteresis curves may be separated\n            HC_kraft.append('X')\n            HC_displ.append('X')\n            HC_times.append('X')\n\n        if abstand >= 0.:\n            pL_vals[1] = kontakte[i, 1]\n            pL_vals[2] = kontakte[i, 2]\n            kraft0 = fHC_betrag_lam(*[resultat[i, j]\n                                      for j in range(resultat.shape[1])],\n                                    *pL_vals)\n            HC_displ.append(abstand)\n            HC_kraft.append(kraft0)\n            HC_times.append((zaehler, times[i]))\n            zaehler += 1\n\n# separate the lists at the marker. Found it in stack overflow\n    HC_kraft1 = [list(y) for x, y in itt.groupby(HC_kraft, lambda z: z == 'X')\n                 if not x]\n    HC_displ1 = [list(y) for x, y in itt.groupby(HC_displ, lambda z: z == 'X')\n                 if not x]\n    HC_times1 = [list(y) for x, y in itt.groupby(HC_times, lambda z: z == 'X')\n                 if not x]\n\n# this is to ajust the index further down\n    abzug = np.cumsum([0] + [len(HC_times1[i]) for i in range(len(HC_times1))])\n\n    if np.any(np.array(ansehen) > len(HC_kraft1) - 1):\n        raise Exception((f'You want to see a curve which does not exist. '\n                         f'There are only {len(HC_kraft1)} curves'))\n\n# This is to asign colors of 'plasma' to the curves.\n    Test = matplotlib.colors.Normalize(0, len(HC_kraft1))\n    Farbe = matplotlib.cm.ScalarMappable(Test, cmap='plasma')\n    # color of the starting position\n    farben = [Farbe.to_rgba(l1) for l1 in range(len(HC_kraft1))]\n\n    fig, ax = plt.subplots(figsize=(10, 5))\n    for i, j in enumerate(ansehen):\n\n        ax.plot(HC_displ1[j], HC_kraft1[j], color=farben[j])\n        ax.set_xlabel('penetration depth (m)')\n        ax.set_ylabel('contact force (N)')\n        ax.set_title((f'hysteresis curves of the {ansehen}th impacts of the '\n                      f'ellipse with the street, ctau = {ctau1}'))\n\n        reduction = max(1, int(len(HC_times1[j])/zeitpunkte))\n        for k in range(len(HC_times1[j])):\n            if k % reduction == 0:\n                coord = HC_times1[j][k][0] - abzug[j]\n\n                ax.text(HC_displ1[j][coord], HC_kraft1[j][coord],\n                        f'{HC_times1[j][k][1]:.3f}', color=\"black\")\nelse:\n    pass"
      ]
    },
    {
      "cell_type": "markdown",
      "metadata": {},
      "source": [
        "## Animation\nThe dotted lines show the 'closest' contact point, that is the point where\nthe ellipse would touch the street if it were 'blown up' to just touch the\nstreet at this specific point in time. (if *force_display = False* the\ncontact points were not calculated, and cannot be shown.)\n\n"
      ]
    },
    {
      "cell_type": "code",
      "execution_count": null,
      "metadata": {
        "collapsed": false
      },
      "outputs": [],
      "source": [
        "schrittzahl = 500\n\nfaktor = max(1, int(resultat.shape[0] / schrittzahl))\n\nresultat1 = []\ntimes1 = []\nkontakte1 = []\nfor i in range(resultat.shape[0]):\n    if i % faktor == 0:\n        resultat1.append(resultat[i, :])\n        times1.append(times[i])\n\nschritte1 = len(times1)\nif force_display is False:\n    kontakte1 = [[1000., 1000.] for i in range(schritte1)]\nelse:\n    kontakte1 = []\n    for i in range(resultat.shape[0]):\n        if i % faktor == 0:\n            kontakte1.append(kontakte[i])\n\nprint('points in time considered: ', len(times1))\nresultat1 = np.array(resultat1)\ntimes1 = np.array(times1)\nkontakte1 = np.array(kontakte1)\n\nDmcx = np.array([resultat1[i, 1] for i in range(resultat1.shape[0])])\nDmcy = np.array([resultat1[i, 2] for i in range(resultat1.shape[0])])\n\nPo_lam = sm.lambdify(qL + pL, [me.dot(Po.pos_from(P0), uv)\n                               for uv in (N.x, N.y)])\nPo_np = np.array([Po_lam(*[resultat1[i, j] for j in range(6)], *pL_vals)\n                  for i in range(schritte1)])\n\n# needed to give the picture the right size.\nxmin = np.min(Dmcx)\nxmax = np.max(Dmcx)\nymin = np.min(Dmcy)\nymax = np.max(Dmcy)\n\n# Data to draw the uneven street\ncc = max(a1, b1)\nstrassex = np.linspace(xmin - 1.*cc, xmax + 1.*cc, schritte1)\nstrassey = [gesamt_lam(strassex[i], amplitude1, frequenz1)\n            for i in range(schritte1)]\n\nif u1 > 0.:\n    wohin = 'left'\nelse:\n    wohin = 'right'\n\n\ndef animate_pendulum(times, x1, y1, z1):\n\n    fig, ax = plt.subplots(figsize=(8, 8), subplot_kw={'aspect': 'equal'})\n\n    ax.axis('on')\n    ax.set_xlim(xmin - 1.*cc, xmax + 1.*cc)\n    ax.set_ylim(ymin - 1.*cc, ymax + 1.*cc)\n    ax.plot(strassex, strassey)\n\n    # center of the ellipse\n    line1, = ax.plot([], [], 'o-', lw=0.5)\n    # particle on the ellipse\n    line2, = ax.plot([], [], 'o', color=\"black\")\n    line3 = ax.axvline(kontakte1[0, 0], linestyle='--', color='blue')\n    line4 = ax.axhline(gesamt_lam(kontakte1[0, 0], amplitude1, frequenz1),\n                       linestyle='--', color='blue')\n\n    elli = patches.Ellipse((x1[0], y1[0]), width=2.*a1, height=2.*b1,\n                           angle=np.rad2deg(resultat[0, 0]), zorder=1,\n                           fill=True, color='red', ec='black')\n    ax.add_patch(elli)\n\n    def animate(i):\n        message = (f'running time {times[i]:.2f} sec \\n Initial speed is '\n                   f'{np.abs(u1):.2f} radians/sec to the {wohin}'\n                   f'\\n The black dot is the particle \\n'\n                   f'The blue dotted crosshair give the closest potential \\n '\n                   f'contact point and then the actual contact point')\n        ax.set_title(message, fontsize=12)\n        ax.set_xlabel('X direction', fontsize=12)\n        ax.set_ylabel('Y direction', fontsize=12)\n        elli.set_center((x1[i], y1[i]))\n        elli.set_angle(np.rad2deg(resultat1[i, 0]))\n\n        line1.set_data([x1[i]], [y1[i]])\n        line2.set_data([z1[i, 0]], [z1[i, 1]])\n        line3.set_xdata([[kontakte1[i, 0]], [kontakte1[i, 0]]])\n        wert = gesamt_lam(kontakte1[i, 0], amplitude1, frequenz1)\n        line4.set_ydata([wert, wert])\n        return line1, line2, line3, line4,\n\n    anim = animation.FuncAnimation(fig, animate, frames=schritte1,\n                                   interval=1250*np.max(times1) / schritte1,\n                                   blit=True)\n    return anim\n\n\nanim = animate_pendulum(times1, Dmcx, Dmcy, Po_np)\nplt.show()"
      ]
    }
  ],
  "metadata": {
    "kernelspec": {
      "display_name": "Python 3",
      "language": "python",
      "name": "python3"
    },
    "language_info": {
      "codemirror_mode": {
        "name": "ipython",
        "version": 3
      },
      "file_extension": ".py",
      "mimetype": "text/x-python",
      "name": "python",
      "nbconvert_exporter": "python",
      "pygments_lexer": "ipython3",
      "version": "3.13.3"
    }
  },
  "nbformat": 4,
  "nbformat_minor": 0
}