{
  "cells": [
    {
      "cell_type": "markdown",
      "metadata": {},
      "source": [
        "\n# Rotating T-handle\n\n## Objective\n\n- Show how to simulate the gyroscopic effects on a simple body in a region\n  without gravity.\n\n## Description\n\nThis simulates a **T - handle** rotating where there is no gravity.\nThe T-handle consists of two cylinders rigidly attached to each other at right\nangles.\n\nThe main rotation is around the A1.x axis, the other two rotations are the\ndisturbances.They are around the A1.y and A1.z axis, and they are\n$\\dfrac{1}{100}$-th in magnitude compared to the main rotation. A1 is the\nbody fixed frame of one of the cylinders forming the T-handle.\n\n\nThe idea is based on this video:\nhttps://moorepants.github.io/learn-multibody-dynamics/angular.html\n\n## Note\n\nThe T - handle is composed of two rods rigidly attached to each other, by\naligning the A2 frame rigidly with the A1 frame. This way no need to think\nabout what the moments of inertia for a T - handle would look like,\nsympy mechanics will take care.\n\n**States**\n\n- $q_1, q_2, q_3$ are the angles of the T-handle\n- $x, y, z$ are the coordinates of the center of mass of one of the\n  cylinders forming the T-handle\n- $u_1, u_2, u_3$ are the angular velocities\n- $u_x, u_y, u_z$ are the velocities of the center of mass of one of the\n  cylinders forming the T-handle\n\n**Parameters**\n\n- $l_1, l_2$ are the lengths of the cylinders\n- $r_1, r_2$ are the radii of the cylinders\n- $m_1, m_2$ are the masses of the cylinders\n"
      ]
    },
    {
      "cell_type": "code",
      "execution_count": null,
      "metadata": {
        "collapsed": false
      },
      "outputs": [],
      "source": [
        "import sympy as sm\nimport sympy.physics.mechanics as me\nimport numpy as np\nfrom scipy.integrate import solve_ivp\nimport matplotlib.pyplot as plt\nfrom matplotlib.animation import FuncAnimation\nimport matplotlib as mp\nmp.rcParams['animation.embed_limit'] = 2**128"
      ]
    },
    {
      "cell_type": "markdown",
      "metadata": {},
      "source": [
        "## Kane's Equations of Motion\n\n"
      ]
    },
    {
      "cell_type": "code",
      "execution_count": null,
      "metadata": {
        "collapsed": false
      },
      "outputs": [],
      "source": [
        "N, A1, A2 = sm.symbols('N A1 A2', cls=me.ReferenceFrame)\nO, Dmc1, Dmc2, P1, P2, P3 = sm.symbols('O Dmc1 Dmc2 P1 P2 P3', cls=me.Point)\n\nO.set_vel(N, 0)\nt = me.dynamicsymbols._t\nq1, q2, q3 = me.dynamicsymbols('q1 q2 q3')\nu1, u2, u3 = me.dynamicsymbols('u1 u2 u3')\nx, y, z = me.dynamicsymbols('x y z')\nux, uy, uz = me.dynamicsymbols('ux uy uz')\n\nl1, l2, r1, r2, m1, m2,  = sm.symbols('l1 l2 r1 r2 m1 m2')\n# A1 is the body fixed frame of the first cylinder\nA1.orient_body_fixed(N, (q1, q2, q3), '123')\n# needed for the kinematic differential equations\nrot = A1.ang_vel_in(N)\nA1.set_ang_vel(N, u1*A1.x + u2*A1.y + u3*A1.z)\n# needed for the kinematic differential equations\nrot1 = A1.ang_vel_in(N)\n# A1.x perpenducular to A2.x, A1.z parallel to A2.x.\nA2.orient_axis(A1, sm.pi/2, A1.z)\n\n# Dmc1 is the center of mass of the first cylinder\nDmc1.set_pos(O, x*N.x + y*N.y + z*N.z)\nDmc1.set_vel(N, ux*N.x + uy*N.y + uz*N.z)\n# P1 is the point where the first cylinder is attached to the t handle\nP1.set_pos(Dmc1, -l1/2*A1.x)\nP1.v2pt_theory(Dmc1, N, A1)\n# Dmc2 is the center of mass of the second cylinder\nDmc2.set_pos(Dmc1, l1/2*A1.x)\nDmc2.v2pt_theory(Dmc1, N, A1)\n# P2 is the 'far left point' of the second cylinder\nP2.set_pos(Dmc2, -l2/2*A2.x)\nP2.v2pt_theory(Dmc2, N, A2)\n# P3 is the 'far right point' of the second cylinder\nP3.set_pos(Dmc2, l2/2*A2.x)\nP3.v2pt_theory(Dmc2, N, A2)\n\n# moments of inertia of the cylinders forming the t handle.\niXX1 = 0.5 * m1 * r1**2\niYY1 = 0.25*m1*r1**2 + 1/12*m1*l1**2\niZZ1 = iYY1\n\niXX2 = 0.5 * m2 * r2**2\niYY2 = 0.25*m2*r2**2 + 1/12*m2*l2**2\niZZ2 = iYY2\n\nI1 = me.inertia(A1, iXX1, iYY1, iZZ1)\nI2 = me.inertia(A2, iXX2, iYY2, iZZ2)\n\nbody1 = me.RigidBody('body1', Dmc1, A1, m1, (I1, Dmc1))\nbody2 = me.RigidBody('body2', Dmc2, A2, m2, (I2, Dmc2))\nBODY = [body1, body2]\n\nkd = [ux - x.diff(t), uy - y.diff(t), uz - z.diff(t)] + [me.dot(rot - rot1, uv)\n                                                         for uv in N]\n\nq_ind = [q1, q2, q3] + [x, y, z]\nu_ind = [u1, u2, u3] + [ux, uy, uz]\n\nKM = me.KanesMethod(N, q_ind=q_ind, u_ind=u_ind, kd_eqs=kd)\nfr, frstar = KM.kanes_equations(BODY)\n\nMM = KM.mass_matrix_full\nforce = KM.forcing_full\n\nprint('MM Ds', me.find_dynamicsymbols(MM))\nprint('MM FS', MM.free_symbols)\nprint((f'MM contains {sm.count_ops(MM)} operations, '\n       f'{sm.count_ops(sm.cse(MM))} after cse \\n'))\nprint('forces Ds', me.find_dynamicsymbols(force))\nprint('forces FS', force.free_symbols)\nprint((f'forces contains {sm.count_ops(force)} operations, '\n       f'{sm.count_ops(sm.cse(force))} after cse \\n'))"
      ]
    },
    {
      "cell_type": "markdown",
      "metadata": {},
      "source": [
        "Define a few functions needed for plotting and lambdify them.\n\n"
      ]
    },
    {
      "cell_type": "code",
      "execution_count": null,
      "metadata": {
        "collapsed": false
      },
      "outputs": [],
      "source": [
        "P1_ort = [P1.pos_from(O).dot(N.x), P1.pos_from(O).dot(N.y),\n          P1.pos_from(O).dot(N.z)]\nP2_ort = [P2.pos_from(O).dot(N.x), P2.pos_from(O).dot(N.y),\n          P2.pos_from(O).dot(N.z)]\nP3_ort = [P3.pos_from(O).dot(N.x), P3.pos_from(O).dot(N.y),\n          P3.pos_from(O).dot(N.z)]\nDmc1_ort = [Dmc1.pos_from(O).dot(N.x), Dmc1.pos_from(O).dot(N.y),\n            Dmc1.pos_from(O).dot(N.z)]\nDmc2_ort = [Dmc2.pos_from(O).dot(N.x), Dmc2.pos_from(O).dot(N.y),\n            Dmc2.pos_from(O).dot(N.z)]\n\nkin_energie = sum([body.kinetic_energy(N) for body in BODY])\n\nqL = [q1, q2, q3, x, y, z] + [u1, u2, u3, ux, uy, uz]\npL = [l1, l2, r1, r2, m1, m2]\n\nMM_lam = sm.lambdify(qL + pL, MM, cse=True)\nforce_lam = sm.lambdify(qL + pL, force, cse=True)\nkin_energie_lam = sm.lambdify(qL + pL, kin_energie, cse=True)\np1_ort_lam = sm.lambdify(qL + pL, P1_ort, cse=True)\np2_ort_lam = sm.lambdify(qL + pL, P2_ort, cse=True)\np3_ort_lam = sm.lambdify(qL + pL, P3_ort, cse=True)\nDmc1_ort_lam = sm.lambdify(qL + pL, Dmc1_ort, cse=True)\nDmc2_ort_lam = sm.lambdify(qL + pL, Dmc2_ort, cse=True)"
      ]
    },
    {
      "cell_type": "markdown",
      "metadata": {},
      "source": [
        "## Numerical integration\nThe disturbances are the rotations around the A1.y, A1,z axes. Main rotation\nis around the A1.x axis.\n\n\n"
      ]
    },
    {
      "cell_type": "code",
      "execution_count": null,
      "metadata": {
        "collapsed": false
      },
      "outputs": [],
      "source": [
        "x1, y1, z1 = 0, 0, 0  # location of Dmc1\nux1, uy1, uz1 = 0, 0, 0  # velocity of Dmc1\n\nq11, q21, q31 = 0, 0, 0  # orientation of A1, that is of the t handle\n\n# lengths of the cylinders composing the t handle, radius of the cylinders,\n# mass of the cylinders\nl11, l21, r11, r21, m11, m21 = 1, 2, 0.1, 0.1, 2, 1\n\nu11 = 10  # angular velocity of A1.x\nu21 = 1.e-1  # angular velocity of A1.y, the disturbance\nu31 = 1.e-1  # angular velocity of A1.z, the disturbance\n\nintervall = 10  # time of integration\nschritte = 200  # number of steps per second duration-\n\ny0 = [q11, q21, q31, x1, y1, z1, u11, u21, u31, ux1, uy1, uz1]\n\npL_vals = [l11, l21, r11, r21, m11, m21]\n\n\ndef gradient(t, y, args):\n    sol = np.linalg.solve(MM_lam(*y, *args), force_lam(*y, *args))\n    return np.array(sol).T[0]\n\n\ntimes = np.linspace(0., intervall, int(schritte*intervall))\nt_span = (0., intervall)\n\nresultat1 = solve_ivp(gradient, t_span, y0, t_eval=times, args=(pL_vals,),\n                      atol=1.e-12, rtol=1.e-12)\nresultat = resultat1.y.T\nprint('Shape of result: ', resultat.shape)\nprint(resultat1.message)\n\nprint(f'solve_ivp made {resultat1.nfev:,} function calls')"
      ]
    },
    {
      "cell_type": "markdown",
      "metadata": {},
      "source": [
        "Plot whichever **generalized coordinates** you care to see.\n\n"
      ]
    },
    {
      "cell_type": "code",
      "execution_count": null,
      "metadata": {
        "collapsed": false
      },
      "outputs": [],
      "source": [
        "fig, ax = plt.subplots(1, 1, figsize=(10, 5))\nbezeichnung = ['q1', 'q2', 'q3', 'x', 'y', 'z', 'u1', 'u2',\n               'u3', 'ux', 'uy', 'uz']\nfor i in (6, 7, 8):\n    ax.plot(times, resultat[:, i], label=bezeichnung[i])\nax.set_xlabel('time [s]')\nax.set_ylabel('value of whichever variable selected')\nax.set_title('generalized coordinates')\n_ = ax.legend()"
      ]
    },
    {
      "cell_type": "markdown",
      "metadata": {},
      "source": [
        "Energies of the system.\nThe energy seems constant up to numerical errors.\n\n"
      ]
    },
    {
      "cell_type": "code",
      "execution_count": null,
      "metadata": {
        "collapsed": false
      },
      "outputs": [],
      "source": [
        "coords = np.empty(resultat.shape[0])\nfor i in range(resultat.shape[0]):\n    coords[i] = kin_energie_lam(*resultat[i], *pL_vals)\nfig, ax3 = plt.subplots(1, 1, figsize=(10, 5))\nax3.plot(times, coords)\nax3.set_title('Kinetic energy')\nax3.set_xlabel('time [s]')\n_ = ax3.set_ylabel('Kinetic energy [J]')"
      ]
    },
    {
      "cell_type": "markdown",
      "metadata": {},
      "source": [
        "## Animate the T - handle\n\n"
      ]
    },
    {
      "cell_type": "code",
      "execution_count": null,
      "metadata": {
        "collapsed": false
      },
      "outputs": [],
      "source": [
        "zeitpunkte = 250\n\ntimes2 = []\nresultat2 = []\nindex2 = []\n\nreduction = max(1, int(len(times)/zeitpunkte))\n\nfor i in range(len(times)):\n    if i % reduction == 0:\n        times2.append(times[i])\n        resultat2.append(resultat[i])\n\nresultat2 = np.array(resultat2)\nschritte2 = len(times2)\n\nP1_loc = np.empty((schritte2, 3))\nP2_loc = np.empty((schritte2, 3))\nP3_loc = np.empty((schritte2, 3))\nDmc2_loc = np.empty((schritte2, 3))\n\nfor i in range(schritte2):\n    P1_loc[i] = p1_ort_lam(*resultat2[i], *pL_vals)\n    P2_loc[i] = p2_ort_lam(*resultat2[i], *pL_vals)\n    P3_loc[i] = p3_ort_lam(*resultat2[i], *pL_vals)\n    Dmc2_loc[i] = Dmc2_ort_lam(*resultat2[i], *pL_vals)\n\nxmin = min(np.min(np.abs(P1_loc)), np.min(np.abs(P2_loc)),\n           np.min(np.abs(P3_loc)), np.min(np.abs(Dmc2_loc)))\nxmax = max(np.max(np.abs(P1_loc)), np.max(np.abs(P2_loc)),\n           np.max(np.abs(P3_loc)), np.max(np.abs(Dmc2_loc)))\n\n\nfig = plt.figure(figsize=(8, 8))\nax = fig.add_subplot(111, projection='3d')\nax.set_aspect('equal')\nax.set_xlabel('X direction in N', fontsize=12)\nax.set_ylabel('Y direction in N', fontsize=12)\nax.set_zlabel('Z direction in N', fontsize=12)\n\nxmin = xmin - 1.\nxmax = xmax + 1.\nax.set_xlim(xmin, xmax)\nax.set_ylim(xmin, xmax)\nax.set_zlim(xmin, xmax)\n\n# Inmitiate the lines\nline1, = ax.plot([], [], [], 'r', lw=2)\nline2, = ax.plot([], [], [], 'blue', lw=2)\n\n\n# Function to update the plot in the animation\ndef update(frame):\n\n    message = (f'running time {times2[frame]:.2f}')\n    ax.set_title(message, fontsize=14)\n\n    line1.set_data([P1_loc[frame, 0], Dmc2_loc[frame, 0]],\n                   [P1_loc[frame, 1], Dmc2_loc[frame, 1]])\n    line1.set_3d_properties([P1_loc[frame, 2], Dmc2_loc[frame, 2]])\n\n    line2.set_data([P2_loc[frame, 0], P3_loc[frame, 0]],\n                   [P2_loc[frame, 1], P3_loc[frame, 1]])\n    line2.set_3d_properties([P2_loc[frame, 2], P3_loc[frame, 2]])\n    return line1, line2\n\n\nax.view_init(elev=30, azim=30, roll=0.)\n\n# Create the animation\nani = FuncAnimation(fig, update, frames=schritte2,\n                    interval=1000*np.max(times2) / schritte2)\n\nplt.show()"
      ]
    }
  ],
  "metadata": {
    "kernelspec": {
      "display_name": "Python 3",
      "language": "python",
      "name": "python3"
    },
    "language_info": {
      "codemirror_mode": {
        "name": "ipython",
        "version": 3
      },
      "file_extension": ".py",
      "mimetype": "text/x-python",
      "name": "python",
      "nbconvert_exporter": "python",
      "pygments_lexer": "ipython3",
      "version": "3.13.3"
    }
  },
  "nbformat": 4,
  "nbformat_minor": 0
}