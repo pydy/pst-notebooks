{
  "cells": [
    {
      "cell_type": "markdown",
      "metadata": {},
      "source": [
        "\n# Wood Pecker\n\n## Objective\n\n- Show how to use sympy.Piecewise(....) to set up equations of motion.\n\n\n## Description\n\nA ring with rectangular crossection, inner radius $r_i$ and outer radius\n$r_o$ slides on a vertical peg with $r_p < r_i$. It has mass\n$m_R$ and central moment of inertia around the Z axis of $i_{ZZR}$.\nA body, the **woodpecker**, of mass $m_W$ and  central moment of inertia\naround the Z axis of $i_{ZZW}$ is attached to the ring via a torque\nspring of strength $k_W$.\nThe pivoting point P of the woodpecker is at distance $r_o$ from the\ncenter of gravity of the ring, :math`Dmc_R`, the center of gravity of the\nwoodpecker, $Dmc_W$ is at a distance $d_W$ from P.\n\nThe angle of rotation of the ring is $q_R$. if the ring tilts more than\nan angle $max_{kipp}$ it contacts the peg.\nThen a force $F_t = k_t \\cdot \\Delta(max_{\\textrm{kipp}}, q_R)$\neffectively stops the ring from tilting much more. A strong friction force,\n$F_f = -uy_R \\cdot reibung \\cdot F_t$ effectively stops the further\nsliding of the ring.\n\nThis link shows a video of what is simulated.\nhttps://github.com/Peter230655/Miscellaneous/blob/main/woodpecker.MOV\n\n\nParameters and Variables\n\n- $N$: inertial frame\n- $AR$: body fixed frame of the ring\n- $AW$: body fixed frame of the woodpecker\n- $O$: fixed point (origin of N)\n- $P$: point on outer surface of the ring, where the woodpecker is\n  attached to the ring\n- $Dmc_R, Dmc_W$: centers of gravity of the ring and the woodpecker\n- $m_R, m_W, i_{ZZR}, i_{ZZW}$: masses and moments of inertia of ring\n  and woodpecker\n- $q_R, q_W, u_R, u_W$: angles and angular speeds of AR, AW\n- $x_R, y_R, ux_R, uy_R$: location and speed of $Dmc_R$.\n  $Dmc_R$ can only move in Y direction, so $x_R, ux_R \\equiv 0$\n- $k_W$: constant of the torque spring connecting the woodpecker to the\n  ring\n- $k_R$: constant of the spring, with which the peg pushes against the\n  ring upon impact.\n- $\\textrm{reibung}$: coefficient of friction between ring and peg upon\n  contact.\n- $r_o$: outer radius of the ring\n- $d$: distance from P to $Dmc_W$\n- $max_{\\textrm{kipp}}$: tilting angle at which the ring touches the peg\n- $\\textrm{korrekt}$: put the 'neutral location' of the torque spring at\n  $\\textrm{korrekt}$ radians w.r.t. AW. Set by trial and error to get the\n  woodpecker to wiggle around AW.x\n"
      ]
    },
    {
      "cell_type": "code",
      "execution_count": null,
      "metadata": {
        "collapsed": false
      },
      "outputs": [],
      "source": [
        "import sympy as sm\nimport sympy.physics.mechanics as me\nimport numpy as np\nfrom scipy.integrate import solve_ivp\nfrom matplotlib import animation\nfrom matplotlib import patches\nimport matplotlib.pyplot as plt"
      ]
    },
    {
      "cell_type": "markdown",
      "metadata": {},
      "source": [
        "## Set up the System\n\n"
      ]
    },
    {
      "cell_type": "code",
      "execution_count": null,
      "metadata": {
        "collapsed": false
      },
      "outputs": [],
      "source": [
        "N, AR, AW = sm.symbols('N, AR, AW', cls=me.ReferenceFrame)\nO, DmcR, DmcW, P = sm.symbols('O, DmcR, DmcW, P', cls=me.Point)\n\nt = me.dynamicsymbols._t\n\nqR, uR, qW, uW = me.dynamicsymbols('qR, uR, qW, uW')\nyR, uyR = me.dynamicsymbols('yR, uyR')\n\nmR, mW, g, iZZR, iZZW, ro, d, max_kipp, kR, kW, reibung, korrekt = \\\n    sm.symbols(('mR, mW, g, iZZR, iZZW, ro, d, max_kipp, kR, kW, reibung,'\n                'korrekt'))\n\nO.set_vel(N, 0)\n\nAR.orient_axis(N, qR, N.z)\nAR.set_ang_vel(N, uR * N.z)\nAW.orient_axis(AR, qW, AR.z)\nrot = AW.ang_vel_in(N)\nAW.set_ang_vel(AR, uW * AR.z)\nrot1 = AW.ang_vel_in(N)\n\nDmcR.set_pos(O, yR*N.y)\nDmcR.set_vel(N, uyR*N.y)\n\nP.set_pos(DmcR, ro*AR.x - ro/5.*AR.y)\nP.v2pt_theory(DmcR, N, AR)\n\nDmcW.set_pos(P, d*AW.x)\nDmcW.v2pt_theory(P, N, AW)\n\niR = me.inertia(AR, 0., 0., iZZR)\niW = me.inertia(AW, 0., 0., iZZW)\nRing = me.RigidBody('Ring', DmcR, AR, mR, (iR, DmcR))\nWoodpecker = me.RigidBody('Woodpecker', DmcW, AW, mW, (iW, DmcW))\nBODY = [Ring, Woodpecker]"
      ]
    },
    {
      "cell_type": "markdown",
      "metadata": {},
      "source": [
        "Set up the **forces** acting on the system.\n\n"
      ]
    },
    {
      "cell_type": "code",
      "execution_count": null,
      "metadata": {
        "collapsed": false
      },
      "outputs": [],
      "source": [
        "# The torque needs to to effectively stop the ring from penetrating the peg,\n# and a force to stop the sliding of the ring.\n# They just have to be strong, this is why it should not matter whether they\n# are set up mechanically correct.\n# I return *eindring*, because I need it for the spring energy below.\\\n# I return hilfs to plot the forces.\n#\n# NOTE: sm.Piecewise((..), (..), .., (..)) returns the first conditon which is\n# True from left to right. Therefore, the sequence is important."
      ]
    },
    {
      "cell_type": "code",
      "execution_count": null,
      "metadata": {
        "collapsed": false
      },
      "outputs": [],
      "source": [
        "def kraefte():\n    FG = [(DmcR, -mR*g*N.y), (DmcW, -mW*g*N.y)]         # gravity\n    # torque if woodpecker is not 'in line' with the ring\n    FT1 = [(AW, -kW * (qW-korrekt) * N.z), (AR, kW * (qW-korrekt) * N.z)]\n\n    # When - max_kipp > qR or qR > max_kipp, the ring touches the peg\n    faktor1 = sm.Piecewise((1., -max_kipp > qR), (1., qR >= max_kipp),\n                           (0., True))\n\n    # the 'penetration' is qR - max_kipp if qR > max_kipp, and -(qR + max_kipp)\n    # if qR < -max_kipp\n    eindring = sm.Piecewise((qR - max_kipp, qR > max_kipp),\n                            (-qR - max_kipp, qR < -max_kipp), (0., True))\n\n    # This penetration will create a torque on AR. The direction of the torque\n    # is needed,\n    faktor2 = sm.Piecewise((-1., max_kipp < qR), (1., True))\n    kraft = kR * eindring * faktor1 * faktor2\n    FT2 = [(AR, kraft * N.z)]\n\n    # friction acting on DmcR to stop the sliding. It is speed dependent to\n    # avoid that the ring might be driven upward.\n    kraft2 = sm.Abs(kraft)\n    FR = [(DmcR, -uyR * reibung * kraft2 * N.y)]\n    FL = FG + FT1 + FT2 + FR\n    hilfs = [kraft, -uyR * reibung*kraft2]\n    return FL, eindring, hilfs\n\n\nFL, eindring, krafte = kraefte()"
      ]
    },
    {
      "cell_type": "markdown",
      "metadata": {},
      "source": [
        "Set up Kane's equations\n\n"
      ]
    },
    {
      "cell_type": "code",
      "execution_count": null,
      "metadata": {
        "collapsed": false
      },
      "outputs": [],
      "source": [
        "q_ind = [qR, qW, yR]\nu_ind = [uR, uW, uyR]\nkd = [i - j.diff(t) for i, j in zip(u_ind, q_ind)]\n\nKM = me.KanesMethod(N, q_ind=q_ind, u_ind=u_ind, kd_eqs=kd)\nfr, frstar = KM.kanes_equations(BODY, FL)\nMM = KM.mass_matrix_full\nforce = KM.forcing_full\n\nprint('force DS', me.find_dynamicsymbols(force))\nprint('force free symbols', force.free_symbols)\nprint((f'force has {sm.count_ops(force)} operations, '\n       f'{sm.count_ops(sm.cse(force))} operations after cse', '\\n'))\n\nprint('MM DS', me.find_dynamicsymbols(MM))\nprint('MM free symbols', MM.free_symbols)\nprint((f'MM has {sm.count_ops(MM)} operations, '\n       f'{sm.count_ops(sm.cse(MM))} operations after cse', '\\n'))"
      ]
    },
    {
      "cell_type": "markdown",
      "metadata": {},
      "source": [
        "Set up the **energies**\n\n"
      ]
    },
    {
      "cell_type": "code",
      "execution_count": null,
      "metadata": {
        "collapsed": false
      },
      "outputs": [],
      "source": [
        "kin_energie = BODY[0].kinetic_energy(N) + BODY[1].kinetic_energy(N)\npot_energie = mR*g*yR + mW*g*me.dot(DmcW.pos_from(O), N.y)\nspring_energie = 0.5 * kW * (qW - korrekt)**2 + 0.5 * kR * eindring**2"
      ]
    },
    {
      "cell_type": "markdown",
      "metadata": {},
      "source": [
        "Convert the **sympy functions** into **numpy functions**.\n\n"
      ]
    },
    {
      "cell_type": "code",
      "execution_count": null,
      "metadata": {
        "collapsed": false
      },
      "outputs": [],
      "source": [
        "qL = q_ind + u_ind\npL = [mR, mW, g, iZZR, iZZW, ro, d, kR, kW, reibung, max_kipp, korrekt]\n\ncombined = sm.lambdify(qL + pL, [MM, force, kin_energie, pot_energie,\n                                 spring_energie], cse=True)\nenergien = sm.lambdify(qL + pL, [kin_energie, pot_energie, spring_energie],\n                       cse=True)\n\nkrafte_lam = sm.lambdify(qL + pL, krafte, cse=True)"
      ]
    },
    {
      "cell_type": "markdown",
      "metadata": {},
      "source": [
        "## Numerical Integration\n\nVariables / starting coordinates\n\n"
      ]
    },
    {
      "cell_type": "code",
      "execution_count": null,
      "metadata": {
        "collapsed": false
      },
      "outputs": [],
      "source": [
        "mR1 = 1.\nmW1 = 15.\niZZR1 = 1.\niZZW1 = 10.\nro1 = 1.\nd1 = 2.\ng1 = 9.81\n\nkR1 = 1.e6\nkW1 = 2.e3\nreibung1 = 0.75\nmax_kipp1 = 2.    # in degrees. Will be converted to radians later\n\nkorrekt1 = 10.    # in degrees. Just to make the woodpecker to swing more\n                  # 'in the center'.\n\nqR1 = 0\nqW1 = -30   # in degrees. Will be converted to radians later\nyR1 = 0.\nuR1 = 0.\nuW1 = 0.\nuy1 = 0.\n\nintervall = 30.     # intervall in sec to be simulated\nschritte = 500     # steps per sec to be returned\n\npL_vals = [mR1, mW1, g1, iZZR1, iZZW1, ro1, d1, kR1, kW1, reibung1,\n           np.deg2rad(max_kipp1), np.deg2rad(korrekt1)]\ny0 = [qR1, np.deg2rad(qW1), yR1, uR1, uW1, uy1]\n\n\ndef gradient(t, y, args):\n    sol = np.linalg.solve(combined(*y, *args)[0], combined(*y, *args)[1])\n    return np.array(sol).T[0]\n\n\ntimes = np.linspace(0., intervall, int(schritte*intervall))\nt_span = (0., intervall)\n\nresultat1 = solve_ivp(gradient, t_span, y0, t_eval=times, args=(pL_vals,))\nresultat = resultat1.y.T\nprint('Shape of result: ', resultat.shape)\nprint(resultat1.message)"
      ]
    },
    {
      "cell_type": "markdown",
      "metadata": {},
      "source": [
        "## Animation\n\n"
      ]
    },
    {
      "cell_type": "code",
      "execution_count": null,
      "metadata": {
        "collapsed": false
      },
      "outputs": [],
      "source": [
        "# reduce the number of points of time to around zeitpunkte\ntimes2 = []\nresultat2 = []\nindex2 = []\n\n# =======================\nzeitpunkte = 500\n# =======================\n\nreduction = max(1, int(len(times)/zeitpunkte))\n\nfor i in range(len(times)):\n    if i % reduction == 0:\n        times2.append(times[i])\n        resultat2. append(resultat[i])\n\nschritte2 = len(times2)\nprint(f'animation used {schritte2} points in time')\nresultat2 = np.array(resultat2)\ntimes2 = np.array(times2)\n\n# set up the ring, which is modelled as a rectangle of width = 2 * ro,\n# and height = width / 5\n# attachment point of the weoodpecker on the ring is point P\nP_loc = [me.dot(P.pos_from(O), uv) for uv in (N.x, N.y)]\nDmcW_loc = [me.dot(DmcW.pos_from(O), uv) for uv in (N.x, N.y)]\n# set up the anchor point of the rectangle\nP1, P2, P3 = sm.symbols('P1, P2, P3', cls=me.Point)\nP1.set_pos(DmcR, -ro * AR.x - ro / 2.5 * AR.y)\nP2.set_pos(DmcW, 2. * ro*AW.y)   # head of woodpecker\nP3.set_pos(P2, -d * AW.x)  # end of beak\nP1_loc = [me.dot(P1.pos_from(O), uv) for uv in (N.x, N.y)]\nP2_loc = [me.dot(P2.pos_from(O), uv) for uv in (N.x, N.y)]\nP3_loc = [me.dot(P3.pos_from(O), uv) for uv in (N.x, N.y)]\n\nP_loc_lam = sm.lambdify(qL + pL, P_loc, cse=True)\nP1_loc_lam = sm.lambdify(qL + pL, P1_loc, cse=True)\nP2_loc_lam = sm.lambdify(qL + pL, P2_loc, cse=True)\nP3_loc_lam = sm.lambdify(qL + pL, P3_loc, cse=True)\n\n\nDmcW_loc_lam = sm.lambdify(qL + pL, DmcW_loc, cse=True)\n\nP_x = np.array(P_loc_lam(*[resultat2[:, i] for i in range(resultat2.shape[1])],\n                         *pL_vals)[0])\nP_y = np.array(P_loc_lam(*[resultat2[:, i] for i in range(resultat2.shape[1])],\n                         *pL_vals)[1])\n\nP1_x = np.array(P1_loc_lam(*[resultat2[:, i]\n                             for i in range(resultat2.shape[1])], *pL_vals)[0])\nP1_y = np.array(P1_loc_lam(*[resultat2[:, i]\n                             for i in range(resultat2.shape[1])], *pL_vals)[1])\n\nP2_x = np.array(P2_loc_lam(*[resultat2[:, i]\n                             for i in range(resultat2.shape[1])], *pL_vals)[0])\nP2_y = np.array(P2_loc_lam(*[resultat2[:, i]\n                             for i in range(resultat2.shape[1])], *pL_vals)[1])\n\nP3_x = np.array(P3_loc_lam(*[resultat2[:, i]\n                             for i in range(resultat2.shape[1])], *pL_vals)[0])\nP3_y = np.array(P3_loc_lam(*[resultat2[:, i]\n                             for i in range(resultat2.shape[1])], *pL_vals)[1])\n\n\nDmcW_x = np.array(DmcW_loc_lam(*[resultat2[:, i]\n                                 for i in range(resultat2.shape[1])],\n                               *pL_vals)[0])\nDmcW_y = np.array(DmcW_loc_lam(*[resultat2[:, i]\n                                 for i in range(resultat2.shape[1])],\n                               *pL_vals)[1])\n\nDmcR_x = np.array([0. for _ in range(schritte2)])\nDmcR_y = resultat2[:, 2]\n\n# needed to give the picture the right size.\nxmin = -ro1 - 1\nxmax1 = np.max(DmcW_x)\nxmax2 = np.max(DmcR_x)\nxmax = max(xmax1, xmax2) + 2.\n\nymin1 = np.min(DmcW_y)\nymin2 = np.min(DmcR_y)\nymin = min(ymin1, ymin2) - 1\nymax1 = np.max(DmcW_y)\nymax2 = np.max(DmcR_y)\nymax = max(ymax1, ymax2) + 2\n\n\ndef init_plot():\n    fig, ax = plt.subplots(figsize=(10, 10), subplot_kw={'aspect': 'equal'})\n\n    ax.axis('on')\n    ax.set_xlim(xmin, xmax)\n    ax.set_ylim(ymin, ymax)\n\n    line01 = ax.axvline(-ro1/2., color='black')\n    line02 = ax.axvline(ro1/2, color='black')\n    line03 = ax.axvspan(-ro1/2., ro1/2, color='black', alpha=0.5)\n\n    line1, = ax.plot([], [], color='blue')   # line connecting P to DmcW\n    # line connecting DmcW to P2\n    line2, = ax.plot([], [], color='green', marker='o', markersize=5)\n    # line connecting P2 to P3\n    line3, = ax.plot([], [], color='red', marker='o', markersize=5)\n\n    line4, = ax.plot([DmcW_x[0]], [DmcW_y[0]], color='green', marker='o',\n                     ms=10)\n    line5, = ax.plot([P2_x[0]], [P2_y[0]], color='green', marker='o', ms=25)\n    line6, = ax.plot([P2_x[0]], [P2_y[0]], color='yellow', marker='o', ms=5)\n\n    ring = patches.Rectangle((P1_x[0], P1_y[0]), width=2.*ro1, height=2.*ro1/5,\n                             angle=np.rad2deg(resultat2[0, 0]),\n                             rotation_point='center', color='blue')\n    ax.add_patch(ring)\n\n    return (fig, ax, line01, line02, line03, line1, line2, line3, line4,\n            line5, line6, ring)\n\n\ndef animate(i):\n    message = (f'running time {times[i]:.2f}')\n    ax.set_title(message, fontsize=12)\n    ax.set_xlabel('X direction', fontsize=12)\n    ax.set_ylabel('Y direction', fontsize=12)\n    ring.set_xy((P1_x[i], P1_y[i]))\n    ring.set_angle(np.rad2deg(resultat2[i, 0]))\n\n    werte_x = [P_x[i], DmcW_x[i]]\n    werte_y = [P_y[i], DmcW_y[i]]\n    line1.set_data([werte_x, werte_y])\n\n    werte_x = [DmcW_x[i], P2_x[i]]\n    werte_y = [DmcW_y[i], P2_y[i]]\n    line2.set_data([werte_x, werte_y])\n\n    werte_x = [P2_x[i], P3_x[i]]\n    werte_y = [P2_y[i], P3_y[i]]\n    line3.set_data([werte_x, werte_y])\n\n    line4.set_data([[DmcW_x[i]], [DmcW_y[i]]])\n    line5.set_data([[P2_x[i]], [P2_y[i]]])\n    line6.set_data([[P2_x[i]], [P2_y[i]]])"
      ]
    },
    {
      "cell_type": "markdown",
      "metadata": {},
      "source": [
        "Create the animation object.\n\n"
      ]
    },
    {
      "cell_type": "code",
      "execution_count": null,
      "metadata": {
        "collapsed": false
      },
      "outputs": [],
      "source": [
        "(fig, ax, line01, line02, line03, line1, line2, line3, line4, line5,\n line6, ring) = init_plot()\n\nanim = animation.FuncAnimation(fig, animate, frames=schritte2,\n                               interval=150*np.max(times2) / schritte2)"
      ]
    },
    {
      "cell_type": "markdown",
      "metadata": {},
      "source": [
        "Plot some generalized coordinates\n\n"
      ]
    },
    {
      "cell_type": "code",
      "execution_count": null,
      "metadata": {
        "collapsed": false
      },
      "outputs": [],
      "source": [
        "bezeichnung = [str(i) for i in qL]\nfig, (ax1, ax2, ax3) = plt.subplots(3, 1, figsize=(10, 15), sharex=True)\nfor i in (0, 1):\n    ax1.plot(times, np.rad2deg(resultat[:, i]), label=bezeichnung[i])\nax1.set_ylabel('angle (degrees)')\nax1.set_title('Generalized coordinates')\nax1.axhline(max_kipp1, linestyle='--', color='black', lw=0.5)\nax1.axhline(-max_kipp1, linestyle='--', color='black', lw=0.5)\nax1.legend()\n\nkraft1 = np.array(krafte_lam(*[resultat[:, i]\n                               for i in range(resultat.shape[1])],\n                             *pL_vals)[0])\nkraft2 = np.array(krafte_lam(*[resultat[:, i]\n                               for i in range(resultat.shape[1])],\n                             *pL_vals)[1])\nax2.plot(times, kraft1, label='Torque to stop rotation of the ring')\nax2.plot(times, kraft2, label='Friction to slow down the ring')\nax2.set_title('Torque, Force')\nax2.legend()\nax3.plot(times, resultat[:, 2], label='Location of the ring')\nax3.plot(times, resultat[:, 5], label='linear speed of the ring')\nax3.set_xlabel('time (sec)')\nax3.set_title('location and speed of the ring')\nax3.axhline(0., linestyle='--', color='black', lw=0.5)\n_ = ax3.legend()"
      ]
    },
    {
      "cell_type": "markdown",
      "metadata": {},
      "source": [
        "Energies of the system.\n\nAs expected the total energy drops as there is friction.\n\n"
      ]
    },
    {
      "cell_type": "code",
      "execution_count": null,
      "metadata": {
        "collapsed": false
      },
      "outputs": [],
      "source": [
        "kin_np = np.array(energien(*[resultat[:, i]\n                             for i in range(resultat.shape[1])], *pL_vals)[0])\npot_np = np.array(energien(*[resultat[:, i]\n                             for i in range(resultat.shape[1])], *pL_vals)[1])\nspring_np = np.array(energien(*[resultat[:, i]\n                                for i in range(resultat.shape[1])],\n                              *pL_vals)[2])\ntotal_np = kin_np + pot_np + spring_np\n\nfig, (ax1, ax2) = plt.subplots(2, 1, figsize=(10, 10), sharex=True)\nax1.plot(times, kin_np, label='kinetic energy')\nax1.plot(times, pot_np, label='potential energy')\nax1.plot(times, spring_np, label='spring energy')\nax1.plot(times, total_np, label='total energy')\nax1.set_ylabel('energy(Nm)')\nax1.set_title('Energies of the system')\nax1.legend()\nax2.plot(times, spring_np, label='spring energy')\nax2.set_title('Spring energy separated out')\nax2.set_xlabel('time (sec)')\nax2.set_ylabel('energy (Nm)')\n_ = ax2.legend()\n\nplt.show()"
      ]
    }
  ],
  "metadata": {
    "kernelspec": {
      "display_name": "Python 3",
      "language": "python",
      "name": "python3"
    },
    "language_info": {
      "codemirror_mode": {
        "name": "ipython",
        "version": 3
      },
      "file_extension": ".py",
      "mimetype": "text/x-python",
      "name": "python",
      "nbconvert_exporter": "python",
      "pygments_lexer": "ipython3",
      "version": "3.13.3"
    }
  },
  "nbformat": 4,
  "nbformat_minor": 0
}