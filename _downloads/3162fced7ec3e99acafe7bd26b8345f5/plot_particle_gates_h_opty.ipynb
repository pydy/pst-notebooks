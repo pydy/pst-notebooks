{
  "cells": [
    {
      "cell_type": "markdown",
      "metadata": {},
      "source": [
        "\n# Particle Through Gates\n\n## Objective\n\n- At present, opty does not allow instance constraints of the form\n  $x(t_i)  - (a, b)$ where $x$ is a state variable, $t_i$\n  is selected by opty and $(a, b)$ is a range for the state variable to\n  be in at the time $t_i$. This example shows a way to overcome these\n  current limitations.\n\n## Introduction\n\nA particle is moving in the horizontal X/Y plane. It is driven by a force\n$F = \\begin{pmatrix} f_x \\\\ f_y \\end{pmatrix}$ and must pass through\nthree gates. Anywhere inside each gate is allowed, and opty should find the\nbest path and the best times to pass through the gates.\n\nTo covercome opty's current inability one may do as follows:\n\nA: The ``range limitation``:\n\n(For simplicity, the gates are either vertical or horizontal.)\n\n- introduce a differentiable hump function $H(x, a, b,\n  \\textrm{steepness})$ that is 1 for $x \\in (a, b)$ else 0.\n  $\\textrm{steepness}$ controls the slopes of the 'walls'.\n- introduce state variables $\\textrm{gate}_i$.\n- add $\\textrm{gate}_i - H(y/x, a_i, b_i, \\textrm{steepness})\n  \\cdot \\textrm{aux}_i \\cdot H(x/y, \\textrm{gate}_{i_{x/y}} -\n  \\epsilon, \\textrm{gate}_{i_{x/y}} + \\epsilon, \\textrm{steepness})$\n  to the equations of motion.\n- $\\textrm{aux}_i \\in (0.6, 1.0)$ are free input parameters.\n- Set $\\textrm{gate}_i = 0.95$ in the instance constraints.\n\nB: The ``time limitation``:\n\n- introduce auxiliary state variables $\\textrm{time}_i$, with\n  $h_i > 0$ and add $\\dfrac{d}{dt}\\textrm{time}_i - h_i \\cdot\n  \\textrm{gate}_i$ to the equations of motion.\n- This way, $\\textrm{time}_i$ only increases when the particle is near\n  the gate, that is when $\\textrm{gate}_i > 0$. The free parameter\n  $h_i$ is needed so $\\textrm{time}_i(t_f)$ may be set to 1 in the\n  instance constraints, even if $0 < \\textrm{time}_i < 1$. The larger\n  $h_i$ the further away the particle may be from the gate, and still\n  $\\textrm{time}_i(t_f) = 1$ will be met. To get convergence, one has\n  to start with a larger value of $h_i$ and reduce it in the next\n  iterations.\n\n## Notes\n\n- It is tempting to combine ``A`` and ``B`` into one set of equations of\n  motion, thus reducing the total number of equations of motion from 10 to 7.\n  Both will converge, but the set of 10 equations converges faster.\n  ( 480 sec vs. 70 sec on a standard PC)\n- $\\textrm{steepness} \\approx 5.0$ works. If it is too\n  large, convergence seems more difficult.\n- $\\textrm{aux}_i$ help convergence. Not totally clear, why this is so.\n- The disadvantage of this approach is that in the example the number of\n  equations of motion raises from 4 to 10.\n- In the iteration around ``Problem / solve``, an iteration may end with some\n  error, yet this error is good as intital guess for the next iteration. As I\n  do not know the inner workings of Ipopt I do not know why this works - but it\n  does.\n- If in $-\\textrm{limit} \\leq f_x, f_y \\leq \\textrm{limit}$ the value of\n  $\\textrm{limit}$ is not close to 10.0 it does not converge easily.\n  Unclear why this is so.\n\n\n**States**\n\n- $x, y$ are the coordinates of the particle.\n- $u_x, u_y$ are the velocities of the particle.\n- $\\textrm{gate}_i$ auxiliary variables described above.\n- $\\textrm{time}_i$ auxiliary variables, described above\n\n\n**Known Parameters**\n\n- $m$ is the mass of the particle [kg].\n- $\\nu$ is the friction coefficient [kg/s].\n- $a_i, b_i$ are the coordinates of the gates [m].\n- $\\textrm{steepness}$ as described above.\n- $\\textrm{gate}_{1y}, \\textrm{gate}_{2x}, \\textrm{gate}_{3y}$ are the\n  coordinates of the gates [m].\n  (For simplicity, the gates are either vertical or horizontal, so the gate\n  posts have one common coordinate)\n\n**Free Parameters**\n\n- $h$ is the time step [s].\n- $\\textrm{aux}_i$ are the auxiliary parameters described above.\n- $h_i$ are the auxiliary parameters described above.\n\n\n**Specifieds**\n\n- $f_x, f_y$ are the forces acting on the particle [N].\n"
      ]
    },
    {
      "cell_type": "code",
      "execution_count": null,
      "metadata": {
        "collapsed": false
      },
      "outputs": [],
      "source": [
        "import numpy as np\nimport sympy as sm\nimport sympy.physics.mechanics as me\nfrom opty import Problem\nfrom scipy.interpolate import CubicSpline\nimport matplotlib.pyplot as plt\nfrom matplotlib.animation import FuncAnimation"
      ]
    },
    {
      "cell_type": "markdown",
      "metadata": {},
      "source": [
        "Define the differentiable hump function and plot it.\n\n"
      ]
    },
    {
      "cell_type": "code",
      "execution_count": null,
      "metadata": {
        "collapsed": false
      },
      "outputs": [],
      "source": [
        "def hump_diff(var, a, b, steepness=5.0):\n    \"\"\"returns a differentiable function that is 1 between a and b\"\"\"\n    return 0.5 * (sm.tanh(steepness * (var - a)) + sm.tanh(steepness *\n                                                           (b - var)))\n\n\na, b, var, c = sm.symbols('a b var c')\nhump_lam = sm.lambdify((var, a, b, c), hump_diff(var, a, b, c), cse=True)\n\n# ``steepness``  wil be set to ``c`` below.\nc = 5.0\nXX = np.linspace(-5.0, 5.0, 500)\nYY_hump = hump_lam(XX, -1.0, 1.0, c)\nfig, ax = plt.subplots(figsize=(6.8, 1.5), layout='constrained')\nax.plot(XX, YY_hump)\nax.set_title(f'Differentiable Heaviside function, steepness ={c}')\nax.axvline(x=-1.0, color='black', linestyle='--', lw=0.5)\nax.axvline(x=1.0, color='black', linestyle='--', lw=0.5)\n\nfor i in (0.0, 0.1, 0.3, 0.5, 0.8, 1.0, 1.2, 1.4):\n    print(f'value of hump at x = {i} is {hump_lam(i, -1.0, 1.0, c):.5f}')"
      ]
    },
    {
      "cell_type": "markdown",
      "metadata": {},
      "source": [
        "## Set Up the Equations of Motion\n\n"
      ]
    },
    {
      "cell_type": "code",
      "execution_count": null,
      "metadata": {
        "collapsed": false
      },
      "outputs": [],
      "source": [
        "N = me.ReferenceFrame('N')\nO, P = sm.symbols('O P', cls=me.Point)\n\nO.set_vel(N, 0)\nt = me.dynamicsymbols._t\n\nx, y, ux, uy = me.dynamicsymbols('x y ux uy')\ngate_1, gate_2, gate_3 = me.dynamicsymbols('gate_1 gate_2 gate_3')\nfx, fy = me.dynamicsymbols('fx, fy')\n\nm, nu = sm.symbols('m nu')\nsteepness = sm.symbols('steepness')\na1l, a1r, a2b, a2t, a3l, a3r = sm.symbols('a1l a1r a2b a2t a3l a3r')\ngate_1y, gate_2x, gate_3y = sm.symbols('gate_1y gate_2x gate_3y')\naux1, aux2, aux3 = sm.symbols('aux1, aux2, aux3')\nepsilon = sm.symbols('epsilon')\n\ntime1, time2, time3 = me.dynamicsymbols('time1 time2 time3')\nh1, h2, h3 = sm.symbols('h1 h2 h3')\n\nP.set_pos(O, x * N.x + y * N.y)\nP.set_vel(N, ux * N.x + uy * N.y)\n\nbody = me.Particle('body', P, m)\nbodies = [body]\nforces = [(P, fx * N.x + fy * N.y - nu * P.vel(N))]\nkd = sm.Matrix([ux - x.diff(t), uy - y.diff(t)])\n\nkanes = me.KanesMethod(N, q_ind=[x, y], u_ind=[ux, uy], kd_eqs=kd)\nfr, frstar = kanes.kanes_equations(bodies, forces)\neom = kd.col_join(fr + frstar)"
      ]
    },
    {
      "cell_type": "markdown",
      "metadata": {},
      "source": [
        "Add the gate conditions to the equations of motion and print them.\n\n"
      ]
    },
    {
      "cell_type": "code",
      "execution_count": null,
      "metadata": {
        "collapsed": false
      },
      "outputs": [],
      "source": [
        "eom_gates = sm.Matrix([\n    gate_1 - (hump_diff(x, a1l, a1r, steepness) * aux1\n              * hump_diff(y, gate_1y - epsilon, gate_1y + epsilon, steepness)),\n    gate_2 - (hump_diff(y, a2b, a2t, steepness) * aux2\n              * hump_diff(x, gate_2x - epsilon, gate_2x + epsilon, steepness)),\n    gate_3 - (hump_diff(x, a3l, a3r, steepness) * aux3\n              * hump_diff(y, gate_3y - epsilon, gate_3y + epsilon, steepness)),\n])\n\neom = eom.col_join(eom_gates)"
      ]
    },
    {
      "cell_type": "markdown",
      "metadata": {},
      "source": [
        "Add the conditions, so one 'knows' that the particle went through the gates.\n\n"
      ]
    },
    {
      "cell_type": "code",
      "execution_count": null,
      "metadata": {
        "collapsed": false
      },
      "outputs": [],
      "source": [
        "zeiten = sm.Matrix([time1.diff(t) - h1 * gate_1, time2.diff(t) - h2 * gate_2,\n                    time3.diff(t) - h3 * gate_3])\n\neom = eom.col_join(zeiten)\nsm.pprint(eom)"
      ]
    },
    {
      "cell_type": "markdown",
      "metadata": {},
      "source": [
        "## Define the Problem and Solve It\n\n"
      ]
    },
    {
      "cell_type": "code",
      "execution_count": null,
      "metadata": {
        "collapsed": false
      },
      "outputs": [],
      "source": [
        "h = sm.symbols('h')\nnum_nodes = 501\nstate_symbols = (x, y, ux, uy, gate_1, gate_2, gate_3, time1, time2, time3)\nt0, t1, t2, t3, tf = (0.0, int(num_nodes/4) * h, int(num_nodes/2) * h,\n                      int(3*num_nodes/4) * h, (num_nodes-1) * h)\ninterval_value = h\n\npar_map = {}\npar_map[steepness] = c\npar_map[m] = 1.0\npar_map[nu] = 0.0\npar_map[a1l] = 0.0\npar_map[a1r] = 2.0\npar_map[a2b] = 6.0\npar_map[a2t] = 8.0\npar_map[a3l] = 7.0\npar_map[a3r] = 9.0\npar_map[gate_1y] = 2.0\npar_map[gate_2x] = 5.0\npar_map[gate_3y] = 1.0\npar_map[epsilon] = 0.5\n\ninstance_constraints = (\n    x.func(t0) - 2.0,\n    y.func(t0) - 0.0,\n    ux.func(t0) - 0.0,\n    uy.func(t0) - 0.0,\n    time1.func(t0) - 0.0,\n    time2.func(t0) - 0.0,\n    time3.func(t0) - 0.0,\n    # At the final time particle to be at rest at its starting position.\n    x.func(tf) - 2.0,\n    y.func(tf) - 0.0,\n    ux.func(tf) - 0.0,\n    uy.func(tf) - 0.0,\n    time1.func(tf) - 1.0,\n    time2.func(tf) - 1.0,\n    time3.func(tf) - 1.0,\n)\n\nlimit = 10.0\nbounds = {\n    h: (0.0, 0.5),\n    fx: (-limit, limit),\n    fy: (-limit, limit),\n    x: (0.0, 15.0),\n    y: (0.0, 15.0),\n    aux1: (0.6, 1.0),\n    aux2: (0.6, 1.0),\n    aux3: (0.6, 1.0),\n    h1: (1.0, 10.0),\n    h2: (1.0, 10.0),\n    h3: (1.0, 10.0),\n    }\n\n\ndef obj(free):\n    return free[-1]\n\n\ndef obj_grad(free):\n    grad = np.zeros_like(free)\n    grad[-1] = 1.0\n    return grad\n\n\nprob = Problem(\n    obj,\n    obj_grad,\n    eom,\n    state_symbols,\n    num_nodes,\n    interval_value,\n    known_parameter_map=par_map,\n    instance_constraints=instance_constraints,\n    time_symbol=t,\n    bounds=bounds,\n)"
      ]
    },
    {
      "cell_type": "markdown",
      "metadata": {},
      "source": [
        "Create a good initial guess.\n\n"
      ]
    },
    {
      "cell_type": "code",
      "execution_count": null,
      "metadata": {
        "collapsed": false
      },
      "outputs": [],
      "source": [
        "initial_guess = np.ones(prob.num_free) * 0.0\nz1 = int(num_nodes/4)\n\nx1 = np.linspace(2.0, (par_map[a3r] + par_map[a3l])/2, z1)\ny1 = np.linspace(0.0, par_map[gate_3y], z1)\n\nx2 = np.linspace((par_map[a3r] + par_map[a3l])/2, par_map[gate_2x], z1)\ny2 = np.linspace(par_map[gate_3y], (par_map[a2t] + par_map[a2b])/2, z1)\n\nx3 = np.linspace(par_map[gate_2x], (par_map[a1r] + par_map[a1l])/2, z1)\ny3 = np.linspace((par_map[a2t] + par_map[a2b])/2, par_map[gate_1y], z1)\n\nx4 = np.linspace((par_map[a1r] + par_map[a1l])/2, 2.0, z1)\ny4 = np.linspace(par_map[gate_1y], 0.0, z1)\n\nx_total = np.concatenate((x1, x2, x3, x4))\ny_total = np.concatenate((y1, y2, y3, y4))\n\ninitial_guess[0: 8*z1] = np.concatenate((x_total, y_total))"
      ]
    },
    {
      "cell_type": "markdown",
      "metadata": {},
      "source": [
        "Solve the problem\n\n"
      ]
    },
    {
      "cell_type": "code",
      "execution_count": null,
      "metadata": {
        "collapsed": false
      },
      "outputs": [],
      "source": [
        "for i in range(5):\n    # One has to iterate from a simpler problem, larger h_i means\n    # it may miss the gates a bit, to a harder one.\n    # As opty presently does not allow to change bounds without setting up\n    # **Problem** again, one has to do this here.\n    bounds[h1] = (1.0, 410.0 - i * 100)\n    bounds[h2] = (1.0, 410.0 - i * 100)\n    bounds[h3] = (1.0, 410.0 - i * 100)\n\n    par_map[epsilon] = 0.1 + 0.1 * i\n\n    prob = Problem(\n        obj,\n        obj_grad,\n        eom,\n        state_symbols,\n        num_nodes,\n        interval_value,\n        known_parameter_map=par_map,\n        instance_constraints=instance_constraints,\n        time_symbol=t,\n        bounds=bounds,\n    )\n\n    prob.add_option('max_iter', 15000)\n\n    solution, info = prob.solve(initial_guess)\n    initial_guess = solution\n    print(info['status_msg'])\n_ = prob.plot_objective_value()"
      ]
    },
    {
      "cell_type": "markdown",
      "metadata": {},
      "source": [
        "Plot the trajectories.\n\n"
      ]
    },
    {
      "cell_type": "code",
      "execution_count": null,
      "metadata": {
        "collapsed": false
      },
      "outputs": [],
      "source": [
        "_ = prob.plot_trajectories(solution)"
      ]
    },
    {
      "cell_type": "markdown",
      "metadata": {},
      "source": [
        "Plot the constraint violations.\n\n"
      ]
    },
    {
      "cell_type": "code",
      "execution_count": null,
      "metadata": {
        "collapsed": false
      },
      "outputs": [],
      "source": [
        "_ = prob.plot_constraint_violations(solution)"
      ]
    },
    {
      "cell_type": "markdown",
      "metadata": {},
      "source": [
        "Print the values of the unknown parameters.\n\n"
      ]
    },
    {
      "cell_type": "code",
      "execution_count": null,
      "metadata": {
        "collapsed": false
      },
      "outputs": [],
      "source": [
        "print(f'value of aux1 is {solution[-7]:.5e}')\nprint(f'value of aux2 is {solution[-6]:.5e}')\nprint(f'value of aux3 is {solution[-5]:.5e}')\nprint(f'value of h1 is   {solution[-4]:.5e}')\nprint(f'value of h2 is   {solution[-3]:.5e}')\nprint(f'value of h3 is   {solution[-2]:.5e}')\nprint(f'value of h is    {solution[-1]:.5e}')"
      ]
    },
    {
      "cell_type": "markdown",
      "metadata": {},
      "source": [
        "## Animate the Simulation\n\n"
      ]
    },
    {
      "cell_type": "code",
      "execution_count": null,
      "metadata": {
        "collapsed": false
      },
      "outputs": [],
      "source": [
        "fps = 20\n\nstate_vals, input_vals, _, h_sol = prob.parse_free(solution)\n\ntf = h_sol*(num_nodes - 1)\nt_arr = np.linspace(t0, tf, num_nodes)\nstate_sol = CubicSpline(t_arr, state_vals.T)\ninput_sol = CubicSpline(t_arr, input_vals.T)\n\ncoordinates = P.pos_from(O).to_matrix(N)\n\npl, pl_vals = zip(*par_map.items())\ncoords_lam = sm.lambdify((*state_symbols, fx, fy, *pl), coordinates, cse=True)\n\nwidth, height, radius = 0.5, 0.5, 0.5\n\n\ndef init_plot():\n    xmin, xmax = -1.0, 10.0\n    ymin, ymax = -1.0, 10.0\n\n    fig, ax = plt.subplots(figsize=(8, 8))\n    ax.set_xlim(xmin, xmax)\n    ax.set_ylim(ymin, ymax)\n    ax.set_aspect('equal')\n    ax.set_xlabel('X-axis [m]')\n    ax.set_ylabel('Y-axis [m]')\n\n    ax.scatter(par_map[a1l], par_map[gate_1y], color='red', s=25)\n    ax.scatter(par_map[a1r], par_map[gate_1y], color='red', s=25)\n    ax.plot([par_map[a1l], par_map[a1r]], [par_map[gate_1y], par_map[gate_1y]],\n            color='red', lw=0.5)\n\n    ax.scatter(par_map[gate_2x], par_map[a2b], color='blue', s=25)\n    ax.scatter(par_map[gate_2x], par_map[a2t], color='blue', s=25)\n    ax.plot([par_map[gate_2x], par_map[gate_2x]], [par_map[a2b], par_map[a2t]],\n            color='blue', lw=0.5)\n\n    ax.scatter(par_map[a3l], par_map[gate_3y], color='green', s=25)\n    ax.scatter(par_map[a3r], par_map[gate_3y], color='green', s=25)\n    ax.plot([par_map[a3l], par_map[a3r]], [par_map[gate_3y], par_map[gate_3y]],\n            color='green', lw=0.5)\n\n    ax.plot(x_total, y_total, color='black', lw=0.25, linestyle='--')\n\n    line, = ax.plot([], [], color='black', lw=0.5)\n    point = ax.scatter([], [], color='black', s=100)\n    pfeil = ax.quiver([], [], [], [], color='green', scale=55, width=0.002,\n                      headwidth=8)\n    return fig, ax, point, line, pfeil\n\n\nfig, ax, point, line, pfeil = init_plot()\nkoords = []\nfor zeit in np.arange(t0, tf, 1/fps):\n    coords = coords_lam(*state_sol(zeit), *input_sol(zeit), *pl_vals)\n    koords.append(coords)\n\n\ndef update(t):\n    message = (f'running time {t:0.2f} sec \\n The gree arrow shows the force.'\n               f'\\n The light grey line is the initial guess.')\n    ax.set_title(message)\n    line.set_data([], [])\n    koordinaten = []\n    for i, j in enumerate(np.arange(t0, t, 1/fps)):\n        if j <= t:\n            koordinaten.append(koords[i])\n        else:\n            break\n    line.set_data([koordinaten[i][0, 0] for i in range(len(koordinaten))],\n                  [koordinaten[i][1, 0] for i in range(len(koordinaten))])\n\n    coords = coords_lam(*state_sol(t), *input_sol(t), *pl_vals)\n\n    point.set_offsets([coords[0, 0], coords[1, 0]])\n    pfeil.set_offsets([coords[0, 0], coords[1, 0]])\n    pfeil.set_UVC(input_sol(t)[0], input_sol(t)[1])\n    return point, line, pfeil"
      ]
    },
    {
      "cell_type": "markdown",
      "metadata": {},
      "source": [
        "Create the animation.\n\n"
      ]
    },
    {
      "cell_type": "code",
      "execution_count": null,
      "metadata": {
        "collapsed": false
      },
      "outputs": [],
      "source": [
        "fig, ax, point, line, pfeil = init_plot()\nanim = FuncAnimation(fig, update,\n                     frames=np.arange(t0, tf, 1/fps),\n                     interval=1/fps*1000)\n\n\nplt.show()"
      ]
    }
  ],
  "metadata": {
    "kernelspec": {
      "display_name": "Python 3",
      "language": "python",
      "name": "python3"
    },
    "language_info": {
      "codemirror_mode": {
        "name": "ipython",
        "version": 3
      },
      "file_extension": ".py",
      "mimetype": "text/x-python",
      "name": "python",
      "nbconvert_exporter": "python",
      "pygments_lexer": "ipython3",
      "version": "3.13.3"
    }
  },
  "nbformat": 4,
  "nbformat_minor": 0
}