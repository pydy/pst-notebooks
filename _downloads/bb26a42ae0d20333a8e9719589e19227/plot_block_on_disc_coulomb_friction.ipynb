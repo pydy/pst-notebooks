{
  "cells": [
    {
      "cell_type": "markdown",
      "metadata": {},
      "source": [
        "\n# Block Sliding on a Spinning Disc\n\n## Objective\n\n- Try to simulate a **very** simple example of Coulomb Friction.\n\n  https://www.youtube.com/watch?v=jaMVdTaPxgQ\n\n\n## Description\n\nA disc is spinning in the horizontal X/Y plane, starting at zero angular\nvelocity, increasing linearly with time.\n\nA block, modeled as a particle is on the disc at a distance from the center\nof the disc. As the disc starts to rotate, the block initially is at rest\nw.r.t. the disc, but eventually the centrifugal force will overcome the\nstatic friction force, and the block will start to slide on the disc.\n\nThe resting phase is modeled that the block is tied to its starting position\nby a spring, which is active while the speed of the block relative to the disc\nis (close to) zero.\n\nWhen | ${}^Av^P$ | > cut_off the spring is deactivated, and the block\nis subject to ( a portion of the) friction force, which the disc exerts on\nthe block. The other portion of the friction force is due to the block moving\nrelative to the disc and tries to slow it down.\n\n## Notes\n\n- Changing ``cut_off`` from $10^{-3}$ to $10^{-4}$ increases the\n  function calls of solve_ivp by over a factor of 50, without affecting the\n  result much, at least visually. Further changing from $10^{-4}$ to\n  $10^{-8}$ changes the number of function calls only by a factor on\n  1.5. No explanation.\n- Using the method 'Radau' for the integration of the equations of motion gives\n  completely useless results, same with BDF.\n- The method 'DOP853' works fine but going from cut_off = $10^{-3}$\n  to cut_off = $10^{-4}$ increases the function calls of solve_ivp\n  by over a factor of over 200.\n\n  *All this seems to indicate that this is a numerically tricky problem.*\n- At least qualitatively the simulation looks like the video above.\n\n**States:**\n\n- $x$ - position of the block in the disc frame\n- $y$ - position of the block in the disc frame\n- $u_x$ - velocity of the block in the disc frame\n- $u_y$ - velocity of the block in the disc frame\n\n**Parameters:**\n\n- $m$ - mass of the block\n- $g$ - gravitational acceleration\n- $\\omega$ - angular velocity of the disc\n- $\\mu_{\\textrm{rest}}$ - coefficient of static friction\n- $\\mu_{\\textrm{slide}}$ - coefficient of kinetic friction\n- $k$ - spring constant\n"
      ]
    },
    {
      "cell_type": "code",
      "execution_count": null,
      "metadata": {
        "collapsed": false
      },
      "outputs": [],
      "source": [
        "import numpy as np\nimport sympy as sm\nimport sympy.physics.mechanics as me\nimport matplotlib.pyplot as plt\nfrom scipy.interpolate import CubicSpline\nfrom scipy.integrate import solve_ivp\n\nfrom matplotlib.animation import FuncAnimation\nimport time"
      ]
    },
    {
      "cell_type": "markdown",
      "metadata": {},
      "source": [
        "## Equations of Motion, Kanes Method\n\n"
      ]
    },
    {
      "cell_type": "code",
      "execution_count": null,
      "metadata": {
        "collapsed": false
      },
      "outputs": [],
      "source": [
        "N, A = me.ReferenceFrame('N'), me.ReferenceFrame('A')\nO, P, StartP = sm.symbols('O P StartP', cls=me.Point)\nO.set_vel(N, 0)\nt = me.dynamicsymbols._t\n\nx, y, ux, uy = me.dynamicsymbols('x y ux uy')\nm, g, my_rest, my_slide, k = sm.symbols('m g my_rest my_slide k')\nomega = sm.symbols('omega')\n\nA.orient_axis(N, 0.5*omega*t**2, N.z)\nA.set_ang_vel(N, omega*t*N.z)\n\nP.set_pos(O, x*A.x + y*A.y)  # Prticle position relative to the disc center\nP.set_vel(A, ux*A.x + uy*A.y)\n\nStartP.set_pos(O, 1 * A.x)  # Start position of the particle\n\nbodies = [me.Particle('P', P, m)]"
      ]
    },
    {
      "cell_type": "markdown",
      "metadata": {},
      "source": [
        "Forces acting on the block.\n\n"
      ]
    },
    {
      "cell_type": "code",
      "execution_count": null,
      "metadata": {
        "collapsed": false
      },
      "outputs": [],
      "source": [
        "cut_off = 1.e-3\nspeed = P.vel(A)\nspeed_len = speed.magnitude()\ndirection = P.vel(A).normalize()\nspeedN = (P.vel(N).magnitude()).subs({x.diff(t): ux, y.diff(t): uy})\n\nspring_direction = StartP.pos_from(P).normalize()\nabstand = P.pos_from(StartP).magnitude()"
      ]
    },
    {
      "cell_type": "markdown",
      "metadata": {},
      "source": [
        "A 'safety measure' to make sure, the spring does not catch the block after\na rotation.\n\n"
      ]
    },
    {
      "cell_type": "code",
      "execution_count": null,
      "metadata": {
        "collapsed": false
      },
      "outputs": [],
      "source": [
        "spring_force = sm.Piecewise((k * abstand, abstand < cut_off), (0, True))"
      ]
    },
    {
      "cell_type": "markdown",
      "metadata": {},
      "source": [
        "While the block is (almost) at rest, the spring force is applied.\n\n"
      ]
    },
    {
      "cell_type": "code",
      "execution_count": null,
      "metadata": {
        "collapsed": false
      },
      "outputs": [],
      "source": [
        "resting_force = sm.Piecewise((spring_force, speed_len < cut_off), (0, True))"
      ]
    },
    {
      "cell_type": "markdown",
      "metadata": {},
      "source": [
        "When the block has a positive speed w.r.t. the disc, the spring is not active\nanymore, and the block is subject to the friction forces below.\n\n"
      ]
    },
    {
      "cell_type": "code",
      "execution_count": null,
      "metadata": {
        "collapsed": false
      },
      "outputs": [],
      "source": [
        "moving_force = sm.Piecewise((my_slide * m * g, speed_len >= cut_off),\n                            (0, True))\nreibung = my_slide * m * g * (P.pos_from(O).cross(N.z)).normalize()"
      ]
    },
    {
      "cell_type": "markdown",
      "metadata": {},
      "source": [
        "Piecewise will not accept a vector as first argument, so this detour must\nbe used to apply the friction force only if the particle is moving.\n\n"
      ]
    },
    {
      "cell_type": "code",
      "execution_count": null,
      "metadata": {
        "collapsed": false
      },
      "outputs": [],
      "source": [
        "einsatz = sm.Piecewise((1, speed_len >= cut_off), (0, True))"
      ]
    },
    {
      "cell_type": "markdown",
      "metadata": {},
      "source": [
        "The factor $1 / \\sqrt{1 + u_x^2 + u_y^2}$ is used to account for the\nfact that this portion decreases as the relative speed of the particle\nincreases. Not very sure whether this is physically correct.\n\n"
      ]
    },
    {
      "cell_type": "code",
      "execution_count": null,
      "metadata": {
        "collapsed": false
      },
      "outputs": [],
      "source": [
        "reibung = einsatz * reibung * 1 / sm.sqrt(1 + ux**2 + uy**2)\n\nforces = [(P, resting_force * spring_direction - moving_force *\n           direction - reibung)]\n\nkd = [ux - x.diff(t), uy - y.diff(t)]\nKM = me.KanesMethod(\n    N,\n    q_ind=[x, y],\n    u_ind=[ux, uy],\n    kd_eqs=kd,\n)\n\nfr, frstar = KM.kanes_equations(bodies, forces)\n\nMM = KM.mass_matrix_full\nforcing = KM.forcing_full\n\nprint(f'the forcing vector has {sm.count_ops(forcing):,} operations')"
      ]
    },
    {
      "cell_type": "code",
      "execution_count": null,
      "metadata": {
        "collapsed": false
      },
      "outputs": [],
      "source": [
        "qL = [x, y, ux, uy]\npL = [m, g, omega, my_rest, my_slide, k, t]\n\neval_MM = sm.lambdify(qL + pL, MM, cse=True)\neval_forcing = sm.lambdify(qL + pL, forcing, cse=True)\neval_speed_len = sm.lambdify(qL + pL, speedN, cse=True)\neval_abstand = sm.lambdify(qL + pL, abstand, cse=True)"
      ]
    },
    {
      "cell_type": "markdown",
      "metadata": {},
      "source": [
        "## Numerical Integration\n\n\n"
      ]
    },
    {
      "cell_type": "code",
      "execution_count": null,
      "metadata": {
        "collapsed": false
      },
      "outputs": [],
      "source": [
        "m1 = 1.\ng1 = 9.81\nomega1 = 0.15\nmy_rest1 = 0.5\nmy_slide1 = 0.4\nk1 = 1.e3\n\nx1 = 1.0\ny1 = 0.0 + 1.e-16\nux1 = 1.e-25\nuy1 = 1.e-25\nt1 = 0\n\ninterval = 14.25\npunkte = 100\n\nschritte = int(interval * punkte)\ntimes = np.linspace(0., interval, schritte)\nt_span = (0., interval)\n\npL_vals = [m1, g1, omega1, my_rest1, my_slide1, k1, t1]\ny0 = [x1, y1, ux1, uy1]\n\n\ndef gradient(t, y, args):\n    args[-1] = t\n    sol = np.linalg.solve(eval_MM(*y, *args), eval_forcing(*y, *args))\n    return np.array(sol).T[0]\n\n\nzeit = time.time()\nresultat1 = solve_ivp(gradient, t_span, y0, t_eval=times, args=(pL_vals,),\n                      method='DOP853')\n\nresultat = resultat1.y.T\nprint('resultat shape', resultat.shape, '\\n')\nprint(resultat1.message, '\\n')\nprint(f'solver made {resultat1.nfev:,} function evaluations, '\n      f'running timne was {time.time() - zeit:.2f} sec')"
      ]
    },
    {
      "cell_type": "markdown",
      "metadata": {},
      "source": [
        "Plot some results.\n\n"
      ]
    },
    {
      "cell_type": "code",
      "execution_count": null,
      "metadata": {
        "collapsed": false
      },
      "outputs": [],
      "source": [
        "fig, ax = plt.subplots(4, 1, figsize=(10, 10), sharex=True,\n                       layout='constrained')\nnamen = ['x', 'y', 'ux', 'uy']\nfor i in range(4):\n    ax[0].plot(times, resultat[:, i], label=f'{namen[i]}')\n    ax[0].axhline(x1, color='black', lw=0.5, ls='--')\n    ax[0].axhline(-x1, color='black', lw=0.5, ls='--')\n    ax[0].legend()\n\nv_in_N = []\nabst = []\nfor i in range(len(times)):\n    pL_vals[-1] = times[i]\n    v_in_N.append(eval_speed_len(*[resultat[i, j] for j in range(4)],\n                                 *pL_vals))\n    abst.append(eval_abstand(*[resultat[i, j] for j in range(4)], *pL_vals))\nrel_speed_np = np.sqrt(resultat[:, 2]**2 + resultat[:, 3]**2)\nax[1].plot(times, v_in_N)\nax[2].plot(times, abst)\nax[2].axhline(0.0, color='black', lw=0.5, ls='--')\nax[0].set_title('Coordinates of the particle relative to the rotating frame')\nax[1].set_title('Speed of the particle in the inertial frame')\nax[2].set_title('Distance of the particle to the start position')\nax[3].set_xlabel('time in sec')\n\nax[3].plot(times, rel_speed_np)\n_ = ax[3].set_title('Speed of particle relative to the disc')"
      ]
    },
    {
      "cell_type": "markdown",
      "metadata": {},
      "source": [
        "## Animate the System\n\n"
      ]
    },
    {
      "cell_type": "code",
      "execution_count": null,
      "metadata": {
        "collapsed": false
      },
      "outputs": [],
      "source": [
        "fps = 15\nr_disc = 15\n\nt_arr = times\nstate_sol = CubicSpline(t_arr, resultat)\n\nPl, Pr, Pu, Pd = sm.symbols('Pl Pr Pu Pd', cls=me.Point)\nPl.set_pos(O, -r_disc*A.x)\nPr.set_pos(O, r_disc*A.x)\nPu.set_pos(O, r_disc*A.y)\nPd.set_pos(O, -r_disc*A.y)\n\n\ncoordinates = P.pos_from(O).to_matrix(N)\nfor point in (Pl, Pr, Pu, Pd):\n    coordinates = coordinates.row_join(point.pos_from(O).to_matrix(N))\n\ncoords_lam = sm.lambdify(qL + pL, coordinates, cse=True)\n\n\ndef init_plot():\n    fig, ax = plt.subplots(figsize=(6, 6), layout='constrained')\n    ax.set_xlim(-r_disc-1, r_disc+1)\n    ax.set_ylim(-r_disc-1, r_disc+1)\n    ax.set_aspect('equal')\n    ax.set_xlabel('x', fontsize=15)\n    ax.set_ylabel('y', fontsize=15)\n\n    # draw the spokes\n    line1, = ax.plot([], [], lw=1, marker='o', markersize=0, color='black')\n    line2, = ax.plot([], [], lw=1, marker='o', markersize=0, color='black')\n    line3 = ax.scatter([], [], color='red', s=100, marker='o')\n    line4, = ax.plot([], [], color='blue', lw=0.5)\n    return fig, ax, line1, line2, line3, line4\n\n\nfig, ax, line1, line2, line3, line4 = init_plot()\n\n# draw the disc\nphi = np.linspace(0, 2*np.pi, 500)\nx_phi = r_disc * np.cos(phi)\ny_phi = r_disc * np.sin(phi)\nax.plot(x_phi, y_phi, color='black', lw=2)\n\nold_x, old_y = [], []\nfor i in range(len(times)):\n    pL_vals[-1] = times[i]\n    old_x.append(coords_lam(*[resultat[i, j] for j in range(len(qL))],\n                            *[pL_vals[j] for j in range(len(pL_vals) - 1)],\n                            times[i])[0, 0])\n    old_y.append(coords_lam(*[resultat[i, j] for j in range(len(qL))],\n                            *[pL_vals[j] for j in range(len(pL_vals) - 1)],\n                            times[i])[1, 0])\n\n\ndef update(t):\n    message = (\n        f'Running time {t:.2f} sec \\n'\n        f'Angular velocity of the disc {omega1 * t:.2f} rad/sec'\n        f' \\n The blue line is the path of the particle as seen by an observer'\n        ' at rest,'\n        )\n\n    ax.set_title(message, fontsize=10)\n\n    coords = coords_lam(*state_sol(t), *[pL_vals[j]\n                                         for j in range(len(pL_vals) - 1)], t)\n    line1.set_data([coords[0, 1], coords[0, 2]], [coords[1, 1], coords[1, 2]])\n    line2.set_data([coords[0, 3], coords[0, 4]], [coords[1, 3], coords[1, 4]])\n    line3.set_offsets([coords[0, 0], coords[1, 0]])\n    idx = np.argmax(times >= t)\n    points_x = old_x[:idx]\n    points_y = old_y[:idx]\n    line4.set_data(points_x, points_y)\n\n\nanimation = FuncAnimation(fig, update,\n                          frames=np.arange(0.0, t_arr[-1], 1/fps),\n                          interval=1000/fps, blit=False)\n\nplt.show()"
      ]
    }
  ],
  "metadata": {
    "kernelspec": {
      "display_name": "Python 3",
      "language": "python",
      "name": "python3"
    },
    "language_info": {
      "codemirror_mode": {
        "name": "ipython",
        "version": 3
      },
      "file_extension": ".py",
      "mimetype": "text/x-python",
      "name": "python",
      "nbconvert_exporter": "python",
      "pygments_lexer": "ipython3",
      "version": "3.13.3"
    }
  },
  "nbformat": 4,
  "nbformat_minor": 0
}