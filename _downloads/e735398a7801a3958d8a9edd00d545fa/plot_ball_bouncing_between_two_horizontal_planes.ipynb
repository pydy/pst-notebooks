{
  "cells": [
    {
      "cell_type": "markdown",
      "metadata": {},
      "source": [
        "\n# Ball bouncing between two planes\n\n## Objective\n\n- Show how to use tow methods of impact forces to at least qualitatively\n  simulate an experiment\n\n## Description\n\n An **elastic homogenious ball** of radius *r* and mass *m* is bouncing\n between two horizontal planes, one being at z = 0, the other one at z = H.\n Essentially I want to simulate the simplest example of this video:\n\n https://www.youtube.com/watch?v=g_VxOIlg7q8\n\n An observer (a particle) of mass $m_o$ may be put anywhere inside the\n ball. Gravitiy points in the negative Z direction.\n\n## Notes\n- First I tried a *friction model*, where the force to change $\\omega$ is\n  friction, depending on the vertical impact force and a coefficient of\n  $\\mu$. I easily found parameters to stop the advancing of the ball, but\n  I could not reverse it, like shown in the video.\n- Then I tried a *dig in model*, where the ball does not slide at all, the\n  impact force is in the direction of the speed of the contact point. This\n  surely made the ball reverse its direction, but unrealistically so, I\n  thought. Also some other issues\n- So, I *mixed* the two models, like: force on the ball = (1 - mixtur)\n  $\\cdot$ force of friction model + mixtur $\\cdot$ force of no slip\n  model. With mixtur $\\approx$ 0.35 this gave reasonable results.\n  Maybe this really describes reality to some extend, I know too little about\n  realistic impacts.\n\n**Variables, Parameters**\n\n- $N$: inertial frame, fixed in space\n- $A$: frame fixed to the ball\n- $O$: point fixed in N, the origin of the inertial frame\n- $Dmc$: center of the ball, a *RigidBody*\n- $P_o$: the observer, a *Particle*\n- $BCP_u, BCP_o$: corresponding points fixed on the ball, the contact\n  points with the lower and upper plane respectively\n- $q_1, q_2, q_3$: angles of the ball w.r.t. N\n- $u_1, u_2, u_3$: angular velocities of the ball\n- $m_1, m_2, m_3$: location of the center of the ball, relative to the\n  inertial frame N\n- $um_1, um_2, um_3$: the speeds of the center of the ball\n- $c_{tau}$: the experimental constant needed for Hunt-Crossley\n- $\\mu$: the friction constant\n- $ny_b, ny_p$: Poisson's ratio of ball and plane respectively.\n- $E_b, E_p$: Young's modulus of ball and plane respectively\n- $rhodt_{u}$: speed right before the impact with the lower plane\n- $rhodt_{o}$: speed right before the impact with the upper plane\n- $m, m_o, i_{XX}, i_{YY}, i_{ZZ}$: mass of ball, mass of observer,\n  moments of inertia of the ball\n- $\\alpha, \\beta, \\gamma$: describe the location of the observer relative\n  to the center of the ball\n- $ru_1, ru_2, ru_3$: See explanation below.\n- $ro_1, ro_2, ro_3$: See explanation below.\n- $\\textrm{mixtur}$: See explanation above.\n- $H$: height of the upper plane\n"
      ]
    },
    {
      "cell_type": "code",
      "execution_count": null,
      "metadata": {
        "collapsed": false
      },
      "outputs": [],
      "source": [
        "import sympy as sm\nimport sympy.physics.mechanics as me\nimport numpy as np\nimport matplotlib.pyplot as plt\nimport matplotlib as mp\nfrom matplotlib.animation import FuncAnimation\nfrom scipy.integrate import solve_ivp\nmp.rcParams['animation.embed_limit'] = 2**128\n\n\n# Kane's Equations of Motion\n# --------------------------\nt = me.dynamicsymbols._t\n\nN, A = sm.symbols('N, A', cls=me.ReferenceFrame)\nO, Dmc, Po, BCPu, BCPo = sm.symbols('O, Dmc, Po, BCPu, BCPo', cls=me.Point)\n\nq1, q2, q3, u1, u2, u3 = me.dynamicsymbols('q1, q2, q3, u1, u2, u3')\nm1, m2, m3, um1, um2, um3 = me.dynamicsymbols('m1, m2, m3, um1, um2, um3')\n\nm, mo, g, r, alpha, beta, gamma, iXX, iYY, iZZ, H = sm.symbols('m, mo, g, r, '\n                                                               'alpha, beta, '\n                                                               'gamma, iXX, '\n                                                               'iYY, iZZ, H')\nnyb, nyp, Eb, Ep, rhodtu, rhodto, ctau, mu = sm.symbols('nyb, nyp, Eb, Ep, '\n                                                        'rhodtu, rhodto, ctau,'\n                                                        ' mu')\nru1, ru2, ru3, ro1, ro2, ro3 = sm.symbols('ru1, ru2, ru3, ro1, ro2, ro3')\n\nmixtur = sm.symbols('mixtur')\n\nA.orient_body_fixed(N, (q1, q2, q3), '123')\nrot = A.ang_vel_in(N)\nA.set_ang_vel(N, u1*N.x + u2*N.y + u3*N.z)\nrot1 = A.ang_vel_in(N)\n\nO.set_vel(N, 0)\n\nDmc.set_pos(O, m1*N.x + m2*N.y + m3*N.z)\nDmc.set_vel(N, um1*N.x + um2*N.y + um3*N.z)\n\nPo.set_pos(Dmc, r * (alpha*A.x + beta*A.y + gamma*A.z))\n_ = Po.v2pt_theory(Dmc, N, A)"
      ]
    },
    {
      "cell_type": "markdown",
      "metadata": {},
      "source": [
        "**Points of impact**\n\nThe potential contact points of the ball with the plane are obviously these:\n$BCP_u(m_1 / m_2 / -r)$ and $CP_o(m_1, m_2, r)$\n\n"
      ]
    },
    {
      "cell_type": "code",
      "execution_count": null,
      "metadata": {
        "collapsed": false
      },
      "outputs": [],
      "source": [
        "BCPu.set_pos(Dmc, -r*N.z)\nBCPu.v2pt_theory(Dmc, N, A)\nBCPo.set_pos(Dmc, r*N.z)\nBCPo.v2pt_theory(Dmc, N, A)"
      ]
    },
    {
      "cell_type": "markdown",
      "metadata": {},
      "source": [
        "**Function which calculates the forces of an impact between the ball and\nthe horizontal planes** for the *friction model*\n\n1.\n\nThe impact force is on the line normal to the plane, that is in Z direction,\nand goes through the center of the ball, $Dmc$. I use Hunt Crossley's\nmethod to calculate it.\n\nThe impact force is on the line normal to the plane, that is in Z direction,\nand goes through the center of the ball, $Dmc$. I use Hunt Crossley's\nmethod to calculate it. It's direction points from the plane to the ball.\n\n2.\n\nThe friction force acting on the contact point $BCP_u$ is in the\ndirection of the component of $\\dfrac{d}{dt} BCP_u$ in the plane.\nIt's magnitude is the impact force times a friction factor $m_{uW}$.\n(Of course same for the upper contact point $BCP_o$)\n\n**Note about the force during the collisions**\n\n**Hunt Crossley's method**\n\nMy reference is this article:\nhttps://www.sciencedirect.com/science/article/pii/S0094114X23000782 \\\n\n\nThis is with dissipation during the collision, the general force is given\nin (63) as\n$f_n = k_0 \\cdot \\rho + \\chi \\cdot \\dot \\rho$, with $k_0$ as\nabove, $\\rho$ the penetration, and $\\dot\\rho$ the speed of the\npenetration.\n\nIn the article it is stated, that $n = \\frac{3}{2}$ is a good choice,\nit is derived in Hertz' approach. Of course, $\\rho, \\dot\\rho$ must be\nthe signed magnitudes of the respective vectors.\n\nA more realistic force is given in (64) as:\n\n$f_n = k_0 \\cdot \\rho^n + \\chi \\cdot \\rho^n\\cdot \\dot \\rho$, as this\navoids discontinuity at the moment of impact.\n\n**Hunt and Crossley** give this value for $\\chi$, see table 1:\n\n$\\chi = \\dfrac{3}{2} \\cdot(1 - c_\\tau) \\cdot\n\\dfrac{k_0}{\\dot \\rho^{(-)}}$,\n\nwhere\n\n$c_\\tau = \\dfrac{v_1^{(+)} - v_2^{(+)}}{v_1^{(-)} - v_2^{(-)}}$,\n\nwhere $v_i^{(-)}, v_i^{(+)}$ are the speeds of $body_i$, before\nand after the collosion, see (45),\n\n$\\dot\\rho^{(-)}$ is the speed right at the time the impact starts.\n\n$c_\\tau$ is an experimental factor, apparently around 0.8 for steel.\n\nUsing (64), this results in their expression for the force:\n\n$f_n = k_0 \\cdot \\rho^n \\left[1 + \\dfrac{3}{2} \\cdot(1 - c_\\tau) \\cdot\n\\dfrac{\\dot\\rho}{\\dot\\rho^{(-)}}\\right]$\n\nwith\n\n$k_0 = \\frac{4}{3\\cdot(\\sigma_1 + \\sigma_2)} \\cdot \\sqrt{\\frac{R_1\n\\cdot R_2}{R_1 + R_2}}$, where $\\sigma_i = \\frac{1 - \\nu_i^2}{E_i}$,\n\nwith\n\n$\\nu_i$ = Poisson's ratio, $E_i$ = Young's modulus,\n$R_1, R_2$ the radii of the colliding bodies, $\\rho$\nthe penetration depth. All is near equations (54) and (61) of this article.\n\nFor the plane, I set $R_2 = \\infty$, so $k_0$ simplifies to\n$k_0 = \\frac{4}{3\\cdot(\\sigma_1 + \\sigma_2)} \\cdot \\sqrt{R_1}$,\n\nwith\n\n$R_1 = r$, the radius of the ball.\nI am not sure, this is covered by the theory.\n\nAs per the article, $n = \\frac{3}{2}$ is always to be used, I believe,\nHertz derived this on theoretical grounds.\n\n*spring energy* =   $k_0 \\cdot \\int_{0}^{\\rho} k^{3/2}\\,dk = k_0\n\\cdot\\frac{2}{5} \\cdot \\rho^{5/2}$\n\nI assume, the dissipated energy cannot be given in closed form, at least\nthe article does not give one.\n\n*Note*\n\n$c_\\tau = 1.$ gives **Hertz's** solution to the impact problem, also\ndescribed in the article.\n\n\n**Friction when the ball hits the street**\n\nIf $\\dfrac{d}{dt} BCP_u$ ist the speed of the contact point of the ball\nwith the plane, then $\\left[\\dfrac{d}{dt} BCP_u - \\left( \\dfrac{d}{dt}\nBCP_u \\circ N.z \\right) \\cdot N.z \\right]$ is the speed component in the\nplane.\n\nAs there are numerical problems when $\\left| \\left[\\dfrac{d}{dt}\nBCP_u - \\left( \\dfrac{d}{dt} BCP_u \\circ N.z \\right) \\cdot N.z \\right]\n\\right| \\approx 0$,  I use $\\left| \\left[\\dfrac{d}{dt} BCP_u -\n\\left( \\dfrac{d}{dt} BCP_u \\circ N.z \\right) \\cdot N.z \\right] \\right|\n\\vee 10^{-10}$.\n\n"
      ]
    },
    {
      "cell_type": "code",
      "execution_count": null,
      "metadata": {
        "collapsed": false
      },
      "outputs": [],
      "source": [
        "def fric_lower_plane(rhodtu):\n    # force acting on BCPu\n\n    # should always be positive, the ball must not fall through the planes\n    abstand = m3\n    # pointing towards the ball\n    richtung = N.z\n    # positive in the ball has penetrated the plane\n    rho = r - abstand\n    # speed of the contact point of the ball\n    vCP = BCPu.vel(N)\n    # speed component in Z direction pointing from the ball to the plane\n    rhodt = me.dot(vCP, richtung)\n    rho = sm.Abs(rho)\n\n    # determine k0\n    wurzel = sm.sqrt(r)\n    sigma_b = (1. - nyb**2) / Eb\n    sigma_s = (1. - nyp**2) / Ep\n    k0 = 4. / (3.*(sigma_b + sigma_s)) * wurzel\n\n    # Impact force on BCPu in Z direction\n    # Here I assume, that the penetration is small, otherwise I would not know\n    # how to do it.\n    forcec = (k0 * rho**(3/2) * (1. + 3./2. * (1 - ctau) * (-rhodt) /\n                                 sm.Abs(rhodtu)) * richtung *\n              sm.Heaviside(r - abstand, 0.))\n\n    # The speed component of vCP in the plane is, of course, the speed minus\n    # its component perpendicular to the plane.\n    vx = vCP - (me.dot(vCP, richtung)) * richtung\n    # Here, Heaviside probably not really needed.\n    forcef = (forcec.magnitude() * mu * (-vx) * sm.Heaviside(r - abstand, 0.) *\n              1. / sm.Max(vx.magnitude(), 1.e-10))\n\n    # The force acting on BCPu is returned\n    return forcec + forcef"
      ]
    },
    {
      "cell_type": "markdown",
      "metadata": {},
      "source": [
        "Same comments as above.\n\n"
      ]
    },
    {
      "cell_type": "code",
      "execution_count": null,
      "metadata": {
        "collapsed": false
      },
      "outputs": [],
      "source": [
        "def fric_upper_plane(rhodto):\n    # force acting on BCPo\n    # should always be positive, the ball must not fall through the planes\n    abstand = H - m3\n    # pointing towards the ball\n    richtung = -N.z\n    # positive in the ball has penetrated the plane\n    rho = r - abstand\n    # speed of the contact point of the ball\n    vCP = BCPo.vel(N)\n    # speed component in Z direction pointing from the ball to the plane\n    rhodt = me.dot(vCP, richtung)\n    rho = sm.Abs(rho)\n\n    # determine k0\n    wurzel = sm.sqrt(r)\n    sigma_b = (1. - nyb**2) / Eb\n    sigma_s = (1. - nyp**2) / Ep\n    k0 = 4. / (3.*(sigma_b + sigma_s)) * wurzel\n\n    # Impact force on BCP0 in Z direction\n    # Here I assume, that the penetration is small, otherwise I would not know\n    # how to do it.\n    forcec = (k0 * rho**(3/2) * (1. + 3./2. * (1 - ctau) * (-rhodt) /\n                                 sm.Abs(rhodto)) * richtung *\n              sm.Heaviside(r - abstand, 0.))\n\n    # The speed component of vCP in the plane is, of course, the speed minus\n    # its component perpendicular to the plan.\n    vx = vCP - (me.dot(vCP, richtung)) * richtung\n\n    forcef = (forcec.magnitude() * mu * (-vx) * sm.Heaviside(r - abstand, 0.) *\n              1./sm.Max(vx.magnitude(), 1.e-10))\n\n# The force acting on BCPu is returned\n\n    return forcec + forcef"
      ]
    },
    {
      "cell_type": "markdown",
      "metadata": {},
      "source": [
        "Here I assume, that the ball does not slide on the plane when it hits it,\nbut 'digs into the plane' in the direction of the speed of the contact point.\nI do not know, whether this is covered by the Hunt-Crossley theory, which\nI use to calculate the impact forces.\n\nAs there are numerical problems when $\\left| \\dfrac{d}{dt} BCP_u \\right|\n\\approx 0$,  I calculate $\\dfrac{d}{dt} BCP_u$ right before the impact\nduring the integration, and hand $ru_1, ru_2, ru_3$ to the function,\n\nwhere:\n\n$\\dfrac{d}{dt} BCP_u = ru_1 \\cdot N.x + ru_2 \\cdot N.y + ru_3 \\cdot N.z$\nAs the duration of the impact is short, I do not think, the error caused by\nthis simplification (keeping the direction of the force constant during\nimpact) has much effect.\n\n"
      ]
    },
    {
      "cell_type": "code",
      "execution_count": null,
      "metadata": {
        "collapsed": false
      },
      "outputs": [],
      "source": [
        "def HC_lower_plane(rhodtu, ru1, ru2, ru3):\n    # force acting on BCPu\n    # should always be positive, the ball must not fall through the planes\n    abstand = m3\n    # speed of the contact point on the ball\n    vCP = BCPu.vel(N)\n    # pointing towards the ball. To be consistent, I want this to be a unit\n    # vector, and always point towards the ball\n    richtung = -(ru1*N.x + ru2*N.y + ru3*N.z)\n    # positive in the ball has penetrated the plane\n    rho = r - abstand\n    # speed component in Z direction pointing from the ball to the plane\n    rhodt = me.dot(vCP, richtung)\n    rho = sm.Abs(rho)\n\n    # determine k0\n    wurzel = sm.sqrt(r)\n    sigma_b = (1. - nyb**2) / Eb\n    sigma_p = (1. - nyp**2) / Ep\n    k0 = 4. / (3.*(sigma_b + sigma_p)) * wurzel\n\n    # Impact force on BCPu\n    # Here I assume, that the penetration is small, otherwise I would not know\n    # how to do it.\n    forcec = (k0 * rho**(3/2) * (1. + 3./2. * (1 - ctau) * (-rhodt) /\n                                 sm.Abs(rhodtu)) * richtung *\n              sm.Heaviside(r - abstand, 0.))\n\n    # The force acting on BCPu is returned\n    return forcec"
      ]
    },
    {
      "cell_type": "markdown",
      "metadata": {},
      "source": [
        "Collision with the upper plane. Same comments as above.\n\n"
      ]
    },
    {
      "cell_type": "code",
      "execution_count": null,
      "metadata": {
        "collapsed": false
      },
      "outputs": [],
      "source": [
        "def HC_upper_plane(rhodto, ro1, ro2, ro3):\n    # force acting on BCPo\n\n    abstand = H - m3\n    vCP = BCPo.vel(N)\n    richtung = -(ro1*N.x + ro2*N.y + ro3*N.z)\n    rho = r - abstand\n\n    rhodt = me.dot(vCP, richtung)\n    rho = sm.Abs(rho)\n\n    # determine k0\n    wurzel = sm.sqrt(r)\n    sigma_b = (1. - nyb**2) / Eb\n    sigma_s = (1. - nyp**2) / Ep\n    k0 = 4. / (3.*(sigma_b + sigma_s)) * wurzel\n\n    # Impact force on BCPo\n    forcec = (k0 * rho**(3/2) * (1. + 3./2. * (1 - ctau) * (-rhodt) /\n                                 sm.Abs(rhodto)) * richtung *\n              sm.Heaviside(r - abstand, 0.))\n\n    # The force acting on BCPu is returned\n    return forcec"
      ]
    },
    {
      "cell_type": "markdown",
      "metadata": {},
      "source": [
        "**Kane's equations**.\n\n"
      ]
    },
    {
      "cell_type": "code",
      "execution_count": null,
      "metadata": {
        "collapsed": false
      },
      "outputs": [],
      "source": [
        "Ib = me.inertia(A, iXX, iYY, iZZ)\nbody = me.RigidBody('body', Dmc, A, m, (Ib, Dmc))\nPoa = me.Particle('Poa', Po, mo)\nBODY = [body, Poa]\n\nF1f = [(Dmc, -m*g*N.z), (Po, -mo*g*N.z)]\nF2f = [(BCPu, (sm.S(1.) - mixtur) * fric_lower_plane(rhodtu))]\nF3f = [(BCPo, (sm.S(1.) - mixtur) * fric_upper_plane(rhodto))]\n\nF1hc = [(Dmc, -m*g*N.z), (Po, -mo*g*N.z)]\nF2hc = [(BCPu, mixtur * HC_lower_plane(rhodtu, ru1, ru2, ru3))]\nF3hc = [(BCPo, mixtur * HC_upper_plane(rhodto, ro1, ro2, ro3))]\n\nFL = (F1f + F2f + F3f) + (F2hc + F3hc)\n\nq_ind = [q1, q2, q3] + [m1, m2, m3]\nu_ind = [u1, u2, u3] + [um1, um2, um3]\n\nkd = [me.dot(rot - rot1, uv) for uv in A] + [i - j.diff(t)\n                                             for i, j in zip((um1, um2, um3),\n                                                             (m1, m2, m3))]\n\nKM = me.KanesMethod(N, q_ind=q_ind, u_ind=u_ind, kd_eqs=kd)\n(fr, frstar) = KM.kanes_equations(BODY, FL)\n\nMM = KM.mass_matrix_full\nforce = KM.forcing_full\n\nprint(f'force has {sm.count_ops(force):,} operations')\nprint(f'MM has {sm.count_ops(MM):,} operations')"
      ]
    },
    {
      "cell_type": "markdown",
      "metadata": {},
      "source": [
        "I like to look at the **energies of the system**. This has often told me I\nhad made a mistake in the equations of motion.\nSo, these functions are defined here.\n\n"
      ]
    },
    {
      "cell_type": "code",
      "execution_count": null,
      "metadata": {
        "collapsed": false
      },
      "outputs": [],
      "source": [
        "pot_energie = (m * g * me.dot(Dmc.pos_from(O), N.z) + mo * g *\n               me.dot(Po.pos_from(O), N.z))\nkin_energie = sum([koerper.kinetic_energy(N) for koerper in BODY])\n\nrho1 = r - m3               # positive if impact with lower plane\nrho2 = r - (H - m3)         # positive if impact with upper plane\nsigma_b = (1. - nyb**2) / Eb\nsigma_p = (1. - nyp**2) / Ep\nk0 = 4. / (3.*(sigma_b + sigma_p)) * sm.sqrt(r)\n\nspring_energie = (2. / 5. * k0 * sm.Abs(rho1)**(5 / 2) *\n                  sm.Heaviside(rho1, 0.) + 2. / 5. * k0 *\n                  sm.Abs(rho2)**(5 / 2) * sm.Heaviside(rho2, 0.))\n\n# speed of BCPu in direction of the lower plane\nrhodtuu = me.dot(BCPu.vel(N), -N.z)\nrhodtoo = me.dot(BCPo.vel(N), N.z)       # analoguously dto."
      ]
    },
    {
      "cell_type": "markdown",
      "metadata": {},
      "source": [
        "**Lambdification**\n\n"
      ]
    },
    {
      "cell_type": "code",
      "execution_count": null,
      "metadata": {
        "collapsed": false
      },
      "outputs": [],
      "source": [
        "qL = q_ind + u_ind\npL1 = [m, mo, g, r, alpha, beta, gamma, iXX, iYY, iZZ, H, mixtur]\npL2 = [nyb, nyp, Eb, Ep, ctau, mu, rhodtu, rhodto, ru1, ru2, ru3, ro1,\n       ro2, ro3]\npL = pL1 + pL2\n\nMM_lam = sm.lambdify(qL + pL, MM, cse=True)\nforce_lam = sm.lambdify(qL + pL, force, cse=True)\n\npot_lam = sm.lambdify(qL + pL, pot_energie, cse=True)\nkin_lam = sm.lambdify(qL + pL, kin_energie, cse=True)\nspring_lam = sm.lambdify(qL + pL, spring_energie, cse=True)\n\nrhodtu_lam = sm.lambdify(qL + pL, rhodtuu, cse=True)\nrhodto_lam = sm.lambdify(qL + pL, rhodtoo, cse=True)\n\nrichtungu_lam = sm.lambdify(qL + pL, [me.dot(BCPu.vel(N).normalize(), uv)\n                                      for uv in N], cse=True)\nrichtungo_lam = sm.lambdify(qL + pL, [me.dot(BCPo.vel(N).normalize(), uv)\n                                      for uv in N], cse=True)"
      ]
    },
    {
      "cell_type": "markdown",
      "metadata": {},
      "source": [
        "The *parameters* and the *initial conditions* are set here. For their\nmeaning, see above.\n\n"
      ]
    },
    {
      "cell_type": "code",
      "execution_count": null,
      "metadata": {
        "collapsed": false
      },
      "outputs": [],
      "source": [
        "# Set parameters and initial conditions.\nmixtur1 = 0.375\n\nm11, m21, m31 = 0., 0., 5.\num11, um21, um31 = -5., 5., -25.\n\nq11, q21, q31 = 0., 0., 0.\nu11, u21, u31 = 0., 0., 0.\n\nmb1 = 1.\nmo1 = 0.0001\nr1 = 1.\n\nH1 = 10.\n\nnyb1 = 0.25   # Poisson's ratio for rubber, from the internet\nnyp1 = 0.15   # Poisson's ratio for concrete, from the internet\nEb1 = 3.e3    # Young's modulus for rubber is really about 3.e9\nEp1 = 2.e10   # Young's modulus for steel is really about 2.e11\n\nctau1 = 0.90  # experimental constant\nmu1 = 0.1     # coefficient of friction\n\nalpha1, beta1, gamma1 = 0.7, 0., 0.7\n\nintervall = 5.0\n\nrhodtu1, rhodto1 = 1., 1.  # of no importance here.any value o.k.\nru11, ru21, ru31, ro11, ro21, ro31 = 1., 1., 1., 1., 1., 1.  # dto.\n\nif alpha1**2 + beta1**2 + gamma1**2 >= 1.:\n    raise Exception('Observer is outside of the ball')\n\nschritte = int(intervall * 1000.)  # this should be slightly less than nfev\n\niXX1 = 2. / 5. * mb1 * r1**2      # from the internet.\niYY1 = iXX1\niZZ1 = iXX1\n\npL_vals1 = [mb1, mo1, 9.81, r1, alpha1, beta1, gamma1, iXX1, iYY1, iZZ1,\n            H1, mixtur1]\npL_vals2 = [nyb1, nyp1, Eb1, Ep1, ctau1, mu1, rhodtu1, rhodto1, ru11, ru21,\n            ru31, ro11, ro21, ro31]\npL_vals = pL_vals1 + pL_vals2\ny0 = [q11, q21, q31, m11, m21, m31] + [u11, u21, u31, um11, um21, um31]"
      ]
    },
    {
      "cell_type": "markdown",
      "metadata": {},
      "source": [
        "**Numerical Integration**\n\nThe parameters $rhodt_u, rhodt_o, ru_1, ru_2, ru_3, ro_1, ro_2, ro_3$\nare available only during integration, but needed later for the Energy.\nSo, I collect them during integration.\n\n"
      ]
    },
    {
      "cell_type": "code",
      "execution_count": null,
      "metadata": {
        "collapsed": false
      },
      "outputs": [],
      "source": [
        "times = np.linspace(0, intervall, schritte)\nt_span = (0., intervall)\n\nimpact_list = []\n# I try to reduce the number of entries into the impact_list.\n# Not really essential.\nzaehler = 0\n\nzeit_list = []\nparams_list = []\n\n\ndef gradient(t, y, args):\n    global zaehler\n    # set rhodtu / rhodto\n    if r1 < y[5] < r1 + 0.01:\n        zaehler += 1\n        args[-8] = rhodtu_lam(*y, *args)\n        if zaehler == 1:\n            impact_list.append([t, y[3], y[4], y[5]])\n\n        tu1, tu2, tu3 = richtungu_lam(*y, *args)\n        # I want the speed vector only when the ball moves into the plane,\n        # not when it moves out. this would give the wrong direction.\n        if tu3 < 0.:\n            args[-6], args[-5], args[-4] = tu1, tu2, tu3\n\n    elif r1 < H1 - y[5] < r1 + 0.01:\n        zaehler += 1\n        args[-7] = rhodto_lam(*y, *args)\n        if zaehler == 1:\n            impact_list.append([t, y[3], y[4], y[5]])\n\n        to1, to2, to3 = richtungo_lam(*y, *args)\n        # Same idea as above.\n        if to3 > 0.:\n            args[-3], args[-2], args[-1] = to1, to2, to3\n\n    else:\n        zaehler = 0\n\n    zeit_list.append(t)\n    params_list.append(args)\n\n    sol = np.linalg.solve(MM_lam(*y, *args), force_lam(*y, *args))\n    return np.array(sol).T[0]\n\n\nresultat1 = solve_ivp(gradient, t_span, y0, t_eval=times, args=(pL_vals,),\n                      atol=1.e-12, rtol=1.e-12, method='Radau')\n\nresultat = resultat1.y.T\nprint('resultat shape', resultat.shape, '\\n')\nprint(resultat1.message, '\\n')\n\nprint(f'To numerically integrate an intervall of {intervall} sec the routine '\n      f' cycled {resultat1.nfev:,} times.')"
      ]
    },
    {
      "cell_type": "markdown",
      "metadata": {},
      "source": [
        "Plot any **generalized coordinates or speeds** you want to see.\nI consider around *zeitpunkte* points in time.\n\n"
      ]
    },
    {
      "cell_type": "code",
      "execution_count": null,
      "metadata": {
        "collapsed": false
      },
      "outputs": [],
      "source": [
        "# reduce the number of points of time to around zeitpunkte\ntimes2 = []\nresultat2 = []\nindex2 = []\n\nzeitpunkte = 1000\n\nreduction = max(1, int(len(times)/zeitpunkte))\n\nfor i in range(len(times)):\n    if i % reduction == 0:\n        times2.append(times[i])\n        resultat2. append(resultat[i])\nschritte2 = len(times2)\nresultat2 = np.array(resultat2)\ntimes2 = np.array(times2)\n\ntest = '$c_{\\\\tau}$'\nbezeichnung = [str(i) for i in qL]\nfig, ax = plt.subplots(figsize=(10, 5))\nfor i in (3, 4, 5, 6, 7):\n    ax.plot(times2, resultat2[:, i], label=bezeichnung[i])\nax.set_xlabel('time (sec)')\nax.set_ylabel('units depending on coordinates selected')\n_ = ax.set_title((f'Generalized coordinates and / or speeds \\n {test} = '\n                  f'{ctau1}. $\\\\mu$ = {mu1}, mixture = {mixtur1}'))\n_ = ax.legend()"
      ]
    },
    {
      "cell_type": "markdown",
      "metadata": {},
      "source": [
        "Plot the **energies** of the system.\n\nThe parameters $rhodt_u, rhodt_o, ru_1, ru_2, ru_3, ro_1, ro_2, ro_3$\nwere collected at each step of the integration because they are needed here.\nI try to match the times when they were collected closely to the times\nreturned at the end of the integration.\n\n\n"
      ]
    },
    {
      "cell_type": "code",
      "execution_count": null,
      "metadata": {
        "collapsed": false
      },
      "outputs": [],
      "source": [
        "argumente = [0]\nzeitw = np.array(zeit_list)\nfor zeit1 in times[: -1]:\n    start = argumente[-1]\n    start1 = np.min(np.argwhere(zeitw >= zeit1))\n    argumente.append(start1)\nif len(argumente) != len(times):\n    raise Exception('Something went wrong')\n\npot_np = np.empty(resultat2.shape[0])\nkin_np = np.empty(resultat2.shape[0])\nspring_np = np.empty(resultat2.shape[0])\ntotal_np = np.empty(resultat2.shape[0])\n\nfor i in range(schritte2):\n    pL_vals = params_list[argumente[i]]\n    pot_np[i] = pot_lam(*resultat2[i, :], *pL_vals)\n    kin_np[i] = kin_lam(*resultat2[i, :], *pL_vals)\n    spring_np[i] = spring_lam(*resultat2[i, :], *pL_vals)\n    total_np[i] = pot_np[i] + kin_np[i] + spring_np[i]\n\nfig, ax = plt.subplots(figsize=(10, 5))\nax.plot(times2, pot_np, label='potential energy')\nax.plot(times2, kin_np, label='kinetic energy')\nax.plot(times2, spring_np, label='spring energy')\nax.plot(times2, total_np, label='total energy')\nax.set_xlabel('time (sec)')\nax.set_ylabel('Energy (Nm)')\ntest = '$c_{\\\\tau}$'\nax.set_title((f'Energies of the system, {test} = {ctau1}, friction $\\\\mu$ ='\n              f' {mu1}, mixture = {mixtur1}'))\n_ = ax.legend()"
      ]
    },
    {
      "cell_type": "markdown",
      "metadata": {},
      "source": [
        "## Animation\n\n"
      ]
    },
    {
      "cell_type": "code",
      "execution_count": null,
      "metadata": {
        "collapsed": false
      },
      "outputs": [],
      "source": [
        "zeitpunkte = 175\ntimes2 = []\nresultat2 = []\nindex2 = []\n\nreduction = max(1, int(len(times)/zeitpunkte))\n\nfor i in range(len(times)):\n    if i % reduction == 0:\n        times2.append(times[i])\n        resultat2.append(resultat[i])\n\nschritte2 = len(times2)\nprint(f'animation used {schritte2} points in time')\nresultat2 = np.array(resultat2)\ntimes2 = np.array(times2)\n\n# location of particle\nPo_loc = [me.dot(Po.pos_from(O), uv) for uv in N]\nPo_loc_lam = sm.lambdify(qL + pL, Po_loc, cse=True)\n\nPox, Poy, Poz = Po_loc_lam(*[resultat2[:, j]\n                             for j in range(resultat.shape[1])], *pL_vals)\n\n# Get only one contact point for each impact. I assume, that subsequent\n# impacts have a time difference of at least 0.1 sec.\nimpact_net = []\nimpact_net.append(impact_list[0])\nzeit1 = impact_net[0][0]\nfor i in range(len(impact_list)):\n    if impact_list[i][0] - zeit1 < 0.1:\n        pass\n    else:\n        zeit1 = impact_list[i][0]\n        impact_net.append(impact_list[i])\nprint('Number of contact points detected', len(impact_net))\n\n\n# plot the horizontal plane H\ndef plot_3d_plane(x_min, x_max, y_min, y_max, z_wert, alpha1):\n    # Create a meshgrid for x and y values\n    x = np.linspace(x_min, x_max, 100)\n    y = np.linspace(y_min, y_max, 100)\n    x, y = np.meshgrid(x, y)\n\n    # Z values are set to 0 for the plane\n    z = np.ones_like(x) * z_wert\n\n    # Plot the 3D plane\n    ax.plot_surface(x, y, z, alpha=alpha1, rstride=100, cstride=100, color='c')\n\n\n# Function to create ellipsoid points\ndef create_ellipsoid(a, b, c, theta, phi, delta, offset):\n    u = np.linspace(0, 2 * np.pi, 20)\n    v = np.linspace(0, np.pi, 20)\n\n    x = a * np.outer(np.cos(u), np.sin(v))\n    y = b * np.outer(np.sin(u), np.sin(v))\n    z = c * np.outer(np.ones(np.size(u)), np.cos(v))\n\n    # Rotation matrix\n    # rotation around Z axis\n    R_theta = np.array([[np.cos(theta), -np.sin(theta), 0],\n                       [np.sin(theta), np.cos(theta), 0],\n                       [0, 0, 1]])\n    # rotation around Y axis\n    R_phi = np.array([[np.cos(phi), 0, np.sin(phi)],\n                     [0, 1, 0],\n                     [-np.sin(phi), 0, np.cos(phi)]])\n    # rotation around X axis\n    R_delta = np.array([[1, 0, 0],\n                       [0, np.cos(delta), -np.sin(delta)],\n                       [0, np.sin(delta), np.cos(delta)]])\n\n    rotated_coords = (np.dot(np.dot(np.dot(\n        np.array([x.flatten(), y.flatten(), z.flatten()]).T, R_theta), R_phi),\n                             R_delta).T)\n    rotated_coords1 = rotated_coords.reshape(3, 20, 20)\n\n    for i in range(20):\n        for j in range(20):\n            rotated_coords1[:, i, j] = (rotated_coords1[:, i, j] +\n                                        np.array([offset[0], offset[1],\n                                                  offset[2]]))\n    return rotated_coords1\n\n\nmaxx = np.max(resultat2[:, 3])\nminx = np.min(resultat2[:, 3])\n\nmaxy = np.max(resultat2[:, 4])\nminy = np.min(resultat2[:, 4])\n\nmaxx = max(maxx, maxy) + 1.\nminx = min(minx, miny) - 1\nmaxy = maxx\nminy = minx\nmaxz = H1 + 1.\nminz = -1.\nmaxmax = max(maxx, maxz)\nminmin = min(minx, minz)\n\n# This is to asign colors of 'plasma' to the impact points.\nTest = mp.colors.Normalize(0, len(impact_net))\nFarbe = mp.cm.ScalarMappable(Test, cmap='plasma')\n\n\n# Function to update the plot in the animation\ndef update(frame):\n    plt.cla()\n    ax.set_xlim([minmin, maxmax])\n    ax.set_ylim([minmin, maxmax])\n    ax.set_zlim([minmin, maxmax])\n\n    message = (f'running time {times2[frame]:.2f} sec \\n The red dot is the '\n               f'particle $P_O$ \\n The lighter the color of the contact '\n               f'point, the later in time it happened')\n    ax.set_title(message, fontsize=12)\n    ax.set_xlabel('X direction', fontsize=12)\n    ax.set_ylabel('Y direction', fontsize=12)\n    ax.set_zlabel('Z direction', fontsize=12)\n\n    # plot lower plane\n    plot_3d_plane(minmin, maxmax, minmin, maxmax, 0., alpha1=0.2)\n    # plot upper plane\n    plot_3d_plane(minmin, maxmax, minmin, maxmax, H1, alpha1=0.1)\n\n    # plot the particle\n    ax.plot([Pox[frame]], [Poy[frame]], Poz[frame], marker='o', color='red')\n    impact_X = []\n    impact_Y = []\n    impact_Z = []\n    for i in range(len(impact_net)):\n        if times2[frame] > impact_net[i][0]:\n            impact_X.append(impact_net[i][1])\n            impact_Y.append(impact_net[i][2])\n            impact_Z.append(impact_net[i][3])\n\n            farbe2 = Farbe.to_rgba(i)\n            ax.plot([impact_net[i][1]], [impact_net[i][2]], [impact_net[i][3]],\n                    marker='o', color=farbe2)\n\n    delta, phi, theta = resultat2[frame, 0: 3]\n    offset = [resultat2[frame, 3], resultat2[frame, 4], resultat2[frame, 5]]\n    ellipsoid = create_ellipsoid(r1, r1, r1, delta, phi, theta, offset)\n    ax.plot(impact_X, impact_Y, impact_Z, lw=0.5, color='green',\n            linestyle='--')\n\n    ax.plot_wireframe(ellipsoid[0], ellipsoid[1], ellipsoid[2], color='b',\n                      alpha=0.6, lw=0.25)\n\n    # Draw arrows between impact points.\n    if len(impact_X) > 0:\n        np.random.seed(42)  # For reproducibility\n        variation = [np.random.rand() for _ in range(len(impact_X) - 1)]\n        for i in range(len(impact_X) - 1):\n            p1 = np.array([impact_X[i], impact_Y[i], impact_Z[i]])\n            p2 = np.array([impact_X[i + 1], impact_Y[i + 1], impact_Z[i + 1]])\n            variation1 = variation[i]\n            midpoint = p1 * (1 - variation1) + p2 * variation1\n            direction = (p2 - p1) / np.linalg.norm(p2 - p1)\n            arrow_length = 0.25\n            ax.quiver(midpoint[0], midpoint[1], midpoint[2],\n                      direction[0], direction[1], direction[2],\n                      length=arrow_length, color='red', linewidth=2,\n                      arrow_length_ratio=3.0)\n\n\n# Create a Matplotlib figure and axis\nfig = plt.figure(figsize=(10, 10))\nax = fig.add_subplot(111, projection='3d')\n\nax.view_init(elev=30, azim=30, roll=0.)\n\n# Create the animation\nani = FuncAnimation(fig, update, frames=schritte2,\n                    interval=3000*np.max(times2) / schritte2)\n\nplt.show()"
      ]
    }
  ],
  "metadata": {
    "kernelspec": {
      "display_name": "Python 3",
      "language": "python",
      "name": "python3"
    },
    "language_info": {
      "codemirror_mode": {
        "name": "ipython",
        "version": 3
      },
      "file_extension": ".py",
      "mimetype": "text/x-python",
      "name": "python",
      "nbconvert_exporter": "python",
      "pygments_lexer": "ipython3",
      "version": "3.13.3"
    }
  },
  "nbformat": 4,
  "nbformat_minor": 0
}