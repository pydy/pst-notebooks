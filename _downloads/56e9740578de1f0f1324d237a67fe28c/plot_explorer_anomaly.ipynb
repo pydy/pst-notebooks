{
  "cells": [
    {
      "cell_type": "markdown",
      "metadata": {},
      "source": [
        "\n# Explorer Anomaly\n\n## Objectives\n\n- Show how to use *generate_ode_function* as a fast alternative for lambdify\n- Show how to use PyDy Visualization to create a 3D animation\n\n## Description\n\nIt is known, that for a rigid body the rotation around the axes of maximum or\nminimum moment of inertia is stable. Explorer1 showed, that the rotation\naround the axis of minimum moment of inertia may be unstable if the body is\nnot rigid.\n\nMany more details may be found here:\n\nhttps://nescacademy.nasa.gov/video/cfbf4765ea984d05b2b5df46d2939ee11d\nwhich was also the inspiration for this example.\n\nHere the explorer is modeled as a rigid body, a hollow tube.\nFour antennas are attached to the explorer via spherical joints.\nThe antennas are modeled as thin rods. Their attachment points are located\non a circumference near the center of gravity of the explorer, evenly spaced.\nTheir neutral direction is normal to the surface of the explorer at the points\nof attachment.\nWhen they are deflected from their neutral position, a restoring torque acts\non them, proportional to the deflection angle and a damping torque,\nproportional to the angular velocity, with constants\n$k_\\textrm{{torque}}$ and $\\mu_\\textrm{{torque}}$.\nThe opposite torque acts on the explorer.\n\nAs this takes place in outer space no gravity is present.\n\n## Notes\n\n- The dimensions and the masses of the explorer and the antennas are, as well\n  as the constants $k_\\textrm{{torque}}$ and\n  $\\mu_\\textrm{{torque}}$ are courtesy **Dr. David Levinson** via\n  **Dr. Carlos Roithmayr**.\n- The equations of motion are derived using Kane's method.\n- As there is dampening, the total energy of the system decreases.\n- As there are no external forces or torques, the angular momentum of the\n  system must be constant.\n- For the determination of the reaction forces at the connection points the\n  accelerations are needed. As generate_ode_function needs C - contiguous\n  arrays, a bit of care has to be taken there.\n- With PyDy Visualisation the axis of a cylinder is always in the Y direction.\n  If this was not considered when setting up the system, it must be corrected\n  when defining the visualization frames - as it is done here.\n\n**States**\n\n- $x, y, z$ : Position of the center of gravity of the explorer in the\n  inertial frame\n- $u_x, u_y, u_z$ : Velocity of the center of gravity of the explorer in\n  the inertial frame\n- $q_{ex}, q_{ey}, q_{ez}$ : Orientation of the body fixed frame of\n  the explorer\n- $u_{ex}, u_{ey}, u_{ez}$ : Angular velocity of the body fixed frame\n  of the explorer\n- $q_{0x}, q_{0z}$ : Orientation of the body fixed frame of antenna 0\n- $u_{0x}, u_{0z}$ : Angular velocity of the body fixed frame of\n  antenna 0\n- $q_{1x}, q_{1z}$ : Orientation of the body fixed frame of antenna 1\n- $u_{1x}, u_{1z}$ : Angular velocity of the body fixed frame of\n  antenna 1\n- $q_{2y}, q_{2z}$ : Orientation of the body fixed frame of antenna 2\n- $u_{2y}, u_{2z}$ : Angular velocity of the body fixed frame of\n  antenna 2\n- $q_{3y}, q_{3z}$ : Orientation of the body fixed frame of antenna 3\n- $u_{3y}, u_{3z}$ : Angular velocity of the body fixed frame of\n  antenna 3\n\n**Parameters**\n\n- $m_e$ : Mass of the explorer\n- $m_a$ : Mass of each antenna\n- $r_{ei}$ : Inner radius of the explorer\n- $r_{eo}$ : Outer radius of the explorer\n- $L_e$ : Length of the explorer\n- $L_a$ : Length of each antenna\n- $\\textrm{dist}$ : Distance of the attachment points of the antennas\n  from the center of gravity of the explorer in radial direction\n- $\\textrm{shift}$ : Location of the attachment points of the antennas\n  in the axial direction from the center of gravity of the explorer\n- $k_\\textrm{{torque}}$ : Spring constant\n- $\\mu_\\textrm{{torque}}$ : Damping constant\n"
      ]
    },
    {
      "cell_type": "code",
      "execution_count": null,
      "metadata": {
        "collapsed": false
      },
      "outputs": [],
      "source": [
        "import numpy as np\nimport sympy as sm\nimport matplotlib.pyplot as plt\nimport sympy.physics.mechanics as me\nfrom scipy.integrate import solve_ivp\nfrom scipy.optimize import root\nfrom scipy.interpolate import CubicSpline\nfrom pydy.codegen.ode_function_generators import generate_ode_function\nfrom mpl_toolkits.mplot3d import Axes3D  # noqa: F401\nfrom matplotlib import animation"
      ]
    },
    {
      "cell_type": "markdown",
      "metadata": {},
      "source": [
        "## Equations of Motion, Kane's Method\n\n"
      ]
    },
    {
      "cell_type": "code",
      "execution_count": null,
      "metadata": {
        "collapsed": false
      },
      "outputs": [],
      "source": [
        "N, Ae, Aa0, Aa1, Aa2, Aa3 = sm.symbols('N Ae Aa0 Aa1 Aa2 Aa3',\n                                       cls=me.ReferenceFrame)\nO = me.Point('O')\nO.set_vel(N, 0)\nt = me.dynamicsymbols._t\n\n# where the antennae attach to the explorer\nP0, P1, P2, P3 = sm.symbols('P0 P1 P2 P3', cls=me.Point)\n\n# Mass centers of the explorer and antennae\nAoe, Aoa0, Aoa1, Aoa2, Aoa3 = sm.symbols('Aoe Aoa0 Aoa1 Aoa2 Aoa3',\n                                         cls=me.Point)\n\n# Coordinates of the mass center of the explorer\nx, y, z, ux, uy, uz = me.dynamicsymbols('x, y, z, ux, uy, uz')\n# Coordinates of body fixed frame of the explorer\nqex, qey, qez = me.dynamicsymbols('qex, qey, qez')\nuex, uey, uez = me.dynamicsymbols('uex, uey, uez')\n\n# Coordinates of the body fixed frames of the antennae\nq0x, q0z, u0x, u0z = me.dynamicsymbols('q0x, q0z, u0x, u0z')\nq1x, q1z, u1x, u1z = me.dynamicsymbols('q1x, q1z, u1x, u1z')\nq2y, q2z, u2y, u2z = me.dynamicsymbols('q2y, q2z, u2y, u2z')\nq3y, q3z, u3y, u3z = me.dynamicsymbols('q3y, q3z, u3y, u3z')\n\naux0x, aux0y, aux0z, f0x, f0y, f0z = me.dynamicsymbols(\n    'aux0x, aux0y, aux0z, f0x, f0y, f0z')\naux1x, aux1y, aux1z, f1x, f1y, f1z = me.dynamicsymbols(\n    'aux1x, aux1y, aux1z, f1x, f1y, f1z')\naux2x, aux2y, aux2z, f2x, f2y, f2z = me.dynamicsymbols(\n    'aux2x, aux2y, aux2z, f2x, f2y, f2z')\naux3x, aux3y, aux3z, f3x, f3y, f3z = me.dynamicsymbols(\n    'aux3x, aux3y, aux3z, f3x, f3y, f3z')\n\n# Place hlodes for the u_i.diff(t) in the reaction forces\nrhs_list = [sm.symbols('rhs' + str(i)) for i in range(14)]\n\nm_e, m_a, rei, reo, shift, La, Le, dist = sm.symbols(\n    'm_e m_a rei reo shift La Le dist')\nk_torque, mu_torque = sm.symbols('k_torque mu_torque')\n\n# rot, rot1 for the kinematical differential equations.\nrot, rot1 = [], []\n# Explorer body frame\nAe.orient_body_fixed(N, (qex, qey, qez), 'XYZ')\nrot.append(Ae.ang_vel_in(N))\nAe.set_ang_vel(N, uex*Ae.x + uey*Ae.y + uez*Ae.z)\nrot1.append(Ae.ang_vel_in(N))\n\n# Antenna 0 body frame\nAa0.orient_body_fixed(Ae, (q0x, 0, q0z), 'XYZ')\nrot.append(Aa0.ang_vel_in(N))\nAa0.set_ang_vel(Ae, u0x*Aa0.x + u0z*Aa0.z)\nrot1.append(Aa0.ang_vel_in(N))\n\n# Antenna 1 body frame\nAa1.orient_body_fixed(Ae, (q1x, 0, q1z), 'XYZ')\nrot.append(Aa1.ang_vel_in(N))\nAa1.set_ang_vel(Ae, u1x*Aa1.x + u1z*Aa1.z)\nrot1.append(Aa1.ang_vel_in(N))\n\n# Antenna 2 body frame\nAa2.orient_body_fixed(Ae, (0, q2y, q2z), 'XYZ')\nrot.append(Aa2.ang_vel_in(N))\nAa2.set_ang_vel(Ae, u2y*Aa2.y + u2z*Aa2.z)\nrot1.append(Aa2.ang_vel_in(N))\n\n# Antenna 3 body frame\nAa3.orient_body_fixed(Ae, (0, q3y, q3z), 'XYZ')\nrot.append(Aa3.ang_vel_in(N))\nAa3.set_ang_vel(Ae, u3y*Aa3.y + u3z*Aa3.z)\nrot1.append(Aa3.ang_vel_in(N))\n\n# Set the points\n# Center of gravity of explorer\nAoe.set_pos(O, x*N.x + y*N.y + z*N.z)\nAoe.set_vel(N, ux*N.x + uy*N.y + uz*N.z)\n\n# Points where the antennae attach to the explorer\nP0.set_pos(Aoe, dist*Ae.y + shift*Ae.z)\nvP0 = P0.v2pt_theory(Aoe, N, Ae)\nP0.set_vel(N, vP0 + aux0x*Ae.x + aux0y*Ae.y + aux0z*Ae.z)\nP1.set_pos(Aoe, -dist*Ae.y + shift*Ae.z)\nvP1 = P1.v2pt_theory(Aoe, N, Ae)\nP1.set_vel(N, vP1 + aux1x*Ae.x + aux1y*Ae.y + aux1z*Ae.z)\nP2.set_pos(Aoe, dist*Ae.x + shift*Ae.z)\nvP2 = P2.v2pt_theory(Aoe, N, Ae)\nP2.set_vel(N, vP2 + aux2x*Ae.x + aux2y*Ae.y + aux2z*Ae.z)\nP3.set_pos(Aoe, -dist*Ae.x + shift*Ae.z)\nvP3 = P3.v2pt_theory(Aoe, N, Ae)\nP3.set_vel(N, vP3 + aux3x*Ae.x + aux3y*Ae.y + aux3z*Ae.z)\n\n# Set the mass centers of the antennae\nAoa0.set_pos(P0, La/2 * Aa0.y)\nAoa0.v2pt_theory(P0, N, Aa0)\nAoa1.set_pos(P1, -La/2 * Aa1.y)\nAoa1.v2pt_theory(P1, N, Aa1)\nAoa2.set_pos(P2, La/2 * Aa2.x)\nAoa2.v2pt_theory(P2, N, Aa2)\nAoa3.set_pos(P3, -La/2 * Aa3.x)\nAoa3.v2pt_theory(P3, N, Aa3)\n\n# Set the torques on the antennae\ntorque0x = -(k_torque * q0x + mu_torque * u0x) * Aa0.x\ntorque0z = - (k_torque * q0z + mu_torque * u0z) * Aa0.z\n\ntorque1x = -(k_torque * q1x + mu_torque * u1x) * Aa1.x\ntorque1z = - (k_torque * q1z + mu_torque * u1z) * Aa1.z\n\ntorque2y = -(k_torque * q2y + mu_torque * u2y) * Aa2.y\ntorque2z = -(k_torque * q2z + mu_torque * u2z) * Aa2.z\n\ntorque3y = -(k_torque * q3y + mu_torque * u3y) * Aa3.y\ntorque3z = - (k_torque * q3z + mu_torque * u3z) * Aa3.z\n\ntorques = [\n    (Aa0, torque0x + torque0z),\n    (Aa1, torque1x + torque1z),\n    (Aa2, torque2y + torque2z),\n    (Aa3, torque3y + torque3z),\n    # Reaction torque on explorer\n    (Ae, -(torque0x + torque0z + torque1x + torque1z +\n           torque2y + torque2z + torque3y + torque3z)),\n    # for the reaction forces.\n    (P0, f0x*Ae.x + f0y*Ae.y + f0z*Ae.z),\n    (P1, f1x*Ae.x + f1y*Ae.y + f1z*Ae.z),\n    (P2, f2x*Ae.x + f2y*Ae.y + f2z*Ae.z),\n    (P3, f3x*Ae.x + f3y*Ae.y + f3z*Ae.z),\n]\n\n# Bodies and their inertias\n# Explorer is a hollow tube\niXXe = m_e/12 * (3*(rei**2 + reo**2) + Le**2)\niZZe = m_e/2 * (rei**2 + reo**2)\niYYe = iXXe\nInertia_e = me.inertia(Ae, iXXe, iYYe, iZZe)\nexplorer1 = me.RigidBody('explorer1', Aoe, Ae, m_e, (Inertia_e, Aoe))\n# antennea are rods\niRR = 1/12*m_a*La**2\ninertia_0 = me.inertia(Aa0, iRR, 0, iRR)\nlink0 = me.RigidBody('link0', Aoa0, Aa0, m_a, (inertia_0, Aoa0))\ninertia_1 = me.inertia(Aa1, iRR, 0, iRR)\nlink1 = me.RigidBody('link1', Aoa1, Aa1, m_a, (inertia_1, Aoa1))\ninertia_2 = me.inertia(Aa2, 0, iRR, iRR)\nlink2 = me.RigidBody('link2', Aoa2, Aa2, m_a, (inertia_2, Aoa2))\ninertia_3 = me.inertia(Aa3, 0, iRR, iRR)\nlink3 = me.RigidBody('link3', Aoa3, Aa3, m_a, (inertia_3, Aoa3))\n\nbodies = [explorer1, link0, link1, link2, link3]\n\nq_ind = [x, y, z, qex, qey, qez, q0x, q0z, q1x, q1z, q2y, q2z, q3y, q3z]\nu_ind = [ux, uy, uz, uex, uey, uez, u0x, u0z, u1x, u1z, u2y, u2z, u3y, u3z]\naux = [aux0x, aux0y, aux0z,\n       aux1x, aux1y, aux1z,\n       aux2x, aux2y, aux2z,\n       aux3x, aux3y, aux3z]\n\nF_r = [f0x, f0y, f0z,\n       f1x, f1y, f1z,\n       f2x, f2y, f2z,\n       f3x, f3y, f3z]\n\nkd = sm.Matrix([\n    ux - x.diff(t),\n    uy - y.diff(t),\n    uz - z.diff(t),\n    *[(rot[0] - rot1[0]).dot(uv) for uv in Ae],\n    *[(rot[1] - rot1[1]).dot(uv) for uv in (Aa0.x, Aa0.z)],\n    *[(rot[2] - rot1[2]).dot(uv) for uv in (Aa1.x, Aa1.z)],\n    *[(rot[3] - rot1[3]).dot(uv) for uv in (Aa2.y, Aa2.z)],\n    *[(rot[4] - rot1[4]).dot(uv) for uv in (Aa3.y, Aa3.z)],\n])\n\nkanes = me.KanesMethod(\n    N,\n    q_ind,\n    u_ind,\n    kd,\n    u_auxiliary=aux,\n)\n\nfr, frstar = kanes.kanes_equations(bodies, torques)\neingepraegt = kanes.auxiliary_eqs.subs({i.diff(t): rhs_list[j]\n                                        for j, i in enumerate(u_ind)})"
      ]
    },
    {
      "cell_type": "markdown",
      "metadata": {},
      "source": [
        "Energy and Angular Momentum.\n\n"
      ]
    },
    {
      "cell_type": "code",
      "execution_count": null,
      "metadata": {
        "collapsed": false
      },
      "outputs": [],
      "source": [
        "aux_dict = {i: 0 for i in aux}\nkin_energy = sum([b.kinetic_energy(N).subs(aux_dict) for b in bodies])\nspring_energy = 0.5 * k_torque * (q0x**2 + q0z**2 + q1x**2 + q1z**2 +\n                                  q2y**2 + q2z**2 + q3y**2 + q3z**2)\n\nang_momentum = [\n      sum([body.angular_momentum(O, N).dot(N.x).subs(aux_dict)\n           for body in bodies]),\n      sum([body.angular_momentum(O, N).dot(N.y).subs(aux_dict)\n           for body in bodies]),\n      sum([body.angular_momentum(O, N).dot(N.z).subs(aux_dict)\n           for body in bodies]),\n]"
      ]
    },
    {
      "cell_type": "markdown",
      "metadata": {},
      "source": [
        "Compilation using generate_ode_function.\n\n"
      ]
    },
    {
      "cell_type": "code",
      "execution_count": null,
      "metadata": {
        "collapsed": false
      },
      "outputs": [],
      "source": [
        "qL = q_ind + u_ind\npL = [m_e, m_a, rei, reo, dist, shift, La, Le, k_torque, mu_torque]\n\nspecified = None\nconstants = np.array(pL)\n\nloesung = sm.solve(kd, [q_ind[i].diff(t) for i in range(len(q_ind))])\n# The solution must be sorted so that it corresponds to KM.q\nschluessel = [i.diff(t) for i in kanes.q]\nkin_eqs_solved = sm.Matrix([loesung[i] for i in schluessel])\n\nmass_matrix = me.msubs(kanes.mass_matrix, {i: 0 for i in aux})\nforce = me.msubs(kanes.forcing, {i: 0 for i in aux + F_r})\n\nrhs_gen = generate_ode_function(\n    force,\n    kanes.q,\n    kanes.u,\n    constants=constants,\n    mass_matrix=mass_matrix,\n    specifieds=specified,\n    coordinate_derivatives=kin_eqs_solved,  # rhs of kin. diff. equations\n    generator='cython',\n    linear_sys_solver='numpy',\n    constants_arg_type='array',\n    specifieds_arg_type='array',\n)\n\n# As speed is of no concern here, lambdify is used.\nkin_lam = sm.lambdify(qL + pL, kin_energy, cse=True)\nspring_lam = sm.lambdify(qL + pL, spring_energy, cse=True)\nang_momentum_lam = sm.lambdify(qL + pL, ang_momentum, cse=True)\n\neingepraegt_lam = sm.lambdify(F_r + qL + pL + rhs_list,\n                              eingepraegt, cse=True)"
      ]
    },
    {
      "cell_type": "markdown",
      "metadata": {},
      "source": [
        "## Numerical Integration\n\n"
      ]
    },
    {
      "cell_type": "code",
      "execution_count": null,
      "metadata": {
        "collapsed": false
      },
      "outputs": [],
      "source": [
        "# Input parameters and initial conditions\n\nLe1 = 2.05\nrei1 = 0.060\nreo1 = 0.076\ndist1 = reo1\nLa1 = 0.56\nm_e1 = 13.9\nm_a1 = m_e1 / 100.0\nshift1 = 0.1\nk_torque1 = 0.565\nmu_torque1 = 1.13\n\nx1, y1, z1 = 0.0, 0.0, 0.0\nux1, uy1, uz1 = 0.0, 0.0, 0.0\nqex1, qey1, qez1 = 0.0, 0.0, 0.0\n\nuez1 = 750.0 * 2 * np.pi / 60  # 750 rpm\nuex1 = uez1 / 1.e3\nuey1 = uez1 / 1.e3\n\nq0x1, q0z1 = 0.0, 0.0\nu0x1, u0z1 = 0.0, 0.0\nq1x1, q1z1 = 0.0, 0.0\nu1x1, u1z1 = 0.0, 0.0\nq2y1, q2z1 = 0.0, 0.0\nu2y1, u2z1 = 0.0, 0.0\nq3y1, q3z1 = 0.0, 0.0\nu3y1, u3z1 = 0.0, 0.0\n\npL_vals = [m_e1, m_a1, rei1, reo1, dist1, shift1, La1, Le1, k_torque1,\n           mu_torque1]\n\ny0 = [\n    x1, y1, z1,\n    qex1, qey1, qez1,\n    q0x1, q0z1,\n    q1x1, q1z1,\n    q2y1, q2z1,\n    q3y1, q3z1,\n    ux1, uy1, uz1,\n    uex1, uey1, uez1,\n    u0x1, u0z1,\n    u1x1, u1z1,\n    u2y1, u2z1,\n    u3y1, u3z1,\n]\n\niXXe1 = m_e1/12 * (3*(rei1**2 + reo1**2) + Le1**2)\niZZe1 = m_e1/2 * (rei1**2 + reo1**2)\niYYe1 = iXXe1\n\nprint(f'Explorer inertias: Ixx={iXXe1:.6f}, Iyy={iYYe1:.6f}, Izz={iZZe1:.6f}')\n\n\ndef gradient(t, y, args):\n    # needed for generate_ode_function, if in solve_ivp method != 'RK45'\n    # y = np.ascontiguousarray(y)\n    args = np.array(args)\n    rhs = rhs_gen(y, t, args)\n    return rhs\n\n\ninterval = 100.0  # seconds\nschritte = 1000\ntimes = np.linspace(0., interval, schritte)\nt_span = (0., interval)\n\nresultat1 = solve_ivp(gradient, t_span, y0, t_eval=times, args=(pL_vals,),\n                      atol=1e-12, rtol=1e-12,\n                      )\n\n\nresultat = resultat1.y.T\nprint('resultat shape', resultat.shape)\nprint(resultat1.message, '\\n')\n\nprint(f\"To numerically integrate an interval of {interval} sec the \"\n      f\"routine cycled {resultat1.nfev:,} times\")"
      ]
    },
    {
      "cell_type": "markdown",
      "metadata": {},
      "source": [
        "Plot some generalized coordinates\n\n"
      ]
    },
    {
      "cell_type": "code",
      "execution_count": null,
      "metadata": {
        "collapsed": false
      },
      "outputs": [],
      "source": [
        "bezeichnung = [str(i) for i in q_ind + u_ind]\n\nfig, ax = plt.subplots(4, 1, figsize=(8, 8), layout='constrained',\n                       sharex=True)\nfor i in (17, 18, 19):\n    begin = 0\n    ax[0].plot(times[begin: resultat.shape[0]], resultat[begin:, i],\n               label=bezeichnung[i])\n    ax[0].axhline(1.35, color='black', lw=0.5, ls='--')\n    ax[0].axhline(-1.35, color='black', lw=0.5, ls='--')\n    ax[0].axhline(0.0, color='red', lw=0.5, ls='--')\n    ax[0].set_title('Angular Velocity of the Explorer')\n_ = ax[0].legend()\n\nfor i in (0, 1, 2):\n    ax[1].plot(times[begin: resultat.shape[0]], resultat[begin:, i],\n               label=bezeichnung[i])\n    ax[1].set_title('Various generalized coordinates as selected')\n_ = ax[1].legend()\n\nfor i in (6, 7, 8, 9, 10, 11, 12, 13):\n    ax[2].plot(times[begin: resultat.shape[0]], resultat[begin:, i],\n               label=bezeichnung[i])\n_ = ax[2].legend()\n\nfor i in (20, 21, 22, 23):\n    ax[3].plot(times[begin: resultat.shape[0]], resultat[begin:, i],\n               label=bezeichnung[i])\nax[-1].set_xlabel('Time [s]')\n_ = ax[3].legend()"
      ]
    },
    {
      "cell_type": "markdown",
      "metadata": {},
      "source": [
        "## Plot Energy and Angular Momentum\n\n"
      ]
    },
    {
      "cell_type": "code",
      "execution_count": null,
      "metadata": {
        "collapsed": false
      },
      "outputs": [],
      "source": [
        "fig, ax = plt.subplots(2, 1, figsize=(8, 4), layout='constrained', sharex=True)\nkin_np = kin_lam(*(resultat.T), *pL_vals)\nspring_np = spring_lam(*(resultat.T), *pL_vals)\ntotal_np = kin_np + spring_np\nbegin = 0\nax[0].plot(times[begin: resultat.shape[0]], kin_np[begin:],\n           label='kinetic energy')\nax[0].plot(times[begin: resultat.shape[0]], spring_np[begin:],\n           label='spring energy')\nax[0].plot(times[begin: resultat.shape[0]], total_np[begin:],\n           label='total energy')\nax[0].set_ylabel('Energy [J]')\nax[0].set_title('Energy of the system')\n_ = ax[0].legend()\n\nmax_x = np.max(ang_momentum_lam(*(resultat.T), *pL_vals)[0])\nmay_y = np.max(ang_momentum_lam(*(resultat.T), *pL_vals)[1])\nmax_z = np.max(ang_momentum_lam(*(resultat.T), *pL_vals)[2])\nmin_x = np.min(ang_momentum_lam(*(resultat.T), *pL_vals)[0])\nmin_y = np.min(ang_momentum_lam(*(resultat.T), *pL_vals)[1])\nmin_z = np.min(ang_momentum_lam(*(resultat.T), *pL_vals)[2])\nmax_mom = max_x + may_y + max_z\nmin_mon = min_x + min_y + min_z\nerror = (max_mom - min_mon) / max_mom\nprint(f'Max error from conservation of angular momentum: {error:.3e}')\n\n\nfor i, j in enumerate(['x', 'y', 'z']):\n    ax[1].plot(times[: resultat.shape[0]], ang_momentum_lam(\n        *(resultat.T), *pL_vals)[i], label=f'angular momentum {j}')\n    ax[1].set_ylabel('Angular momentum [kg m\u00b2/s]')\n    ax[1].set_title('Angular momentum of the system')\n_ = ax[1].legend()"
      ]
    },
    {
      "cell_type": "markdown",
      "metadata": {},
      "source": [
        "Calculate Reaction Forces on Points, where the Antennas are attached to\nExplorer\n\n"
      ]
    },
    {
      "cell_type": "code",
      "execution_count": null,
      "metadata": {
        "collapsed": false
      },
      "outputs": [],
      "source": [
        "# Calculate the accelerations needed for the reaction forces. As rhs_gen needs\n# C - contiguous arrays, the inputs must be converted here accordingly.\nRHS = np.empty((resultat.shape))\npL_vals_C = np.ascontiguousarray(pL_vals)\nfor i in range(resultat.shape[0]):\n    res_C = np.ascontiguousarray(resultat[i])\n    RHS[i] = rhs_gen(res_C, 0.0, pL_vals_C)\n\nreaction_forces = np.empty((resultat.shape[0], 12))\nsumme_np = np.empty(resultat.shape[0])\n\n\ndef func_react(x0, args):\n    return eingepraegt_lam(*x0, *args).squeeze()\n\n\nx0 = np.array([0.0 for _ in range(len(F_r))])\nfor i in range(resultat.shape[0]):\n    args = np.array([*resultat[i, :], *pL_vals, *RHS[i, 14:]])\n    loesung = root(func_react, x0, args=args)\n    reaction_forces[i, :] = loesung.x\n    x0 = loesung.x\n    summe_np[i] = np.sum(loesung.x)\n\nbegin = 0\nfig, ax = plt.subplots(4, 1, figsize=(8, 8), layout='constrained',\n                       sharex=True)\nfor i in range(4):\n    for k, j in zip(reaction_forces[:, 3*i:3*i+3].T, ('x', 'y', 'z')):\n        ax[i].plot(times[begin:], k[begin:], label=f'Reaction Force {j}')\n    ax[i].set_ylabel('Force [N]')\n    ax[i].set_title(f'Reaction Forces at the Antennae Mounting Point P{i} '\n                    'in the Explorer Frame Ae')\n    ax[i].legend()\n_ = ax[-1].set_xlabel('Time [s]')\nax[0].plot(times[begin:], summe_np[begin:], 'r--', label='Sum of all Forces')\n_ = ax[0].legend()"
      ]
    },
    {
      "cell_type": "markdown",
      "metadata": {},
      "source": [
        "## Animation using PyDy Visualization\n\nIn this sphinx environment the animation does not work. The program was left\nhere to show the simplicity of the animation with PyDy Visualization compared\nto Matplotlib.\nA screen shot of the animation may be found here:\nhttps://github.com/pydy/pst-notebooks the name is explorer1_anomaly.mow\n\n"
      ]
    },
    {
      "cell_type": "code",
      "execution_count": null,
      "metadata": {
        "collapsed": false
      },
      "outputs": [],
      "source": [
        "from pydy.viz.shapes import Cylinder, Sphere\nfrom pydy.viz.scene import Scene\nfrom pydy.viz.visualization_frame import VisualizationFrame\n\n# Define the right frames so the cylinders point in the Y direction\nBe, Ba0, Ba1, Ba2, Ba3 = sm.symbols('Be B0 B1 B2 B3', cls=me.ReferenceFrame)\n# Point to see easily how explorer is turning.\nP_red = me.Point('P_red')\nBe.orient_body_fixed(Ae, (-np.pi/2, 0, 0), 'XYZ')\nBa1.orient_body_fixed(Aa1, (0, 0, np.pi), 'XYZ')\nBa2.orient_body_fixed(Aa2, (0, 0, np.pi/2), 'XYZ')\nBa3.orient_body_fixed(Aa3, (0, 0, -np.pi/2), 'XYZ')\n\nP_red.set_pos(Aoe, Le/4 * Be.y + reo * Be.z)\n\nfarben = ['grey', 'blue', 'green', 'red', 'yellow']\nviz_frames = []\nmass_centers = [Aoe, Aoa0, Aoa1, Aoa2, Aoa3]\nframes = [Ae, Aa0, Ba1, Ba2, Ba3]\n\nfor i, antenna in enumerate(bodies[1:]):\n    antenna_shape = Cylinder(name='antenna{}'.format(i),\n                             radius=0.025,\n                             length=La1,\n                             color=farben[i])\n\n    viz_frames.append(VisualizationFrame('antenna_frame{}'.format(i),\n                                         frames[i+1],\n                                         mass_centers[i+1],\n                                         antenna,\n                                         antenna_shape))\n\nexplorer_shape = Cylinder(name='explorer',\n                          radius=reo1,\n                          length=Le1,\n                          color=farben[0])\n\nviz_frames.append(VisualizationFrame('explorer_frame',\n                                     Be,\n                                     mass_centers[0],\n                                     explorer1,\n                                     explorer_shape))\n\nP_red_shape = Sphere(name='red_sphere',\n                     radius=0.05,\n                     color='red')\nviz_frames.append(VisualizationFrame('red_sphere_frame',\n                                     Be,\n                                     P_red,\n                                     P_red,\n                                     P_red_shape))\n\nscene = Scene(N, O, *viz_frames)\n\n# Provide the data to compute the trajectories of the visualization frames.\nscene.times = times\nscene.constants = dict(zip(pL, pL_vals))\nscene.states_symbols = q_ind + u_ind\nscene.states_trajectories = resultat\n\n# scene.display_jupyter(axes_arrow_length=20)"
      ]
    },
    {
      "cell_type": "markdown",
      "metadata": {},
      "source": [
        "## Animation with Matplotlib\n\n"
      ]
    },
    {
      "cell_type": "code",
      "execution_count": null,
      "metadata": {
        "collapsed": false
      },
      "outputs": [],
      "source": [
        "fps = 10\n\n# Create the end points of the antennas\nP01, P11, P21, P31, omega = sm.symbols('P01 P11 P21 P31 omega', cls=me.Point)\nP01.set_pos(P0, La * Aa0.y)\nP11.set_pos(P1, -La * Aa1.y)\nP21.set_pos(P2, La * Aa2.x)\nP31.set_pos(P3, -La * Aa3.x)\nomega.set_pos(Aoe, uex*Ae.x + uey*Ae.y + uez*Ae.z)\n\ncoordinates = Aoe.pos_from(O).to_matrix(N)\nfor point in (P0, P01, P1, P11, P2, P21, P3, P31, omega):\n    coordinates = coordinates.row_join(point.pos_from(O).to_matrix(N))\ncoordinates_lam = sm.lambdify(qL + pL, coordinates, cse=True)\n\nt_arr = np.linspace(0, interval, schritte)\nstate_sol = CubicSpline(t_arr, resultat)\n\n# cylinder generation\n\n\ndef make_cylinder_mesh(Le, reo, n_theta=48, n_z=10):\n    # Create a cylinder mesh centered at origin along the z-axis:\n    #  - z in [-Le/2, +Le/2]\n    #  - radius = reo\n    # Returns X,Y,Z arrays shaped (n_z, n_theta)\n\n    theta = np.linspace(0, 2*np.pi, n_theta)\n    z = np.linspace(-Le/2, Le/2, n_z)\n    Theta, Z = np.meshgrid(theta, z)\n    X = reo * np.cos(Theta)\n    Y = reo * np.sin(Theta)\n    return X, Y, Z\n\n\n# Rotation matrices\n\n\ndef Rx(angle):\n    c, s = np.cos(angle), np.sin(angle)\n    return np.array([[1, 0, 0],\n                     [0, c, -s],\n                     [0, s,  c]])\n\n\ndef Ry(angle):\n    c, s = np.cos(angle), np.sin(angle)\n    return np.array([[c, 0, s],\n                     [0, 1, 0],\n                     [-s, 0, c]])\n\n\ndef Rz(angle):\n    c, s = np.cos(angle), np.sin(angle)\n    return np.array([[c, -s, 0],\n                     [s,  c, 0],\n                     [0,  0, 1]])\n\n\n# Apply transform\n\n\ndef transform_cylinder(X, Y, Z, Aoe, qx, qy, qz):\n\n    # Apply rotation (qx,qy,qz) and translation Aoe to the mesh.\n    # Rotation order: Rx then Ry then Rz => R = Rz @ Ry @ Rx\n\n    # flatten points for matrix multiplication\n    pts = np.vstack((X.ravel(), Y.ravel(), Z.ravel()))  # shape (3, N)\n    # Build rotation matrix according to selected convention\n    R = Rz(qz) @ Ry(qy) @ Rx(qx)\n\n    pts_rot = R @ pts\n    pts_rot[0, :] += Aoe[0]\n    pts_rot[1, :] += Aoe[1]\n    pts_rot[2, :] += Aoe[2]\n    Xr = pts_rot[0, :].reshape(X.shape)\n    Yr = pts_rot[1, :].reshape(Y.shape)\n    Zr = pts_rot[2, :].reshape(Z.shape)\n    return Xr, Yr, Zr\n\n\ndef init():\n    Le = Le1      # length\n    reo = reo1     # radius\n    X, Y, Z = make_cylinder_mesh(Le, reo, n_theta=16, n_z=8)\n\n    fig = plt.figure(figsize=(8, 8))\n    ax = fig.add_subplot(111, projection='3d')\n    ax.set_box_aspect([1, 1, 1])  # make aspect equal\n\n    L = 1.5\n    ax.set_xlim(-L, L)\n    ax.set_ylim(-L, L)\n    ax.set_zlim(-L, L)\n    ax.set_xlabel('X [m]', fontsize=15)\n    ax.set_ylabel('Y [m]', fontsize=15)\n    ax.set_zlabel('Z [m]', fontsize=15)\n\n    # initial pose\n    coords = coordinates_lam(*state_sol(0), *pL_vals)\n    Aoe0 = np.array([coords[0, 0], coords[1, 0], coords[2, 0]])\n    qx0, qy0, qz0 = state_sol(0)[3:6]  # explorer angles\n    Xr, Yr, Zr = transform_cylinder(X, Y, Z, Aoe0, qx0, qy0, qz0)\n\n    surf = ax.plot_surface(Xr, Yr, Zr, rstride=2, cstride=2, linewidth=0,\n                           alpha=0.7, color='grey')\n\n    antenna0, = ax.plot([], [], [], color='black', lw=2)\n    antenna1, = ax.plot([], [], [], color='black', lw=2)\n    antenna2, = ax.plot([], [], [], color='black', lw=2)\n    antenna3, = ax.plot([], [], [], color='black', lw=2)\n    pfeil1 = ax.quiver(coords[0, 0], coords[1, 0], coords[2, 0],\n                       (coords[0, 9] - coords[0, 0]),\n                       (coords[1, 9] - coords[1, 0]),\n                       (coords[2, 9] - coords[2, 0]), color='red',\n                       arrow_length_ratio=0.3,)\n\n    return (fig, ax, surf, antenna0, antenna1, antenna2, antenna3, pfeil1,\n            X, Y, Z)\n\n\nfig, ax, surf, antenna0, antenna1, antenna2, antenna3, pfeil1, X, Y, Z = init()\n\n\ndef update(t):\n    global surf, pfeil1\n    # remove previous surface and omega\n    surf.remove()\n    pfeil1.remove()\n    ax.set_title(f\"Running time: {t:.2f} sec \\n The red arrow shows the \"\n                 f\"direction of the angular velocity \\n \"\n                 f\"vector of the explorer\", fontsize=15)\n    coords = coordinates_lam(*state_sol(t), *pL_vals)\n    # create explorer\n    Aoe = np.array([coords[0, 0], coords[1, 0], coords[2, 0]])\n    qx, qy, qz = state_sol(t)[3:6]  # explorer angles\n    Xr, Yr, Zr = transform_cylinder(X, Y, Z, Aoe, qx, qy, qz)\n    surf = ax.plot_surface(Xr, Yr, Zr, rstride=2, cstride=2, linewidth=0,\n                           alpha=0.8, color='grey')\n    antenna0.set_data([coords[0, 1], coords[0, 2]],\n                      [coords[1, 0], coords[1, 1]])\n    antenna0.set_3d_properties([coords[2, 0], coords[2, 1]])\n    antenna1.set_data([coords[0, 3], coords[0, 4]],\n                      [coords[1, 3], coords[1, 4]])\n    antenna1.set_3d_properties([coords[2, 3], coords[2, 4]])\n    antenna2.set_data([coords[0, 5], coords[0, 6]],\n                      [coords[1, 5], coords[1, 6]])\n    antenna2.set_3d_properties([coords[2, 5], coords[2, 6]])\n    antenna3.set_data([coords[0, 7], coords[0, 8]],\n                      [coords[1, 7], coords[1, 8]])\n    antenna3.set_3d_properties([coords[2, 7], coords[2, 8]])\n    # As the angular velocity change substantially over time, it is scaled\n    # to be visible in the plot at all times.\n    scale_factor = 2.0 / np.sqrt((coords[0, 9] - coords[0, 0])**2 +\n                                 (coords[1, 9] - coords[1, 0])**2 +\n                                 (coords[2, 9] - coords[2, 0])**2)\n    pfeil1 = ax.quiver(coords[0, 0], coords[1, 0], coords[2, 0],\n                       scale_factor * (coords[0, 9] - coords[0, 0]),\n                       scale_factor * (coords[1, 9] - coords[1, 0]),\n                       scale_factor * (coords[2, 9] - coords[2, 0]),\n                       color='red', arrow_length_ratio=0.2)\n\n    return surf, antenna0, antenna1, antenna2, antenna3, pfeil1\n\n\nframes = np.concatenate((np.arange(0.0, 0.05 * interval, 1 / fps),\n                         np.arange(0.9 * interval, 0.95 * interval, 1 / fps)))\nani = animation.FuncAnimation(fig, update, frames=frames, interval=1000 / fps,\n                              blit=False)\n\nplt.show()"
      ]
    }
  ],
  "metadata": {
    "kernelspec": {
      "display_name": "Python 3",
      "language": "python",
      "name": "python3"
    },
    "language_info": {
      "codemirror_mode": {
        "name": "ipython",
        "version": 3
      },
      "file_extension": ".py",
      "mimetype": "text/x-python",
      "name": "python",
      "nbconvert_exporter": "python",
      "pygments_lexer": "ipython3",
      "version": "3.13.3"
    }
  },
  "nbformat": 4,
  "nbformat_minor": 0
}