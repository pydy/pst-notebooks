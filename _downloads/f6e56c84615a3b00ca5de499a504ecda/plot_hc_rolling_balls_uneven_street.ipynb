{
  "cells": [
    {
      "cell_type": "markdown",
      "metadata": {},
      "source": [
        "\n# Two Balls Rolling on an Uneven Street\n\n## Objectives\n\n- Show how to use Kane's equations of motion in a somewhat nontrivial\n  situation.\n- Show how to use Hunt-Crossley's theory of impact.\n- Show how to use a no slip condition in a somewhat nontrivial situation.\n\n## Description\n\nTwo uniform, solid balls with radius r are running on an uneven street without\nslipping. The balls are not allowed to jump, but are in contact with the street\nat all times. The reaction forces to hold one of them on the street without\nslipping are calculated.\nA square of vertical walls ( the positive Y direction ) surrounds the street.\nthe four corners of the square have (X / Z) coordinates:\n$(-l_W, -l_W), (l_W, -l_W), (l_W, l_W), (-l_W, l_W)$.\n$\\textrm{wall}_0$ is the bottom horizontal wall, the rest is counted\ncounter clockwise.\n\nThe basic shape of the street is modeled by strassen_form, the superimposed\nunevenness is modeled by strasse. (Strasse = Street in German)\n\nAn observer, a particle of mass $m_o$, may be attached anywhere\ninside each ball.\n\n## Notes\n\n- Even a problem like this has a mass matrix of over 100,000 operations\n  and a force vector of over 2.1 mio operations. Difficult to imagine to set up\n  the equations of motion by hand.\n\n**Variables / Parameters**. $i \\in (1, 2)$ for the two balls\n\n- $q_{1i}, q_{2i}, q_{3i}$: generalized coordinates of the two balls\n- $u_{1i}, u_{2i}, u_{3i}$: angular velocities of the two balls\n- $x_i, z_i$: coordinates of the contact point of the ball with the\n  street\n- $u_{xi}, u_{zi}$: their speeds\n- $aux_x, aux_y, aux_z, f_x, f_y, f_z$: virtual speeds and reaction\n  forces on the center of the ball\n- $m$: mass of the ball\n- $m_o$: mass of the particle on the ball\n- $r$: radius of the ball\n- $i_{XX}, i_{YY}, i_{ZZ}$: moments of inertia of the ball\n- $\\textrm{amplitude, frequenz}$: parameters for the street\n- $m_u$: friction between balls\n- $m_{uW}$: friction between balls and walls\n- $\\alpha, \\beta, \\gamma$: give the positions of the particle relative\n  to the center of the ball\n- $N, A_1, A_2$: inertial frame, frame fixed to ball 1, frame fixed to\n  ball 2\n- $P_0$: point fixed in N\n- $CP_i$: contact point of ball i with the street\n- $Dmc_i$: center of the ball i\n- $m_{Dmc_i}$: position of observer of ball i\n- $rhodt_\\textrm{wall}$: max speed just before collission of ball i\n  with wall j\n- $rhodt_\\textrm{max}$: max speed just before collision between the walls\n- $k_0, k_{0W}$: spring constants for the balls and the walls\n- $l_W$: distance of the walls from the center of the street\n- $c_\\tau$: coefficient of restitution, see Hunt Crossley\n"
      ]
    },
    {
      "cell_type": "code",
      "execution_count": null,
      "metadata": {
        "collapsed": false
      },
      "outputs": [],
      "source": [
        "import sympy as sm\nimport sympy.physics.mechanics as me\nimport numpy as np\nfrom scipy.integrate import solve_ivp\nfrom scipy.optimize import minimize, root\nimport matplotlib.pyplot as plt\nimport matplotlib as mp\nmp.rcParams['animation.embed_limit'] = 2**128\nfrom matplotlib import animation"
      ]
    },
    {
      "cell_type": "markdown",
      "metadata": {},
      "source": [
        "Needed to exit a loop.\n\n"
      ]
    },
    {
      "cell_type": "code",
      "execution_count": null,
      "metadata": {
        "collapsed": false
      },
      "outputs": [],
      "source": [
        "class Rausspringen(Exception):\n    pass"
      ]
    },
    {
      "cell_type": "markdown",
      "metadata": {},
      "source": [
        "Kane's Equations of Motion\n\n\n"
      ]
    },
    {
      "cell_type": "code",
      "execution_count": null,
      "metadata": {
        "collapsed": false
      },
      "outputs": [],
      "source": [
        "q11, q12, q13, q21, q22, q23 = me.dynamicsymbols('q11, q12, q13, q21, q22,'\n                                                 'q23')\nu11, u12, u13, u21, u22, u23 = me.dynamicsymbols('u11, u12, u13, u21, u22,'\n                                                 'u23')\n\nx1, z1, x2, z2 = me.dynamicsymbols('x1, z1, x2, z2')\nux1, uz1, ux2, uz2 = me.dynamicsymbols('ux1, uz1, ux2, uz2')\n\nrhodtwall = [[sm.symbols('rhodtwall' + str(j) + str(i))\n              for i in range(4)] for j in (1, 2)]\n\nrhodtmax = [sm.symbols('rhodtmax' + str(i)) for i in (1, 2)]\n# for the reaction forces.\nauxx, auxy, auxz, fx, fy, fz = me.dynamicsymbols('auxx, auxy, auxz, fx, fy,'\n                                                 'fz')\n\n\nm, mo, g, r, iXX, iYY, iZZ, k0, k0W, lW, ctau, mu, muW = sm.symbols(\n    'm, mo, g, r, iXX, iYY, iZZ, k0, k0W, lW, ctau, mu, muW')\namplitude, frequenz, reibung, alpha, beta, gamma, t = sm.symbols('amplitude '\n                                                                 'frequenz '\n                                                                 'reibung '\n                                                                 'alpha beta '\n                                                                 'gamma t')\n\nN, A1, A2, A3 = sm.symbols('N, A1, A2, A3', cls=me.ReferenceFrame)\nP0, CP1, CP2, Dmc1, Dmc2, m_Dmc1, m_Dmc2 = sm.symbols('P0, CP1, CP2, Dmc1, '\n                                                      'Dmc2, m_Dmc1, m_Dmc2',\n                                                      cls=me.Point)\nP0.set_vel(N, 0)"
      ]
    },
    {
      "cell_type": "markdown",
      "metadata": {},
      "source": [
        "**Define the street and find its minimum osculating circle**\n\nThe larger the integer *rumpel* is, the more uneven the street.\n\nThe radius of the ball must be smaller than the smallest osculating circle\n(Schmiegekreis) of the road, as it must only touch the street at exactly\n**one** point.\nIn this 3D case, the smaller one of the two osculating circles in X  and Z\ndirection is used.\n\nDefine the rotations of the frame $A_1, A_2$, and the contact\npoints $CP_1, CP_2$.\n\n$rot, rot_1$ are used for the kinematic equations, that is\n$\\frac{d}{dt}q_i = f_i(q_1, q_2, q_3, u_1, u_2, u_3, \\textrm{params})$\n\nAs the mass matrix and the force vector are large, getting the term info,\nsuch as dynamic symbols takes time. With *term_info = False*, this may be\nsuppressed.\n\n"
      ]
    },
    {
      "cell_type": "code",
      "execution_count": null,
      "metadata": {
        "collapsed": false
      },
      "outputs": [],
      "source": [
        "rumpel = 2  # the higher the number the more 'uneven the street'.\nterm_info = False  # if True, term info is displayed\n\nx, z = sm.symbols('x, z')\n\n\ndef gesamt(x, z):\n    strasse = sum([amplitude/j * (sm.sin(j*frequenz * x) +\n                                  sm.sin(j*frequenz * z))\n                   for j in range(1, rumpel)])\n    strassen_form = (frequenz/2. * x)**2 + (frequenz/2. * z)**2\n    return strassen_form + strasse\n\n\n# osculating circles in X / Z directions.\nr_max_x = ((sm.S(1.) + (gesamt(x, z).diff(x))**2)**sm.S(3/2) /\n           gesamt(x, z).diff(x, 2))\nr_max_z = ((sm.S(1.) + (gesamt(x, z).diff(z))**2)**sm.S(3/2) /\n           gesamt(x, z).diff(z, 2))\n\nA1.orient_body_fixed(N, (q11, q12, q13), '123')\nrot11 = (A1.ang_vel_in(N))\nA1.set_ang_vel(N, u11*A1.x + u12*A1.y + u13*A1.z)\nrot12 = (A1.ang_vel_in(N))\n\nA2.orient_body_fixed(N, (q21, q22, q23), '123')\nrot21 = (A2.ang_vel_in(N))\nA2.set_ang_vel(N, u21*A2.x + u22*A2.y + u23*A2.z)\nrot22 = (A2.ang_vel_in(N))"
      ]
    },
    {
      "cell_type": "markdown",
      "metadata": {},
      "source": [
        "**Determine the location of the center of the ball and the speed of\n(subsequent!) contact points**\n\nHere it is used that the balls cannot slip on the street.\n\n*vektor* is the normal to the street at point (x, z), the contact point\n$C_i$.\nIt should point 'inwards', hence the leading minus sign.\n\n$Dmc_i$ is in the direction of this normal at distance r from\n$CP_i$.\n\nAs the contact points $CP_i$ are momentarily fixed in $A_i$,\none may take *v2pt_theory* to determine the speed of $Dmc_i$.\n\n**Relationship of x(t) to q(t)**:\n\nObviously, x(t) = function(q(t), gesamt(x(t), z(t)), r).\nWhen the ball is rotated through an angle $q(t)$, the arc length is\n$r \\cdot q(t)$.\n\nThe arc length of a function f(k(t)) from 0 to $x(t)$ is:\n$\\int_{0}^{x(t)}\\sqrt{1 + \\left(\\frac{d}{dk}f(k(t))\\right) ^2} \\,dk$\n\nThis gives the sought after relationship between $q(t)$ and\n$x(t)$:\n$r \\cdot (-q(t)) = \\int_{0}^{x(t)} \\sqrt{1 + \\left(\\frac{d}{dk}\n(gesamt(k(t), z(t))\\right) ^2} \\,dk$, differentiated:\n\n- $r \\cdot (-u)  = \\sqrt{1 + \\left(\\frac{d}{dx}(gesamt(x(t),\n  z(t))\\right) ^2} \\cdot \\frac{d}{dt}(x(t))$, that is solved for\n  $\\frac{d}{dt}(x(t))$:\n- $\\frac{d}{dt}(x(t)) = \\dfrac{-(r \\cdot u)} {\\sqrt{1 +\n  \\left(\\frac{d}{dx}(gesamt(x(t), z(t))\\right) ^2}}$\n\nA similar formula holds for the speed in Z direction, hence one gets\n\n$\\frac{d}{dt}(x(t)) = \\dfrac{- (u3 \\cdot r)} {\\sqrt{1 +\n\\left(\\frac{d}{dx}(gesamt(x(t), z(t))\\right) ^2}}$\n\n$\\frac{d}{dt}(z(t)) =  \\dfrac{(u1 \\cdot r)} {\\sqrt{1 +\n\\left(\\frac{d}{dz}(gesamt(x(t), z(t)))\\right) ^2}}$\n\nAs speeds are vectors, they can be added to give the resultant speed.\n\nThe + / - signs are a consequence of the 'right hand rule' for frames. These\nare the sought after first order differential equations for (x(t), z(t))\n\n"
      ]
    },
    {
      "cell_type": "code",
      "execution_count": null,
      "metadata": {
        "collapsed": false
      },
      "outputs": [],
      "source": [
        "# location of the contact points, where the balls touch the street\nCP1.set_pos(P0, x1*N.x + gesamt(x1, z1)*N.y + z1*N.z)\nCP2.set_pos(P0, x2*N.x + gesamt(x2, z2)*N.y + z2*N.z)\n\n# first ball\nvektor = -(gesamt(x1, z1).diff(x1)*N.x - N.y + gesamt(x1, z1).diff(z1)*N.z)\nDmc1.set_pos(CP1, r * vektor.normalize())\nm_Dmc1.set_pos(Dmc1, r*(alpha*A1.x + beta*A1.y + gamma*A1.z))\n\nOMEGA = A1.ang_vel_in(N)\nu3_wirk = me.dot(OMEGA, N.z)\nu1_wirk = me.dot(OMEGA, N.x)\nrhsx1 = (-u3_wirk * r / sm.sqrt(1. + gesamt(x1, z1).diff(x1)**2))\nrhsz1 = (u1_wirk * r / sm.sqrt(1. + gesamt(x1, z1).diff(z1)**2))\n\n# second ball\nvektor = -(gesamt(x2, z2).diff(x2)*N.x - N.y + gesamt(x2, z2).diff(z2)*N.z)\nDmc2.set_pos(CP2, r * vektor.normalize())\nm_Dmc2.set_pos(Dmc2, r*(alpha*A2.x + beta*A2.y + gamma*A2.z))\n\nOMEGA = A2.ang_vel_in(N)\nu3_wirk = me.dot(OMEGA, N.z)\nu1_wirk = me.dot(OMEGA, N.x)\nrhsx2 = (-u3_wirk * r / sm.sqrt(1. + gesamt(x2, z2).diff(x2)**2))\nrhsz2 = (u1_wirk * r / sm.sqrt(1. + gesamt(x2, z2).diff(z2)**2))\n\n# this is needed at various places below\nrhs_dict = {sm.Derivative(i, t): j for i, j in zip((x1, z1, x2, z2),\n                                                   (rhsx1, rhsz1, rhsx2,\n                                                    rhsz2))}\n\nCP1.set_vel(N, CP1.pos_from(P0).diff(t, N).subs(rhs_dict))\nCP2.set_vel(N, CP2.pos_from(P0).diff(t, N).subs(rhs_dict))\n\nDmc1.set_vel(N, Dmc1.pos_from(P0).diff(t, N).subs(rhs_dict) +\n             auxx*N.x + auxy*N.y + auxz*N.z)\nm_Dmc1.v2pt_theory(Dmc1, N, A1)\n\nDmc2.set_vel(N, Dmc2.pos_from(P0).diff(t, N).subs(rhs_dict))\nm_Dmc2.v2pt_theory(Dmc2, N, A2)\n\nif term_info:\n    print('CP1 DS', me.find_dynamicsymbols(CP1.vel(N), reference_frame=N))\n    print('vel(Dmc2) DS:', me.find_dynamicsymbols(Dmc2.vel(N),\n                                                  reference_frame=N))"
      ]
    },
    {
      "cell_type": "markdown",
      "metadata": {},
      "source": [
        "**Function which calculates the forces of an impact between a ball and\na wall**\n\n1.\nThe impact force is on the line normal to the wall, going through the center\nof the ball, $Dmc_i$. I use Hunt Crossley's method to calculate it.\nIt's direction points from the wall to the ball.\n\n2.\nThe friction force acting on the contact point $CP_0$ is proportional\nto the component of the speed of $CP_0$ in the plane of the wall, the\nimpact force and a friction factor $m_{uW}$\nIt is equivalent to a force through $Dmc_i$ and to a torque acting on\n$A_i$, the ball fixed frame.\n\n\n**Note about the force during the collisions**\n\n **Hunt Crossley's method**\n\nReference is this article\nhttps://www.sciencedirect.com/science/article/pii/S0094114X23000782\n\n\nThis is with dissipation during the collision, the general force is given in\n(63) as:\n\n$f_n = k_0 \\cdot \\rho + \\chi \\cdot \\dot \\rho$, with $k_0$ as\nbelow, $\\rho$ the penetration, and $\\dot\\rho$ the speed of the\npenetration.\nIn the article it is stated, that $n = \\frac{3}{2}$ is a good choice,\nit is derived in Hertz' approach. Of course, $\\rho, \\dot\\rho$ must be\nthe signed magnitudes of the respective vectors.\n\nA more realistic force is given in (64) as:\n\n$f_n = k_0 \\cdot \\rho^n + \\chi \\cdot \\rho^n\\cdot \\dot \\rho$, as this\navoids discontinuity at the moment of impact.\n\n**Hunt and Crossley** give this value for $\\chi$, see table 1:\n\n$\\chi = \\dfrac{3}{2} \\cdot(1 - c_\\tau) \\cdot \\dfrac{k_0}{\\dot\n\\rho^{(-)}}$, where\n\n$c_\\tau = \\dfrac{v_1^{(+)} - v_2^{(+)}}{v_1^{(-)} - v_2^{(-)}}$,\nwhere\n\n$v_i^{(-)}, v_i^{(+)}$ are the speeds of $\\textrm{body}_i$,\nbefore and after the collosion, see (45),\n\n$\\dot\\rho^{(-)}$ is the speed right at the time the impact starts.\n\n$c_\\tau$ is an experimental factor, apparently around 0.8 for steel.\n\nUsing (64), this results in their expression for the force:\n\n$f_n = k_0 \\cdot \\rho^n \\left[1 + \\dfrac{3}{2} \\cdot(1 - c_\\tau) \\cdot\n\\dfrac{\\dot\\rho}{\\dot\\rho^{(-)}}\\right]$\n\nwith\n\n$\\frac{R_1 \\cdot R_2}{R_1 + R_2}$, where\n\n$\\sigma_i = \\frac{1 -\\nu_i^2}{E_i}$, with\n\n$\\nu_i$ = Poisson's ratio, $E_i$ = Young\"s\nmodulus, $R_1, R_2$ the radii of the colliding bodies, $\\rho$\nthe penetration depth. All is near equations (54) and (61) of this article.\n\nAs per the article, $n = \\frac{3}{2}$ is always to be used.\n\n*spring energy* = $k_0 \\cdot \\int_{0}^{\\rho} k^{3/2}\\,dk = k_0\n\\cdot\\frac{2}{5} \\cdot \\rho^{5/2}$\n\nI assume, the dissipated energy cannot be given in closed form, at least the\narticle does not give one.\n\n**Note**\n\n$c_\\tau = 1.$ gives **Hertz's** solution to the impact problem, also\ndescribed in the article.\n\n\n**Friction when a ball hits a wall**\n\nThis website:\nhttps://math.stackexchange.com/questions/2195047/solve-the-vector-cross-product-equation\n\ngives: $b = a \\times x \\rightarrow x = \\dfrac{b \\times a}{|a|^2}$\n\nThis way, one can easily get the friction force acting on $CP_0$\n(contact point of ball with wall), without any further geometric\nconsiderations. Of course the friction force has opposite to the speed of\n$C_0$.\n\nThe friction force on $C_0$ is equivalent to a force on $Dmc_i$\n(center of the ball) and a torque on $A_i$ (ball fixed frame)\n\n\n"
      ]
    },
    {
      "cell_type": "code",
      "execution_count": null,
      "metadata": {
        "collapsed": false
      },
      "outputs": [],
      "source": [
        "def HC_wall(N, A1, P1, r, ctau, rhodtwall, k0W):\n\n    FC = []\n    FF = []\n    TF = []\n    TT = []\n    for l, richtung in enumerate((N.z, -N.x, -N.z, N.x)):\n\n        abstand = lW + me.dot(P1.pos_from(P0), richtung)\n        rho = r - abstand       # positive in the ball has penetrated the wall\n        CP0 = me.Point('CP0')\n        CP0.set_pos(P1, -richtung)\n        vCP0 = CP0.v2pt_theory(P1, N, A1)\n        rhodt = me.dot(vCP0, richtung)\n        rho = sm.Max(rho, sm.S(0))\n\n        forcec = (k0W * rho**(3/2) * (1. + 3./2. * (1 - ctau) * rhodt /\n                                      rhodtwall[l]) *\n                  (richtung * sm.Heaviside(r - abstand, 0.)))\n\n        friction_force = forcec.magnitude() * muW * (-CP0.vel(N))\n        hilfs = CP0.pos_from(P1)\n        torque = hilfs.cross(friction_force) * sm.Heaviside(r - abstand, 0.)\n        forcef = (1./me.dot(hilfs, hilfs) * torque.cross(hilfs) *\n                  sm.Heaviside(r - abstand, 0.))\n\n        FC.append(forcec)\n        FF.append(forcef)\n        TF.append(torque)\n\n    for i in (FC, FF, TF):\n        TT.append(i)\n    return TT"
      ]
    },
    {
      "cell_type": "markdown",
      "metadata": {},
      "source": [
        "Calculates the **forces** and the **torques** when the two *balls* collide.\nSimilar to the ideas above.\n\n"
      ]
    },
    {
      "cell_type": "code",
      "execution_count": null,
      "metadata": {
        "collapsed": false
      },
      "outputs": [],
      "source": [
        "def HC_disc(N, A1, A2, P1, P2, r, ctau, rhodtmax, k0):\n    '''\nThis function returns the forces, torques on P2, when colliding with P1.\nVery similar to HC_wall above\n    '''\n    vektor = P2.pos_from(P1)\n    richtung = vektor.normalize()\n    abstand = vektor.magnitude()\n    rho = 2. * r - abstand   # positive in the ball has penetrated the wall\n    CP01 = me.Point('CP01')\n    CP01.set_pos(P1, 0.5 * abstand * richtung)\n    vCP01 = CP01.v2pt_theory(P1, N, A1)\n    rhodt = me.dot(vCP01, richtung)\n    rho = sm.Max(rho, sm.S(0))\n\n    forcec = (k0 * rho**(3/2) * (1. + 3./2. * (1 - ctau) * rhodt / rhodtmax)\n              * (richtung * sm.Heaviside(2. * r - abstand, 0.)))\n\n    CP02 = me.Point('CP02')\n    CP02.set_pos(P2, -0.5 * abstand * richtung)\n#    vCP02 = CP02.v2pt_theory(P2, N, A2)\n\n    friction_force = forcec.magnitude() * mu * -(CP02.vel(N) - CP01.vel(N))\n    hilfs = CP02.pos_from(P2)\n    torque = hilfs.cross(friction_force) * sm.Heaviside(2. * r - abstand, 0.)\n    forcef = (1./me.dot(hilfs, hilfs) * torque.cross(hilfs) *\n              sm.Heaviside(2. * r - abstand, 0.))\n\n    return [forcec, forcef, torque]"
      ]
    },
    {
      "cell_type": "markdown",
      "metadata": {},
      "source": [
        "Various **functions** needed later.\nThe bodies must be defined here, as they are needed for the kinetic energy.\n\n- distanzw: distance from the ball to the walls\n- abstand_baelle: distance of the two balls from each other\n- rhodtwall: speed right at impact. it is calculated same as rhodt in the\n  function HC_wall\n- rhodtmax: speed right before the impact of the two balls\n- pot_energie: potential energy\n- kin_energie: kinetic energy\n- spring_energie: energy stored in the ball during collissions with the walls\n\n"
      ]
    },
    {
      "cell_type": "code",
      "execution_count": null,
      "metadata": {
        "collapsed": false
      },
      "outputs": [],
      "source": [
        "I1 = me.inertia(A1, iXX, iYY, iZZ)\nBody1 = me.RigidBody('Body1', Dmc1, A1, m, (I1, Dmc1))\nobserver1 = me.Particle('observer1', m_Dmc1, mo)\n\nI2 = me.inertia(A2, iXX, iYY, iZZ)\nBody2 = me.RigidBody('Body2', Dmc2, A2, m, (I2, Dmc2))\nobserver2 = me.Particle('observer2', m_Dmc2, mo)\n\nBODY = [Body1, Body2, observer1, observer2]\n\nsubs_dict1 = {sm.Derivative(i, t): j for i, j in zip((q11, q12, q13, q21, q22,\n                                                      q23),\n                                                     (u11, u12, u13, u21, u22,\n                                                      u23))}\nenergie_dict = {i: 0. for i in (auxx, auxy, auxz, fx, fy, fz)}\n\ndistanz_list = [[lW + me.dot(ball.pos_from(P0), richtung)\n                 for richtung in (N.z, -N.x, -N.z, N.x)]\n                for ball in (Dmc1, Dmc2)]\nabstand_baelle = Dmc1.pos_from(Dmc2).magnitude()\n\nrhodtwall_list = []\nfor ball, frame in zip((Dmc1, Dmc2), (A1, A2)):\n    hilfs = []\n    for richtung in (N.z, -N.x, -N.z, N.x):\n        CP0 = me.Point('CP0')\n        CP0.set_pos(ball, -richtung)\n        vCP0 = CP0.v2pt_theory(ball, N, frame)\n        rhodt = me.dot(vCP0, richtung).subs(energie_dict)\n        hilfs.append(rhodt)\n    rhodtwall_list.append(hilfs)\n\nrichtung = Dmc1.pos_from(Dmc2).normalize()\nrhodtmax_list = [hilfs0 := me.dot(Dmc2.pos_from(Dmc1).diff(t, N),\n                                  richtung).subs(rhs_dict), -hilfs0]\nif term_info is True:\n    print(me.find_dynamicsymbols(rhodtmax_list[0], reference_frame=N))\n\n    hilfs1 = set()\n    hilfs2 = set()\n    hilfs3 = set()\n    hilfs4 = set()\n    for k in range(2):\n        hilfs1 = hilfs1.union(*[me.find_dynamicsymbols(distanz_list[k][l])\n                                for l in range(4)])\n        hilfs2 = hilfs2.union(*[distanz_list[k][l].free_symbols\n                                for l in range(4)])\n        hilfs3 = hilfs3.union(*[me.find_dynamicsymbols(rhodtwall_list[k][l])\n                                for l in range(4)])\n        hilfs4 = hilfs4.union(*[rhodtwall_list[k][l].free_symbols\n                                for l in range(4)])\n    print('distanz_list DS', hilfs1)\n    print('distanz_list FS', hilfs2, '\\n')\n    print('rhodtwall_list DS', hilfs3)\n    print('rhodtwall_list FS', hilfs4, '\\n')\n\npot_energie = ((m * g * me.dot(Dmc1.pos_from(P0), N.y) + mo * g *\n               me.dot(m_Dmc1.pos_from(P0), N.y) + m * g *\n               me.dot(Dmc2.pos_from(P0), N.y) + mo * g *\n               me.dot(m_Dmc2.pos_from(P0), N.y)).subs(rhs_dict).\n               subs(energie_dict))\n\nkin_energie = sum([koerper.kinetic_energy(N).subs(rhs_dict).subs(energie_dict)\n                   for koerper in BODY])\n\nspring_energie = 0.\n# contribution of the walls\nfor k in range(2):\n    for i in range(4):\n        rho = sm.Max(r - distanz_list[k][i], 0.)\n        spring_energie += (2./5. * k0W * rho**(5/2) *\n                           sm.Heaviside(r - distanz_list[k][i], 0.))\n# contribution of the two balls colliding\nrho = sm.Max(2. * r - Dmc1.pos_from(Dmc2).magnitude(), 0.)\nspring_energie += (2./5. * k0 * rho**(5/2) *\n                   sm.Heaviside(2. * r - Dmc1.pos_from(Dmc2).magnitude(),\n                                0.))\n\nif term_info:\n    print('pot energy DS', me.find_dynamicsymbols(pot_energie), '\\n')\n    print('kin energy DS', me.find_dynamicsymbols(kin_energie), '\\n')\n    print('spring energy DS', me.find_dynamicsymbols(spring_energie), '\\n')\n# various points\nCP1_pos = [(me.dot(CP1.pos_from(P0), uv)).subs(rhs_dict) for uv in N]\nDmc1_pos = [(me.dot(Dmc1.pos_from(P0), uv)).subs(rhs_dict) for uv in N]\nm_Dmc1_pos = [(me.dot(m_Dmc1.pos_from(P0), uv)).subs(rhs_dict) for uv in N]\n\nCP2_pos = [(me.dot(CP2.pos_from(P0), uv)).subs(rhs_dict) for uv in N]\nDmc2_pos = [(me.dot(Dmc2.pos_from(P0), uv)).subs(rhs_dict) for uv in N]\nm_Dmc2_pos = [(me.dot(m_Dmc2.pos_from(P0), uv)).subs(rhs_dict) for uv in N]"
      ]
    },
    {
      "cell_type": "markdown",
      "metadata": {},
      "source": [
        "Set the **forces and torques** for Kane's equations.\n\n"
      ]
    },
    {
      "cell_type": "code",
      "execution_count": null,
      "metadata": {
        "collapsed": false
      },
      "outputs": [],
      "source": [
        "FL = [(Dmc1, -m*g*N.y), (m_Dmc1, -mo*g*N.y), (Dmc1, fx*N.x + fy*N.y + fz*N.z)]\nFL.append((Dmc2, -m*g*N.y))\nFL.append((m_Dmc2, -mo*g*N.y))\n\n# collisions with the walls\nzaehler = 0\nfor ball, frame in zip((Dmc1, Dmc2), (A1, A2)):\n    for i in range(4):\n        FL.append((ball, HC_wall(N, frame, ball, r, ctau, rhodtwall[zaehler],\n                                 k0W)[0][i]))  # impact force\n        FL.append((ball, HC_wall(N, frame, ball, r, ctau, rhodtwall[zaehler],\n                                 k0W)[1][i]))  # force on Dmc, due to friction\n        FL.append((frame, HC_wall(N, frame, ball, r, ctau, rhodtwall[zaehler],\n                                  k0W)[2][i]))  # torque on ball, friction\n    zaehler += 1\n\n# collisions of the two balls\nFL.append((Dmc1, HC_disc(N, A2, A1, Dmc2, Dmc1, r, ctau, rhodtmax[0], k0)[0]))\nFL.append((Dmc1, HC_disc(N, A2, A1, Dmc2, Dmc1, r, ctau, rhodtmax[0], k0)[1]))\nFL.append((A1, HC_disc(N, A2, A1, Dmc2, Dmc1, r, ctau, rhodtmax[0], k0)[2]))\n\nFL.append((Dmc2, HC_disc(N, A1, A2, Dmc1, Dmc2, r, ctau, rhodtmax[1], k0)[0]))\nFL.append((Dmc2, HC_disc(N, A1, A2, Dmc1, Dmc2, r, ctau, rhodtmax[1], k0)[1]))\nFL.append((A2, HC_disc(N, A1, A2, Dmc1, Dmc2, r, ctau, rhodtmax[1], k0)[2]))"
      ]
    },
    {
      "cell_type": "markdown",
      "metadata": {},
      "source": [
        "**Kane's equations of motion**\n\nThe formalism to set up Kane's equations.\n\nAs $Dmc_1$ has a *real* speed and *virtual* speeds for the reaction\nforces, the reaction forces appear in the *force vector*. As they do no work,\nthey are set to zero.\n\nOne needs to numerically solve the first order differential equations for\n$(x_1(t), z_1(t), x_2(t), z_2(t))$, so the right hand sides are added\nat the bottom of the force vector. The mass matrix needs to be enlarged\naccordingly.\n\n"
      ]
    },
    {
      "cell_type": "code",
      "execution_count": null,
      "metadata": {
        "collapsed": false
      },
      "outputs": [],
      "source": [
        "kd = [me.dot(rot11 - rot12, uv) for uv in A1] + [me.dot(rot21 - rot22, uv)\n                                                 for uv in A2]\n\nq = [q11, q12, q13, q21, q22, q23]\nu = [u11, u12, u13, u21, u22, u23]\naux = [auxx, auxy, auxz]\n\n# Setting up Kane's equations\nKM = me.KanesMethod(N, q_ind=q, u_ind=u, kd_eqs=kd, u_auxiliary=aux)\n(fr, frstar) = KM.kanes_equations(BODY, FL)\nMM1 = KM.mass_matrix_full\nforce1 = KM.forcing_full.subs({fx: 0., fy: 0., fz: 0.})\n\n# add the rhsx1, etc at the bottom of the force vector\nforce = ((sm.Matrix.vstack(force1, sm.Matrix([rhsx1, rhsz1, rhsx2, rhsz2]))).\n         subs(rhs_dict)).subs({i: 0. for i in aux})\nif term_info:\n    print('force DS', me.find_dynamicsymbols(force))\n    print('force free symbols', force.free_symbols)\nprint(f'force has {sm.count_ops(force):,} operations')\n\n# Enlarge MM properly\nMM2 = sm.Matrix.hstack(MM1, sm.zeros(12, 4))\nhilfs = sm.Matrix.hstack(sm.zeros(4, 12), sm.eye(4))\nMM = sm.Matrix.vstack(MM2, hilfs)\nif term_info:\n    print('MM DS', me.find_dynamicsymbols(MM))\n    print('MM free symbols', MM.free_symbols)\nprint(f'MM has {sm.count_ops(MM):,} operations')"
      ]
    },
    {
      "cell_type": "markdown",
      "metadata": {},
      "source": [
        "**Reaction Forces**\n\nThe function to get the reaction forces is determined. This function\n(of course!) needs the accelerations of points, hence values of\n$rhs = MM^{-1} * force$ are needed. While one can get rhs symbolically,\nit probably HUGE. So, it is calculated numerically further down.\nRHS are just subs\n\n"
      ]
    },
    {
      "cell_type": "code",
      "execution_count": null,
      "metadata": {
        "collapsed": false
      },
      "outputs": [],
      "source": [
        "RHS = [sm.symbols('rhs' + str(i)) for i in range(force.shape[0])]\neingepraegt_dict = {sm.Derivative(i, t): RHS[j] for j, i in enumerate(q + u)}\neingepraegt = ((((KM.auxiliary_eqs).subs(eingepraegt_dict)).\n                subs(rhs_dict)).subs({i: 0. for i in aux}))\nif term_info:\n    print('eingepraegt DS', me.find_dynamicsymbols(eingepraegt))\n    print('eingepraegt free symbols', eingepraegt.free_symbols)\nprint(f'eingepraegt has {sm.count_ops(eingepraegt):,} operations')"
      ]
    },
    {
      "cell_type": "markdown",
      "metadata": {},
      "source": [
        "**Lambdification**\n\n"
      ]
    },
    {
      "cell_type": "code",
      "execution_count": null,
      "metadata": {
        "collapsed": false
      },
      "outputs": [],
      "source": [
        "pL = [m, mo, g, r, iXX, iYY, iZZ, amplitude, frequenz] + \\\n    [ctau, k0, k0W, lW, mu, muW] + [alpha, beta, gamma] + \\\n    [rhodtwall] + [rhodtmax]\npL1 = [r, lW, amplitude, frequenz]\n\nqL = q + u + [x1, z1, x2, z2]\nF = [fx, fy, fz]\n\nMM_lam = sm.lambdify(qL + pL, MM, cse=True)\nforce_lam = sm.lambdify(qL + pL, force, cse=True)\n\nCP1_pos_lam = sm.lambdify(qL + pL, CP1_pos, cse=True)\nDmc1_pos_lam = sm.lambdify(qL + pL, Dmc1_pos, cse=True)\nm_Dmc1_pos_lam = sm.lambdify(qL + pL, m_Dmc1_pos, cse=True)\n\nCP2_pos_lam = sm.lambdify(qL + pL, CP2_pos, cse=True)\nDmc2_pos_lam = sm.lambdify(qL + pL, Dmc2_pos, cse=True)\nm_Dmc2_pos_lam = sm.lambdify(qL + pL, m_Dmc2_pos, cse=True)\n\ngesamt1 = gesamt(x, z)\ngesamt_lam = sm.lambdify([x, z] + [amplitude, frequenz], gesamt1, cse=True)\n\npot_lam = sm.lambdify(qL + pL, pot_energie, cse=True)\nkin_lam = sm.lambdify(qL + pL, kin_energie, cse=True)\nspring_lam = sm.lambdify(qL + pL, spring_energie, cse=True)\n\ndistanz_list_lam = sm.lambdify(qL + pL1, distanz_list, cse=True)\nabstand_baelle_lam = sm.lambdify([x1, z1, x2, z2] + pL1, abstand_baelle,\n                                 cse=True)\n\nrhodtwall_list_lam = sm.lambdify(qL + pL1, rhodtwall_list, cse=True)\nrhodtmax_list_lam = sm.lambdify(qL + pL1, rhodtmax_list, cse=True)\n\neingepraegt_lam = sm.lambdify(F + qL + pL + RHS, eingepraegt, cse=True)\n\nr_max_lam = sm.lambdify([x, z] + pL1, [r_max_x, r_max_z], cse=True)"
      ]
    },
    {
      "cell_type": "markdown",
      "metadata": {},
      "source": [
        "**Numerical Integration**\n\nInput parameters / initial values of the coordinates and speeds.\nWhile it makes sense to name them similarly to the symbols / dynamic symbols\nused in setting up Kane's equations, **avoid** the **same** name: the symbols\nwill be overwritten, with unintended consequences.\n\nThe larger $\\textrm{frequenz}_1$ and the larger *rumpel*, the smaller\nthe minimum osculating circle.\n\n- $m_1$ mass of the ball\n- $m_{o1}$ mass of observer\n- $r_1$ radius of ball\n- $lW_1$ length of the street\n- $c_\\tau$ coefficient needed for the Hunt Crossley method of impact.\n- $\\mu_1$ friction between ball and street\n- $\\mu_W$ friction between ball and wall\n- $\\alpha_1, \\beta_1, \\gamma_1$ location of observer relative to Dmc\n- $\\textrm{amplitude}_1, \\textrm{frequenz}_1$ define the street\n- $q_{110}, q_{120}, q_{130}, q_{210}, q_{220}, q_{230}$ initial values\n  of the coordinates\n- $u_{110}, u_{120}, u_{130}, u_{210}, u_{220}, u_{230}$ initial values\n  of the speeds\n- $x_{10}, z_{10}, x_{20}, z_{20}$ initial location of the contact\n  point\n\n- intervall: running time of the integration is in [0., intervall]\n- schritte: solve_ivp returns the values evenly spaced in [0., intervall]\n\nAn exception is raised, if the observer was put outside the ball.\n\n"
      ]
    },
    {
      "cell_type": "code",
      "execution_count": null,
      "metadata": {
        "collapsed": false
      },
      "outputs": [],
      "source": [
        "max_step = 0.01\n\nm1 = 1.e0\nmo1 = 1.e-1\nr1 = 1.\nlW1 = 5.\nctau1 = 0.9\nmu1 = 0.01\nmuW1 = 0.01\namplitude1 = 2.\nfrequenz1 = 0.2\n\nalpha1, beta1, gamma1 = 0., 0.8, 0.\n\nq110, q120, q130, q210, q220, q230 = 0., 0., 0., 0., 0., 0.\n\nintervall = 12.5\n\nnp.random.seed(42)  # for reproducibility\n# set initial angular velocities randomly\nu110, u120, u130, u210, u220, u230 = np.random.choice(\n    np.linspace(-10, 10, 100), size=6)\n\nprint([f'{j} = {i:.2f} rad/sec  ' for j, i in zip(('u11', 'u12', 'u13',\n                                                   'u21', 'u22', 'u23'),\n                                                  (u110, u120, u130, u210,\n                                                   u220, u230))], '\\n')\n\n\n# find feasible starting locations for the two balls\nnp.random.seed(42)  # for reproducibility\nzaehler = 0\nwhile zaehler <= 100:\n    zaehler += 1\n    try:\n        x10, z10, x20, z20 = np.random.choice(np.linspace(-lW1 + 2.*r1, lW1\n                                                          - 2.*r1, 100),\n                                              size=4, replace=False)\n        if (abstand_baelle_lam(x10, z10, x20, z20, r1, lW1, amplitude1,\n                               frequenz1) > 3. * r1):\n            raise Rausspringen()\n    except Rausspringen:\n        break\n\nif zaehler <= 100:\n    print(f'it took {zaehler} rounds to get valid initial conditions')\n    print((f'balls are located at ({x10:.2f}/{z10:.2f}) and at '\n           f'({x20:.2f}/{z20:.2f}) respectively', '\\n'))\nelse:\n    raise Exception(' no good location for discs found, make lW0 larger.')\n\nschritte = int(intervall * 300.)\nif alpha1**2 + beta1**2 + gamma1**2 >= 1.:\n    raise Exception('center of mass outside of the ball')\n\nrhodtwall1 = [[1. for _ in range(4)] for _ in range(2)]\nrhodtmax1 = [1., -1.]\n\n# Calculate k01 and k0W1\nnu = 0.28  # Poisson's ratio, from the internet\n# units: N/m^2, Young's modulus from the internet, around 2e11 for steel\nEY = 2.e3\nsigma = (1 - nu**2) / EY\nk01 = 4. / (3. * (sigma + sigma)) * np.sqrt(r1 / 2.)\nk0W1 = 4. / (3. * (sigma + sigma)) * np.sqrt(r1)\n\n\niXXe = 2. / 5. * m1 * r1**2\n\npL_vals = [m1, mo1, 9.8, r1, iXXe, iXXe, iXXe, amplitude1, frequenz1, ctau1,\n           k01, k0W1,\n           lW1, mu1, muW1, alpha1, beta1, gamma1] + [rhodtwall1] + [rhodtmax1]\npL1_vals = [r1, lW1, amplitude1, frequenz1]\n\nprint('pL_vals', pL_vals, '\\n')\n\ny0 = [q110, q120, q130, q210, q220, q230] + \\\n    [u110, u120, u130, u210, u220, u230] + [x10, z10, x20, z20]\n\nif frequenz1 > 0.:\n    # find the smallest osculating radius, given strasse, amplitude, frequenz\n    def func1(x, args):\n        # just needed to get the arguments matching for minimuze\n        return np.abs(r_max_lam(*x, *args)[0])\n\n    def func2(x, args):\n        # just needed to get the arguments matching for minimuze\n        return np.abs(r_max_lam(*x, *args)[1])\n\n    x0 = (0.1, 0.1)      # initial guess\n    minimal1 = minimize(func1, x0, pL1_vals)\n    minimal2 = minimize(func2, x0, pL1_vals)\n\n    minimal = min(minimal1.get('fun'), minimal2.get('fun'))\n\n    if pL_vals[3] < minimal:\n        print(f'selected radius = {pL_vals[3]} is less than minimally '\n              f'admissible radius = {minimal:.2f}, hence o.k. \\n')\n    else:\n        print(f'selected radius {pL_vals[3]} is larger than admissible '\n              f'radius {minimal:.2f}, hence NOT o.k. \\n')\n        raise Exception('Radius of ball is too large')\nelse:\n    print('Street is flat')\n\ntimes = np.linspace(0, intervall, schritte)\n\n\ndef gradient(t, y, args):\n\n    # get the speed of the balls right before it hit a wall\n    for ball in range(2):\n        for wand in range(4):\n            if 0 < r1 - distanz_list_lam(*y, *pL1_vals)[ball][wand] <= 0.03:\n                args[-2][ball][wand] = rhodtwall_list_lam(\n                    *y, *pL1_vals)[ball][wand]\n    if (0. < 2. * r1 - abstand_baelle_lam(y[-4], y[-3], y[-2], y[-1],\n                                          *pL1_vals) <= 0.03):\n        args[-1] = rhodtmax_list_lam(*y, *pL1_vals)\n\n    sol = np.linalg.solve(MM_lam(*y, *pL_vals), force_lam(*y, *pL_vals))\n    return np.array(sol).T[0]\n\n\nt_span = (0., intervall)\nresultat1 = solve_ivp(gradient, t_span, y0, t_eval=times, args=(pL_vals,),\n                      method='BDF', max_step=max_step, atol=1.e-6, rtol=1.e-6)\nresultat = resultat1.y.T\n\nprint(resultat1.message)\nif resultat1.status == -1:\n    raise Exception()\nprint('resultat shape', resultat.shape, '\\n')\n\nprint((f\"To numerically integrate an intervall of {intervall} sec the \"\n       f\"routine made {resultat1.nfev} function calls\"))"
      ]
    },
    {
      "cell_type": "markdown",
      "metadata": {},
      "source": [
        "Plot whatever **generalized coordinates** you want to see\n\n"
      ]
    },
    {
      "cell_type": "code",
      "execution_count": null,
      "metadata": {
        "collapsed": false
      },
      "outputs": [],
      "source": [
        "bezeichnung = ['q11', 'q12', 'q13', 'q21', 'q22', 'q23',\n               'u11', 'u12', 'u13', 'u21', 'u22', 'u23',\n               'x1', 'z1', 'x2', 'z2']\nfig, ax = plt.subplots(figsize=(10, 5))\nfor i in (6, 10, 12, 13, 14, 15):\n    ax.plot(times, resultat[:, i], label=bezeichnung[i])\nax.set_title('Generalized coordinates')\n_ = ax.legend()"
      ]
    },
    {
      "cell_type": "markdown",
      "metadata": {},
      "source": [
        "Draw the **hysteresis curves** of the impacts of the balls and of the balls\nwith the walls. The red numbers on the graphs indicate the times during\nwhich the impact takes place. Only walls where impacts have taken place are\nshown.\n\n"
      ]
    },
    {
      "cell_type": "code",
      "execution_count": null,
      "metadata": {
        "collapsed": false
      },
      "outputs": [],
      "source": [
        "HC_kraft = []\nHC_displ = []\nHC_times = []\nzaehler = 0\ni0 = 0\nfor i in range(resultat.shape[0]):\n    abstand = 2. * r1 - abstand_baelle_lam(*[resultat[i, j]\n                                             for j in range(-4, 0)], *pL1_vals)\n    if abstand < 0.:\n        i0 = i+1\n\n    if abstand >= 0. and i0 == i:\n        walldt = rhodtmax_list_lam(*[resultat[i, j]\n                                     for j in range(resultat.shape[1])],\n                                   *pL1_vals)[0]\n    if abstand >= 0.:\n        rhodt = rhodtmax_list_lam(*[resultat[i, j]\n                                    for j in range(resultat.shape[1])],\n                                  *pL1_vals)[0]\n        kraft0 = (k01 * abstand**(3/2) * (1. + 3./2. * (1 - ctau1) *\n                                          rhodt/walldt))\n        HC_displ.append(abstand)\n        HC_kraft.append(kraft0)\n        HC_times.append((zaehler, times[i]))\n        zaehler += 1\n\nHC_displ = np.array(HC_displ)\nHC_kraft = np.array(HC_kraft)\n# plot only, if there were collisions with a wall.\nif len(HC_displ) != 0:\n    fig, ax = plt.subplots(figsize=(10, 5))\n    ax.plot(HC_displ, HC_kraft, color='green')\n    ax.set_xlabel('penetration depth (m)')\n    ax.set_ylabel('contact force (Nm)')\n    ax.set_title((f'hysteresis curves of successive impacts of the ball_1 '\n                  f'with ball_2, ctau = {ctau1}, mu = {mu1}'))\n\n    zeitpunkte = 10\n    reduction = max(1, int(len(HC_times)/zeitpunkte))\n    for k in range(len(HC_times)):\n        if k % reduction == 0:\n            coord = HC_times[k][0]\n            ax.text(HC_displ[coord], HC_kraft[coord], f'{HC_times[k][1]:.2f}',\n                    color=\"red\")"
      ]
    },
    {
      "cell_type": "code",
      "execution_count": null,
      "metadata": {
        "collapsed": false
      },
      "outputs": [],
      "source": [
        "HC_displ_list = []\nHC_kraft_list = []\nHC_times_list = []\nindex_list = []\n\nfor ball in range(2):\n    for wall in range(4):\n\n        HC_kraft = []\n        HC_displ = []\n        HC_times = []\n        zaehler = 0\n        i0 = 0\n        for i in range(resultat.shape[0]):\n            abstand = r1 - distanz_list_lam(*[resultat[i, j]\n                                              for j in\n                                              range(resultat.shape[1])],\n                                            *pL1_vals)[ball][wall]\n            if abstand < 0.:\n                i0 = i+1\n\n            if abstand >= 0. and i0 == i:\n                walldt = rhodtwall_list_lam(*[resultat[i, j]\n                                              for j in\n                                              range(resultat.shape[1])],\n                                            *pL1_vals)[ball][wall]\n            if abstand >= 0.:\n                rhodt = rhodtwall_list_lam(*[resultat[i, j]\n                                             for j in\n                                             range(resultat.shape[1])],\n                                           *pL1_vals)[ball][wall]\n                kraft0 = (k0W1 * abstand**(3/2) * (1. + 3./2. * (1 - ctau1) *\n                                                   rhodt/walldt))\n                HC_displ.append(abstand)\n                HC_kraft.append(kraft0)\n                HC_times.append((zaehler, times[i]))\n                zaehler += 1\n\n        HC_displ = np.array(HC_displ)\n        HC_kraft = np.array(HC_kraft)\n        # print only, if there were collisions with a wall.\n        if len(HC_displ) != 0:\n            HC_displ_list.append(HC_displ)\n            HC_kraft_list.append(HC_kraft)\n            HC_times_list.append(HC_times)\n            index_list.append((ball, wall))\n\nplots = len(index_list)\nfig, ax = plt.subplots(plots, 1, figsize=(10, 5*plots), layout='constrained')\nfor i, (ball, wall) in enumerate(index_list):\n    ax[i].plot(HC_displ_list[i], HC_kraft_list[i])\n    ax[i].set_xlabel('penetration depth (m)')\n    ax[i].set_ylabel('contact force (Nm)')\n    ax[i].set_title((f'hysteresis curves of successive impacts of the '\n                     f' ball_{ball+1} with wall_{wall}, ctau = {ctau1}, '\n                     f'muW = {muW1}'))\n\n    zeitpunkte = 20\n    reduction = max(1, int(len(HC_times_list[i])/zeitpunkte))\n    for k in range(len(HC_times_list[i])):\n        if k % reduction == 0:\n            coord = HC_times_list[i][k][0]\n            ax[i].text(HC_displ_list[i][coord], HC_kraft_list[i][coord],\n                       f'{HC_times_list[i][k][1]:.2f}', color=\"red\")"
      ]
    },
    {
      "cell_type": "markdown",
      "metadata": {},
      "source": [
        "Plot the **energies of the ball**.\nAbsent any friction, that is $\\mu, \\mu_W = 0.$ and $c_\\tau = 1.$\nthe total energy should be constant. Otherwise it should go down in steps,\nbeing constant between any impacts.\n\n"
      ]
    },
    {
      "cell_type": "code",
      "execution_count": null,
      "metadata": {
        "collapsed": false
      },
      "outputs": [],
      "source": [
        "pot_np = np.empty(schritte)\nkin_np = np.empty(schritte)\nspring_np = np.empty(schritte)\ntotal_np = np.empty(schritte)\nfor l in range(schritte):\n    pot_np[l] = pot_lam(*[resultat[l, j] for j in range(resultat.shape[1])],\n                        *pL_vals)\n    kin_np[l] = kin_lam(*[resultat[l, j] for j in range(resultat.shape[1])],\n                        *pL_vals)\n    spring_np[l] = spring_lam(*[resultat[l, j]\n                                for j in range(resultat.shape[1])], *pL_vals)\n    total_np[l] = pot_np[l] + kin_np[l] + spring_np[l]\n\nif ctau1 == 1. and muW1 == 0. and mu1 == 0.:\n    fehler = ((x111 := max(total_np)) - min(total_np)) / x111 * 100.\n    print((f'max deviation from total energy = constant is {fehler:.2e} %  '\n           f'of max total energy'))\nfig, ax = plt.subplots(figsize=(10, 5))\nax.plot(times, kin_np, label='kin energy')\nax.plot(times, pot_np, label='pot energy')\nax.plot(times, spring_np, label='spring energy')\nax.plot(times, total_np, label='total energy')\nax.set_title((f'Energy of the system where mu = {mu1}, muW = {muW1}, '\n              f'ctau = {ctau1}'))\n_ = ax.legend()"
      ]
    },
    {
      "cell_type": "markdown",
      "metadata": {},
      "source": [
        "**Reaction Forces**\n\nOnly calculated for one ball, the second ball surely will look  similar.\nFirst the rhs is calculated numerically, then *eingepraegt = 0.* is solved\nnumerically for the reaction forces, then they are plotted.\nAs there are many points in time, this may take a long time to calculate.\nTo reduce the time, only around *zeitpunkte* number of\npoints in time are considered.\n\n"
      ]
    },
    {
      "cell_type": "code",
      "execution_count": null,
      "metadata": {
        "collapsed": false
      },
      "outputs": [],
      "source": [
        "times2 = []\nresultat2 = []\n\nzeitpunkte = 500\n\nreduction = max(1, int(len(times)/zeitpunkte))\n\nfor i in range(len(times)):\n    if i % reduction == 0:\n        times2.append(times[i])\n        resultat2.append(resultat[i])\n\nschritte2 = len(times2)\nresultat2 = np.array(resultat2)\ntimes2 = np.array(times2)\nprint('number of points considered:', len(times2))\n\n# RHS calculated numerically, too large to do it symbolically.\n# Needed for reaction forces.\nRHS1 = np.zeros((schritte2, resultat2.shape[1]))\nfor i in range(schritte2):\n    RHS1[i, :] = (np.linalg.solve(MM_lam(*[resultat2[i, j] for j in\n                                           range(resultat2.shape[1])],\n                                         *pL_vals),\n                                  force_lam(*[resultat2[i, j]\n                                              for j in\n                                              range(resultat2.shape[1])],\n                                            *pL_vals)).\n                  reshape(resultat2.shape[1]))\n\nprint('RHS1 shape', RHS1.shape)\n\n\n# calculate implied forces numerically\ndef func(x, *args):\n    # just serves to 'modify' the arguments for fsolve.\n    return eingepraegt_lam(*x, *args).reshape(3)\n\n\nkraftx = np.zeros(schritte2)\nkrafty = np.zeros(schritte2)\nkraftz = np.zeros(schritte2)\nx0 = tuple((1., 1., 1.))   # initial guess\n\nfor i in range(schritte2):\n    for _ in range(2):\n        y0 = [resultat2[i, j] for j in range(resultat2.shape[1])]\n        rhs = [RHS1[i, j] for j in range(16)]\n        args = tuple(y0 + pL_vals + rhs)\n        A = root(func, x0, args=args)\n        A = A.x  # get the solution from the root object\n        x0 = tuple(A)  # improved guess. Should speed up convergence.\n    kraftx[i] = A[0]\n    krafty[i] = A[1]\n    kraftz[i] = A[2]\n\nfig, ax = plt.subplots(figsize=(10, 5))\nplt.plot(times2, kraftx, label='X force')\nplt.plot(times2, krafty, label='Y force')\nplt.plot(times2, kraftz, label='Z force')\nax.set_title('Reaction Forces on CP1')\n_ = plt.legend()"
      ]
    },
    {
      "cell_type": "markdown",
      "metadata": {},
      "source": [
        "Plot the approximate shape of the street. It does not show the 'unevenness'.\n\n"
      ]
    },
    {
      "cell_type": "code",
      "execution_count": null,
      "metadata": {
        "collapsed": false
      },
      "outputs": [],
      "source": [
        "xs = np.linspace(-lW1, lW1, 500)\nys = np.linspace(-lW1, lW1, 500)\nX, Y = np.meshgrid(xs, ys)\nZ = gesamt_lam(X, Y, amplitude1, frequenz1)\n\nfig = plt.figure(figsize=(10, 10))\nax = fig.add_subplot(projection='3d')\n\nstrasse = ax.plot_surface(X, Y, Z, cmap='plasma', linewidth=0.,\n                          antialiased=True)\nax.set_xlabel('X - Axis', fontsize=15)\nax.set_ylabel('Z - Axis', fontsize=15)\nax.set_title('Approximate shape of the street', fontsize=15)\nax.set_zlabel('Y - Axis', fontsize=15)\n_ = fig.colorbar(strasse, shrink=0.5, label='Height above the ground',\n                 aspect=15)"
      ]
    },
    {
      "cell_type": "markdown",
      "metadata": {},
      "source": [
        "## Animation\nThis shows the path of the ball, projected on the X / Z plane. The 'height'\nof the ball is indicated by its color.\n\n"
      ]
    },
    {
      "cell_type": "code",
      "execution_count": null,
      "metadata": {
        "collapsed": false
      },
      "outputs": [],
      "source": [
        "times2 = []\nresultat2 = []\n\nzeitpunkte = 500\n\nreduction = max(1, int(len(times)/zeitpunkte))\n\nfor i in range(len(times)):\n    if i % reduction == 0:\n        times2.append(times[i])\n        resultat2.append(resultat[i])\n\nschritte2 = len(times2)\nresultat2 = np.array(resultat2)\ntimes2 = np.array(times2)\nprint('number of points considered:', len(times2))\n\n\nDmc1x = np.empty(schritte2)\nDmc1y = np.empty(schritte2)\nDmc1y1 = np.empty(schritte2)\nDmc1z = np.ones(schritte2)\n\nPo1x = np.empty(schritte2)\nPo1y = np.empty(schritte2)\nPo1z = np.empty(schritte2)\n\nDmc2x = np.empty(schritte2)\nDmc2y = np.empty(schritte2)\nDmc2y1 = np.empty(schritte2)\nDmc2z = np.ones(schritte2)\n\nPo2x = np.empty(schritte2)\nPo2y = np.empty(schritte2)\nPo2z = np.empty(schritte2)\n\nfor l in range(schritte2):\n    Dmc1x[l] = Dmc1_pos_lam(*[resultat2[l, j]\n                              for j in range(resultat2.shape[1])], *pL_vals)[0]\n    Dmc1y[l] = Dmc1_pos_lam(*[resultat2[l, j]\n                              for j in range(resultat2.shape[1])], *pL_vals)[1]\n    Dmc1z[l] = Dmc1_pos_lam(*[resultat2[l, j]\n                              for j in range(resultat2.shape[1])], *pL_vals)[2]\n\n    Po1x[l] = m_Dmc1_pos_lam(*[resultat2[l, j] for j in\n                               range(resultat2.shape[1])], *pL_vals)[0]\n    Po1y[l] = m_Dmc1_pos_lam(*[resultat2[l, j] for j in\n                             range(resultat2.shape[1])], *pL_vals)[1]\n    Po1z[l] = m_Dmc1_pos_lam(*[resultat2[l, j] for j in\n                             range(resultat2.shape[1])], *pL_vals)[2]\n\n    Dmc2x[l] = Dmc2_pos_lam(*[resultat2[l, j] for j in\n                              range(resultat2.shape[1])], *pL_vals)[0]\n    Dmc2y[l] = Dmc2_pos_lam(*[resultat2[l, j] for j in\n                              range(resultat2.shape[1])], *pL_vals)[1]\n    Dmc2z[l] = Dmc2_pos_lam(*[resultat2[l, j] for j in\n                              range(resultat2.shape[1])], *pL_vals)[2]\n\n    Po2x[l] = m_Dmc2_pos_lam(*[resultat2[l, j] for j in\n                               range(resultat2.shape[1])], *pL_vals)[0]\n    Po2y[l] = m_Dmc2_pos_lam(*[resultat2[l, j] for j in\n                               range(resultat2.shape[1])], *pL_vals)[1]\n    Po2z[l] = m_Dmc2_pos_lam(*[resultat2[l, j] for j in\n                               range(resultat2.shape[1])], *pL_vals)[2]\n\nfor i, j in enumerate(Dmc1y):\n    Dmc1y1[i] = int(j * 100.)\nfor i, j in enumerate(Dmc2y):\n    Dmc2y1[i] = int(j * 100.)\n\nymin = min(min(Dmc1y1), min(Dmc2y1))\nymax = max(max(Dmc1y1), max(Dmc2y1))\n\n# This is to asign colors of 'plasma' to the points.\nTest = mp.colors.Normalize(ymin, ymax)\nFarbe = mp.cm.ScalarMappable(Test, cmap='plasma')\nfarbe1 = Farbe.to_rgba(Dmc1y1[0])    # color of the starting position\nfarbe2 = Farbe.to_rgba(Dmc2y1[0])\n\n\ndef animate_pendulum(times, x1, y1, z1, y11, ox, oy, oz, x21, y21, z21, y211,\n                     ox1, oy1, oz1):\n\n    fig, ax = plt.subplots(figsize=(8, 8), subplot_kw={'aspect': 'equal'})\n    fig.colorbar(Farbe, label=('Height of the ball above ground level'\n                               '\\n Factor = 100, the real height are the '\n                               'numbers divided by factor'), shrink=0.9, ax=ax)\n    ax.axis('on')\n\n    ax.set_xlabel(' X Axis', fontsize=18)\n    ax.set_ylabel('Z Axis', fontsize=18)\n\n    ax.set(xlim=(-lW1 - 0.9, lW1 + 1.), ylim=(-lW1 - 1., lW1 + 1.))\n    ax.plot([-lW1, lW1], [-lW1, -lW1], 'bo', linewidth=2, linestyle='-',\n            markersize=0)\n    ax.text(0., -lW1-0.5, 'wall 0')\n    ax.plot([lW1, lW1], [-lW1, lW1], 'ro', linewidth=2, linestyle='-',\n            markersize=0)\n    ax.text(lW1 + 0.5, 0., 'wall 1', rotation=90)\n    ax.plot([lW1, -lW1], [lW1, lW1], 'go', linewidth=2, linestyle='-',\n            markersize=0)\n    ax.text(0., lW1 + .5, 'wall 2')\n    ax.plot([-lW1, -lW1], [lW1, -lW1], 'yo', linewidth=2, linestyle='-',\n            markersize=0)\n    ax.text(-lW1-0.5, 0., 'wall 3', rotation=90)\n\n    # Starting point of Dmc1 and Dmc2\n    line1,  = ax.plot([], [], 'o', markersize=8, color=farbe1)\n    line1a, = ax.plot([], [], 'o', markersize=8, color=farbe2)\n    # Moving ball1 and ball2\n    line2, = ax.plot([], [], 'o', markersize=90/2.77 * r1 / lW1 * 10.)\n    line2a, = ax.plot([], [], 'o', markersize=90/2.77 * r1 / lW1 * 10.)\n    # to trace the movement of Dmc1 and Dmc2\n    line3,  = ax.plot([], [], color='blue', linewidth=0.25)\n    line3a, = ax.plot([], [], color='red', linewidth=0.25)\n    # observer on ball 1 and ball 2\n    line4,  = ax.plot([], [], 'o', markersize=5, color='black')\n    line4a, = ax.plot([], [], 'o', markersize=5, color='black')\n\n    def animate(i):\n        farbe3 = Farbe.to_rgba(y11[i])   # color of the actual point at time i\n        farbe4 = Farbe.to_rgba(y211[i])  # color of the actual point at time i\n\n        ax.set_title(f'running time {times[i]:.1f} sec, with '\n                     f'rumpel = {rumpel}', fontsize=15)\n\n        line1.set_data([x1[0]], [z1[0]])\n        line1.set_color(farbe1)\n        line1a.set_data([x21[0]], [z21[0]])\n        line1a.set_color(farbe2)\n\n        line2.set_data([x1[i]], [z1[i]])\n        line2.set_color(farbe3)\n        line2a.set_data([x21[i]], [z21[i]])\n        line2a.set_color(farbe4)\n\n        line3.set_data(x1[: i], z1[: i])\n        line3a.set_data(x21[: i], z21[: i])\n\n        line4.set_data([ox[i]], [oz[i]])\n        if y11[i] <= oy[i]:\n            line4.set_color('black')\n        else:\n            line4.set_color('grey')\n\n        line4a.set_data([ox1[i]], [oz1[i]])\n        if y211[i] <= oy1[i]:\n            line4a.set_color('black')\n        else:\n            line4a.set_color('grey')\n\n        return line1, line1a, line2, line2a, line3, line3a, line4, line4a\n\n    anim = animation.FuncAnimation(fig, animate, frames=len(times2),\n                                   interval=1000*max(times2) / len(times2),\n                                   blit=True)\n    return anim\n\n\nanim = animate_pendulum(times2, Dmc1x, Dmc1y, Dmc1z, Dmc1y1, Po1x, Po1y, Po1z,\n                        Dmc2x, Dmc2y, Dmc2z, Dmc2y1, Po2x, Po2y, Po2z)\n\n\nplt.show()"
      ]
    }
  ],
  "metadata": {
    "kernelspec": {
      "display_name": "Python 3",
      "language": "python",
      "name": "python3"
    },
    "language_info": {
      "codemirror_mode": {
        "name": "ipython",
        "version": 3
      },
      "file_extension": ".py",
      "mimetype": "text/x-python",
      "name": "python",
      "nbconvert_exporter": "python",
      "pygments_lexer": "ipython3",
      "version": "3.13.3"
    }
  },
  "nbformat": 4,
  "nbformat_minor": 0
}