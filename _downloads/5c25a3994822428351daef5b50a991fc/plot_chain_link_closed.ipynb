{
  "cells": [
    {
      "cell_type": "markdown",
      "metadata": {},
      "source": [
        "\n# Closed Chain\n\n## Objective\n\n- Show that sympy.physics.mechanics can handle systems consisting of a large\n  number of bodies\n\n## Description\n\nA chain is simulated as a closed 2D n-link pendulum, where each link is\nmodelled as a rod.\nThe two ends of the chain are fixed at $(0., 0.)$ and at\n$(EP_x, EP_y)$.\n\n## Notes\n\n- I saw this some time ago as an example of some other modeling library, and I\n  wanted to see, how this would work with sympy.physics.mechanics.\n- If the rotation of frame $A_i$ is defined relative to frame\n  $A_{i-1}$ the number of operations shoot up: for n = 12 the mass matrix\n  has 25 mio operations. If the rotation of $A_i$ is defined relative to\n  the inertial frame $O$, the numbers become very reasonable.\n- The **catenary** is the shape of a chain of uniform linear density hanging\n  under the influence of gravity only. This will be drawn in the animation. If\n  there is friction, the chain should approach this catenary shape.\n\n\n**Variables and Parameters**\n\n- $O$ : Inertial frame, fixed in place\n- $PO$ : Point fixed in $O$, where the chain is suspended\n- $A_i$ : Body fixed frame of link $i$, with $0 \\leq i < n$\n- $Dmc_i$ : Center of gravity of link $i$\n- $P_i$ : Point, where frame $A_i$ joins frame $A_{i+1}$\n- $l$ : Length of the pendulum, that is each link has length\n  $\\dfrac{l}{n}$\n- $m$ : Mass of each link\n- $iZZ$ : Moment of inertial of each link around $A_i.z$, relative\n  to $Dmc_i$\n- $\\textrm{reibung}$ : Speed dependent friction in each joint.\n- $aux_x, aux_y, f_x, f_y$ : virtual speeds and reaction forces on point\n  $O$\n- $rhs$ : 'place holders' for the $rhs = MM^{-1} \\cdot force$ to be\n  evaluated numerically later\n- $q_i$ : Generalized coordinate of frame $A_i$ relative to the\n  inertial frame $O$.\n- $u_i$ : Angular speed of frame $A_i$ relative to the inertial\n  frame $O$.\n- $EP$ : End point of the chain, fixed in place. That is $P[n-1]$\n  should be at $EP$.\n- $EP_x, EP_y$ : Its coordinates\n"
      ]
    },
    {
      "cell_type": "code",
      "execution_count": null,
      "metadata": {
        "collapsed": false
      },
      "outputs": [],
      "source": [
        "import sympy as sm\nimport sympy.physics.mechanics as me\nimport numpy as np\nfrom scipy.integrate import solve_ivp\nfrom scipy.optimize import fsolve, minimize, root\nimport matplotlib.pyplot as plt\nfrom matplotlib import animation"
      ]
    },
    {
      "cell_type": "markdown",
      "metadata": {},
      "source": [
        "## Kanes Equations\nSet up the geometry.\n**n** is the number of links in the chain.\n\n"
      ]
    },
    {
      "cell_type": "code",
      "execution_count": null,
      "metadata": {
        "collapsed": false
      },
      "outputs": [],
      "source": [
        "n = 60\nterm_info = False\n\nm, g, iZZ, l, reibung = sm.symbols('m, g, iZZ, l, reibung')\nq = me.dynamicsymbols(f'q:{n}')\nu = me.dynamicsymbols(f'u:{n}')\n\nauxx, auxy, fx, fy = me.dynamicsymbols('auxx, auxy, fx, fy')\nt = me.dynamicsymbols._t\n\nA = sm.symbols(f'A:{n}', cls=me.ReferenceFrame)\nDmc = sm.symbols(f'Dmc:{n}', cls=me.Point)\nP = sm.symbols(f'P:{n}', cls=me.Point)\nrhs = list(sm.symbols(f'rhs:{n}'))\n\nO = me.ReferenceFrame('O')\nPO = me.Point('PO')\nPO.set_vel(O, auxx*O.x + auxy*O.y)\n\nl1 = l/n\nl2 = l/(2 * n)\n\nA[0].orient_axis(O, q[0], O.z)\nA[0].set_ang_vel(O, u[0] * O.z)\n\nDmc[0].set_pos(PO, l2*A[0].x)\nDmc[0].v2pt_theory(PO, O, A[0])\nP[0].set_pos(PO, l1*A[0].x)\nP[0].v2pt_theory(PO, O, A[0])\n\nfor i in range(1, n):\n    A[i].orient_axis(O, q[i], O.z)\n    A[i].set_ang_vel(O, u[i] * O.z)\n\n    Dmc[i].set_pos(P[i-1], l2*A[i].x)\n    Dmc[i].v2pt_theory(P[i-1], O, A[i])\n    P[i].set_pos(P[i-1], l1*A[i].x)\n    P[i].v2pt_theory(P[i-1], O, A[i])"
      ]
    },
    {
      "cell_type": "markdown",
      "metadata": {},
      "source": [
        "Set the configuration constraint and derive the speed constraints from it.\n\nThe last point $P[n-1]$ is required to be fixed at\n$(EP_x / EP_y)$.\n*laenge* is used to check how well the speed constraints are fulfilled.\n*.magnitude()* runs into numerical issues sometimes. This was discussed on\nGithub a while ago. This way avoids these issues.\n\n"
      ]
    },
    {
      "cell_type": "code",
      "execution_count": null,
      "metadata": {
        "collapsed": false
      },
      "outputs": [],
      "source": [
        "EP = me.Point('EP')\nEPx, EPy = sm.symbols('EPx, EPy')\n\nEP_pos = EP.set_pos(PO, EPx*O.x + EPy*O.y)\nEP_pos = EP.pos_from(PO)\nPn_pos = P[0].pos_from(PO) + sum([P[i+1].pos_from(P[i]) for i in range(n-1)])\n\nconstraint = EP_pos - Pn_pos\n\nconstraintX = me.dot(constraint, O.x)\nconstraintY = me.dot(constraint, O.y)\nconstraint_matrix = sm.Matrix([constraintX, constraintY])\n\n# using magnitude() here gives errors at times.\nlaenge = sm.sqrt(constraintX**2 + constraintY**2)\n\n# Velocity constraints\nconstraint_dict = {sm.Derivative(q[i], t): u[i] for i in range(n)}\nconstraintXdt = constraintX.diff(t).subs(constraint_dict)\nconstraintYdt = constraintY.diff(t).subs(constraint_dict)\nconstraintdt_matrix = sm.Matrix([constraintXdt, constraintYdt])\n\n# Solve for the dependent speeds :math:`u[n-2], u[n-1]`, needed for the\n# initial conditions for solve_ivp below\nmatrix_A = constraintdt_matrix.jacobian((u[n-2], u[n-1]))\nvector_b = constraintdt_matrix.subs({u[n-2]: 0., u[n-1]: 0.})\nloesung = matrix_A.LUsolve(-vector_b)\n\nif term_info is True:\n    print('loesung DS', me.find_dynamicsymbols(loesung))\n    print('loesung FS', loesung.free_symbols)\nprint(f'loesung has {sm.count_ops(loesung):,} operations')\n\nconstraint_matrix = [constraint_matrix[0, 0], constraint_matrix[1, 0]]\nconstraintdt_matrix = [constraintdt_matrix[0, 0], constraintdt_matrix[1, 0]]"
      ]
    },
    {
      "cell_type": "markdown",
      "metadata": {},
      "source": [
        "Kane's Equations\n\n"
      ]
    },
    {
      "cell_type": "code",
      "execution_count": null,
      "metadata": {
        "collapsed": false
      },
      "outputs": [],
      "source": [
        "BODY = []\nfor i in range(n):\n    inertia = me.inertia(A[i], 0., 0., iZZ)\n    body = me.RigidBody('body' + str(i), Dmc[i], A[i], m, (inertia, Dmc[i]))\n    BODY.append(body)\n\nFL1 = [(Dmc[i], -m*g*O.y) for i in range(n)] + [(PO, fx*O.x + fy*O.y)]\nTorque = [(A[i], - u[i] * reibung * A[i].z) for i in range(n)]\nFL = FL1 + Torque\n\nkd = [u[i] - q[i].diff(t) for i in range(n)]\naux = [auxx, auxy]\nspeed_constr = [u[n-2] - loesung[0], u[n-1] - loesung[1]]\n\nu_ind = [u[i] for i in range(n-2)]\nu_dep = [u[n-2], u[n-1]]\n\nKM = me.KanesMethod(\n    O,\n    q_ind=q,\n    u_ind=u_ind,\n    u_dependent=u_dep,\n    kd_eqs=kd,\n    u_auxiliary=aux,\n    velocity_constraints=speed_constr,\n)\nfr, frstar = KM.kanes_equations(BODY, FL)\n\nMM = KM.mass_matrix_full\nif term_info is True:\n    print('MM DS', me.find_dynamicsymbols(MM))\n    print('MM free symbols', MM.free_symbols)\nprint(f'MM contains {sm.count_ops(MM):,} operations')\n\nforce = KM.forcing_full.subs({fx: 0., fy: 0.})\nif term_info is True:\n    print('force DS', me.find_dynamicsymbols(force))\n    print('force free symbols', force.free_symbols)\nprint(f'force contains {sm.count_ops(force):,} operations')\n\n# This is needed for the reaction forces on the suspension point PO.\neingepraegt_dict = {sm.Derivative(i, t): j for i, j in zip(u, rhs)}\neingepraegt = KM.auxiliary_eqs.subs(eingepraegt_dict)\nif term_info is True:\n    print('eingepraegt DS', me.find_dynamicsymbols(eingepraegt))\n    print('eingepraegt free symbols', eingepraegt.free_symbols)\nprint(f'eingepraegt has {sm.count_ops(eingepraegt):,} operations')"
      ]
    },
    {
      "cell_type": "markdown",
      "metadata": {},
      "source": [
        "Functions for the kinetic and the potential energies.\nAlways useful to detect mistakes.\norte is needed for the animation only.\n\n"
      ]
    },
    {
      "cell_type": "code",
      "execution_count": null,
      "metadata": {
        "collapsed": false
      },
      "outputs": [],
      "source": [
        "kin_energie = sum([koerper.kinetic_energy(O)\n                   for koerper in BODY]).subs({i: 0. for i in aux})\npot_energie = sum([m*g*me.dot(koerper.pos_from(PO), O.y) for koerper in Dmc])\n\norte = [[me.dot(P[i].pos_from(PO), uv) for uv in (O.x, O.y)] for i in range(n)]"
      ]
    },
    {
      "cell_type": "markdown",
      "metadata": {},
      "source": [
        "Lambdification.\n\n"
      ]
    },
    {
      "cell_type": "code",
      "execution_count": null,
      "metadata": {
        "collapsed": false
      },
      "outputs": [],
      "source": [
        "qL = q + u_ind + u_dep\nqL1 = q + u_ind\nqL2 = [q[i] for i in range(n-2)]\npL = [m, g, l, iZZ, reibung, EPx, EPy]\nF = [fx, fy]\nMM_lam = sm.lambdify(qL + pL, MM, cse=True)\nforce_lam = sm.lambdify(qL + pL, force, cse=True)\neingepraegt_lam = sm.lambdify(F + qL + pL + rhs, eingepraegt, cse=True)\n\nkin_lam = sm.lambdify(qL + pL, kin_energie, cse=True)\npot_lam = sm.lambdify(qL + pL, pot_energie, cse=True)\n\nort_lam = sm.lambdify(qL + pL, orte, cse=True)\n\nloesung_lam = sm.lambdify(qL1 + pL, loesung, cse=True)\nconstraint_lam = sm.lambdify([q[n-2], q[n-1]] + qL2 + pL, constraint_matrix,\n                             cse=True)\nlaenge_lam = sm.lambdify(q + pL, laenge, cse=True)\nconstraintdt_lam = sm.lambdify(qL + pL, constraintdt_matrix, cse=True)"
      ]
    },
    {
      "cell_type": "markdown",
      "metadata": {},
      "source": [
        "## Numerical Integration\n**A**.\n\nDefine the initial values and the parameters.\n\nFor more than a few links, it is difficult to get initial generalized\ncoordinates $q[i]$ which fit the configuration constraint: if\n$q[0]....q[n-3]$ are set randomly, there may not be a solution for the\ndependent generalized coordinates $q[n-2], q[n-1]$.\nSo get approximate generalized coordinates by numerically solving\n$\\min \\limits_{q[0]...q[n-1]} (| \\textrm{config. constraint} |)$ for\n$q[0]....q[n-1]$. method = 'Nelder-Meat' in *minimize(..)* finds\ngood minimal values even for larger n, while *no method* even failed with\nn = 10, depending on where the fixed point of $P[n-1]$ was located.\nThere are many feasible solutions, the one picked likely depends on the\ninitial conditions given to *minimize(..)*.\nThe values produced by *minimize(..)* serve as ininital conditions to\nnumerically solve for $q[n-2], q[n-1]$\nFinally it calculates how well the initial generalized coordinates and speeds\nfulfill the configuaration constraint and the resulting speed constraints.\n\n"
      ]
    },
    {
      "cell_type": "code",
      "execution_count": null,
      "metadata": {
        "collapsed": false
      },
      "outputs": [],
      "source": [
        "# Input variables\n\nm1 = 1.\ng1 = 9.8\nl1 = 30.\nreibung1 = 5.0\n\nq1 = [np.random.choice((1, -1)) for _ in range(n)]  # starting guess for below.\n# setting the angular velocities != 0 ,increases the integration time a lot.\nu1 = [0. for _ in range(n)]\n\nEPx1 = 10.  # Must be > 0, else the catenary will not work.\nEPy1 = 3.\n\nintervall = 20.\npunkte = 25\n\nschritte = int(intervall * punkte)\ntimes = np.linspace(0., intervall, schritte)\nt_span = (0., intervall)\n\niZZ1 = 1./12. * m1 * (l1/n)**2        # from the internet\n\npL_vals = [m1, g1, l1, iZZ1, reibung1, EPx1, EPy1]\n\nif np.sqrt(EPx1**2 + EPy1**2) > l1:\n    raise Exception('endpoint to far away from (0/0)')"
      ]
    },
    {
      "cell_type": "markdown",
      "metadata": {},
      "source": [
        "find generalized coordinates to fullfill the configuration constraints\n\n"
      ]
    },
    {
      "cell_type": "code",
      "execution_count": null,
      "metadata": {
        "collapsed": false
      },
      "outputs": [],
      "source": [
        "def func1(x0, args):\n    return laenge_lam(*x0, *args)\n\n\nX0 = tuple((q1))\nX0 = tuple(([1.] * n))\nfor _ in range(6):\n    t0 = minimize(func1, X0, pL_vals, method='Nelder-Mead')\n    X0 = t0.x\n\nprint((f'error of initial guess is {laenge_lam(*X0, *pL_vals):.3e}'\n       f', achieved by minimizing'))"
      ]
    },
    {
      "cell_type": "markdown",
      "metadata": {},
      "source": [
        "Use the approximate generalized coordinates to find the dependent\ngeneralized coordinates.\n\n"
      ]
    },
    {
      "cell_type": "code",
      "execution_count": null,
      "metadata": {
        "collapsed": false
      },
      "outputs": [],
      "source": [
        "def func2(X0, args):\n    return constraint_lam(*X0, *args)\n\n\nargs = [X0[i] for i in range(n-2)] + pL_vals\nZ0 = (X0[n-2], X0[n-1])\nfor _ in range(6):\n    t0 = fsolve(func2, Z0, args)\n    Z0 = t0\n    Q0 = [Z0[0], Z0[1]] + [X0[i] for i in range(n-2)]\nprint((f'error of improved guess is {laenge_lam(*Q0, *pL_vals):.3e}'\n       f' achieved by numerically solve for the dependent coordinates. \\n'))\n\n# find the dependent speeds to match the independet speeds\nU0 = [u1[i] for i in range(n-2)]\nt0 = loesung_lam(*Q0, *U0, *pL_vals)\nu1[n-2] = t0[0][0]\nu1[n-1] = t0[1][0]\n\ny0 = Q0 + U0 + [u1[n-2], u1[n-1]]\n\nprint((f'error in the initial speed constraints are X: '\n       f'{constraintdt_lam(*y0, *pL_vals)[0]:.3e} '\n       f'Y: {constraintdt_lam(*y0, *pL_vals)[1]:.3e}'))"
      ]
    },
    {
      "cell_type": "markdown",
      "metadata": {},
      "source": [
        "**B**.\n\nNumerical integration.\nmethod = $\\textrm{Radau}$ seems to keep the total energy closer to\nconstant, absent any friction, that is $\\textrm{reibung}_1 = 0$.\n\n"
      ]
    },
    {
      "cell_type": "code",
      "execution_count": null,
      "metadata": {
        "collapsed": false
      },
      "outputs": [],
      "source": [
        "y0 = Q0 + U0 + [u1[n-2], u1[n-1]]\n\n\ndef gradient(t, y, args):\n    sol = np.linalg.solve(MM_lam(*y, *args), force_lam(*y, *args))\n    return np.array(sol).T[0]\n\n\nresultat1 = solve_ivp(gradient, t_span, y0, t_eval=times, args=(pL_vals,),\n                      method='Radau', atol=1.e-5, rtol=1.e-5)\n\nresultat = resultat1.y.T\nprint('resultat shape', resultat.shape, '\\n')\nprint(resultat1.message, '\\n')\n\nprint((f\"To numerically integrate an intervall of {intervall:.2f} sec \"\n       f\"the routine made {resultat1.nfev:,} function calls.\"))"
      ]
    },
    {
      "cell_type": "markdown",
      "metadata": {},
      "source": [
        "Plot the **energies**.\n\n"
      ]
    },
    {
      "cell_type": "code",
      "execution_count": null,
      "metadata": {
        "collapsed": false
      },
      "outputs": [],
      "source": [
        "kin_np = np.empty(schritte)\npot_np = np.empty(schritte)\ntotal_np = np.empty(schritte)\n\nfor i in range(schritte):\n    pot_np[i] = pot_lam(*[resultat[i, j] for j in range(resultat.shape[1])],\n                        *pL_vals)\n    kin_np[i] = kin_lam(*[resultat[i, j] for j in range(resultat.shape[1])],\n                        *pL_vals)\n    total_np[i] = kin_np[i] + pot_np[i]\n\nif reibung1 == 0.:\n    max_total = np.max(np.abs(total_np))\n    min_total = np.min(np.abs(total_np))\n    delta = max_total - min_total\n    print((f'max deviation of total energy from zero is '\n           f'{delta/max_total * 100:.3e} % of max. total energy'))\nfig, ax = plt.subplots(figsize=(10, 5))\nfor i, j in zip((kin_np, pot_np, total_np), ('kinetic energy',\n                                             'potential energy',\n                                             'total energy')):\n    ax.plot(times, i, label=j)\nax.set_title(f'Energies of the system, friction = {reibung1}')\nax.set_xlabel('time (sec)')\nax.set_ylabel('energy (Nm)')\n_ = ax.legend()"
      ]
    },
    {
      "cell_type": "markdown",
      "metadata": {},
      "source": [
        "Check, how well the **configuration constraint** and the **speed\nconstraints** are kept. Ideally, of course, they should be zero.\n\n"
      ]
    },
    {
      "cell_type": "code",
      "execution_count": null,
      "metadata": {
        "collapsed": false
      },
      "outputs": [],
      "source": [
        "X_np = np.empty(schritte)\nY_np = np.empty(schritte)\n\nfor i in range(schritte):\n    X_np[i], Y_np[i] = constraint_lam(resultat[i, n-2], resultat[i, n-1],\n                                      *[resultat[i, j] for j in range(n-2)],\n                                      *pL_vals)\n\nfig, ax = plt.subplots(figsize=(10, 5))\nfor i, j in zip((X_np, Y_np), ('X direction', 'Y-direction')):\n    ax.plot(times, i, label=j)\nax.set_title('violation of configuration constraint')\nax.set_xlabel('time (sec)')\nax.set_ylabel('meter')\n_ = ax.legend()"
      ]
    },
    {
      "cell_type": "code",
      "execution_count": null,
      "metadata": {
        "collapsed": false
      },
      "outputs": [],
      "source": [
        "for i in range(schritte):\n    X_np[i], Y_np[i] = constraintdt_lam(*[resultat[i, j] for j in\n                                          range(resultat.shape[1])], *pL_vals)\n\nfig, ax = plt.subplots(figsize=(10, 5))\nfor i, j in zip((X_np, Y_np), ('u[n-2]', 'u[n-1]')):\n    ax.plot(times, i, label=j)\nax.set_title('violation of speed constraints')\nax.set_xlabel('time (sec)')\nax.set_ylabel('rad / sec')\n_ = ax.legend()"
      ]
    },
    {
      "cell_type": "markdown",
      "metadata": {},
      "source": [
        "Reaction force on $P_O$\n\nFirst solve the equation $rhs = MM^{-1} \\cdot force$ numerically.\nThen solve $\\textrm{eingepraegt} = 0$ for $fx, fy$  numerically.\n\n"
      ]
    },
    {
      "cell_type": "code",
      "execution_count": null,
      "metadata": {
        "collapsed": false
      },
      "outputs": [],
      "source": [
        "resultat2 = resultat\nschritte2 = schritte\ntimes2 = times\n\nRHS1 = np.empty((schritte2, resultat2.shape[1]))\nfor i in range(schritte2):\n    RHS1[i, :] = np.linalg.solve(MM_lam(*[resultat2[i, j]\n                                          for j in range(resultat2.shape[1])],\n                                        *pL_vals),\n                                 force_lam(*[resultat2[i, j]\n                                           for j in range(resultat2.shape[1])],\n                                           *pL_vals)).reshape(resultat2.shape[1])\nprint('RHS1 shape', RHS1.shape)\n\n\n# calculate implied forces numerically\ndef func(x, *args):\n    # serves to 'modify' the arguments for root.\n    return eingepraegt_lam(*x, *args).reshape(2)\n\n\nfor _ in range(2):\n    kraftx = np.empty(schritte2)\n    krafty = np.empty(schritte2)\n\n    x0 = tuple((1., 1.))   # initial guess\n\n    for i in range(schritte2):\n        for _ in range(2):\n            y0 = [resultat2[i, j] for j in range(resultat2.shape[1])]\n            rhs = [RHS1[i, j] for j in range(n, 2*n)]\n            args = tuple(y0 + pL_vals + rhs)\n            AAA = root(func, x0, args=args)\n            AAA = AAA.x\n            x0 = tuple(AAA)\n        kraftx[i] = AAA[0]\n        krafty[i] = AAA[1]\n\nfig, ax = plt.subplots(figsize=(10, 5))\nfor i, j in zip((kraftx, krafty), ('reaction force on PO in X direction',\n                                   'reaction force on PO in Y direction',\n                                   'reaction force on P[n-1] in X direction')):\n\n    plt.plot(times2, i, label=j)\nax.set_title('Reaction Forces on suspension point PO')\nax.set_xlabel('time (sec)')\nax.set_ylabel('force (N)')\n_ = plt.legend()"
      ]
    },
    {
      "cell_type": "markdown",
      "metadata": {},
      "source": [
        "**Catenary**\n\nThe shape of a chain of uniform linear density hanging symmetric to the\nvertical Y axis is described by\n$y(x) = factor \\cdot \\cosh(\\dfrac{x}{factor})$\nA chain suspended at $(x_1, y_1)$ and $(x_2, y_2)$ and length\n$l$ where\n\n- $v = y_2 - y_1$\n- $h = x_2 - x_1$\n- $l$: length of the chain\n\nhas this transcendental equation for factor:\n\n$\\sqrt{l^2 - v^2} = 2 \\cdot factor \\cdot \\sinh(\\dfrac{h}{2.\n\\cdot factor})$\n\nhttps://math.stackexchange.com/questions/1000447/finding-the-catenary-curve-with-given-arclength-through-two-given-points\n\nNumerically solve this equation for *factor*, called t0 in the program.\nfactor is inserted in the equation for the suspended chain, to get the\ngraph of a symmetrically hanging chain.\nNext calculate the value of *delta*, called $d_0$ in the program,\nwhere the chain is at $EP_y$.\nThen appropriately shift this symmetric chain so it matches the chain\nsimulated\nIf friction is used, that is $\\textrm{reibung}_1 > 0$, the chain\nshould approach this catenary.\n\nIt seems that if the catenary becomes 'extreme' in some way, the equation to\nsolve for *factor* does not converge well. The longer the chain, the better\nthe result seems to be.\n\nIteration from $EP_y = 0$, where it always seems to calculate\ncorrectly, to $EP_y$.\n\n\n"
      ]
    },
    {
      "cell_type": "code",
      "execution_count": null,
      "metadata": {
        "collapsed": false
      },
      "outputs": [],
      "source": [
        "faktor, xx, yy, delta = sm.symbols('faktor, xx, yy, delta')\ncatenary = 2. * faktor * sm.sinh(EPx / (2. * faktor)) - sm.sqrt(l**2 - EPy**2)\ncatenary_lam = sm.lambdify([faktor, EPx, EPy, l], catenary, cse=True)\n\n\ndef func3(X0, args):\n    return catenary_lam(*X0, *args)\n\n\ncatenaryY = faktor * sm.cosh((xx)/(faktor))\ncatenaryY_lam = sm.lambdify([xx, faktor, EPx], catenaryY, cse=True)\n\ncatenaryZ = faktor * sm.cosh((xx + delta)/(faktor))\ncatenaryZ_lam = sm.lambdify([delta, xx, faktor], catenaryZ, cse=True)\n\n\ndef func4(X0):\n    return catenaryZ_lam(X0, EPx1/2., t0) - catenaryZ_lam(0.,\n                                                          -EPx1/2, t0) - EPy2\n\n\nDelta = []\nFactor = []\nzahl = 20\nEPy2 = 0.\nX01 = 0.1\nz01 = 0.1\n\ndelta = EPy1/zahl\nfor _ in range(zahl):\n    EPy2 += delta\n    args = [EPx1, EPy2, l1]\n    t0 = fsolve(func3, X01, args)\n    t0 = t0[0]\n    X01 = t0\n    Factor.append(t0)\n\n    d0 = fsolve(func4, z01)\n    z01 = d0[0]\n    Delta.append(z01)\n\n\n# calculate the values of the catenary to be used below in the animation\nergebnis = []\nfor xx1 in np.linspace(0., EPx1, 100):\n    ergebnis.append(catenaryY_lam(xx1-(EPx1-d0)/2., t0, EPx1))\n\nabzug = ergebnis[0]\nfor i in range(100):\n    ergebnis[i] = ergebnis[i] - abzug"
      ]
    },
    {
      "cell_type": "markdown",
      "metadata": {},
      "source": [
        "## Animation\n\n"
      ]
    },
    {
      "cell_type": "code",
      "execution_count": null,
      "metadata": {
        "collapsed": false
      },
      "outputs": [],
      "source": [
        "# get Carthesian coordinates\nx_coords = np.empty((len(times), n+1))\ny_coords = np.empty((len(times), n+1))\n\nfor j in range(schritte):\n    x_coords[j] = [0.] + [ort_lam(*[resultat[j, k]\n                                    for k in range(resultat.shape[1])],\n                                  *pL_vals)[k11][0]\n                          for k11 in range(n)]\n    y_coords[j] = [0.] + [ort_lam(*[resultat[j, k]\n                                    for k in range(resultat.shape[1])],\n                                  *pL_vals)[k11][1]\n                          for k11 in range(n)]\n\nmax_x = max([abs(x_coords[i, j])for i in range(schritte) for j in range(n+1)])\nmax_y = max([abs(y_coords[i, j])for i in range(schritte) for j in range(n+1)])\nmax_xy = max(max_x, max_y)\n\nfig, ax = plt.subplots(figsize=(7, 7))\nax.axis('on')\nax.set(xlim=(-max_xy-1., max_xy+1.), ylim=(-max_xy-1., max_xy+1.))\nax.plot(0., 0.4, marker='v', markersize=15, color='red')\nax.plot(EPx1, EPy1 + 0.4, marker='v', markersize=15, color='red')\nax.plot(np.linspace(0., EPx1*1.01, 100), ergebnis, color='red', lw=0.3)\n\n# Connects the poinbts.\nline, = ax.plot([], [], 'o-', lw=0.5, color='blue', markersize=0)\n\n\ndef animate_pendulum(times, x, y):\n    def animate(i):\n        ax.set_title((f'Running time is {i / schritte * intervall:.2f} sec \\n'\n                      f'The red curve is the catenary'), fontsize=12)\n        line.set_data(x[i], y[i])\n        return line,\n\n    anim = animation.FuncAnimation(fig, animate, frames=len(times),\n                                   interval=1000*times.max() / len(times),\n                                   blit=True)\n    return anim\n\n\nanim = animate_pendulum(times, x_coords, y_coords)\nplt.show()"
      ]
    }
  ],
  "metadata": {
    "kernelspec": {
      "display_name": "Python 3",
      "language": "python",
      "name": "python3"
    },
    "language_info": {
      "codemirror_mode": {
        "name": "ipython",
        "version": 3
      },
      "file_extension": ".py",
      "mimetype": "text/x-python",
      "name": "python",
      "nbconvert_exporter": "python",
      "pygments_lexer": "ipython3",
      "version": "3.13.3"
    }
  },
  "nbformat": 4,
  "nbformat_minor": 0
}