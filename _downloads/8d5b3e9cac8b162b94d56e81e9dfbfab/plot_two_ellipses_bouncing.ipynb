{
  "cells": [
    {
      "cell_type": "markdown",
      "metadata": {},
      "source": [
        "\n# Two Ellipses Bouncing on a Wavy Street\n\n## Objectives\n\n- Show to use LineProfiler to check CPU time usage of functions.\n- Show different methods to find the points of least distance between two\n  bodies with smooth contours.\n\n## Description\n\nTwo homogenious ellipses of semi-radii $a$ and $b$ and mass\n$m_e$ are dropped on an uneven street.\nUpon contact with the street or with each other, a force\nproportional to the penetration depth is applied, with spring constant\n$k_{\\textrm{spring}}$. (That is the shapes of the bodies are not\nconsidered. This could be done with Hunt-Crossley's method and is shown in\nother examples.) Also a speed dependent friction force is applied, with\nfriction coefficient $\\mu$. A particle of mass $m_o$ is placed on\neach ellipse.\n\n## Finding the points of least distance\n\n- **Brute Force**.\n  Select $\\textrm{accuracy}$ points on the hull of each body (e.g.\n  $\\textrm{ellipse}_0$ and $\\textrm{ellipse}_1$), calculate the\n  distance between each pair of\n  points and select the two points with minimum distance. For\n  $\\textrm{accuracy}$ large enough, this should be close to the global\n  minimum of the distance function. However, calculation is costly,\n  it scales with $\\textrm{accuracy}^2$.\n- **Minimization**.\n  Use a minimization algorithm to find the minimum of the distance function.\n  This is fast, but it may converge to a local minimum, depending on the\n  initial guess and the distance function.\n- **Root finding**.\n  A necessary (but not sufficient) condition for $P_0, P_1$ to be the\n  points of least distance is that the gradient of the distance function is\n  zero at these points. This is fast and accurate, but again it may converge to\n  a local minimum, depending on the initial guess.\n\n## Notes\n\n- The distance between the two ellipses depends continuously on the the\n  positions of the ellipses. Hence here the result of the previous time step\n  is used as initial guess for the minimization and that result is used for\n  root to get still more accuracy.\n- The distance between ellipses and the street is **not** continuous, hence\n  here the brute force method is used to get an initial guess for minimization\n  and root finding.\n- Any of the above only work when the bodies are not penetrating. When they\n  do, one of the intersection points will be found. Here a trick is used:\n  The distance to a 'smaller' body is calculated. If the distance is less than\n  a certain cut-off, penetration is assumed and the penetration depth is\n  calculated.\n- ``LineProfiler`` can show where the most CPU time is used in a function.\n  it is used here on the r.h.s of the differential equations\n  $\\dot{y} = f(y, \\textrm{parameters})$. It shows that brute force is\n  the costliest operation. It may be installed with\n  ``conda install conda-forge::spyder-line-profiler``\n- ``symjit`` is a new (as of August 2025) package similar to ``lambdify``.\n  In this simulation it can be used for brute force and\n  it is about twice as fast as ``lambdify``. It may be\n  installed with ``conda install conda-forge::symjit``\n\n**States**\n\n- $q_0, q_1$ : Angles of the ellipses\n- $x_0, x_1$ : x-positions of the centers of gravity of the ellipses\n- $y_0, y_1$ : y-positions of the centers of gravity of the ellipses\n- $u_0, u_1$ : Angular velocities of the ellipses\n- $u_{x0}, u_{x1}$ : x-velocities of the centers of gravity of the\n  ellipses\n- $u_{y0}, u_{y1}$ : y-velocities of the centers of gravity of the\n  ellipses\n\n**Parameters**\n\n- $m_e$ : Mass of the ellipses\n- $m_o$ : Mass of the particles on the ellipses\n- $g$ : Gravitational acceleration\n- $a, b$ : Semi-radii of the ellipses\n- $k_{\\textrm{spring}}$ : Spring constant for the contact forces\n- $\\textrm{amplitude}, \\textrm{frequenz}$ : Parameters to model the\n  street\n- $\\mu$ : Friction coefficient\n"
      ]
    },
    {
      "cell_type": "code",
      "execution_count": null,
      "metadata": {
        "collapsed": false
      },
      "outputs": [],
      "source": [
        "import sympy as sm\nimport numpy as np\nimport matplotlib.pyplot as plt\nimport sympy.physics.mechanics as me\nimport itertools as itt\nimport time\nfrom copy import deepcopy\nfrom symjit import compile_func\nfrom scipy.integrate import solve_ivp\nfrom scipy.optimize import root, minimize\nfrom scipy.interpolate import CubicSpline\nfrom matplotlib.patches import Ellipse\nfrom line_profiler import LineProfiler\nfrom matplotlib.animation import FuncAnimation"
      ]
    },
    {
      "cell_type": "markdown",
      "metadata": {},
      "source": [
        "This creates a decorator to test functions for usage of CPU time, line by\nline.\nTo see the results, this line: *profiler.print_stats()* must be added.\n\n"
      ]
    },
    {
      "cell_type": "code",
      "execution_count": null,
      "metadata": {
        "collapsed": false
      },
      "outputs": [],
      "source": [
        "profiler = LineProfiler()\n\n\ndef profile(func):\n    def inner(*args, **kwargs):\n        profiler.add_function(func)\n        profiler.enable_by_count()\n        return func(*args, **kwargs)\n    return inner"
      ]
    },
    {
      "cell_type": "markdown",
      "metadata": {},
      "source": [
        "symjit or lambdify may be used for the brute search.\n\n"
      ]
    },
    {
      "cell_type": "code",
      "execution_count": null,
      "metadata": {
        "collapsed": false
      },
      "outputs": [],
      "source": [
        "choose_symjit = True"
      ]
    },
    {
      "cell_type": "markdown",
      "metadata": {},
      "source": [
        "Model the street.\n\n"
      ]
    },
    {
      "cell_type": "code",
      "execution_count": null,
      "metadata": {
        "collapsed": false
      },
      "outputs": [],
      "source": [
        "rumpel = 5  # the higher the number the more 'uneven the street'\n\namplitude, frequenz, x = sm.symbols('amplitude, frequenz, x')\n\n\ndef gesamt1(x, amplitude, frequenz):\n    strasse = sum([amplitude/j * sm.sin(j*frequenz * x)\n                   for j in range(1, rumpel)])\n    strassen_form = (frequenz/2. * x)**2\n    gesamt = strassen_form + strasse\n    return gesamt\n\n\nstreet_lam = sm.lambdify(\n    (x, amplitude, frequenz), gesamt1(x, amplitude, frequenz), cse=True)"
      ]
    },
    {
      "cell_type": "markdown",
      "metadata": {},
      "source": [
        "Geometry of the system\n\n"
      ]
    },
    {
      "cell_type": "code",
      "execution_count": null,
      "metadata": {
        "collapsed": false
      },
      "outputs": [],
      "source": [
        "N, A0, A1 = sm.symbols('N A0 A1', cls=me.ReferenceFrame)\nO = me.Point('O')\nO.set_vel(N, 0)\nt = me.dynamicsymbols._t\n\n# Centers of gravity of the ellipses\nDmc0, Dmc1 = me.Point('Dmc0'), me.Point('Dmc1')\n# Particle on the ellipses\nPo0, Po1 = me.Point('Po0'), me.Point('Po1')\n# Points of least distance on the ellipses\nCPee0, CPee1 = me.Point('CPee0'), me.Point('CPee1')\n# points of least distance on the street on the ellipses\nCPes0, CPes1 = me.Point('CPes0'), me.Point('CPes1')\n# Counter points on the street\nCPse0, CPse1 = me.Point('CPse0'), me.Point('CPse1')\n\n# Generalized coordinates of the ellipses\nq0, q1, u0, u1, x0, x1, y0, y1, u0, u1, ux0, ux1, uy0, uy1 = me.dynamicsymbols(\n    'q0 q1 u0 u1 x0 x1 y0 y1 u0 u1 ux0 ux1 uy0 uy1')\n\n# These angles describe the points where the distances are closest\nangle_ee0, angle_ee1 = sm.symbols('angle_ee0 angle_ee1')\nangle_street0, angle_street1 = sm.symbols('angle_street0 angle_street1')\nX0, X1 = sm.symbols('X0 X1')\n\n# a, b are the semi axes of the ellipses\nm_e, m_o, g, a, b, k_spring, mu = sm.symbols('m_e m_o g a b k_spring mu')\npen_ee, pen_se0, pen_se1 = sm.symbols('pen_ee pen_se0 pen_se1')\n\n# Orient the frames\nA0.orient_axis(N, q0, N.z)\nA0.set_ang_vel(N, u0 * N.z)\nA1.orient_axis(N, q1, N.z)\nA1.set_ang_vel(N, u1 * N.z)\n\nDmc0.set_pos(O, x0 * N.x + y0 * N.y)\nDmc0.set_vel(N, ux0 * N.x + uy0 * N.y)\nDmc1.set_pos(O, x1 * N.x + y1 * N.y)\nDmc1.set_vel(N, ux1 * N.x + uy1 * N.y)\nPo0.set_pos(Dmc0, a/2 * A0.x + b/2 * A0.y)\nPo0.v2pt_theory(Dmc0, N, A0)\nPo1.set_pos(Dmc1, a/2 * A1.x + b/2 * A1.y)\nPo1.v2pt_theory(Dmc1, N, A1)\n\nCPee0.set_pos(Dmc0, a * sm.cos(angle_ee0) * A0.x +\n              b * sm.sin(angle_ee0) * A0.y)\nCPee1.set_pos(Dmc1, a * sm.cos(angle_ee1) * A1.x +\n              b * sm.sin(angle_ee1) * A1.y)\n\nCPes0.set_pos(Dmc0, a * sm.cos(angle_street0) * A0.x +\n              b * sm.sin(angle_street0) * A0.y)\nCPes1.set_pos(Dmc1, a * sm.cos(angle_street1) * A1.x +\n              b * sm.sin(angle_street1) * A1.y)\n\nCPse0.set_pos(O, X0 * N.x + gesamt1(X0, amplitude, frequenz) * N.y)\nCPse1.set_pos(O, X1 * N.x + gesamt1(X1, amplitude, frequenz) * N.y)"
      ]
    },
    {
      "cell_type": "markdown",
      "metadata": {},
      "source": [
        "Set initial conditions\n\n"
      ]
    },
    {
      "cell_type": "code",
      "execution_count": null,
      "metadata": {
        "collapsed": false
      },
      "outputs": [],
      "source": [
        "q01 = np.deg2rad(45)\nq11 = np.deg2rad(-30)\n\nx01 = -3.5\nx11 = 5.0\ny01 = 6.5\ny11 = 7.0\n\nu01 = 4.0\nu11 = -4.0\nux01 = 0.0\nux11 = 0.0\nuy01 = 0.0\nuy11 = 0.0\n\nm_e1 = 1.0\nm_o1 = 1.0\ng1 = 9.81\na1 = 1.0\nb1 = 2.0\nk_spring1 = 5000.0\namplitude1 = 1.0\nfrequenz1 = 0.5\nmu1 = 0.025\n\naccuracy = 50\nsafety_factor = 1.e-2\n\ny00 = [q01, q11, x01, x11, y01, y11, u01, u11, ux01, ux11, uy01, uy11]\npL_vals = [m_e1, m_o1, g1, a1, b1, k_spring1, amplitude1, frequenz1, mu1]"
      ]
    },
    {
      "cell_type": "markdown",
      "metadata": {},
      "source": [
        "Get the distance between the two ellipses in three ways.\nDistance must be positive, else one of the intersection points will be found.\n\n"
      ]
    },
    {
      "cell_type": "code",
      "execution_count": null,
      "metadata": {
        "collapsed": false
      },
      "outputs": [],
      "source": [
        "qL = [q0, q1, x0, x1, y0, y1, u0, u1, ux0, ux1, uy0, uy1]\npL = [m_e, m_o, g, a, b, k_spring, amplitude, frequenz, mu]\n\n\nPe0, Pe1 = sm.symbols('Pe0 Pe1', cls=me.Point)\nangle0, angle1 = sm.symbols('angle0 angle1')\n\n# brute force search for minimum distance\nsearch_space = list(itt.product(np.linspace(0, 2*np.pi, accuracy),\n                                np.linspace(0, 2*np.pi, accuracy)))\n\n\ndef distance_func_ee(angle0, angle1):\n    Pe0.set_pos(Dmc0, a * sm.cos(angle0) * A0.x + b * sm.sin(angle0) * A0.y)\n    Pe1.set_pos(Dmc1, a * sm.cos(angle1) * A1.x + b * sm.sin(angle1) * A1.y)\n    distance = sm.sqrt(safety_factor**2 + Pe0.pos_from(Pe1).dot(N.x)**2 +\n                       Pe0.pos_from(Pe1).dot(N.y)**2)\n    return distance\n\n\ndistance_ee_lam = sm.lambdify(([angle0, angle1] + qL + pL),\n                              distance_func_ee(angle0, angle1), cse=True)\n\ndistance_array = np.array([distance_ee_lam(*([angle0, angle1] + y00 + pL_vals))\n                           for angle0, angle1 in search_space])\n\nmin_distance = np.min(distance_array)\nmin_distance_index = np.argmin(distance_array)\nangle_brute_0 = np.linspace(0, 2*np.pi, accuracy)[min_distance_index //\n                                                  accuracy]\nangle_brute_1 = np.linspace(0, 2*np.pi, accuracy)[min_distance_index %\n                                                  accuracy]\n\n# Search by minimizing the distance function.\n\n\ndef distance_minimizer(X00, args):\n    angle0, angle1 = X00\n    return distance_ee_lam(*([angle0, angle1] + args))\n\n\nX00 = [0.0, 1.0]\nargs = y00 + pL_vals\nloesung = minimize(distance_minimizer, X00, args, tol=1.e-6)\nangle_min_0, angle_min_1 = loesung.x\nprint(loesung.message)\n\n# Solve with gradient(distance) = 0\n\n\ndef distance_ee_grad(angle0, angle1):\n    Pe0.set_pos(Dmc0, a * sm.cos(angle0) * A0.x + b * sm.sin(angle0) * A0.y)\n    Pe1.set_pos(Dmc1, a * sm.cos(angle1) * A1.x + b * sm.sin(angle1) * A1.y)\n    grad = [sm.sqrt(safety_factor**2 + Pe0.pos_from(Pe1).dot(N.x)**2 +\n                    Pe0.pos_from(Pe1).dot(N.y)**2).diff(angle)\n            for angle in (angle0, angle1)]\n    return grad\n\n\ndistance_ee_grad_lam = sm.lambdify(([angle0, angle1] + qL + pL),\n                                   distance_ee_grad(angle0, angle1), cse=True)\n\n\ndef equations_ee(X00, args):\n    angle0, angle1 = X00\n    return distance_ee_grad_lam(*([angle0, angle1] + args))\n\n\nX00 = [angle_min_0, angle_min_1]\nargs = y00 + pL_vals\nloesung = root(equations_ee, X00, args)\nangle_root_0, angle_root_1 = loesung.x\nprint(loesung.message)\n\n# 'Print the results to compare the three methods '\nprint('brute force.   Distance', min_distance, 'angle01',\n      np.rad2deg(angle_brute_0), 'angle02 ', np.rad2deg(angle_brute_1))\nprint('minimization.  Distance', distance_ee_lam(*(loesung.x.tolist() + args)),\n      'angle01', np.rad2deg(loesung.x[0]), 'angle02', np.rad2deg(loesung.x[1]))\nprint('root.          Distance', distance_ee_lam(*(loesung.x.tolist() + args)),\n      'angle01', np.rad2deg(loesung.x[0]), 'angle02', np.rad2deg(loesung.x[1]))"
      ]
    },
    {
      "cell_type": "markdown",
      "metadata": {},
      "source": [
        "Get the distance between ellipse and street in three ways. Distance must\nbe positive, else one of the points where they intersect will be found.\n\nIf the distance gets very close to zero, numerical problems araise with\nminimizer and with root. safety_factor is used so the argument in sqrt\nremains positive at all times.\n\n"
      ]
    },
    {
      "cell_type": "code",
      "execution_count": null,
      "metadata": {
        "collapsed": false
      },
      "outputs": [],
      "source": [
        "Pe0, Pe1 = sm.symbols('Pe0 Pe1', cls=me.Point)\nstreet_point, angle_street = sm.symbols('street_point angle_street')\ngrenze = 25.0\n\n# brute force search for minimum distance\nsearch_space = list(itt.product(np.linspace(-grenze, grenze, accuracy),\n                                np.linspace(0, 2*np.pi, accuracy)))\n\n\ndef distance_func0(street_point, angle_street):\n    Pe0, Pe1 = sm.symbols('Pe0 Pe1', cls=me.Point)\n    Pe0.set_pos(Dmc0, a * sm.cos(angle_street) * A0.x +\n                b * sm.sin(angle_street) * A0.y)\n    Pe1.set_pos(O, street_point * N.x + gesamt1(street_point,\n                                                amplitude, frequenz) * N.y)\n    distance = sm.sqrt(safety_factor**2 + (Pe0.pos_from(Pe1).dot(N.x))**2 +\n                       (Pe0.pos_from(Pe1).dot(N.y))**2)\n    return distance\n\n\ndef distance_func1(street_point, angle_street):\n    Pe0, Pe1 = sm.symbols('Pe0 Pe1', cls=me.Point)\n    Pe0.set_pos(Dmc1, a * sm.cos(angle_street) * A1.x +\n                b * sm.sin(angle_street) * A1.y)\n    Pe1.set_pos(O, street_point * N.x + gesamt1(street_point,\n                                                amplitude, frequenz) * N.y)\n\n    distance = sm.sqrt(safety_factor**2 + (Pe0.pos_from(Pe1).dot(N.x))**2 +\n                       (Pe0.pos_from(Pe1).dot(N.y))**2)\n    return distance\n\n\nif not choose_symjit:\n    distance_lam = sm.lambdify(([street_point, angle_street] + qL + pL),\n                               [distance_func0(street_point, angle_street),\n                                distance_func1(street_point, angle_street)],\n                               cse=True)\nelse:\n    helpers = [sm.symbols('helper'+str(i)) for i in range(len(qL))]\n    dict_qL = {qL[i]: helpers[i] for i in range(len(qL))}\n    args_ufunc = tuple([street_point, angle_street] + helpers + pL)\n    distance_lam = compile_func(\n        (args_ufunc), (distance_func0(street_point,\n                                      angle_street).subs(dict_qL),\n                       distance_func1(street_point,\n                                      angle_street).subs(dict_qL)))\nellipse_street_brute = []\nellipse_street_min = []\nellipse_street_root = []\n\nfor i in range(2):\n    distance_array = np.array(\n        [distance_lam(*([street_point, angle_street] + y00 + pL_vals))[i]\n         for street_point, angle_street in search_space])\n\n    min_distance = np.min(distance_array)\n    min_distance_index = np.argmin(distance_array)\n    street_point_brute = np.linspace(\n        -grenze, grenze, accuracy)[min_distance_index // accuracy]\n    angle_street_brute = np.linspace(\n        0, 2*np.pi, accuracy)[min_distance_index % accuracy]\n    ellipse_street_brute.append([street_point_brute, angle_street_brute])\n\n    # Search by minimizing the distance function.\n    def distance_minimizer(X00, args):\n        street_point, angle_street = X00\n        return distance_lam(*([street_point, angle_street] + args))[i]\n\n    X00 = [0.0, 1.0]\n    args = y00 + pL_vals\n    loesung = minimize(distance_minimizer, X00, args, tol=1.e-6)\n    street_point_min, angle_street_min = loesung.x\n    print(loesung.message)\n    ellipse_street_min.append([street_point_min, angle_street_min])\n\n# Solve with gradient(distance) = 0\n\n\ndef distance_grad0(street_point, angle_street):\n    Pe0, Pe1 = sm.symbols('Pe0 Pe1', cls=me.Point)\n    Pe0.set_pos(Dmc0, a * sm.cos(angle_street) * A0.x +\n                b * sm.sin(angle_street) * A0.y)\n    Pe1.set_pos(O, street_point * N.x + gesamt1(street_point,\n                                                amplitude, frequenz) * N.y)\n    grad = [sm.sqrt(safety_factor**2 + Pe0.pos_from(Pe1).dot(N.x)**2 +\n                    Pe0.pos_from(Pe1).dot(N.y)**2).diff(angle)\n            for angle in (street_point, angle_street)]\n    return grad\n\n\ndef distance_grad1(street_point, angle_street):\n    Pe0, Pe1 = sm.symbols('Pe0 Pe1', cls=me.Point)\n    Pe0.set_pos(Dmc1, a * sm.cos(angle_street) * A1.x +\n                b * sm.sin(angle_street) * A1.y)\n    Pe1.set_pos(O, street_point * N.x + gesamt1(street_point,\n                                                amplitude, frequenz) * N.y)\n    grad = [sm.sqrt(safety_factor**2 + (Pe0.pos_from(Pe1).dot(N.x))**2 +\n                    (Pe0.pos_from(Pe1).dot(N.y))**2).diff(angle)\n            for angle in (street_point, angle_street)]\n    return grad\n\n\ndistance_grad_lam = sm.lambdify(([street_point, angle_street] + qL + pL),\n                                [distance_grad0(street_point, angle_street),\n                                 distance_grad1(street_point, angle_street)],\n                                cse=True)\n\nfor i in range(2):\n    def equations(X00, args):\n        street_point, angle_street = X00\n        return distance_grad_lam(*([street_point, angle_street] + args))[i]\n\n    X00 = [ellipse_street_min[i][0], ellipse_street_min[i][1]]\n    args = y00 + pL_vals\n    loesung = root(equations, X00, args, method='hybr')\n    street_point_root, angle_street_root = loesung.x\n    print(loesung.message)\n    ellipse_street_root.append([street_point_root, angle_street_root])\n\nprint('\\n')\nprint(f\"{' ' * 5} street point angles01{' ' * 25} street point angles02\")\nprint('brute', ellipse_street_brute)\nprint('min', ellipse_street_min)\nprint('root', ellipse_street_root, '\\n')\n\nprint(f'{\" \" * 5} Distance ellipse0 / street{\" \" * 10} ellipse1 / street')\nprint('Brute method:', distance_lam(*(ellipse_street_brute[0] + y00 +\n                                      pL_vals))[0], f\"{' ' * 12}\",\n      distance_lam(*(ellipse_street_brute[1] + y00 + pL_vals))[1])\nprint('Minimization:', distance_lam(*(ellipse_street_min[0] + y00 +\n                                      pL_vals))[0], f\"{' ' * 12}\",\n      distance_lam(*(ellipse_street_min[1] + y00 + pL_vals))[1])\nprint('Root method :', distance_lam(*(ellipse_street_root[0] + y00 +\n                                      pL_vals))[0], f\"{' ' * 12}\",\n      distance_lam(*(ellipse_street_root[1] + y00 + pL_vals))[1])\n\n\ndef distance_se0(street_point, angle_street):\n    Pe0, Pe1 = sm.symbols('Pe0 Pe1', cls=me.Point)\n    Pe0.set_pos(Dmc0, a * sm.cos(angle_street) * A0.x +\n                b * sm.sin(angle_street) * A0.y)\n    Pe1.set_pos(O, street_point * N.x + gesamt1(street_point,\n                                                amplitude, frequenz) * N.y)\n\n    distance = sm.sqrt(safety_factor**2 + (Pe0.pos_from(Pe1).dot(N.x))**2 +\n                       (Pe0.pos_from(Pe1).dot(N.y))**2)\n    return distance\n\n\n# Needed for some plotting\n\n\ndef distance_se1(street_point, angle_street):\n    Pe0, Pe1 = sm.symbols('Pe0 Pe1', cls=me.Point)\n    Pe0.set_pos(Dmc1, a * sm.cos(angle_street) * A1.x +\n                b * sm.sin(angle_street) * A1.y)\n    Pe1.set_pos(O, street_point * N.x + gesamt1(street_point,\n                                                amplitude, frequenz) * N.y)\n\n    distance = sm.sqrt(safety_factor**2 + (Pe0.pos_from(Pe1).dot(N.x))**2 +\n                       (Pe0.pos_from(Pe1).dot(N.y))**2)\n    return distance\n\n\nangle0, angle1 = sm.symbols('angle0 angle1')\n\n\ndef distance_ee(angle0, angle1):\n    Pe0, Pe1 = sm.symbols('Pe0 Pe1', cls=me.Point)\n    Pe0.set_pos(Dmc0, a * sm.cos(angle0) * A0.x + b * sm.sin(angle0) * A0.y)\n    Pe1.set_pos(Dmc1, a * sm.cos(angle1) * A1.x + b * sm.sin(angle1) * A1.y)\n    distance = sm.sqrt(safety_factor**2 + Pe0.pos_from(Pe1).dot(N.x)**2 +\n                       Pe0.pos_from(Pe1).dot(N.y)**2)\n    return distance\n\n\ndist_se0_lam = sm.lambdify(([street_point, angle_street] + qL + pL),\n                           distance_se0(street_point, angle_street), cse=True)\ndist_se1_lam = sm.lambdify(([street_point, angle_street] + qL + pL),\n                           distance_se1(street_point, angle_street), cse=True)\ndist_ee_lam = sm.lambdify(([angle0, angle1] + qL + pL),\n                          distance_ee(angle0, angle1), cse=True)"
      ]
    },
    {
      "cell_type": "markdown",
      "metadata": {},
      "source": [
        "Calculate the scalar product of the two normal vectors,\nellipse / ellipse and ellipse / street.\n\nA necessary condition for the distance points (but by no means sufficient) is\nthat the normal vectors to the surfaces of the two bodies be parallel.\nThis is checked here.\n\n"
      ]
    },
    {
      "cell_type": "markdown",
      "metadata": {},
      "source": [
        "Ellipse / Ellipse\n\n"
      ]
    },
    {
      "cell_type": "code",
      "execution_count": null,
      "metadata": {
        "collapsed": false
      },
      "outputs": [],
      "source": [
        "def scalar_product_ee(angle0, angle1):\n    n0 = (sm.cos(angle0) * A0.x / a + sm.sin(angle0) * A0.y / b).normalize()\n    n1 = (sm.cos(angle1) * A1.x / a + sm.sin(angle1) * A1.y / b).normalize()\n    return n0.dot(n1)\n\n\nscalar_ee_lam = sm.lambdify(\n    ([angle0, angle1] + qL + pL), scalar_product_ee(angle0, angle1), cse=True)\n\nnames = ['brute', 'min', 'root']\nfor j, angles in enumerate(\n    [(angle_brute_0, angle_brute_1), (angle_min_0, angle_min_1),\n     (angle_root_0, angle_root_1)]):\n    scalar = scalar_ee_lam(*(list(angles) + y00 + pL_vals))\n    print(f'{names[j]} method: inner product ellipse / ellipse', scalar)\n\n\n# Ellipse / street\n\n\ndef scalar_product_es0(street_point, angle_street):\n    n_ellipse = (sm.cos(angle_street) * A0.x / a +\n                 sm.sin(angle_street) * A0.y / b).normalize()\n    tangent_street = (-gesamt1(street_point, amplitude, frequenz).diff(\n        street_point) * N.x + N.y).normalize()\n    return n_ellipse.dot(tangent_street)\n\n\ndef scalar_product_es1(street_point, angle_street):\n    n_ellipse = (sm.cos(angle_street) * A1.x / a +\n                 sm.sin(angle_street) * A1.y / b).normalize()\n    tangent_street = (-gesamt1(street_point, amplitude, frequenz).diff(\n        street_point) * N.x + N.y).normalize()\n    return n_ellipse.dot(tangent_street)\n\n\nscalar_es_lam = sm.lambdify(\n    ([street_point, angle_street] + qL + pL),\n    [scalar_product_es0(street_point, angle_street),\n     scalar_product_es1(street_point, angle_street)], cse=True)\nprint('\\n')\nfor i in range(2):\n    for j, angles in enumerate([\n        (ellipse_street_brute[i][0], ellipse_street_brute[i][1]),\n        (ellipse_street_min[i][0], ellipse_street_min[i][1]),\n        (ellipse_street_root[i][0], ellipse_street_root[i][1])]):\n\n        scalar = scalar_es_lam(*(list(angles) + y00 + pL_vals))[i]\n        print(f'{names[j]} method: inner product ellipse{i} / street', scalar)"
      ]
    },
    {
      "cell_type": "markdown",
      "metadata": {},
      "source": [
        "Penetration depth.\n\nHere a trick is used: If the distance is less than cut_off, penetration is\nassumed. In other words, the distance to a 'smaller' body is calculated.\n\n"
      ]
    },
    {
      "cell_type": "code",
      "execution_count": null,
      "metadata": {
        "collapsed": false
      },
      "outputs": [],
      "source": [
        "# Ellipse / ellipse penetration depth\ncut_off = 0.4\n\n\ndef penetration_ee(angle0, angle1):\n    Pe, Pj = sm.symbols('Pe Pj', cls=me.Point)\n    Pe.set_pos(Dmc0, a * sm.cos(angle0) * A0.x + b * sm.sin(angle0) * A0.y)\n    Pj.set_pos(Dmc1, a * sm.cos(angle1) * A1.x + b * sm.sin(angle1) * A1.y)\n    distance = sm.sqrt(safety_factor**2 + Pe.pos_from(Pj).dot(N.x)**2 +\n                       Pe.pos_from(Pj).dot(N.y)**2)\n    factor = sm.Piecewise((1, distance - cut_off < 0), (0, True))\n    penetration = factor * (cut_off - distance)\n    return penetration\n\n\ndef penetration_es0(street_point, angle_street):\n    Pe0, Pe1 = sm.symbols('Pe0 Pe1', cls=me.Point)\n    Pe0.set_pos(Dmc0, a * sm.cos(angle_street) * A0.x +\n                b * sm.sin(angle_street) * A0.y)\n    Pe1.set_pos(O, street_point * N.x + gesamt1(street_point,\n                                                amplitude, frequenz) * N.y)\n    distance = sm.sqrt(safety_factor**2 + Pe0.pos_from(Pe1).dot(N.x)**2 +\n                       Pe0.pos_from(Pe1).dot(N.y)**2)\n    factor = sm.Piecewise((1, distance - cut_off < 0), (0, True))\n    penetration = factor * (cut_off - distance)\n    return penetration\n\n\ndef penetration_es1(street_point, angle_street):\n    Pe0, Pe1 = sm.symbols('Pe0 Pe1', cls=me.Point)\n    Pe0.set_pos(Dmc1, a * sm.cos(angle_street) * A1.x +\n                b * sm.sin(angle_street) * A1.y)\n    Pe1.set_pos(O, street_point * N.x + gesamt1(street_point,\n                                                amplitude, frequenz) * N.y)\n    distance = sm.sqrt(safety_factor**2 + Pe0.pos_from(Pe1).dot(N.x)**2 +\n                       Pe0.pos_from(Pe1).dot(N.y)**2)\n    factor = sm.Piecewise((1, distance - cut_off <= 0), (0, True))\n    penetration = factor * (cut_off - distance)\n    return penetration\n\n\npen_es_lam0 = sm.lambdify(\n    ([street_point, angle_street] + qL + pL),\n    penetration_es0(street_point, angle_street), cse=True)\n\npen_es_lam1 = sm.lambdify(\n    ([street_point, angle_street] + qL + pL),\n    penetration_es1(street_point, angle_street), cse=True)\n\npen_ee_lam = sm.lambdify(([angle0, angle1] + qL + pL),\n                         penetration_ee(angle0, angle1), cse=True)\n\nfor j, angles in enumerate(\n    [(angle_brute_0, angle_brute_1), (angle_min_0, angle_min_1),\n     (angle_root_0, angle_root_1)]):\n    pen = pen_ee_lam(*(list(angles) + y00 + pL_vals))\n    print(f'{names[j]} method: penetration depth ellipse / ellipse', pen)\n\nprint('\\n')\nfor i in range(2):\n    for j, angles in enumerate(\n        [(ellipse_street_brute[i][0], ellipse_street_brute[i][1]),\n         (ellipse_street_min[i][0], ellipse_street_min[i][1]),\n         (ellipse_street_root[i][0], ellipse_street_root[i][1])]):\n        pen = [pen_es_lam0, pen_es_lam1][i](*(list(angles) + y00 + pL_vals))\n        print(f'{names[j]} method: penetration depth ellipse{i} / street', pen)"
      ]
    },
    {
      "cell_type": "markdown",
      "metadata": {},
      "source": [
        "Forces acting on the ellipses, due to elasticity (Spring)\n\n"
      ]
    },
    {
      "cell_type": "code",
      "execution_count": null,
      "metadata": {
        "collapsed": false
      },
      "outputs": [],
      "source": [
        "def force_ee(angle0, pen_ee):\n    n0 = (sm.cos(angle0) * A0.x / a + sm.sin(angle0) * A0.y / b).normalize()\n    f_Nx = k_spring * pen_ee * n0.dot(N.x)\n    f_Ny = k_spring * pen_ee * n0.dot(N.y)\n    return f_Nx, f_Ny\n\n\ndef force_es0(X0, pen_se0):\n    no = (-gesamt1(X0, amplitude, frequenz).diff(\n        X0) * N.x + N.y).normalize()\n    f_Nx = k_spring * pen_se0 * no.dot(N.x)\n    f_Ny = k_spring * pen_se0 * no.dot(N.y)\n    return f_Nx, f_Ny\n\n\ndef force_es1(X1, pen_se1):\n    no = (-gesamt1(X1, amplitude, frequenz).diff(\n        X1) * N.x + N.y).normalize()\n    f_Nx = k_spring * pen_se1 * no.dot(N.x)\n    f_Ny = k_spring * pen_se1 * no.dot(N.y)\n    return f_Nx, f_Ny"
      ]
    },
    {
      "cell_type": "markdown",
      "metadata": {},
      "source": [
        "Force due to speed dependent friction\n\n"
      ]
    },
    {
      "cell_type": "code",
      "execution_count": null,
      "metadata": {
        "collapsed": false
      },
      "outputs": [],
      "source": [
        "def force_ee_friction(angle0, angle1, pen_ee):\n    Pe, Pj = sm.symbols('Pe Pj', cls=me.Point)\n    Pe.set_pos(Dmc0, a * sm.cos(angle0) * A0.x + b * sm.sin(angle0) * A0.y)\n    Pj.set_pos(Dmc1, a * sm.cos(angle1) * A1.x + b * sm.sin(angle1) * A1.y)\n    rel_speed = Pe.vel(N) - Pj.vel(N)\n    n0 = (sm.cos(angle0) * A0.x / a + sm.sin(angle0) * A0.y / b).normalize()\n    force_x, force_y = force_ee(angle0, pen_ee)\n    force_abs = sm.sqrt(force_x**2 + force_y**2)\n    n_force = n0.cross(N.z)\n    rel_speed_tangent = rel_speed.dot(n_force)\n    # safety:\n    factor = sm.Piecewise((1, pen_ee > 0), (0, True))\n    friction_force = mu * force_abs * rel_speed_tangent * n_force * factor\n    return friction_force.dot(N.x), friction_force.dot(N.y)\n\n\ndef force_es0_friction(X0, angle_street, pen_se0):\n    Pe0, Pe1 = sm.symbols('Pe0 Pe1', cls=me.Point)\n    Pe0.set_pos(Dmc0, a * sm.cos(angle_street) * A0.x +\n                b * sm.sin(angle_street) * A0.y)\n    Pe1.set_pos(O, X0 * N.x + gesamt1(X0, amplitude, frequenz) * N.y)\n    rel_speed = Pe0.vel(N)\n    no = (-gesamt1(X0, amplitude, frequenz).diff(\n        X0) * N.x + N.y).normalize()\n    force_x, force_y = force_es0(X0, pen_se0)\n    force_abs = sm.sqrt(force_x**2 + force_y**2)\n    n_force = no.cross(N.z)\n    rel_speed_tangent = rel_speed.dot(n_force)\n    # safety:\n    factor = sm.Piecewise((1, pen_se0 > 0), (0, True))\n    friction_force = -mu * force_abs * rel_speed_tangent * n_force * factor\n    return friction_force.dot(N.x), friction_force.dot(N.y)\n\n\ndef force_es1_friction(X1, angle_street, pen_se1):\n    Pe0, Pe1 = sm.symbols('Pe0 Pe1', cls=me.Point)\n    Pe0.set_pos(Dmc1, a * sm.cos(angle_street) * A1.x +\n                b * sm.sin(angle_street) * A1.y)\n    Pe1.set_pos(O, X1 * N.x + gesamt1(X1, amplitude, frequenz) * N.y)\n    rel_speed = Pe0.vel(N)\n    no = (-gesamt1(X1, amplitude, frequenz).diff(\n        X1) * N.x + N.y).normalize()\n    force_x, force_y = force_es1(X1, pen_se1)\n    force_abs = sm.sqrt(force_x**2 + force_y**2)\n    n_force = no.cross(N.z)\n    rel_speed_tangent = rel_speed.dot(n_force)\n    # safety:\n    factor = sm.Piecewise((1, pen_se1 > 0), (0, True))\n    friction_force = -mu * force_abs * rel_speed_tangent * n_force * factor\n    return friction_force.dot(N.x), friction_force.dot(N.y)"
      ]
    },
    {
      "cell_type": "markdown",
      "metadata": {},
      "source": [
        "Plot the initial configuration.\n\n"
      ]
    },
    {
      "cell_type": "code",
      "execution_count": null,
      "metadata": {
        "collapsed": false
      },
      "outputs": [],
      "source": [
        "# Ellipse / Ellipse\nangle0_used, angle1_used = sm.symbols('angle0_used angle1_used')\narrow_ee0, arrow_ee1 = sm.symbols('arrow_ee0 arrow_ee1', cls=me.Point)\n\narrow_ee0.set_pos(CPee0, sm.cos(angle_ee0) * A0.x / a +\n                  sm.sin(angle_ee0) * A0.y / b)\narrow_ee1.set_pos(CPee1, sm.cos(angle_ee1) * A1.x / a +\n                  sm.sin(angle_ee1) * A1.y / b)\n\n# Set the coordinates\ncoordinates = Dmc0.pos_from(O).to_matrix(N)\nfor point in (Dmc1, Po0, Po1, CPee0, CPee1, arrow_ee0, arrow_ee1):\n    coordinates = coordinates.row_join(point.pos_from(O).to_matrix(N))\n\n\ncoords_lam = sm.lambdify((qL + pL + [angle_ee0, angle_ee1]),\n                         coordinates, cse=True)\n\nangle0_used_val = angle_root_0\nangle1_used_val = angle_root_1\ncoords = coords_lam(*(y00 + pL_vals + [angle0_used_val, angle1_used_val]))\n\n# Street / ellipse\nstreet_point_used, angle_street_used = sm.symbols(\n    'street_point_used angle_street_used')\n\narrow_es0, arrow_es1 = sm.symbols('arrow_es0 arrow_es1', cls=me.Point)\narrow_se0, arrow_se1 = sm.symbols('arrow_se0 arrow_se1', cls=me.Point)\n\narrow_es0.set_pos(CPes0, sm.cos(angle_street0) * A0.x / a +\n                  sm.sin(angle_street0) * A0.y / b)\narrow_es1.set_pos(CPes1, sm.cos(angle_street1) * A1.x / a +\n                  sm.sin(angle_street1) * A1.y / b)\n\narrow_se0.set_pos(\n    CPse0, -gesamt1(X0, amplitude, frequenz).diff(X0) * N.x + N.y)\narrow_se1.set_pos(CPse1, -gesamt1(\n    X1, amplitude, frequenz).diff(X1) * N.x + N.y)\n\ncoordinates = CPes0.pos_from(O).to_matrix(N)\nfor point in (CPes1, CPse0, CPse1, arrow_es0, arrow_es1, arrow_se0, arrow_se1):\n    coordinates = coordinates.row_join(point.pos_from(O).to_matrix(N))\n\ncoords_es_lam = sm.lambdify((qL + pL + [angle_street0, angle_street1, X0, X1]),\n                            coordinates, cse=True)\n\nangle_street0_used_val = ellipse_street_root[0][1]\nangle_street1_used_val = ellipse_street_root[1][1]\nX0_used_val = ellipse_street_root[0][0]\nX1_used_val = ellipse_street_root[1][0]\n\ncoords_es = coords_es_lam(\n    *(y00 + pL_vals + [angle_street0_used_val, angle_street1_used_val,\n                       X0_used_val, X1_used_val]))\n\nfig, ax = plt.subplots(figsize=(10, 10))\nax.set_aspect('equal')\n\nellipse1 = Ellipse(\n    (coords[0, 0], coords[1, 0]), width=2*a1, height=2*b1,\n    angle=np.rad2deg(y00[0]), facecolor='red',\n    edgecolor='black', label=f'ellipse 0', alpha=0.5)\nax.add_patch(ellipse1)\n\nellipse2 = Ellipse(\n    (coords[0, 1], coords[1, 1]), width=2*a1, height=2*b1,\n    angle=np.rad2deg(y00[1]), edgecolor='black',\n    facecolor='blue', alpha=0.5, label=f'ellipse 1')\nax.add_patch(ellipse2)\n\n# centers of the ellipses\nax.scatter([coords[0, 0]], [coords[1, 0]], color='red', edgecolors='black',\n           s=20)\nax.scatter([coords[0, 1]], [coords[1, 1]], color='blue', edgecolors='black',\n           s=20)\n# particles on the ellipses\nax.scatter([coords[0, 2]], [coords[1, 2]], color='yellow', s=30,\n           edgecolors='black')\nax.scatter([coords[0, 3]], [coords[1, 3]], color='yellow', s=30,\n           edgecolors='black')\n\n# points of least distance on the ellipses\nax.scatter([coords[0, 4]], [coords[1, 4]], color='green', s=50)\nax.scatter([coords[0, 5]], [coords[1, 5]], color='green', s=50)\n\n# line connecting the points of least distance\nax.plot([coords[0, 4], coords[0, 5]], [coords[1, 4], coords[1, 5]],\n        color='green', linestyle='-', linewidth=0.5)\n\n# normal vectors at the points of least distance\nscala = 1.0 / (np.sqrt((coords[0, 6] - coords[0, 4])**2 +\n                       (coords[1, 6] - coords[1, 4])**2))\nax.quiver(coords[0, 4], coords[1, 4], scala * (coords[0, 6] - coords[0, 4]),\n          scala * (coords[1, 6] - coords[1, 4]),\n          color='red', angles='xy', scale_units='xy', scale=1, width=0.005)\n\nscala = 1.0 / (np.sqrt((coords[0, 7] - coords[0, 5])**2 +\n                       (coords[1, 7] - coords[1, 5])**2))\nax.quiver(coords[0, 5], coords[1, 5], scala * (coords[0, 7] - coords[0, 5]),\n          scala * (coords[1, 7] - coords[1, 5]),\n          color='blue', angles='xy', scale_units='xy', scale=1, width=0.005)\nax.legend()\n\n# Draw the street\ngrenze = 10\nx_street = np.linspace(-grenze, grenze, 500)\ny_street = street_lam(x_street, amplitude1, frequenz1)\nax.plot(x_street, y_street, color='black', linestyle='-', linewidth=1)\n\n# Draw the ellipse / street points\nax.scatter([coords_es[0, 0]], [coords_es[1, 0]], color='green', s=50)\nax.scatter([coords_es[0, 1]], [coords_es[1, 1]], color='green', s=50)\nax.scatter([coords_es[0, 2]], [coords_es[1, 2]], color='black', s=30)\nax.scatter([coords_es[0, 3]], [coords_es[1, 3]], color='black', s=30)\n# line connecting the points of least distance\nax.plot([coords_es[0, 0], coords_es[0, 2]], [coords_es[1, 0], coords_es[1, 2]],\n        color='green', linestyle='-', linewidth=0.5)\nax.plot([coords_es[0, 1], coords_es[0, 3]], [coords_es[1, 1], coords_es[1, 3]],\n        color='green', linestyle='-', linewidth=0.5)\n\n# Draw the normals on the ellipses\nscala = 1.0 / (np.sqrt((coords_es[0, 4] - coords_es[0, 0])**2 +\n                       (coords_es[1, 4] - coords_es[1, 0])**2))\nax.quiver(coords_es[0, 0], coords_es[1, 0],\n          scala * (coords_es[0, 4] - coords_es[0, 0]),\n          scala * (coords_es[1, 4] - coords_es[1, 0]),\n          color='red', angles='xy', scale_units='xy', scale=1, width=0.005)\nscala = 1.0 / (np.sqrt((coords_es[0, 5] - coords_es[0, 1])**2 +\n                       (coords_es[1, 5] - coords_es[1, 1])**2))\nax.quiver(coords_es[0, 1], coords_es[1, 1],\n          scala * (coords_es[0, 5] - coords_es[0, 1]),\n          scala * (coords_es[1, 5] - coords_es[1, 1]),\n          color='blue', angles='xy', scale_units='xy', scale=1, width=0.005)\nscala = 1.0 / (np.sqrt((coords_es[0, 6] - coords_es[0, 2])**2 +\n                       (coords_es[1, 6] - coords_es[1, 2])**2))\nax.quiver(coords_es[0, 2], coords_es[1, 2],\n          scala * (coords_es[0, 6] - coords_es[0, 2]),\n          scala * (coords_es[1, 6] - coords_es[1, 2]),\n          color='black', angles='xy', scale_units='xy', scale=1, width=0.005)\nscala = 1.0 / (np.sqrt((coords_es[0, 7] - coords_es[0, 3])**2 +\n                       (coords_es[1, 7] - coords_es[1, 3])**2))\nax.quiver(coords_es[0, 3], coords_es[1, 3],\n          scala * (coords_es[0, 7] - coords_es[0, 3]),\n          scala * (coords_es[1, 7] - coords_es[1, 3]),\n          color='black', angles='xy', scale_units='xy', scale=1, width=0.005)\nax.set_xlim(-grenze, grenze)\nax.set_xlabel('x [m]', fontsize=14)\nax.set_ylabel('y [m]', fontsize=14)\nax.set_title('Ellipses and street with normals at contact points', fontsize=16)\nax.grid(True)"
      ]
    },
    {
      "cell_type": "markdown",
      "metadata": {},
      "source": [
        "## Equations of Motion\n\n"
      ]
    },
    {
      "cell_type": "code",
      "execution_count": null,
      "metadata": {
        "collapsed": false
      },
      "outputs": [],
      "source": [
        "# Bodies\nIzz_e = 1 / 4 * m_e * (a**2 + b**2)\ninertia_e0 = me.inertia(A0, 0, 0, Izz_e)\ninertia_e1 = me.inertia(A1, 0, 0, Izz_e)\nellipse0 = me.RigidBody('ellipse0', Dmc0, A0, m_e, (inertia_e0, Dmc0))\nellipse1 = me.RigidBody('ellipse1', Dmc1, A1, m_e, (inertia_e1, Dmc1))\nobserver0 = me.Particle('observer0', Po0, m_o)\nobserver1 = me.Particle('observer1', Po1, m_o)\nbodies = [ellipse0, ellipse1, observer0, observer1]\n\n# Forces\nforces = []\n# Gravity\nforces.append((Dmc0, -m_e * g * N.y))\nforces.append((Dmc1, -m_e * g * N.y))\nforces.append((Po0, -m_o * g * N.y))\nforces.append((Po1, -m_o * g * N.y))\n\n# Ellipse0 on ellipse1 due to spring\nforces.append((CPee1, force_ee(angle_ee0, pen_ee)[0] * N.x +\n               force_ee(angle_ee0, pen_ee)[1] * N.y))\nforces.append((CPee0, -force_ee(angle_ee0, pen_ee)[0] * N.x -\n               force_ee(angle_ee0, pen_ee)[1] * N.y))\n\n# ellipse0 on ellipse1 due to friction\nforces.append((CPee1, force_ee_friction(angle_ee0, angle_ee1, pen_ee)[0] *\n               N.x + force_ee_friction(angle_ee0, angle_ee1, pen_ee)[1] * N.y))\nforces.append((CPee0, -force_ee_friction(angle_ee0, angle_ee1, pen_ee)[0] *\n               N.x - force_ee_friction(angle_ee0, angle_ee1, pen_ee)[1] * N.y))\n\n# Street on Ellipse0\nforces.append((CPes0, force_es0(X0, pen_se0)[0] * N.x +\n               force_es0(X0, pen_se0)[1] * N.y))\n# Street on Ellipse1\nforces.append((CPes1, force_es1(X1, pen_se1)[0] * N.x +\n               force_es1(X1, pen_se1)[1] * N.y))\n\n# Ellipse0 on street due to friction\nforces.append((CPes0, force_es0_friction(X0, angle_street0, pen_se0)[0] * N.x +\n               force_es0_friction(X0, angle_street0, pen_se0)[1] * N.y))\n# Ellipse1 on street due to friction\nforces.append((CPes1, force_es1_friction(X1, angle_street1, pen_se1)[0] * N.x +\n               force_es1_friction(X1, angle_street1, pen_se1)[1] * N.y))\n\n\nkd = sm.Matrix([u0 - q0.diff(t), u1 - q1.diff(t),\n                ux0 - x0.diff(t), ux1 - x1.diff(t),\n                uy0 - y0.diff(t), uy1 - y1.diff(t)])\n\nq_ind = [q0, q1, x0, x1, y0, y1]\nu_ind = [u0, u1, ux0, ux1, uy0, uy1]\n\nkanes = me.KanesMethod(N, q_ind, u_ind, kd_eqs=kd)\nfr, frstar = kanes.kanes_equations(bodies, forces)\nMM = kanes.mass_matrix_full\nforcing = kanes.forcing_full\nprint(f'MM contains {sm.count_ops(MM)} operations')\nprint(f'forcing contains {sm.count_ops(forcing):,} operations')\n\nqL = [q0, q1, x0, x1, y0, y1, u0, u1, ux0, ux1, uy0, uy1]\npL = [[m_e, m_o, g, a, b, k_spring, amplitude, frequenz, mu],\n      [angle_ee0, angle_ee1],\n      [X0, X1],\n      [angle_street0, angle_street1],\n      [pen_ee, pen_se0, pen_se1]\n      ]\nMM_lam = sm.lambdify(qL + pL, MM, cse=True)\nforce_lam = sm.lambdify(qL + pL, forcing, cse=True)"
      ]
    },
    {
      "cell_type": "markdown",
      "metadata": {},
      "source": [
        "## Numerical Integration\n\n"
      ]
    },
    {
      "cell_type": "code",
      "execution_count": null,
      "metadata": {
        "collapsed": false
      },
      "outputs": [],
      "source": [
        "grenze = 10.0\naccuracy = 50\n# brute force search space for minimum distance between ellipse and street\nsearch_space = list(itt.product(np.linspace(-grenze, grenze, accuracy),\n                                np.linspace(0, 2*np.pi, accuracy)))\n\n# Use the results from the initial conditions above\nangle_ee00 = angle_root_0\nangle_ee11 = angle_root_1\nX01 = ellipse_street_root[0][0]\nX11 = ellipse_street_root[1][0]\nangle_street00 = ellipse_street_root[0][1]\nangle_street11 = ellipse_street_root[1][1]\npen_ee0 = pen_ee_lam(*([angle_ee00, angle_ee11] + y00 + pL_vals))\npen_se00 = pen_es_lam0(*[X01, angle_street00] + y00 + pL_vals)\npen_se11 = pen_es_lam1(*[X11, angle_street11] + y00 + pL_vals)\n\npL_vals1 = [pL_vals,\n            [angle_ee00, angle_ee11],\n            [X01, X11],\n            [angle_street00, angle_street11],\n            [pen_ee0, pen_se00, pen_se11]\n            ]\n\nargs_list = []\nzeit_list = []\n\n\n@profile\ndef gradient(t, y, args):\n    # The distances between the ellipses depend continuously on the positions.\n    # Therefore we can use the previous solution as a starting point\n    # for the next minimization, and then use the result for root.\n\n    def distance_minimizer(X00, args):\n        angle0, angle1 = X00\n        return distance_ee_lam(*([angle0, angle1] + args))\n\n    x000 = [args[1][0], args[1][1]]\n    y123 = list(y)\n    arguments = y123 + args[0]\n    loesung = minimize(distance_minimizer, x000, arguments)\n    args[1][0] = loesung.x[0]\n    args[1][1] = loesung.x[1]\n\n    def equations_ee(X00, args):\n        angle0, angle1 = X00\n        return distance_ee_grad_lam(*([angle0, angle1] + args))\n\n    x000 = [args[1][0], args[1][1]]\n    arguments = y123 + args[0]\n    loesung = root(equations_ee, x000, arguments)\n    args[1][0] = loesung.x[0]\n    args[1][1] = loesung.x[1]\n\n    # find the angles and positions, where the distance between the ellipses\n    # and the street is minimal.\n    # As here the minimum distance does NOT depend continuously on the location\n    # of the ellipses, we first do a brute force search, then a minimization,\n    # and finally a root search to find the exact minimum.\n    for i in range(2):\n        distance_array = np.array([distance_lam(*([street_point,\n                                                   angle_street] + y123 +\n                                                  args[0]))[i]\n                                   for street_point, angle_street\n                                   in search_space])\n\n        min_distance_index = np.argmin(distance_array)\n        street_point_brute = np.linspace(\n            -grenze, grenze, accuracy)[min_distance_index // accuracy]\n        angle_street_brute = np.linspace(\n            0, 2*np.pi, accuracy)[min_distance_index % accuracy]\n        args[2][i] = street_point_brute\n        args[3][i] = angle_street_brute\n\n    for i in range(2):\n        # Search by minimizing the distance function.\n        def distance_minimizer(X00, args):\n            street_point, angle_street = X00\n            return distance_lam(*([street_point, angle_street] + args))[i]\n\n        x000 = [args[2][i], args[3][i]]\n        arguments = y123 + args[0]\n        loesung = minimize(distance_minimizer, x000, arguments)\n        args[2][i] = loesung.x[0]\n        args[3][i] = loesung.x[1]\n\n    for i in range(2):\n        def equations(X00, args):\n            street_point, angle_street = X00\n            return distance_grad_lam(*([street_point, angle_street] + args))[i]\n\n        x000 = [args[2][i], args[3][i]]\n        arguments = y123 + args[0]\n        loesung = root(equations, x000, arguments)\n        args[2][i], args[3][i] = loesung.x\n\n    # Find the penetration depths\n    args[4][0] = pen_ee_lam(args[1][0], args[1][1], *(y123 + args[0]))\n    args[4][1] = pen_es_lam0(args[2][0], args[3][0], *(y123 + args[0]))\n    args[4][2] = pen_es_lam1(args[2][1], args[3][1], *(y123 + args[0]))\n\n    args_list.append(deepcopy(args))\n    zeit_list.append(t)\n\n    sol = np.linalg.solve(MM_lam(*y, *args), force_lam(*y, *args))\n    return np.array(sol).T[0]\n\n\ninterval = 10.0\nschritte = int(interval * 650)\ntimes = np.linspace(0., interval, schritte)\nt_span = (0., interval)\n# If this is not set, the integration will miss the (short) times of contact.\nmax_step = 0.01\n\nstart = time.time()\nresultat1 = solve_ivp(gradient, t_span, y00, t_eval=times, args=(pL_vals1,),\n                      max_step=max_step)\nresultat = resultat1.y.T\nprint('Shape of result: ', resultat.shape)\nprint(resultat1.message)\nprint('Number of function evaluations:', resultat1.nfev)\nif choose_symjit:\n    msg = ' with symjit'\nelse:\n    msg = ' with lambdify'\nprint(f\"It took {time.time() - start:.2f} seconds to solve the equations\"\n      f\" {msg}\")\nprofiler.print_stats()"
      ]
    },
    {
      "cell_type": "markdown",
      "metadata": {},
      "source": [
        "Plot some results\n\n"
      ]
    },
    {
      "cell_type": "code",
      "execution_count": null,
      "metadata": {
        "collapsed": false
      },
      "outputs": [],
      "source": [
        "names = [str(i) for i in qL]\nfig, ax = plt.subplots(3, 1, figsize=(8, 9), layout='constrained', sharex=True)\nfor i in (4, 5, 6, 7):\n    ax[0].plot(times, resultat[:, i], label=names[i])\n    ax[0].set_ylabel('units depending of the variable')\n    ax[0].set_title('Generalized coordinates and velocities')\n_ = ax[0].legend()\n\n\nargs_1 = [args_list[i][4] for i in range(len(args_list))]\nax[1].plot(zeit_list, [args_1[i][0] for i in range(len(args_1))],\n           label='penetration Ellipse0/Ellipse1')\nax[1].plot(zeit_list, [args_1[i][1] for i in range(len(args_1))],\n           label='penetration Ellipse0/Street')\nax[1].plot(zeit_list, [args_1[i][2] for i in range(len(args_1))],\n           label='penetration Ellipse1/Street')\nax[-1].set_xlabel('time [sec]')\nax[1].set_ylabel('penetration depth [m]')\nax[1].set_title('Penetration depths')\n_ = ax[1].legend()\n\n# Find the locations in args_list to match the points returned in resultat.\nB = np.array(zeit_list)\nA = np.array(resultat1.t)\n# Sort B and keep original indices\nB_sorted_idx = np.argsort(B)\nB_sorted = B[B_sorted_idx]\n\n# Step 2: binary search for closest\npos = np.searchsorted(B_sorted, A)\n\n# Step 3: check neighbors (pos and pos-1) to find which is closer\npos_clipped = np.clip(pos, 1, len(B_sorted)-1)\nleft = B_sorted[pos_clipped - 1]\nright = B_sorted[pos_clipped]\nclosest_idx_sorted = np.where(\n    np.abs(A - left) <= np.abs(A - right),\n    pos_clipped - 1,\n    pos_clipped\n)\n\n# Step 4: convert sorted indices back to original indices of B\nclosest_idx = B_sorted_idx[closest_idx_sorted]\nargs_adapted = [args_list[i] for i in closest_idx]\n\n# Plot the distances between the ellipses and the street\n# and between the ellipses.\nabstand_es_list = []\nabstand_ee_list = []\nfor i in range(len(args_adapted)):\n    y00 = list(resultat[i])\n    pL_vals = args_adapted[i][0]\n    for j in range(2):\n        angles = (args_adapted[i][2][j], args_adapted[i][3][j])\n        abstand_es_list.append([dist_se0_lam, dist_se1_lam][j](\n            *(list(angles) + y00 + pL_vals)))\n    angles = (args_adapted[i][1][0], args_adapted[i][1][1])\n    abstand_ee_list.append(dist_ee_lam(*(list(angles) + y00 + pL_vals)))\n\nabstand_es_np = np.array(abstand_es_list).reshape((len(resultat1.t), 2))\n\nax[2].plot(resultat1.t, abstand_es_np[:, 0],\n           label='distance Ellipse0 / street')\nax[2].plot(resultat1.t, abstand_es_np[:, 1],\n           label='distance Ellipse1 / street')\nax[2].plot(resultat1.t, abstand_ee_list, label='distance Ellipse / Ellipse')\nax[2].axhline(cut_off, color='red', linestyle='--', label='cut off',\n              lw=0.5)\nax[2].set_ylabel('distance [m]')\nax[2].set_title('Distances. Below cut off: penetration takes place')\n_ = ax[2].legend()"
      ]
    },
    {
      "cell_type": "markdown",
      "metadata": {},
      "source": [
        "Energy.\nIf mu > 0, it should drop.\n\n"
      ]
    },
    {
      "cell_type": "code",
      "execution_count": null,
      "metadata": {
        "collapsed": false
      },
      "outputs": [],
      "source": [
        "kin_energy = sum([koerper.kinetic_energy(N) for koerper in bodies])\npot_energie1 = sum([m_e*g*me.dot(koerper.pos_from(O), N.y)\n                   for koerper in (Dmc0, Dmc1)])\npot_energie2 = sum([m_o*g*me.dot(koerper.pos_from(O), N.y)\n                   for koerper in (Po0, Po1)])\npot_energie = pot_energie1 + pot_energie2\nspring_energie = 0.5 * k_spring * (pen_ee**2 + pen_se0**2 + pen_se1**2)\n\nkin_lam = sm.lambdify(qL + pL, kin_energy, cse=True)\npot_lam = sm.lambdify(qL + pL, pot_energie, cse=True)\nspring_lam = sm.lambdify(qL + pL, spring_energie, cse=True)\n\nkin_np = np.empty(len(resultat1.t))\npot_np = np.empty(len(resultat1.t))\nspring_np = np.empty(len(resultat1.t))\ntotal_np = np.empty(len(resultat1.t))\nfor i in range(len(resultat1.t)):\n    y00 = list(resultat[i])\n    pL_vals = args_adapted\n    kin_np[i] = kin_lam(*(y00 + args_adapted[i]))\n    pot_np[i] = pot_lam(*(y00 + args_adapted[i]))\n    spring_np[i] = spring_lam(*(y00 + args_adapted[i]))\n    total_np[i] = kin_np[i] + pot_np[i] + spring_np[i]\n\nfig, ax = plt.subplots(figsize=(8, 4))\nax.plot(resultat1.t, kin_np, label='kinetic energy')\nax.plot(resultat1.t, pot_np, label='potential energy')\nax.plot(resultat1.t, spring_np, label='spring energy')\nax.plot(resultat1.t, total_np, label='total energy')\nax.set_xlabel('time [sec]')\nax.set_ylabel('energy [J]')\nmsg = r'$\\mu$'\nax.set_title(f'Energies, with spring stiffness {k_spring1} N/m '\n             f'and friction {msg} = {mu1}')\n_ = ax.legend()"
      ]
    },
    {
      "cell_type": "markdown",
      "metadata": {},
      "source": [
        "## Animation\n\n"
      ]
    },
    {
      "cell_type": "markdown",
      "metadata": {},
      "source": [
        "Spit up args_adapted into separate lists for each argument, so CubicSpline\ncan be used\n\n"
      ]
    },
    {
      "cell_type": "code",
      "execution_count": null,
      "metadata": {
        "collapsed": false
      },
      "outputs": [],
      "source": [
        "ars_0 = []\nargs_1 = []\nargs_2 = []\nargs_3 = []\nargs_4 = []\nt_arr = np.linspace(0.0, interval, schritte)\nfor entry in args_adapted:\n    ars_0.append(entry[0])\n    args_1.append(entry[1])\n    args_2.append(entry[2])\n    args_3.append(entry[3])\n    args_4.append(entry[4])\nargs_0_sol = CubicSpline(t_arr, ars_0)\nargs_1_sol = CubicSpline(t_arr, args_1)\nargs_2_sol = CubicSpline(t_arr, args_2)\nargs_3_sol = CubicSpline(t_arr, args_3)\nargs_4_sol = CubicSpline(t_arr, args_4)\n\nfps = 10.0\n\nstate_sol = CubicSpline(t_arr, resultat)\n\ncoordinates = Dmc0.pos_from(O).to_matrix(N)\nfor point in (Dmc1, Po0, Po1, CPee0, CPee1, CPes0, CPes1, CPse0, CPse1):\n    coordinates = coordinates.row_join(point.pos_from(O).to_matrix(N))\n\nalle = (qL + pL)\ncoords_lam = sm.lambdify(alle, coordinates, cse=True)\n\n\nfig, ax = plt.subplots(figsize=(7, 7))\nxmin = (np.min(np.concatenate((resultat[:, 2], resultat[:, 3]))) -\n        max(a1, b1) - cut_off)\nxmax = (np.max(np.concatenate((resultat[:, 2], resultat[:, 3]))) +\n        max(a1, b1) + cut_off)\nymax = (np.max(np.concatenate((resultat[:, 4], resultat[:, 5]))) +\n        max(a1, b1) + cut_off)\nax.set_xlim(xmin, xmax)\n\nax.set_aspect('equal')\nax.set_xlabel('x', fontsize=15)\nax.set_ylabel('y', fontsize=15)\nax.axhline(0, color='black', lw=0.5)\nax.axvline(0, color='black', lw=0.5)\n\n# Plot the street\n# values for the street\nx_street = np.linspace(xmin, xmax, 500)\ny_street = street_lam(x_street, amplitude1, frequenz1) + cut_off\nax.plot(x_street, y_street, color='black', linestyle='-', linewidth=1)\n\nymin = np.min(y_street) - 1.0\nax.set_ylim(ymin, ymax)\n\nt = 0.0\ncoords = coords_lam(*state_sol(t), args_0_sol(t), args_1_sol(t),\n                    args_2_sol(t), args_3_sol(t), args_4_sol(t))\n\n# draw the ellipses, their mass centers, the observers\nellipse0 = Ellipse((coords[0, 0], coords[1, 0]), width=2*a1 + cut_off,\n                   height=2*b1 + cut_off, angle=np.rad2deg(y00[0]),\n                   facecolor='red', edgecolor='black', label=f'ellipse 0',\n                   alpha=0.5)\nax.add_patch(ellipse0)\n\nellipse1 = Ellipse((coords[0, 1], coords[1, 1]), width=2*a1 + cut_off,\n                   height=2*b1 + cut_off, angle=np.rad2deg(y00[1]),\n                   edgecolor='black', facecolor='blue', alpha=0.5,\n                   label=f'ellipse 1')\nax.add_patch(ellipse1)\n\n# centers of the ellipses\npoint_Dmc0 = ax.scatter([coords[0, 0]], [coords[1, 0]], color='red',\n                        edgecolors='black', s=20)\npoint_Dmc1 = ax.scatter([coords[0, 1]], [coords[1, 1]], color='blue',\n                        edgecolors='black', s=20)\n# particles on the ellipses\npoint_Po0 = ax.scatter([coords[0, 2]], [coords[1, 2]], color='yellow', s=30,\n                       edgecolors='black')\npoint_Po1 = ax.scatter([coords[0, 3]], [coords[1, 3]], color='yellow', s=30,\n                       edgecolors='black')\n\n# Points of closest distance between the ellipses and the street\npoint_CPee0 = ax.scatter([coords[0, 4]], [coords[1, 4]], color='black', s=30)\npoint_CPee1 = ax.scatter([coords[0, 5]], [coords[1, 5]], color='black', s=30)\npoint_CPes0 = ax.scatter([coords[0, 6]], [coords[1, 6]], color='black', s=30)\npoint_CPes1 = ax.scatter([coords[0, 7]], [coords[1, 7]], color='black', s=30)\npoint_CPse0 = ax.scatter([coords[0, 8]], [coords[1, 8]], color='black', s=30)\npoint_CPse1 = ax.scatter([coords[0, 9]], [coords[1, 9]], color='black', s=30)\n\nline_ee, = ax.plot([coords[0, 4], coords[0, 5]], [coords[1, 4], coords[1, 5]],\n                   color='green', linestyle='-', linewidth=0.5)\nline_e0s, = ax.plot(\n    [coords[0, 6], coords[0, 8]], [coords[1, 6], coords[1, 8]], color='red',\n    linestyle='-', linewidth=0.5)\nline_e1s, = ax.plot(\n    [coords[0, 7], coords[0, 9]], [coords[1, 7], coords[1, 9]], color='blue',\n    linestyle='-', linewidth=0.5)\n\n# Function to update the plot for each animation frame\n\n\ndef update(t):\n    message = (f'Running time {t:.2f} sec \\n The yellow dots are observers. \\n'\n               f'The lines indicate the minimal distances.')\n    ax.set_title(message, fontsize=12)\n\n    coords = coords_lam(*state_sol(t), args_0_sol(t), args_1_sol(t),\n                        args_2_sol(t), args_3_sol(t), args_4_sol(t))\n    point_Dmc0.set_offsets([coords[0, 0], coords[1, 0]])\n    point_Dmc1.set_offsets([coords[0, 1], coords[1, 1]])\n    point_Po0.set_offsets([coords[0, 2], coords[1, 2]])\n    point_Po1.set_offsets([coords[0, 3], coords[1, 3]])\n    point_CPee0.set_offsets([coords[0, 4], coords[1, 4]])\n    point_CPee1.set_offsets([coords[0, 5], coords[1, 5]])\n    point_CPes0.set_offsets([coords[0, 6], coords[1, 6]])\n    point_CPes1.set_offsets([coords[0, 7], coords[1, 7]])\n    point_CPse0.set_offsets([coords[0, 8], coords[1, 8]])\n    point_CPse1.set_offsets([coords[0, 9], coords[1, 9]])\n\n    ellipse0.set_center((coords[0, 0], coords[1, 0]))\n    ellipse0.angle = np.rad2deg(state_sol(t)[0])\n\n    ellipse1.set_center((coords[0, 1], coords[1, 1]))\n    ellipse1.angle = np.rad2deg(state_sol(t)[1])\n\n    line_ee.set_data(\n        [coords[0, 4], coords[0, 5]], [coords[1, 4], coords[1, 5]])\n    line_e0s.set_data(\n        [coords[0, 6], coords[0, 8]], [coords[1, 6], coords[1, 8]])\n    line_e1s.set_data(\n        [coords[0, 7], coords[0, 9]], [coords[1, 7], coords[1, 9]])\n\n\n# Create the animation\nanimation = FuncAnimation(\n    fig, update, frames=np.arange(0.0, interval, 1 / fps),\n    interval=1000 / fps, blit=False)\nplt.show()"
      ]
    }
  ],
  "metadata": {
    "kernelspec": {
      "display_name": "Python 3",
      "language": "python",
      "name": "python3"
    },
    "language_info": {
      "codemirror_mode": {
        "name": "ipython",
        "version": 3
      },
      "file_extension": ".py",
      "mimetype": "text/x-python",
      "name": "python",
      "nbconvert_exporter": "python",
      "pygments_lexer": "ipython3",
      "version": "3.13.3"
    }
  },
  "nbformat": 4,
  "nbformat_minor": 0
}