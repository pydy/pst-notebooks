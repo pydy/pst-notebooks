{
  "cells": [
    {
      "cell_type": "markdown",
      "metadata": {},
      "source": [
        "\n# Spacecraft with Nutation Damper\n\n## Objectives\n\n- Show how to model a spacecraft with a nutation damper.\n- Show how to optimize the dampening.\n\n## Description\n\nA spacecraft in empty space, no gravitation, is equipped with a nutation\ndamper.\nIt is described in ``Dynamics. Theory and Application of Kane's Method`` by\nCarlos M. Roithmay and Dewey H Hodges, Section 9.6.\n\nIt is also described here:\nhttps://nescacademy.nasa.gov/video/37db5926a05747bea43a7a7c82663bc11d\n\n## Notes\n\n- One must not forget to add the reaction force / torque on $B_O$, the\n  center of mass of the spacecraft.\n- As there are no external torques / forces the angular momentum is conserved,\n  while the total energy drops, due to the friction in the system.\n- The labelling of the axes of the body frame B follows the NASA lecture given\n  above. $q_4$ is called $z$ in that lecture;\n  $\\dfrac{d}{dt}z$ there is called $u_4$ here.\n\n**States**\n\n- $q_1, q_2, q_3$ : The Euler angles of the rotation of the spacecraft\n  w.r.t. the inertial frame N.\n- $q_4$ : The displacement of the nutation damper in the B.z-direction.\n- $q_5, q_6, q_7$ : The position coordinates of the center of mass of\n  the spacecraft.\n- $u_1, u_2, u_3$ : The angular velocities of the spacecraft.\n- $u_4$ : The velocity of the nutation damper in the B.z-direction.\n- $u_5, u_6, u_7$ : The velocities of the center of mass of the\n  spacecraft.\n\n**Parameters**\n\n- $e$ : The distance from the center of mass of the spacecraft to\n  the particle P.\n- $k$ : The stiffness of the nutation damper, to be optimized later\n- $c$ : The damping coefficient of the nutation damper, to be optimized\n  later\n- $I_1$ : The moment of inertia of the spacecraft about the B.x-axis.\n- $I_2$ : The moment of inertia of the spacecraft about the B.y axis.\n- $I_3$ : The moment of inertia of the spacecraft around the B.z axis.\n- $m_B$ : The mass of the spacecraft.\n- $m_P$ : The mass of the particle P\n- $N$ : Inertial frame\n- $B$ : Body frame of the spacecraft\n- $B_O$ : mass center of the body of the spacecraft\n- $\\theta$ : The angle between the B.z axis and the (constant) vector\n  of the angular momentum. Not really a parameter, but the quantity of\n  maximum interest here.\n"
      ]
    },
    {
      "cell_type": "code",
      "execution_count": null,
      "metadata": {
        "collapsed": false
      },
      "outputs": [],
      "source": [
        "import sympy as sm\nimport numpy as np\nimport matplotlib.pyplot as plt\nimport sympy.physics.mechanics as me\nfrom scipy.integrate import solve_ivp\nfrom scipy.interpolate import CubicSpline\nfrom scipy.optimize import root\n\nfrom mpl_toolkits.mplot3d.art3d import Poly3DCollection\nfrom matplotlib.animation import FuncAnimation\n\nfrom opty import Problem"
      ]
    },
    {
      "cell_type": "markdown",
      "metadata": {},
      "source": [
        "## Set Up Kane's Equations of Motion\n\n"
      ]
    },
    {
      "cell_type": "code",
      "execution_count": null,
      "metadata": {
        "collapsed": false
      },
      "outputs": [],
      "source": [
        "# Reference Frames\nN, B = me.ReferenceFrame('N'), me.ReferenceFrame('B')\n# Points\nO, BO, P = me.Point('O'), me.Point('BO'), me.Point('P')\nO.set_vel(N, 0)\nt = me.dynamicsymbols._t\n\n# Generalized coordinates and speeds\nq1, q2, q3, q4, q5, q6, q7 = me.dynamicsymbols('q_1 q_2 q_3 q_4 q_5 q_6 q_7')\nu1, u2, u3, u4, u5, u6, u7 = me.dynamicsymbols('u_1 u_2 u_3 u_4 u_5 u_6 u_7')\n\nI1, I2, I3, mB, mP, k, c, e = sm.symbols('I_1, I_2, I_3, m_B, m_P, k, c, e')\n\n# Describe the system\nB.orient_body_fixed(N, (q1, q2, q3), '123')\nrot = B.ang_vel_in(N)\nB.set_ang_vel(N, u1 * B.x + u2 * B.y + u3 * B.z)\nrot1 = B.ang_vel_in(N)\n\nBO.set_pos(O, q5 * N.x + q6 * N.y + q7 * N.z)\nBO.set_vel(N, u5 * N.x + u6 * N.y + u7 * N.z)\n\nP.set_pos(BO, e * B.x + q4 * B.z)\nP.set_vel(B, u4 * B.z)\n\n# Create the bodies\ninertiaB = me.inertia(B, I1, I2, I3)\nbodyB = me.RigidBody('bodyB', BO, B, mB, (inertiaB, BO))\nbodyP = me.Particle('bodyP', P, mP)\nbodies = [bodyB, bodyP]\n\n# Forces, reaction force and couple\nforces = [\n    (P, -(k * q4 + c * u4) * B.z),\n    (BO, (k * q4 + c * u4) * B.z),\n    (B, (e * B.x).cross(((k * q4 + c * u4) * B.z)))\n]\n\n# Kinematic equations.\nkd = sm.Matrix([\n    *[(rot - rot1).dot(uv) for uv in N],\n    u4 - q4.diff(t),\n    u5 - q5.diff(t),\n    u6 - q6.diff(t),\n    u7 - q7.diff(t),\n])"
      ]
    },
    {
      "cell_type": "markdown",
      "metadata": {},
      "source": [
        "This dictionary is needed to replace the derivatives in the angular\nmomentum further down.\n\n"
      ]
    },
    {
      "cell_type": "code",
      "execution_count": null,
      "metadata": {
        "collapsed": false
      },
      "outputs": [],
      "source": [
        "solution = sm.solve(kd, (q1.diff(t), q2.diff(t), q3.diff(t),\n                         q4.diff(t), q5.diff(t), q6.diff(t), q7.diff(t)))\nfor i in solution.keys():\n    print(f\"{i} = {solution[i]}\")"
      ]
    },
    {
      "cell_type": "markdown",
      "metadata": {},
      "source": [
        "Kanes equations\n\n"
      ]
    },
    {
      "cell_type": "code",
      "execution_count": null,
      "metadata": {
        "collapsed": false
      },
      "outputs": [],
      "source": [
        "q_ind = [q1, q2, q3, q4, q5, q6, q7]\nu_ind = [u1, u2, u3, u4, u5, u6, u7]\n\nkane = me.KanesMethod(N, q_ind=q_ind, u_ind=u_ind, kd_eqs=kd)\nfr, frstar = kane.kanes_equations(bodies, forces)\nfor i in range(fr.shape[0]):\n    fr[i] = fr[i].simplify()\n    frstar[i] = frstar[i].simplify()\n\nMM = kane.mass_matrix_full\nforce = kane.forcing_full\n\nH = me.angular_momentum(BO, N, *bodies).subs(solution)\ntheta = sm.acos((H.normalize()).dot(B.z))\n\nHx = H.dot(N.x)\nHy = H.dot(N.y)\nHz = H.dot(N.z)\n\nkin_energie = sum(me.kinetic_energy(N, b).subs({q4.diff(t): u4})\n                  for b in bodies)\nspring_energie = 0.5 * k * q4**2\n\nqL = q_ind + u_ind\npL = [mB, mP, I1, I2, I3, k, c, e]"
      ]
    },
    {
      "cell_type": "markdown",
      "metadata": {},
      "source": [
        "Convert sympy functions to numpy functions\n\n"
      ]
    },
    {
      "cell_type": "code",
      "execution_count": null,
      "metadata": {
        "collapsed": false
      },
      "outputs": [],
      "source": [
        "MM_lam = sm.lambdify(qL + pL, MM, cse=True)\nforce_lam = sm.lambdify(qL + pL, force, cse=True)\nH_lam = sm.lambdify(qL + pL, [Hx, Hy, Hz], cse=True)\nH_abs_lam = sm.lambdify(qL + pL, H.magnitude(), cse=True)\nkin_lam = sm.lambdify(qL + pL, kin_energie, cse=True)\nspring_lam = sm.lambdify(qL + pL, spring_energie, cse=True)\n\ntheta_lam = sm.lambdify(qL + pL, theta, cse=True)"
      ]
    },
    {
      "cell_type": "markdown",
      "metadata": {},
      "source": [
        "## Numerical integration\n\n"
      ]
    },
    {
      "cell_type": "code",
      "execution_count": null,
      "metadata": {
        "collapsed": false
      },
      "outputs": [],
      "source": [
        "# Input variables\nI11 = 1375.7\nI21 = 1292.5\nI31 = 1402.4\nmB1 = 5274.4\nmP1 = 52.744\ne1 = 1.0\nk1 = 52.744\nc1 = 105.49\n\nu11 = 0.1\nu21 = 0.0\nu31 = 1.0\nu41 = 0.0\nu51 = 0.0\nu61 = 0.0\nu71 = 0.0\n\nq11 = 0.0\nq21 = 0.0\nq31 = 0.0\nq41 = 0.0\nq51 = 0.0\nq61 = 0.0\nq71 = 0.0\n\nintervall = 300.0\npunkte = 10.0\n\n# Needed for plotting, below\nk1b = k1\nc1b = c1\n\nschritte = int(intervall * punkte)\ntimes = np.linspace(0., intervall, schritte)\nt_span = (0., intervall)\n\npL_vals = [mB1, mP1, I11, I21, I31, k1, c1, e1]\ny0 = [q11, q21, q31, q41, q51, q61, q71, u11, u21, u31, u41, u51, u61, u71]\n\n\ndef gradient(t, y, args):\n    sol = np.linalg.solve(MM_lam(*y, *args), force_lam(*y, *args))\n    return np.array(sol).T[0]\n\n\nresultat1 = solve_ivp(gradient, t_span, y0, t_eval=times, args=(pL_vals,),\n                      atol=1.e-12, rtol=1.e-12,\n                      )\n\nresultat_int = resultat1.y.T\nprint('resultat shape', resultat_int.shape, '\\n')\nprint(resultat1.message, '\\n')\n\nprint(f\"To numerically integrate an intervall of {intervall} sec \"\n      f\"the routine cycled {resultat1.nfev} times\")"
      ]
    },
    {
      "cell_type": "markdown",
      "metadata": {},
      "source": [
        "Print Angular Momentum and angle theta\n\n"
      ]
    },
    {
      "cell_type": "code",
      "execution_count": null,
      "metadata": {
        "collapsed": false
      },
      "outputs": [],
      "source": [
        "H_values = H_lam(*[resultat_int[:, i] for i in\n                   range(resultat_int.shape[1])], *pL_vals)\n\nfig, ax = plt.subplots(5, 1, figsize=(8, 6), layout='constrained',\n                       sharex=True)\nax[0].plot(times, H_values[0], label='H_x')\nax[1].plot(times, H_values[1], label='H_y')\nax[2].plot(times, H_values[2], label='H_z')\nax[4].plot(times, np.rad2deg(theta_lam(*[resultat_int[:, i] for i in\n                             range(resultat_int.shape[1])], *pL_vals)))\nax[4].set_title(f\"$\\\\theta$, the angle between H and $B_3$\")\nax[4].set_ylabel('angle in degrees')\nax[3].plot(times, H_abs_lam(*[resultat_int[:, i] for i in\n                              range(resultat_int.shape[1])], *pL_vals),\n           label='|H|')\n\n[a.legend() for a in [ax[j] for j in range(4)]]\nax[-1].set_xlabel('time in sec')\n_ = ax[0].set_title('Angular Momentum $H$')"
      ]
    },
    {
      "cell_type": "markdown",
      "metadata": {},
      "source": [
        "plot results q1...q4\n\n"
      ]
    },
    {
      "cell_type": "code",
      "execution_count": null,
      "metadata": {
        "collapsed": false
      },
      "outputs": [],
      "source": [
        "fig, ax = plt.subplots(4, 1, figsize=(8, 5), layout='constrained',\n                       sharex=True)\nax[0].set_title('Generalized coordinates q1...q4')\nax[-1].set_xlabel('time in sec')\nfor i in range(4):\n    if i < 3:\n        ax[i].plot(times, np.rad2deg(resultat_int[:, i]))\n        ax[i].set_ylabel(f'q {i+1} [\u00b0]')\n    else:\n        ax[i].plot(times, resultat_int[:, i])\n        ax[i].set_ylabel(f'q{i+1} [m]')"
      ]
    },
    {
      "cell_type": "markdown",
      "metadata": {},
      "source": [
        "plot results u1...u4\n\n"
      ]
    },
    {
      "cell_type": "code",
      "execution_count": null,
      "metadata": {
        "collapsed": false
      },
      "outputs": [],
      "source": [
        "fig, ax = plt.subplots(4, 1, figsize=(8, 5), layout='constrained',\n                       sharex=True)\nax[0].set_title('Generalized speeds u1...u4')\nax[-1].set_xlabel('time in sec')\nfor j in range(4):\n    if j < 3:\n        ax[j].plot(times, np.rad2deg(resultat_int[:, j+7]))\n        ax[j].set_ylabel(f'u{j+1} [\u00b0/sec]')\n    else:\n        ax[j].plot(times, resultat_int[:, j+7])\n        ax[j].set_ylabel(f'u {j+1} [m/sec]')"
      ]
    },
    {
      "cell_type": "markdown",
      "metadata": {},
      "source": [
        "Plot the energies\n\n"
      ]
    },
    {
      "cell_type": "code",
      "execution_count": null,
      "metadata": {
        "collapsed": false
      },
      "outputs": [],
      "source": [
        "fig, ax = plt.subplots(3, 1, figsize=(8, 4), sharex=True, layout='constrained')\nax[0].plot(times, kin_lam(*[resultat_int[:, i] for i in\n                          range(resultat_int.shape[1])], *pL_vals))\nax[0].set_title('Kinetic Energy')\nax[1].plot(times, spring_lam(*[resultat_int[:, i] for i in\n                               range(resultat_int.shape[1])], *pL_vals))\nax[1].set_title('Spring Energy')\nax[2].plot(times, kin_lam(*[resultat_int[:, i] for i in\n                            range(resultat_int.shape[1])], *pL_vals) +\n           spring_lam(*[resultat_int[:, i] for i in\n                        range(resultat_int.shape[1])], *pL_vals))\nax[2].set_title('Total Energy')\nax[-1].set_xlabel('time in sec')\n\n# Set Up the Optimization and Solve It\n# ------------------------------------\n\n# Set up equations of motion suitable for opty.\nEOM_opty = kd.col_join(fr + frstar)"
      ]
    },
    {
      "cell_type": "code",
      "execution_count": null,
      "metadata": {
        "collapsed": false
      },
      "outputs": [],
      "source": [
        "state_symbols = q_ind + u_ind\nt0, tf = 0.0, intervall\nnum_nodes = int(intervall * punkte)\ninterval_value = (tf - t0) / num_nodes\n\npar_map = {}\npar_map[mB] = mB1\npar_map[mP] = mP1\npar_map[I1] = I11\npar_map[I2] = I21\npar_map[I3] = I31\npar_map[e] = e1\n\ninstance_constraints = (\n    (q1.func(t0) - q11),\n    (q2.func(t0) - q21),\n    (q3.func(t0) - q31),\n    (q4.func(t0) - q41),\n    (q5.func(t0) - q51),\n    (q6.func(t0) - q61),\n    (q7.func(t0) - q71),\n    (u1.func(t0) - u11),\n    (u2.func(t0) - u21),\n    (u3.func(t0) - u31),\n    (u4.func(t0) - u41),\n    (u5.func(t0) - u51),\n    (u6.func(t0) - u61),\n    (u7.func(t0) - u71),\n)\n\n# Bounds for, say, physical or geometric reasons.\nbounds = {\n    k: (0.0, 200),\n    c: (0.0, 500),\n    q4: (-1.0, 1.0)\n}\n\n\ndef obj(free):\n    # Minimize the rotations around B.x and B.y\n    summe = np.sum(free[7 * num_nodes: 9*num_nodes]**2)\n    return summe\n\n\ndef obj_grad(free):\n    # Gradient of the objective function\n    grad = np.zeros_like(free)\n    grad[7 * num_nodes: 9*num_nodes] = 2 * free[7 * num_nodes: 9*num_nodes]\n    return grad\n\n\nprob = Problem(\n    obj,\n    obj_grad,\n    EOM_opty,\n    state_symbols,\n    num_nodes,\n    interval_value,\n    known_parameter_map=par_map,\n    instance_constraints=instance_constraints,\n    bounds=bounds,\n    time_symbol=t,\n)\n\ninitial_guess = np.concatenate(((resultat_int.T).flatten(),\n                                np.array([100.0, 50.0])))\n\nfor _ in range(1):\n    solution, info = prob.solve(initial_guess)\n    initial_guess = solution\n    print(info['status_msg'])\n    print(f\"Objective value: {info['obj_val']:.2f}\")"
      ]
    },
    {
      "cell_type": "markdown",
      "metadata": {},
      "source": [
        "Plot the results\n\n"
      ]
    },
    {
      "cell_type": "code",
      "execution_count": null,
      "metadata": {
        "collapsed": false
      },
      "outputs": [],
      "source": [
        "_ = prob.plot_trajectories(solution)"
      ]
    },
    {
      "cell_type": "markdown",
      "metadata": {},
      "source": [
        "Plot the errors\n\n"
      ]
    },
    {
      "cell_type": "code",
      "execution_count": null,
      "metadata": {
        "collapsed": false
      },
      "outputs": [],
      "source": [
        "_ = prob.plot_constraint_violations(solution)"
      ]
    },
    {
      "cell_type": "markdown",
      "metadata": {},
      "source": [
        "Plot the objective value\n\n"
      ]
    },
    {
      "cell_type": "code",
      "execution_count": null,
      "metadata": {
        "collapsed": false
      },
      "outputs": [],
      "source": [
        "_ = prob.plot_objective_value()\nprint('Sequence of unknown parameters:', prob.collocator.unknown_parameters)\nprint(f\"c: {solution[-2]:.2f}\")\nprint(f\"k: {solution[-1]:.2f}\")"
      ]
    },
    {
      "cell_type": "code",
      "execution_count": null,
      "metadata": {
        "collapsed": false
      },
      "outputs": [],
      "source": [
        "state_sol, *_ = prob.parse_free(solution)\nresultat = state_sol.T\nc1 = solution[-2]\nk1 = solution[-1]"
      ]
    },
    {
      "cell_type": "markdown",
      "metadata": {},
      "source": [
        "get the dimensions of the body. Only needed to get an idea hwo to draw\nthe body B.\n\n"
      ]
    },
    {
      "cell_type": "code",
      "execution_count": null,
      "metadata": {
        "collapsed": false
      },
      "outputs": [],
      "source": [
        "def get_dimensions(x):\n    \"\"\"\n    Get the dimensions of a solid brick of mass mB and\n    principal moments of inertia I1, I2, I3.\n    \"\"\"\n    a, b, c = x\n\n    return [\n        I11 - 1.0 / 12.0 * mB1 * (b**2 + c**2),\n        I21 - 1.0 / 12.0 * mB1 * (a**2 + c**2),\n        I31 - 1.0 / 12.0 * mB1 * (a**2 + b**2)\n    ]\n\n\nx0 = (10.0, 10.0, 10.0)\nfor _ in range(2):\n    loesung = root(get_dimensions, x0)\n    x0 = loesung.x\n    loesung = root(get_dimensions, x0)\n    x0 = loesung.x\nprint('side lengths in m:', loesung.x)\nprint('Accuracy:', loesung.fun)"
      ]
    },
    {
      "cell_type": "markdown",
      "metadata": {},
      "source": [
        "## Animation\n\n"
      ]
    },
    {
      "cell_type": "code",
      "execution_count": null,
      "metadata": {
        "collapsed": false
      },
      "outputs": [],
      "source": [
        "# Due to storage reason, the video is shorted to the first around 55 sec of\n# the simulation.\nfactor = 55 / intervall\nresultat_kurz = np.array((resultat[0: int(resultat.shape[0] * factor), :]))\nprint('resultat_kurz shape', resultat_kurz.shape)\nende = times[resultat_kurz.shape[0]]\ntimes1 = times[0: resultat_kurz.shape[0]]\nt_arr = np.linspace(0.0, ende, resultat_kurz.shape[0])\n\nfps = 1.5\nstate_sol = CubicSpline(t_arr, resultat_kurz, axis=0)\n\n# Rotation matrix functions\n\n\ndef rotation_matrix_x(theta):\n    return np.array([\n        [1, 0, 0],\n        [0, np.cos(theta), -np.sin(theta)],\n        [0, np.sin(theta), np.cos(theta)]\n    ])\n\n\ndef rotation_matrix_y(theta):\n    return np.array([\n        [np.cos(theta), 0, np.sin(theta)],\n        [0, 1, 0],\n        [-np.sin(theta), 0, np.cos(theta)]\n    ])\n\n\ndef rotation_matrix_z(theta):\n    return np.array([\n        [np.cos(theta), -np.sin(theta), 0],\n        [np.sin(theta), np.cos(theta), 0],\n        [0, 0, 1]\n    ])\n\n\n# Create a brick's corner points (centered at origin)\nlx, ly, lz = loesung.x\nbrick_points = np.array([\n    [-lx/2, -ly/2, -lz/2],\n    [lx/2, -ly/2, -lz/2],\n    [lx/2,  ly/2, -lz/2],\n    [-lx/2,  ly/2, -lz/2],\n    [-lx/2, -ly/2,  lz/2],\n    [lx/2, -ly/2,  lz/2],\n    [lx/2,  ly/2,  lz/2],\n    [-lx/2,  ly/2,  lz/2]\n])\n\n# Define brick faces\nfaces_idx = [\n    [0, 1, 2, 3],  # bottom face\n    [4, 5, 6, 7],  # top face\n    [0, 1, 5, 4],  # front face\n    [2, 3, 7, 6],  # back face\n    [1, 2, 6, 5],  # right face\n    [0, 3, 7, 4]   # left face\n]\n\n# Plot setup\nfig = plt.figure(figsize=(10, 10))\nax = fig.add_subplot(111, projection='3d')\n\npfeil = max(lx, ly, lz)\ntotal_min = np.min(resultat[:, 4:7])\ntotal_max = np.max(resultat[:, 4:7])\nax.set_xlim(total_min - pfeil, total_max + pfeil)\nax.set_ylim(total_min - pfeil, total_max + pfeil)\nax.set_zlim(total_min - pfeil, total_max + pfeil)\nax.set_aspect('equal')\nax.scatter([0], [0], [0], color='black', s=50)  # origin point\n\nax.set_xlabel(f'Inertial axis $N_1$')\nax.set_ylabel(f'Inertial axis $N_2$')\nax.set_zlabel(f'Inertial axis $N_3$')\n\n\npoly = Poly3DCollection([], alpha=0.5, facecolor='cyan', edgecolor='black')\nax.add_collection3d(poly)\n\n# Define the points in the body-fixed frame, and the head of the angular\n# momentum\nlength = sm.sqrt(Hx**2 + Hy**2 + Hz**2)\nHx = Hx / length\nHy = Hy / length\nHz = Hz / length\n\nP_x, P_y, P_z, H_head = sm.symbols('P_x P_y P_z H_head', cls=me.Point)\nP_x.set_pos(BO, 2 * pfeil * B.x)\nP_y.set_pos(BO, 2 * pfeil * B.y)\nP_z.set_pos(BO, 2 * pfeil * B.z)\nH_head.set_pos(BO, 4.0 * (Hx * N.x + Hy * N.y + Hz * N.z))\n\ncoordinates = BO.pos_from(O).to_matrix(N)\nfor point in (P_x, P_y, P_z, H_head):\n    coordinates = coordinates.row_join(point.pos_from(O).to_matrix(N))\n\ncoords_lam = sm.lambdify(qL + pL, coordinates, cse=True)\n\nx_axis = ax.quiver(0, 0, 0, 0, 0, 0, color='red', arrow_length_ratio=0.1)\ny_axis = ax.quiver(0, 0, 0, 0, 0, 0, color='blue', arrow_length_ratio=0.1)\nz_axis = ax.quiver(0, 0, 0, 0, 0, 0, color='green', arrow_length_ratio=0.1)\nang_mom = ax.quiver(0, 0, 0, 0, 0, 0, color='purple', arrow_length_ratio=0.1)\npoint_BO = ax.scatter([0], [0], [0], color='black', s=50)\nax.text(\n    -0.5, 2.5, -0.5,\n    f\"Parameters:\\n\"\n    f\"$I_{1}$ = {I11:,}\\n\"\n    f\"$I_{2}$ = {I21:,}\\n\"\n    f\"$I_{3}$ = {I31:,}\\n\"\n    f\"$m_B$ = {mB1:,}\\n\"\n    f\"$m_P$ = {mP1:,}\\n\"\n    f\"$e$ = {e1:.3f}\\n\"\n    f\"$k$ = {k1:.3f}\\n\"\n    f\"$c$ = {c1:.3f}\\n\",\n    fontsize=12,\n)\n\n# Animation update\n\n\ndef update(frame):\n    global x_axis, y_axis, z_axis, ang_mom\n    # Rotation\n    alpha = state_sol(frame)[0]\n    beta = state_sol(frame)[1]\n    gamma = state_sol(frame)[2]\n    R = (rotation_matrix_x(alpha) @ rotation_matrix_y(beta) @\n         rotation_matrix_z(gamma))\n    rotated = brick_points @ R.T\n\n    # Translation (center moving in a circle)\n    center = np.array([state_sol(frame)[4], state_sol(frame)[5],\n                       state_sol(frame)[6]])\n    moved = rotated + center\n\n    # Update faces\n    poly.set_verts([[moved[i] for i in face] for face in faces_idx])\n\n    # Update body fixed axes\n    coords = coords_lam(*state_sol(frame), *pL_vals)\n    x_axis.remove()\n    y_axis.remove()\n    z_axis.remove()\n    ang_mom.remove()\n\n    x_axis = ax.quiver(coords[0, 0], coords[1, 0], coords[2, 0],\n                       coords[0, 1] - coords[0, 0],\n                       coords[1, 1] - coords[1, 0],\n                       coords[2, 1] - coords[2, 0],\n                       color='red', arrow_length_ratio=0.1)\n\n    y_axis = ax.quiver(coords[0, 0], coords[1, 0], coords[2, 0],\n                       coords[0, 2] - coords[0, 0],\n                       coords[1, 2] - coords[1, 0],\n                       coords[2, 2] - coords[2, 0],\n                       color='blue', arrow_length_ratio=0.1)\n\n    z_axis = ax.quiver(coords[0, 0], coords[1, 0], coords[2, 0],\n                       coords[0, 3] - coords[0, 0],\n                       coords[1, 3] - coords[1, 0],\n                       coords[2, 3] - coords[2, 0],\n                       color='green', arrow_length_ratio=0.1)\n\n    ang_mom = ax.quiver(coords[0, 0], coords[1, 0], coords[2, 0],\n                        coords[0, 4] - coords[0, 0],\n                        coords[1, 4] - coords[1, 0],\n                        coords[2, 4] - coords[2, 0],\n                        color='purple', arrow_length_ratio=0.1)\n\n    ax.set_title(f\"Example of David Levinson's lecture No 6 \\n \"\n                 f\"Running time: {frame:.2f} sec / High speed video \\n \"\n                 f\"Red arrow is $B_1$, blue arrow is $B_2$, \"\n                 f\"green arrow is $B_3$ \\n\"\n                 f\"Purple arrow is the angular momentum vector $H$\")\n\n    point_BO._offsets3d = ([coords[0, 0]], [coords[1, 0]], [coords[2, 0]])\n\n    return poly, x_axis, y_axis, z_axis, point_BO, ang_mom\n\n\nani = FuncAnimation(fig, update, frames=np.arange(0, intervall * factor,\n                                                  1 / fps),\n                    interval=150 / fps, blit=True)\nplt.show()"
      ]
    },
    {
      "cell_type": "markdown",
      "metadata": {},
      "source": [
        "Compare theta before / after optimization\n\n"
      ]
    },
    {
      "cell_type": "code",
      "execution_count": null,
      "metadata": {
        "collapsed": false
      },
      "outputs": [],
      "source": [
        "fig, ax = plt.subplots(2, 1, figsize=(8, 3), layout='constrained',\n                       sharex=True)\nax[0].plot(times, np.rad2deg(theta_lam(*[resultat_int[:, i] for i in\n                                         range(resultat_int.shape[1])],\n                                       *pL_vals)))\nax[0].set_title(f\"$\\\\theta$ before optimization, \\n k  = {k1b:.3f} \\n \"\n                f\"c  = {c1b:.3f}\")\nax[0].set_ylabel('angle [deg]')\nax[1].plot(times, np.rad2deg(theta_lam(*[resultat[:, i] for i in\n                                         range(resultat.shape[1])], *pL_vals)))\nax[1].set_title(f\"$\\\\theta$ after optimization, \\n k  = {k1:.3f} \\n \"\n                f\"c  = {c1:.3f}\")\n_ = ax[1].set_ylabel('angle [deg]')"
      ]
    }
  ],
  "metadata": {
    "kernelspec": {
      "display_name": "Python 3",
      "language": "python",
      "name": "python3"
    },
    "language_info": {
      "codemirror_mode": {
        "name": "ipython",
        "version": 3
      },
      "file_extension": ".py",
      "mimetype": "text/x-python",
      "name": "python",
      "nbconvert_exporter": "python",
      "pygments_lexer": "ipython3",
      "version": "3.13.3"
    }
  },
  "nbformat": 4,
  "nbformat_minor": 0
}