{
  "cells": [
    {
      "cell_type": "markdown",
      "metadata": {},
      "source": [
        "\n# Automatic Balancing of a Wheel\n\n## Objective\n\n- Show how to simulate the automatic balancing of a wheel with free particles\n  as shown in this video: https://www.youtube.com/watch?v=T47s4L1Wje4\n\n## Description\n\nA disc of radius $\\textrm{radius}$ is rotating with a constant angular\nvelocity $\\omega$ around the vertical axis in the horizontal X / Y plane.\n\nIt's center is tied to the origin by a spring with a spring constant $k$\nand a damping coefficient $\\textrm{speed}_{\\mu}$. The disc has a fixed\nimbalance created by a particle of mass $m_i$ at a distance of\n$\\textrm{radius}$ from the center of the disc.\n\nA number ``n_free`` of particles of mass $m_f$ are free to move on the\nperimeter of the disc.\n\n## Notes\n\n- Without adding friction to the attachment of the disc to the origin and to\n  the motion of the free particles, it did not work.\n- With one or two free particles there is only one solution, but with three\n  there are two solutions. One is found.\n\n**States**\n\n- $x, y$ : coordinates of the center of the disc in the inertial frame\n- $u_x, u_y$ : velocities of the center of the disc in the inertial frame\n- $q_i$ : angular coordinates of the free particles relative to the disc\n- $u_i$ : angular velocities of the free particles relative to the disc\n\n**Parameters**\n\n- $m_{\\textrm{disc}}$ : mass of the disc\n- $m_i$ : mass of the fixed particle\n- $m_f$ : mass of the free particles\n- $g$ : gravity\n- $\\textrm{speed}_{\\mu}$ : damping coefficient for the disc\n- $\\textrm{free}_{\\mu}$ : damping coefficient for the free particles\n- $\\omega$ : angular velocity of the disc\n- $k$ : spring constant of the spring connecting the disc to the origin\n- $\\textrm{radius}$ : radius of the disc\n"
      ]
    },
    {
      "cell_type": "code",
      "execution_count": null,
      "metadata": {
        "collapsed": false
      },
      "outputs": [],
      "source": [
        "import sympy as sm\nimport sympy.physics.mechanics as me\nimport numpy as np\nfrom scipy.integrate import solve_ivp\nfrom scipy.interpolate import CubicSpline\nfrom matplotlib.patches import Circle\nimport matplotlib.pyplot as plt\nfrom matplotlib.animation import FuncAnimation"
      ]
    },
    {
      "cell_type": "markdown",
      "metadata": {},
      "source": [
        "## Equations of Motion, Kanes Method\n\n"
      ]
    },
    {
      "cell_type": "code",
      "execution_count": null,
      "metadata": {
        "collapsed": false
      },
      "outputs": [],
      "source": [
        "n_free = 2  # number of free particles\nN, A = sm.symbols('N A', cls=me.ReferenceFrame)\nO, O_disc, Po = sm.symbols('O, O_disc, Po', cls=me.Point)\nPoints = sm.symbols(f'P:{n_free}', cls=me.Point)\n\nt = me.dynamicsymbols._t\nO.set_vel(N, 0)\n\n# Coordinates and velocities of the center of the disc, w.r.t. N\nx, y, ux, uy = me.dynamicsymbols('x, y, ux, uy')\n# Coordinates and velocities of the free particles, w.r.t. the disc\nq = me.dynamicsymbols(f'q:{n_free}')\nu = me.dynamicsymbols(f'u:{n_free}')\n\nm_disc, m_i, m_f, g, speed_mu, free_mu, omega, k, radius = sm.symbols(\n    'm_disc, m_i, m_f, g, speed_mu, free_mu, omega, k, radius', real=True)\n\nA.orient_axis(N, omega * t, N.z)\nA.set_ang_vel(N, omega * N.z)\n\n# Center of the disc\nO_disc.set_pos(O, x * N.x + y * N.y)\nO_disc.set_vel(N, ux * N.x + uy * N.y)\n\n# Fixed imbalance\nPo.set_pos(O_disc, radius/sm.sqrt(2) * (A.x + A.y))\n\n# Free particles\nvel_x = []\nvel_y = []\nfor i in range(n_free):\n    Points[i].set_pos(O_disc, radius * (sm.cos(q[i]) * A.x + radius *\n                                        sm.sin(q[i]) * A.y))\n\n    # Needed for the dampening of the free particles.\n    v_A = Points[i].pos_from(O_disc).diff(t, A)\n    vel_x.append(v_A.dot(A.x))\n    vel_y.append(v_A.dot(A.y))"
      ]
    },
    {
      "cell_type": "markdown",
      "metadata": {},
      "source": [
        "Define the bodies.\n\n"
      ]
    },
    {
      "cell_type": "code",
      "execution_count": null,
      "metadata": {
        "collapsed": false
      },
      "outputs": [],
      "source": [
        "bodies = []\niZZ = 0.5 * m_disc * radius**2\ninertia = me.inertia(A, 0, 0, iZZ)\ndisc = me.RigidBody('disc', O_disc, A, m_disc, (inertia, O_disc))\nbodies.append(disc)\nP_fix = me.Particle('P_fix', Po, m_i)\nbodies.append(P_fix)  # fixed particle\nfor i in range(n_free):\n    bodies.append(me.Particle(f'P_{i}', Points[i], m_f))"
      ]
    },
    {
      "cell_type": "markdown",
      "metadata": {},
      "source": [
        "Define the forces.\n\n"
      ]
    },
    {
      "cell_type": "code",
      "execution_count": null,
      "metadata": {
        "collapsed": false
      },
      "outputs": [],
      "source": [
        "vektor = O_disc.pos_from(O)\nindikator = sm.Piecewise((0, vektor.magnitude() < 1.e-16), (1, True))\nforces = [(O_disc, -k * indikator * vektor - speed_mu * (ux * N.x + uy * N.y))]\n\nindikator = sm.Piecewise((0, omega < 1.e-16), (1, True))\nfor i in range(n_free):\n    vektor = Points[i].pos_from(O_disc)\n    speed = vektor.cross(indikator * N.z)\n    forces.append((Points[i], - free_mu * (vel_x[i] * A.x + vel_y[i] * A.y)))\n\n# Kinematic equations\nkd = [ux - x.diff(t), uy - y.diff(t), *[u[i] - q[i].diff(t)\n                                        for i in range(n_free)]]\n\nq_ind = [x, y, *q]\nu_ind = [ux, uy, *u]\n\nKM = me.KanesMethod(N, q_ind, u_ind, kd)\nfr, frstar = KM.kanes_equations(bodies, forces)\n\nMM = KM.mass_matrix_full\nforce = KM.forcing_full\n\nprint('force dynamic symbols', me.find_dynamicsymbols(force))\nprint('mass matrix dynamic symbols', me.find_dynamicsymbols(MM))\nprint(f'force contains {sm.count_ops(force)} operations')\nprint(f'mass matrix contains {sm.count_ops(MM)} operations')"
      ]
    },
    {
      "cell_type": "markdown",
      "metadata": {},
      "source": [
        "Lambdification\n\n"
      ]
    },
    {
      "cell_type": "code",
      "execution_count": null,
      "metadata": {
        "collapsed": false
      },
      "outputs": [],
      "source": [
        "qL = q_ind + u_ind\npL = [m_disc, m_i, m_f, g, speed_mu, free_mu, omega, k, radius, t]\nMM_lam = sm.lambdify(qL + pL, MM, cse=True)\nforce_lam = sm.lambdify(qL + pL, force, cse=True)"
      ]
    },
    {
      "cell_type": "markdown",
      "metadata": {},
      "source": [
        "## Numerical Integration\n\n"
      ]
    },
    {
      "cell_type": "code",
      "execution_count": null,
      "metadata": {
        "collapsed": false
      },
      "outputs": [],
      "source": [
        "# Input variables\nm_disc1 = 20.0  # mass of the disc\nm_i1 = 1.0  # mass of the fixed particle\nm_f1 = 1.0  # mass of the free particles\ng1 = 9.81  # gravity\nradius1 = 1.0  # radius of the disc\nspeed_mu1 = 1.0  # damping coefficient for the disc\nfree_mu1 = 0.5  # friction coefficient for the free particles\nk1 = 1.e1  # spring constant\nomega1 = 1.5  # angular velocity of the disc\n\nx1 = 0.0  # initial x position of the disc\ny1 = 0.0  # initial y position of the disc\nux1 = 0.0  # initial x velocity of the disc\nuy1 = 0.0  # initial y velocity of the disc\nq01 = np.deg2rad(55)\nq11 = np.deg2rad(15)\nq21 = np.deg2rad(0.0)  # initial angle of the first free particle\nu01 = 0.0\nu11 = 0.0\nu21 = 0.0\nt1 = 0.0\n\nintervall = 100\npunkte = 100\n\nschritte = int(intervall * punkte)\ntimes = np.linspace(0., intervall, schritte)\nt_span = (0., intervall)\n\npL_vals = [m_disc1, m_i1, m_f1, g1, speed_mu1, free_mu1, omega1, k1,\n           radius1, t1]\n\nif n_free == 1:\n    y0 = [x1, y1, q01, ux1, uy1, u01]\nelif n_free == 2:\n    y0 = [x1, y1, q01, q11, ux1, uy1, u01, u11]\nelif n_free == 3:\n    y0 = [x1, y1, q01, q11, q21, ux1, uy1, u01, u11, u21]\nelse:\n    raise ValueError(f'Unsupported number of free particles: {n_free}',\n                     'Set manually in the code above')\n\n\ndef gradient(t, y, args):\n    args[-1] = t  # Update time in args\n    sol = np.linalg.solve(MM_lam(*y, *args), force_lam(*y, *args))\n    return np.array(sol).T[0]\n\n\nresultat1 = solve_ivp(gradient, t_span, y0, t_eval=times, args=(pL_vals,),\n                      method='Radau', atol=1.e-10, rtol=1.e-10)\n\nresultat = resultat1.y.T\nprint('resultat shape', resultat.shape, '\\n')\nprint(resultat1.message)"
      ]
    },
    {
      "cell_type": "markdown",
      "metadata": {},
      "source": [
        "Plot some results.\n\n"
      ]
    },
    {
      "cell_type": "code",
      "execution_count": null,
      "metadata": {
        "collapsed": false
      },
      "outputs": [],
      "source": [
        "fig, ax = plt.subplots(2, 1, figsize=(8, 5), layout='constrained',\n                       sharex=True)\nbezeichnung = ['x', 'y', 'q0', 'q1', 'ux', 'uy', 'u0', 'u1']\nfor i in range(2):\n    ax[0].plot(times, resultat[:, i], label=bezeichnung[i])\nax[0].legend()\nax[0].set_ylabel('distance [m]')\nax[0].set_title('Coordinates of the center of the disc relative to N')\nfor i in range(2, 2 + n_free):\n    ax[1].plot(times, resultat[:, i], label=bezeichnung[i])\nax[1].set_xlabel('time [s]')\nax[1].set_ylabel('angle [rad]')\nax[1].set_title('Angular coordinates of the free particles relative to the '\n                ' disc')\n_ = ax[1].legend()"
      ]
    },
    {
      "cell_type": "markdown",
      "metadata": {},
      "source": [
        "## Animation\n\n"
      ]
    },
    {
      "cell_type": "code",
      "execution_count": null,
      "metadata": {
        "collapsed": false
      },
      "outputs": [],
      "source": [
        "fps = 10.0\n\nt_arr = np.linspace(0.0, intervall, schritte)\nstate_sol = CubicSpline(t_arr, resultat)\n\nr_disc = radius1\n\nPl, Pr, Pu, Pd = sm.symbols('Pl Pr Pu Pd', cls=me.Point)\nPl.set_pos(O_disc, -r_disc*A.x)\nPr.set_pos(O_disc, r_disc*A.x)\nPu.set_pos(O_disc, r_disc*A.y)\nPd.set_pos(O_disc, -r_disc*A.y)\n\n\ncoordinates = O_disc.pos_from(O).to_matrix(N)\nfor point in (Po, Pl, Pr, Pu, Pd, *Points):\n    coordinates = coordinates.row_join(point.pos_from(O).to_matrix(N))\n\ncoords_lam = sm.lambdify(qL + pL, coordinates, cse=True)\n\nfig, ax = plt.subplots(figsize=(7, 7))\nax.set_xlim(-r_disc-1, r_disc+1)\nax.set_ylim(-r_disc-1, r_disc+1)\nax.set_aspect('equal')\nax.set_xlabel('x', fontsize=15)\nax.set_ylabel('y', fontsize=15)\nax.axhline(0, color='black', lw=0.5)\nax.axvline(0, color='black', lw=0.5)\n\n# draw the spokes\nline1, = ax.plot([], [], lw=1, marker='o', markersize=0, color='black')\nline2, = ax.plot([], [], lw=1, marker='o', markersize=0, color='black')\n\n# draw the ball\ninitial_center = (x1, y1)\nball = Circle(initial_center, r_disc,\n              fill=True, color='magenta', alpha=0.5)\nax.add_patch(ball)\n# draw the observer\nimbalance, = ax.plot([], [], marker='o', markersize=15, color='black')\n\n# The free balls\nfree_balls = []\nfarben = ['red', 'yellow', 'blue']  # Colors for the free balls\nfor i in range(n_free):\n    free_balls.append(ax.plot([], [], marker='o', markersize=15,\n                              color=farben[i])[0])\n\n# Function to update the plot for each animation frame\n\n\ndef update(t):\n    message = ((f'Running time {t:.2f} sec \\n The black particle is the '\n                f'imbalance. \\n The colored particles are free to move to '\n               'balance the wheel.'))\n    ax.set_title(message, fontsize=12)\n\n    pL_vals[-1] = t  # Update time in pL_vals\n    coords = coords_lam(*state_sol(t), *pL_vals)\n    line1.set_data([coords[0, 2], coords[0, 3]], [coords[1, 2], coords[1, 3]])\n    line2.set_data([coords[0, 4], coords[0, 5]], [coords[1, 4], coords[1, 5]])\n\n    imbalance.set_data([coords[0, 1]], [coords[1, 1]])\n    ball.set_center((coords[0, 0], coords[1, 0]))\n\n    for i in range(n_free):\n        free_balls[i].set_data([coords[0, 6 + i]], [coords[1, 6 + i]])\n\n\n# Create the animation\nanimation = FuncAnimation(fig, update, frames=np.arange(0.0,\n                                                        intervall, 1 / fps),\n                          interval=400/fps, blit=False)\n\nplt.show()"
      ]
    }
  ],
  "metadata": {
    "kernelspec": {
      "display_name": "Python 3",
      "language": "python",
      "name": "python3"
    },
    "language_info": {
      "codemirror_mode": {
        "name": "ipython",
        "version": 3
      },
      "file_extension": ".py",
      "mimetype": "text/x-python",
      "name": "python",
      "nbconvert_exporter": "python",
      "pygments_lexer": "ipython3",
      "version": "3.13.3"
    }
  },
  "nbformat": 4,
  "nbformat_minor": 0
}