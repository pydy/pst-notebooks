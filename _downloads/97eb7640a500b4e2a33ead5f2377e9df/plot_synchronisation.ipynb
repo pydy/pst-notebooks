{
  "cells": [
    {
      "cell_type": "markdown",
      "metadata": {},
      "source": [
        "\n# Synchronisation of Clocks\n\n## Objectives\n\n- See, whether the observation first reported by Huygens in 1665 can be\n  reproduced. See the article:\n  https://physicsworld.com/a/the-secret-of-the-synchronized-pendulums/\n- Show how to use a smooth hump function to model a torque impulse applied\n  to the pendulums.\n\n## Description\n\nTwo pendulums of length $l_2$ and $l_3$ are connected by a\nhorizontal rod of length $l_1$, which can move horizontally.\nThe first pendulum is fixed at the left\nend of the horizontal rod, the second pendulum is fixed at the right end of\nthe horizontal rod. The horizontal rod is connected to a $O$ point by a\nspring and a damper. The first pendulum is connected to the horizontal rod by a\nspring and a damper of constants $k_1$ and $d_1$. The second\npendulum is connected to the horizontal rod by a spring and a damper of\nconstants $k_2$ and $d_2$.\n\nImpulse torques of strength $p_2$ and $p_3$ are applied to the\nfirst and second pendulum, respectively. The impulse is modeled by a smooth\nhump function.\n\n## Notes\n\n- Only for certain combinations of the parameters was it possible to get the\n  synchronisation effect. Maybe this is a reason, it is not observed all the\n  time. I never found parameters, which would even remotely model two\n  cuckoo clocks, hanging on a wall.\n- The torque impulses applied to the pendulums are modeled by a smooth hump,\n  as numpy does not have a Dirac Delta function.\n- In the example. the common frequency is different from the eigenfrequency\n  of the pendulums. Maybe this corresponds to the statement in the article,\n  that the synchronized clocks will both show the wrong time.\n\n**States**\n\n- $q_1$ : horizontal position of the horizontal rod\n- $q_2$ : angle of the first pendulum\n- $q_3$ : angle of the second pendulum\n- $u_1$ : velocity of the horizontal rod\n- $u_2$ : angular velocity of the first pendulum\n- $u_3$ : angular velocity of the second pendulum\n\n**Parameters**\n\n- $m_1$ : mass of the horizontal rod\n- $m_2$ : mass of the first pendulum\n- $m_3$ : mass of the second pendulum\n- $g$ : gravitational acceleration\n- $l_1$ : length of the horizontal rod\n- $l_2$ : length of the first pendulum\n- $l_3$ : length of the second pendulum\n- $k_1$ : spring constant of the horizontal rod\n- $k_2$ : spring constant of the first pendulum\n- $k_3$ : spring constant of the second pendulum\n- $d_1$ : damping coefficient of the horizontal rod\n- $d_2$ : damping coefficient of the first pendulum\n- $d_3$ : damping coefficient of the second pendulum\n- $p_2$ : impulse torque applied to the first pendulum\n- $p_3$ : impulse torque applied to the second pendulum\n"
      ]
    },
    {
      "cell_type": "code",
      "execution_count": null,
      "metadata": {
        "collapsed": false
      },
      "outputs": [],
      "source": [
        "import numpy as np\nimport sympy as sm\nimport sympy.physics.mechanics as me\nfrom scipy.integrate import solve_ivp\nfrom scipy.signal import find_peaks\nimport matplotlib.pyplot as plt\n\nfrom scipy.interpolate import CubicSpline\nfrom matplotlib.animation import FuncAnimation"
      ]
    },
    {
      "cell_type": "markdown",
      "metadata": {},
      "source": [
        "Define a smooth hump function to model the impulse torque applied to the\npendulums\n\n"
      ]
    },
    {
      "cell_type": "code",
      "execution_count": null,
      "metadata": {
        "collapsed": false
      },
      "outputs": [],
      "source": [
        "def smooth_hump(x, a, b, steep):\n    return 0.5 * (1 - sm.tanh(steep * (x - a)) - sm.tanh(steep * (x - b)))"
      ]
    },
    {
      "cell_type": "markdown",
      "metadata": {},
      "source": [
        "## Equations of Motion\n\n"
      ]
    },
    {
      "cell_type": "code",
      "execution_count": null,
      "metadata": {
        "collapsed": false
      },
      "outputs": [],
      "source": [
        "N, A1, A2, A3 = sm.symbols('N A1 A2 A3', cls=me.ReferenceFrame)\nO, P1, P2, Dmc1, Dmc2, Dmc3 = sm.symbols('O P1 P2 Dmc1 Dmc2 Dmc3',\n                                         cls=me.Point)\nO.set_vel(N, 0)  # Set the velocity of the origin to zero\nt = me.dynamicsymbols._t  # Time symbol\n\nq1, q2, q3, u1, u2, u3 = me.dynamicsymbols('q1 q2 q3 u1 u2 u3', real=True)\n\nk1, k2, k3, m1, m2, m3 = sm.symbols('k1 k2 k3 m1 m2 m3')\nd1, d2, d3 = sm.symbols('d1 d2 d3', real=True)\nl1, l2, l3, g, p1, p2, p3 = sm.symbols('l1 l2 l3 g p1 p2 p3', real=True)\n\nA1.orient_axis(N, 0, N.z)\nA2.orient_axis(N, q2, N.z)\nA3.orient_axis(N, q3, N.z)\n\nA2.set_ang_vel(N, u2 * N.z)\nA3.set_ang_vel(N, u3 * N.z)\n\nDmc1.set_pos(O, q1 * N.x)\nDmc1.set_vel(N, u1 * N.x)\n\nP1.set_pos(Dmc1, -l1 / 2 * A1.x)\nP1.v2pt_theory(Dmc1, N, A1)\nP2.set_pos(Dmc1, l1 / 2 * A1.x)\nP2.v2pt_theory(Dmc1, N, A1)\n\nDmc2.set_pos(P1, -l2 * A2.y)\nDmc2.v2pt_theory(P1, N, A2)\nDmc3.set_pos(P2, -l3 * A3.y)\nDmc3.v2pt_theory(P2, N, A3)\n\niZZ1 = 1 / 12 * m1 * l1**2\niZZ2 = 1 / 12 * m2 * l2**2\niZZ3 = 1 / 12 * m3 * l3**2\n\ninert1 = me.inertia(A1, 0, 0, iZZ1)\ninert2 = me.inertia(A2, 0, 0, iZZ2)\ninert3 = me.inertia(A3, 0, 0, iZZ3)\n\n# Create the bodies\nbody1 = me.RigidBody('body1', Dmc1, A1, m1, (inert1, Dmc1))\nbody2 = me.RigidBody('body2', Dmc2, A2, m2, (inert2, Dmc2))\nbody3 = me.RigidBody('body3', Dmc3, A3, m3, (inert3, Dmc3))\nbodies = [body1, body2, body3]\n\n# Create the forces\nforces = [\n    (Dmc1, -m1 * g * N.y - k1 * q1 * N.x - d1 * u1 * N.x),\n    (Dmc2, -m2 * g * N.y),\n    (Dmc3, -m3 * g * N.y),\n    (A2, -k2 * q2 * A2.z - d2 * u2 * A2.z + p2 *\n     smooth_hump(q2, -0.01, 0.01, 25) * sm.sign(u2) * A2.z),\n    (A3, -k3 * q3 * A3.z - d3 * u3 * A3.z + p3 *\n     smooth_hump(q3, -0.01, 0.01, 25) * sm.sign(u3) * A3.z)\n]\n\nkd = sm.Matrix([u1 - q1.diff(t), u2 - q2.diff(t), u3 - q3.diff(t)])\n\nq_ind = [q1, q2, q3]\nu_ind = [u1, u2, u3]\n\nKM = me.KanesMethod(N, q_ind=q_ind, u_ind=u_ind, kd_eqs=kd)\nfr, frstar = KM.kanes_equations(bodies, forces)\n\nforce = KM.forcing_full\nMM = KM.mass_matrix_full\nsm.pprint(force)"
      ]
    },
    {
      "cell_type": "markdown",
      "metadata": {},
      "source": [
        "Lambdification\n\n"
      ]
    },
    {
      "cell_type": "code",
      "execution_count": null,
      "metadata": {
        "collapsed": false
      },
      "outputs": [],
      "source": [
        "qL = [q1, q2, q3, u1, u2, u3]\npL = [m1, m2, m3, g, l1, l2, l3, k1, k2, k3, d1, d2, d3, p2, p3]\n\nMM_lam = sm.lambdify(qL + pL, MM, cse=True)\nforce_lam = sm.lambdify(qL + pL, force, cse=True)"
      ]
    },
    {
      "cell_type": "markdown",
      "metadata": {},
      "source": [
        "## Numerical Integration\n\n"
      ]
    },
    {
      "cell_type": "code",
      "execution_count": null,
      "metadata": {
        "collapsed": false
      },
      "outputs": [],
      "source": [
        "# Input variables\nm21 = 1.0  # mass of the first vertical rod\nm31 = 1.0  # mass of the second vertical rod\n\ng1 = 9.81  # gravitational acceleration\nl11 = 1.5  # length of the horizontal rod\nl21 = 1.0  # length of the first vertical rod\nl31 = 1.1  # length of the second vertical rod\n\nk21 = 0.0  # spring constant of the first vertical rod\nk31 = 0.0  # spring constant of the second vertical rod\n\nd11 = 0.0  # damping coefficient of the horizontal rod\nd21 = 0.2  # damping coefficient of the first vertical rod\nd31 = 0.2  # damping coefficient of the second vertical rod\n\np21 = 0.45  # impulse torque applied to the first vertical rod\np31 = 0.475  # impulse torque applied to the second vertical rod\n\n# Initial conditions\nq11 = 0.0  # initial x position of the horizontal rod\nq21 = np.deg2rad(30.0)  # initial y position of the horizontal rod\nq31 = np.deg2rad(30.0)  # initial angle of the horizontal rod\nu11 = 0.0\nu21 = 0.0\nu31 = 0.0\n\nintervall = 200  # Simulation time in seconds\npunkte = 200  # Evaluation points per second\n\nschritte = int(intervall * punkte)\ntimes = np.linspace(0., intervall, schritte)\nt_span = (0., intervall)\nmax_step = 0.005  # Ensure solver does not miss the impulse.\n\n\ndef gradient(t, y, args):\n    sol = np.linalg.solve(MM_lam(*y, *args), force_lam(*y, *args))\n    return np.array(sol).T[0]"
      ]
    },
    {
      "cell_type": "markdown",
      "metadata": {},
      "source": [
        "The second loop is to get the eigenfrequencies of the pendulums. The\nconnecting mass is made very large, so the two pendulums swing (almost)\nindependently.\n\n"
      ]
    },
    {
      "cell_type": "code",
      "execution_count": null,
      "metadata": {
        "collapsed": false
      },
      "outputs": [],
      "source": [
        "frequenz2 = []\nfrequenz3 = []\npeaks2 = []\npeaks3 = []\nmin_values = []\nresultat_list = []\n\nfor i in range(2):\n    if i == 0:\n        m11 = 0.01\n        k11 = 100.0\n    else:\n        m11 = 1.e10\n        k11 = 0.0\n    pL_vals = [m11, m21, m31, g1, l11, l21, l31, k11, k21, k31, d11, d21, d31,\n               p21, p31]\n\n    y0 = [q11, q21, q31, u11, u21, u31]\n\n    resultat1 = solve_ivp(gradient, t_span, y0, t_eval=times,\n                          args=(pL_vals,), max_step=max_step)\n\n    resultat = resultat1.y.T\n    resultat_list.append(resultat)\n    print('resultat shape', resultat.shape)\n    print(resultat1.message)\n    print(f\"the solve made {resultat1.nfev:,} function evaluations \\n\")\n\n    # Plotting the results\n    if i == 0:\n        anfang = int((intervall - 10.0) * punkte)\n        peak2, _ = find_peaks(resultat[anfang:, 1], height=np.deg2rad(10))\n        peak3, _ = find_peaks(resultat[anfang:, 2], height=np.deg2rad(20))\n\n        fig, ax = plt.subplots(3, 1, figsize=(12, 8), layout='constrained')\n        ax[0].plot(times[anfang:], resultat[anfang:, 0])\n        ax[1].plot(times[anfang:], np.rad2deg(resultat[anfang:, 1]))\n        ax[1].axhline(0.0, color='black', lw=0.5, ls='--')\n        for peak in peak2:\n            ax[1].axvline(times[anfang + peak], color='red', lw=0.5, ls='--')\n        ax[2].plot(times[anfang:], np.rad2deg(resultat[anfang:, 2]))\n        ax[2].axhline(0.0, color='black', lw=0.5, ls='--')\n        for peak in peak3:\n            ax[2].axvline(times[anfang + peak], color='blue', lw=0.5, ls='--')\n        ax[0].set_ylabel('q1 [m]')\n        ax[0].set_title('Generalized coordinates')\n        ax[1].set_ylabel('q2 [deg]')\n        ax[2].set_ylabel('q3 [deg]')\n        ax[2].set_xlabel('Time [s]')\n\n    peaks2_h, _ = find_peaks(resultat[200:, 1], height=np.deg2rad(10))\n    peaks3_h, _ = find_peaks(resultat[200:, 2], height=np.deg2rad(20))\n    frequenz2.append(np.array([peaks2_h[j + 1] - peaks2_h[j]\n                     for j in range(len(peaks2_h) - 1)]))\n    frequenz3.append(np.array([peaks3_h[j + 1] - peaks3_h[j]\n                     for j in range(len(peaks3_h) - 1)]))\n\n    min_values.append(min(len(frequenz2[i]), len(frequenz3[i])))"
      ]
    },
    {
      "cell_type": "markdown",
      "metadata": {},
      "source": [
        "plot the frequencies of the pendulums.\n\n"
      ]
    },
    {
      "cell_type": "code",
      "execution_count": null,
      "metadata": {
        "collapsed": false
      },
      "outputs": [],
      "source": [
        "eigenfrequency20 = np.mean(frequenz2[0]) / punkte\neigenfrequency30 = np.mean(frequenz3[0]) / punkte\neigenfrequency21 = np.mean(frequenz2[1]) / punkte\neigenfrequency31 = np.mean(frequenz3[1]) / punkte\nmin_value = min(min_values)\nfig, ax = plt.subplots(1, 1, figsize=(10, 4))\nax.plot(np.linspace(0.0, intervall, min_value),\n        frequenz2[0][:min_value] / punkte, color='red',\n        label='Coupled frequency of first pendulum')\nax.plot(np.linspace(0.0, intervall, min_value),\n        frequenz3[0][:min_value] / punkte, color='blue',\n        label='Coupled frequency of second pendulum')\nax.plot(np.linspace(0.0, intervall, min_value),\n        np.ones(min_value) * eigenfrequency20, '--', color='red',\n        label='Coupled average frequency of first pendulum')\nax.plot(np.linspace(0.0, intervall, min_value),\n        np.ones(min_value) * eigenfrequency30, '--', color='blue',\n        label='Coupled average frequency of second pendulum')\nax.set_xlabel('Time [s]')\nax.set_ylabel('Frequency [Hz]')\nax.set_title('Frequency of the pendulums')\n\n\nax.plot(np.linspace(0.0, intervall, min_value),\n        np.ones(min_value) * eigenfrequency21, '.-', color='red',\n        label='Eigenfrequency of first pendulum')\nax.plot(np.linspace(0.0, intervall, min_value),\n        np.ones(min_value) * eigenfrequency31, '.-', color='blue',\n        label='Eigenfrequency of second pendulum')\n_ = ax.legend()"
      ]
    },
    {
      "cell_type": "markdown",
      "metadata": {},
      "source": [
        "## Animate the Simulation\nOnly an excerpt of the total simulation is animated, as the the animation\nwould take up too much memory otherwise\nCalculate the value of the maximum and minimum angles of the pendulums\n\n"
      ]
    },
    {
      "cell_type": "code",
      "execution_count": null,
      "metadata": {
        "collapsed": false
      },
      "outputs": [],
      "source": [
        "peaks2, dicts2 = find_peaks(resultat_list[0][200:, 1], height=np.deg2rad(10))\ntrough2, dict_through2 = find_peaks(-resultat_list[0][200:, 1],\n                                    height=-np.deg2rad(10))\npeaks3, dicts3 = find_peaks(resultat_list[0][200:, 2], height=np.deg2rad(20))\ntrough3, dict_through3 = find_peaks(-resultat_list[0][200:, 2],\n                                    height=-np.deg2rad(20))\n\npeak2_average = np.mean(dicts2['peak_heights'])\nprint(f'Average height of peaks2: {np.rad2deg(peak2_average):.2f} deg')\npeak3_average = np.mean(dicts3['peak_heights'])\nprint(f'Average height of peaks3: {np.rad2deg(peak3_average):.2f} deg')\ntrough2_average = -np.mean(dict_through2['peak_heights'])\nprint(f'Average height of troughs2: {np.rad2deg(trough2_average):.2f} deg')\ntrough3_average = -np.mean(dict_through3['peak_heights'])\nprint(f'Average height of troughs3: {np.rad2deg(trough3_average):.2f} deg')\n\nfps = 8\nt0, tf = 0.0, intervall\nt_arr = np.linspace(t0, tf, schritte)\nstate_sol = CubicSpline(t_arr, resultat_list[0])\n# Points at the end of the pendulums\nP3, P4 = me.Point('P3'), me.Point('P4')\nP3.set_pos(P1, -l2 * A2.y)\nP4.set_pos(P2, -l3 * A3.y)\n\ncoordinates = P1.pos_from(O).to_matrix(N)\nfor point in [P2, P3, P4]:\n    coordinates = coordinates.row_join(point.pos_from(O).to_matrix(N))\n\ncoords_lam = sm.lambdify(qL + pL, coordinates, cse=True)\n\nwidth, height, radius = 0.5, 0.5, 0.5\n\n\ndef init_plot():\n    xmin, xmax = -1.5, 2.0\n    ymin, ymax = -1.5, 0.5\n\n    fig, ax = plt.subplots(figsize=(8, 8))\n    ax.set_xlim(xmin, xmax)\n    ax.set_ylim(ymin, ymax)\n    ax.set_aspect('equal')\n    ax.set_xlabel('X-axis [m]')\n    ax.set_ylabel('Y-axis [m]')\n\n    line1, = ax.plot([], [], color='black', lw=1.0)\n    line2, = ax.plot([], [], color='red', lw=1.5)\n    line3, = ax.plot([], [], color='blue', lw=1.5)\n\n    line4 = ax.axvline(-0.5, color='red', lw=0.5, linestyle='--')\n    line5 = ax.axvline(0.5, color='red', lw=0.5, linestyle='--')\n    line6 = ax.axvline(0.0, color='blue', lw=0.5, linestyle='--')\n    line7 = ax.axvline(0.0, color='blue', lw=0.5, linestyle='--')\n\n    return fig, ax, point, line1, line2, line3, line4, line5, line6, line7\n\n\nfig, ax, point, line1, line2, line3, line4, line5, line6, line7 = init_plot()\n\n\ndef update(t):\n    message = (f'Running time {t:0.2f} sec \\n Speed 3 times actual speed \\n '\n               f'The vertical dotted lines are the maximum \\n average'\n               ' deflections of the pendulums.')\n    ax.set_title(message)\n\n    coords = coords_lam(*state_sol(t), *pL_vals)\n\n    line1.set_data([coords[0, 0], coords[0, 1]], [coords[1, 0], coords[1, 1]])\n    line2.set_data([coords[0, 0], coords[0, 2]], [coords[1, 0], coords[1, 2]])\n    line3.set_data([coords[0, 1], coords[0, 3]], [coords[1, 1], coords[1, 3]])\n\n    line4.set_xdata([coords[0, 0] + l21 * np.sin(peak2_average),\n                     coords[0, 0] + l21 * np.sin(peak2_average)])\n    line5.set_xdata([coords[0, 0] + l21 * np.sin(trough2_average),\n                     coords[0, 0] + l21 * np.sin(trough2_average)])\n    line6.set_xdata([coords[0, 1] + l31 * np.sin(peak3_average),\n                     coords[0, 1] + l31 * np.sin(peak3_average)])\n    line7.set_xdata([coords[0, 1] + l31 * np.sin(trough3_average),\n                     coords[0, 1] + l31 * np.sin(trough3_average)])\n\n\n# Create the animation.\nanim = FuncAnimation(fig, update,\n                     frames=np.arange(5, 45, 1/fps),\n                     interval=1/fps*333.3)\n\nplt.show()"
      ]
    }
  ],
  "metadata": {
    "kernelspec": {
      "display_name": "Python 3",
      "language": "python",
      "name": "python3"
    },
    "language_info": {
      "codemirror_mode": {
        "name": "ipython",
        "version": 3
      },
      "file_extension": ".py",
      "mimetype": "text/x-python",
      "name": "python",
      "nbconvert_exporter": "python",
      "pygments_lexer": "ipython3",
      "version": "3.13.3"
    }
  },
  "nbformat": 4,
  "nbformat_minor": 0
}