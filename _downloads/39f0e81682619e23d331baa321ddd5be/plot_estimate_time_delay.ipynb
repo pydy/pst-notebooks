{
  "cells": [
    {
      "cell_type": "markdown",
      "metadata": {},
      "source": [
        "\n# Time Delay Estimation\n\n## Objectives\n\n- Show how a time delay in a driving force of a mechanical system may be\n  estimated from noisy measurements by introducing a state variable which\n  mimicks the time.\n- Show how to handle the explicit appearance of the time ``t`` in the\n  equations of motion.\n- Show how to handle non-contiguous measurements.\n\n\n## Introduction\n\nA simple pendulum is driven by a torque of the form:\n$F \\cdot t \\cdot \\sin(\\omega (t - \\delta))$, and $F, \\omega,\n\\delta$\nare to be erstimated based on noisy measurements of the angle.\n\nPresently, opty cannot handle expressions like $\\sin(\\omega \\cdot\n(t - \\delta))$ in the equations of motion.\nTo overcome this, a state variable T(t) is introduced,\n$\\dfrac{dT}{dt} = 1$ is added to the equations of motion, and\n$T(t_0) = t_0$ is added as a constraint. This way, T(t) and t have the\nsame values. opty can handle $\\sin(T(t) - \\delta)$ in the equations\nof motion without any problems.\n\nPresently, opty cannot handle the **explicit** appearance of the time ``t`` in\nthe equations of motion. To overcome this, the time ``t`` is replaced by the\n``T(t)`` state variable described above.\n\nThe driving force is set to zero for $t < \\delta$.\n\nThe idea of using non-contiguous measurements was taken from this simulation:\n\nhttps://github.com/csu-hmc/opty/blob/master/examples-gallery/intermediate/plot_non_contiguous_parameter_identification.py\n\nAlso the detailed explanation may be found there\n\n## Notes\n\n- It is helpful to give reasonable bounds for the parameters to be estimated.\n  Otherwise opty may converge to another local minimum.\n- If the initial speeds $u_i \\neq 0$, it seems difficult to get good\n  estimates.\n\n**States**\n\n- $q_0, ...q_{no_{\\textrm{test}}-1}$ : angle of the pendulums [rad]\n- $u_0, ...u_{no_{\\textrm{test}}-1}$ : angular velocity of the\n  pendulums [rad/s]\n- $T(t)$ : variable which mimicks the time t [s]\n\n\n**Known parameters**\n\n- $m$ : mass of the pendulum [kg]\n- $g$ : gravity [m/s^2]\n- $l$ : length of the pendulum [m]\n- $I_{zz}$ : inertia of the pendulum [kg*m^2]\n- $steep$ : steepness of the differentiable step function [1/s]\n- $no_{\\textrm{test}}$ : Number of tests performed\n- $\\textrm{schritte}$ : Number of measurements of the angle per test\n\n**Unknown parameters**\n\n- $F$ : strength of the driving torque [Nm]\n- $\\omega$ : frequency of the driving torque [rad/s]\n- $\\delta$ : time delay of the driving torque [s]\n"
      ]
    },
    {
      "cell_type": "code",
      "execution_count": null,
      "metadata": {
        "collapsed": false
      },
      "outputs": [],
      "source": [
        "import numpy as np\nimport sympy as sm\nfrom scipy.integrate import solve_ivp\nimport sympy.physics.mechanics as me\nfrom opty import Problem\nfrom opty.utils import MathJaxRepr\nimport matplotlib.pyplot as plt"
      ]
    },
    {
      "cell_type": "markdown",
      "metadata": {},
      "source": [
        "## Set Up the System\n\n"
      ]
    },
    {
      "cell_type": "code",
      "execution_count": null,
      "metadata": {
        "collapsed": false
      },
      "outputs": [],
      "source": [
        "no_test = 15\n\nN = sm.symbols('N', cls=me.ReferenceFrame)\nA = sm.symbols(f'A:{no_test}', cls=me.ReferenceFrame)\n\nO = sm.symbols('O', cls=me.Point)\nP = sm.symbols(f'P:{no_test}', cls=me.Point)\nq = me.dynamicsymbols(f'q:{no_test}', real=True)\nu = me.dynamicsymbols(f'u:{no_test}', real=True)\nO.set_vel(N, 0)\nt = me.dynamicsymbols._t\n\nm, g, l, iZZ = sm.symbols('m g l iZZ', real=True)\nF, omega, delta = sm.symbols('F, omega, delta', real=True)\n\nbodies = []\nforces = []\ntorques = []\nkd = []\nfor i in range(no_test):\n    A[i].set_ang_vel(N, 0)\n    P[i].set_vel(N, 0)\n    A[i].orient_axis(N, q[i], N.z)\n    A[i].set_ang_vel(N, u[i]*N.z)\n\n    P[i].set_pos(O, -l*A[i].y)\n    P[i].v2pt_theory(O, N, A[i])\n\n    inert = me.inertia(A[i], 0, 0, iZZ)\n    bodies.append(me.RigidBody('body', P[i], A[i], m, (inert, P[i])))\n    # Driving force set to zero for t < delta\n    torque = F * t * sm.sin(omega*(t - delta)) * sm.Heaviside(t - delta)\n    forces.append((P[i], -m*g*N.y))\n    torques.append((A[i], torque*A[i].z))\n    kd.append(q[i].diff(t) - u[i])\n\nkd = sm.Matrix(kd)\nKM = me.KanesMethod(N, q_ind=q, u_ind=u, kd_eqs=kd)\nfr, frstar = KM.kanes_equations(bodies, forces + torques)\n\nMM = KM.mass_matrix_full\nforce = KM.forcing_full\nMathJaxRepr(force)"
      ]
    },
    {
      "cell_type": "markdown",
      "metadata": {},
      "source": [
        "Convert sympy functions to numpy functions.\n\n"
      ]
    },
    {
      "cell_type": "code",
      "execution_count": null,
      "metadata": {
        "collapsed": false
      },
      "outputs": [],
      "source": [
        "qL = q + u\npL = [m, g, l, iZZ, F, omega, delta, t]\n\nMM_lam = sm.lambdify(qL + pL, MM, cse=True)\nforce_lam = sm.lambdify(qL + pL, force, cse=True)\ntorque_lam = sm.lambdify(qL + pL, torque, cse=True)"
      ]
    },
    {
      "cell_type": "markdown",
      "metadata": {},
      "source": [
        "Integrate numerically to get the measurements.\n\n"
      ]
    },
    {
      "cell_type": "code",
      "execution_count": null,
      "metadata": {
        "collapsed": false
      },
      "outputs": [],
      "source": [
        "m1 = 1.0\ng1 = 9.81\nl1 = 1.0\niZZ1 = 1.0\nF1 = 0.25\nomega1 = 2.0\ndelta1 = 1.0\n\nt1 = 0.0\n\nnp.random.seed(123)  # For reproducibility\nq10 = 5 * np.random.randn(no_test)\nu10 = np.zeros(no_test)\n\ninterval = 5.0\nschritte = 200 * no_test\n\npL_vals = [m1, g1, l1, iZZ1, F1, omega1, delta1, t1]\ny0 = np.concatenate((q10, u10))\n\ntimes = np.linspace(0, interval, schritte)\nt_span = (0., interval)\n\n\ndef gradient(t, y, args):\n    args[-1] = t\n    vals = np.concatenate((y, args))\n    sol = np.linalg.solve(MM_lam(*vals), force_lam(*vals))\n    return np.array(sol).T[0]\n\n\nresultat1 = solve_ivp(gradient, t_span, y0, t_eval=times, args=(pL_vals,))\nresultat = resultat1.y.T\n\nmeasurement = np.empty((len(times), no_test))\nfor i in range(no_test):\n    seed = 123 + i  # Different seed for each test\n    np.random.seed(seed)\n    measurement[:, i] = resultat[:, i] + np.random.normal(0, 0.5,\n                                                          resultat[:, i].shape)\nprint('resultat shape', resultat.shape, '\\n')\nfig, ax = plt.subplots(figsize=(8, 4))\nfor i in range(no_test):\n    ax.plot(times, measurement[:, i], label=f'q{i+1}')\n    ax.plot(times, resultat[:, i], label=f'q{i+1}')\n\nax.set_xlabel('time [s]')\nax.set_ylabel('angle [rad]')\n_ = ax.set_title('Measurements and true trajectories')"
      ]
    },
    {
      "cell_type": "markdown",
      "metadata": {},
      "source": [
        "Adapt the eoms for opty.\n\n"
      ]
    },
    {
      "cell_type": "code",
      "execution_count": null,
      "metadata": {
        "collapsed": false
      },
      "outputs": [],
      "source": [
        "steep = 50.0\nT = me.dynamicsymbols('T')\n\n\ndef step_diff(x, a, steep):\n    \"\"\"A differentiable approximation of the Heaviside function.\"\"\"\n    return 0.5 * (1.0 + sm.tanh(steep * (x - a)))"
      ]
    },
    {
      "cell_type": "markdown",
      "metadata": {},
      "source": [
        "Replace the nondifferentiable Heaviside function with a differentiable\napproximation.\nAdd the eom, suitable to make T(t) mimick the time t.\n\n"
      ]
    },
    {
      "cell_type": "code",
      "execution_count": null,
      "metadata": {
        "collapsed": false
      },
      "outputs": [],
      "source": [
        "T = sm.Function('T')(t)\n\ntorques = []\nfor i in range(no_test):\n    torque = F * T * sm.sin(omega*(T - delta)) * step_diff(T, delta,\n                                                           steep)\n    torques.append((A[i], torque * A[i].z))\n\nKM = me.KanesMethod(N, q_ind=q, u_ind=u, kd_eqs=kd)\nfr, frstar = KM.kanes_equations(bodies, forces + torques)\neom = kd.col_join(fr + frstar)\neom = eom.col_join(sm.Matrix([T.diff(t) - 1.0]))\nMathJaxRepr(eom)"
      ]
    },
    {
      "cell_type": "markdown",
      "metadata": {},
      "source": [
        "## Set Up the Estimation Problem for opty\n\n"
      ]
    },
    {
      "cell_type": "code",
      "execution_count": null,
      "metadata": {
        "collapsed": false
      },
      "outputs": [],
      "source": [
        "state_symbols = q + u + [T]\n\nnum_nodes = schritte\nt0, tf = 0.0, interval\ninterval_value = (tf - t0) / (num_nodes - 1)\n\npar_map = {}\npar_map[m] = m1\npar_map[g] = g1\npar_map[l] = l1\npar_map[iZZ] = iZZ1"
      ]
    },
    {
      "cell_type": "markdown",
      "metadata": {},
      "source": [
        "If some measurement is more reliable than others its relative weight may be\nincreased by setting the corresponding weight to a value larger than 1.0.\n\n"
      ]
    },
    {
      "cell_type": "code",
      "execution_count": null,
      "metadata": {
        "collapsed": false
      },
      "outputs": [],
      "source": [
        "w = [1.0 for _ in range(no_test)]\n\n\ndef obj(free):\n    summe = 0.0\n    for i in range(no_test):\n        summe += w[i] * interval_value * np.sum((measurement[:, i] -\n                                                 free[i * num_nodes: (i + 1) *\n                                                      num_nodes])**2)\n    return summe\n\n\ndef obj_grad(free):\n    grad = np.zeros_like(free)\n    for i in range(no_test):\n        grad[i * num_nodes: (i + 1) * num_nodes] = (-2 * w[i] *\n                                                    interval_value *\n                                                    (measurement[:, i] -\n                                                     free[i * num_nodes:\n                                                         (i + 1) * num_nodes]))\n    return grad\n\n\ninstance_constraints = (\n    T.func(t0) - t0,\n)"
      ]
    },
    {
      "cell_type": "markdown",
      "metadata": {},
      "source": [
        "Give rough bounds for the parameters to be erstimated. This speeds up the\nconvergence.\n\n"
      ]
    },
    {
      "cell_type": "code",
      "execution_count": null,
      "metadata": {
        "collapsed": false
      },
      "outputs": [],
      "source": [
        "bounds = {\n    delta: (0.1, 2.0),\n    omega: (1.0, 3.0),\n    F: (0.1, 0.5),\n}\n\nprob = Problem(\n    obj,\n    obj_grad,\n    eom,\n    state_symbols,\n    num_nodes,\n    interval_value,\n    known_parameter_map=par_map,\n    instance_constraints=instance_constraints,\n    bounds=bounds,\n    time_symbol=t,\n)\n\nprint('Sequence of unknown parameters in solution, to be estimated:',\n      prob.collocator.unknown_parameters, '\\n')"
      ]
    },
    {
      "cell_type": "markdown",
      "metadata": {},
      "source": [
        "As the measurements for the angles are known, it makes sense to use them as\ninitial guess for the angles.\n\n"
      ]
    },
    {
      "cell_type": "code",
      "execution_count": null,
      "metadata": {
        "collapsed": false
      },
      "outputs": [],
      "source": [
        "initial_guess = np.hstack((\n    measurement.T.flatten(),  # initial guess for q\n    np.zeros(no_test * num_nodes),  # initial guess for u\n    np.linspace(t0, tf, num_nodes),  # initial guess for T\n    [0.1, 1.0, 0.2],  # initial guess for F, omega, delta\n))"
      ]
    },
    {
      "cell_type": "markdown",
      "metadata": {},
      "source": [
        "Solve the problem.\n\n"
      ]
    },
    {
      "cell_type": "code",
      "execution_count": null,
      "metadata": {
        "collapsed": false
      },
      "outputs": [],
      "source": [
        "solution, info = prob.solve(initial_guess)\nprint(info['status_msg'])"
      ]
    },
    {
      "cell_type": "markdown",
      "metadata": {},
      "source": [
        "Plot the constraint violations.\n\n"
      ]
    },
    {
      "cell_type": "code",
      "execution_count": null,
      "metadata": {
        "collapsed": false
      },
      "outputs": [],
      "source": [
        "_ = prob.plot_constraint_violations(solution)"
      ]
    },
    {
      "cell_type": "markdown",
      "metadata": {},
      "source": [
        "Plot the objective value as a function the the iterations.\n\n"
      ]
    },
    {
      "cell_type": "code",
      "execution_count": null,
      "metadata": {
        "collapsed": false
      },
      "outputs": [],
      "source": [
        "_ = prob.plot_objective_value()"
      ]
    },
    {
      "cell_type": "markdown",
      "metadata": {},
      "source": [
        "Print the results.\n\n"
      ]
    },
    {
      "cell_type": "code",
      "execution_count": null,
      "metadata": {
        "collapsed": false
      },
      "outputs": [],
      "source": [
        "print((f'estimated \\u03B4 = {solution[-2]:.3f}, given value = {delta1}, '\n       f'hence error = {(solution[-2] - delta1)/delta1*100:.3f} %'))\nprint((f'estimated \\u03C9 = {solution[-1]:.3f}, given value = {omega1},'\n       f' hence error = {(solution[-1] - omega1)/omega1*100:.3f} %'))\nprint((f'estimated F = {solution[-3]:.3f}, given value = {F1},'\n       f' hence error = {(solution[-3] - F1)/F1*100:.3f} %'))"
      ]
    },
    {
      "cell_type": "markdown",
      "metadata": {},
      "source": [
        "sphinx_gallery_thumbnail_number = 4\n\n"
      ]
    },
    {
      "cell_type": "code",
      "execution_count": null,
      "metadata": {
        "collapsed": false
      },
      "outputs": [],
      "source": [
        "fig, ax = plt.subplots(figsize=(8, 4))\nfor i in range(no_test):\n    ax.plot(times, measurement[:, i])\n#    ax.plot(times, resultat[:, i], label=f'q{i+1}')\n    ax.plot(times, solution[i*schritte:(i + 1)*schritte], color='black')\nax.set_xlabel('time [s]')\nax.set_ylabel('angle [rad]')\n_ = ax.set_title('Measurements and estimated trajectories in black')"
      ]
    }
  ],
  "metadata": {
    "kernelspec": {
      "display_name": "Python 3",
      "language": "python",
      "name": "python3"
    },
    "language_info": {
      "codemirror_mode": {
        "name": "ipython",
        "version": 3
      },
      "file_extension": ".py",
      "mimetype": "text/x-python",
      "name": "python",
      "nbconvert_exporter": "python",
      "pygments_lexer": "ipython3",
      "version": "3.13.3"
    }
  },
  "nbformat": 4,
  "nbformat_minor": 0
}