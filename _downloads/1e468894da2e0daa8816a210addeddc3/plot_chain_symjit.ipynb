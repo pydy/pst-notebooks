{
  "cells": [
    {
      "cell_type": "markdown",
      "metadata": {},
      "source": [
        "\n# Example Using symjit\n\n## Objective\n\n- show how to use symjit as an alternative to lambdify\n\n## Explanation\n\nsymjit (version 2.4.0 and up) is an alternative to symy's lambdify. As the\nusage is slightly different from lambdify, the differences are shown here.\n\nThe simulation is a simple 2D pendulum consisting of n links attached to a\nceiling.\n\n**States**\n\n- $q_{i}$ : The angle of link i w.r.t the inertial frame\n- $u_{i}$ : The angular velocity of link i w.r.t the inertial frame\n\n**Parameters**\n\n- $l$ : The length of each link\n- $m$ : The mass of each link\n- $iZZ$ : The moment of inertia of each link around its center of mass\n- $\\textrm{reibung}$ : The friction coefficient at each joint\n\n**Others**\n\n- $O$ : The inertial frame\n- $PO$ : A point fixed in the inertial frame\n- $A[i]$ : The body fixed frame of link i\n- $Dmc[i]$ : The center of gravity of link i\n- $P[i]$ : The point where frame A[i] joins frame A[i+1]\n- $l$ : The length of the pendulum, that is each link has\n  length = $\\dfrac{l}{n}$\n"
      ]
    },
    {
      "cell_type": "code",
      "execution_count": null,
      "metadata": {
        "collapsed": false
      },
      "outputs": [],
      "source": [
        "import sympy as sm\nimport sympy.physics.mechanics as me\nimport time\nimport numpy as np\nfrom scipy.integrate import solve_ivp\nimport matplotlib.pyplot as plt\nfrom symjit import compile_func"
      ]
    },
    {
      "cell_type": "markdown",
      "metadata": {},
      "source": [
        "## Kane's Equations of Motion\n\n"
      ]
    },
    {
      "cell_type": "code",
      "execution_count": null,
      "metadata": {
        "collapsed": false
      },
      "outputs": [],
      "source": [
        "# n = number of links\nn = 25\n# If term_info is True information about the mass matrix and the force vector\n# is printed\nterm_info = True\nplot_energies = True   # if True the energies are plotted\nsymJIT = True  # If True symjit's compile_func is used, else lambdify\n\nm, g, iZZ, l, reibung = sm.symbols('m, g, iZZ, l, reibung')\nq = me.dynamicsymbols(f'q:{n}')\nu = me.dynamicsymbols(f'u:{n}')\n\nt = me.dynamicsymbols._t\n\nA = sm.symbols(f'A:{n}', cls=me.ReferenceFrame)\nDmc = sm.symbols(f'Dmc:{n}', cls=me.Point)\nP = sm.symbols(f'P:{n}', cls=me.Point)\nrhs = list(sm.symbols(f'rhs:{n}'))\n\nO = me.ReferenceFrame('O')\nPO = me.Point('PO')\nPO.set_vel(O, 0)\n\nl1 = l/n\nl2 = l/(2 * n)\n\nA[0].orient_axis(O, q[0], O.z)\nA[0].set_ang_vel(O, u[0] * O.z)\n\nDmc[0].set_pos(PO, l2*A[0].x)\nDmc[0].v2pt_theory(PO, O, A[0])\nP[0].set_pos(PO, l1*A[0].x)\nP[0].v2pt_theory(PO, O, A[0])\n\nfor i in range(1, n):\n    A[i].orient_axis(O, q[i], O.z)\n    A[i].set_ang_vel(O, u[i] * O.z)\n\n    Dmc[i].set_pos(P[i-1], l2*A[i].x)\n    Dmc[i].v2pt_theory(P[i-1], O, A[i])\n    P[i].set_pos(P[i-1], l1*A[i].x)\n    P[i].v2pt_theory(P[i-1], O, A[i])\n\nBODY = []\nfor i in range(n):\n    inertia = me.inertia(A[i], 0., 0., iZZ)\n    body = me.RigidBody('body' + str(i), Dmc[i], A[i], m, (inertia, Dmc[i]))\n    BODY.append(body)\n\nFL1 = [(Dmc[i], -m*g*O.y) for i in range(n)]\nTorque = [(A[i], - u[i] * reibung * A[i].z) for i in range(n)]\nFL = FL1 + Torque\n\nkd = [u[i] - q[i].diff(t) for i in range(n)]\n\nKM = me.KanesMethod(O, q_ind=q, u_ind=u, kd_eqs=kd)\n(fr, frstar) = KM.kanes_equations(BODY, FL)\n\nMM = KM.mass_matrix_full\nif term_info:\n    print('MM DS', me.find_dynamicsymbols(MM))\n    print('MM free symbols', MM.free_symbols)\n    print(f'MM contains {sm.count_ops(MM):,} operations, '\n          f'{sm.count_ops(sm.cse(MM)):,} after cse', '\\n')\n\nforce = KM.forcing_full\nif term_info:\n    print('force DS', me.find_dynamicsymbols(force))\n    print('force free symbols', force.free_symbols)\n    print(f'force contains {sm.count_ops(force):,} operations '\n          f'{sm.count_ops(sm.cse(force)):,} after cse', '\\n')"
      ]
    },
    {
      "cell_type": "markdown",
      "metadata": {},
      "source": [
        "Functions for the kinetic and the potential energies.\nAlways useful to detect mistakes.\n\nUsing sm.lambdify(...)\n\n"
      ]
    },
    {
      "cell_type": "code",
      "execution_count": null,
      "metadata": {
        "collapsed": false
      },
      "outputs": [],
      "source": [
        "if plot_energies and not symJIT:\n    qL = q + u\n    pL = [m, g, l, iZZ, reibung]\n\n    kin_energie = sum([koerper.kinetic_energy(O) for koerper in BODY])\n    pot_energie = sum([m*g*me.dot(koerper.pos_from(PO), O.y)\n                       for koerper in Dmc])\n    kin_lam = sm.lambdify(qL + pL, kin_energie, cse=True)\n    pot_lam = sm.lambdify(qL + pL, pot_energie, cse=True)\nelse:\n    pass"
      ]
    },
    {
      "cell_type": "markdown",
      "metadata": {},
      "source": [
        "using symjit.compile_func(..)\n\nAs symjit does not accept dynamicsymbols -which are needed with Kane's\nmethod- they must be substituted with sympy symbols.\n\n"
      ]
    },
    {
      "cell_type": "code",
      "execution_count": null,
      "metadata": {
        "collapsed": false
      },
      "outputs": [],
      "source": [
        "if plot_energies and symJIT:\n    w1 = sm.symbols(f'w:{n}')\n    v1 = sm.symbols(f'v:{n}')\n    dict_w = {q[i]: w1[i] for i in range(n)}\n    dict_v = {u[i]: v1[i] for i in range(n)}\n\n    kin_energie = me.msubs(sum([koerper.kinetic_energy(O)\n                                for koerper in BODY]), dict_w, dict_v)\n    pot_energie = me.msubs(sum([m*g*me.dot(koerper.pos_from(PO), O.y)\n                                for koerper in Dmc]), dict_w, dict_v)\n    kin_jit = compile_func((*w1, *v1), kin_energie, params=(m, g, l, iZZ,\n                                                            reibung))\n    pot_jit = compile_func((*w1, *v1), pot_energie, params=(m, g, l, iZZ,\n                                                            reibung))\nelse:\n    pass"
      ]
    },
    {
      "cell_type": "markdown",
      "metadata": {},
      "source": [
        "Use symjit.\n\nAs MM and force are sympy matrices, they must be converted into lists.\nAs symjit does not accept dynamicsymbols -which are needed to form the\nequations of motion- they must be substituted with sympy symbols.\n\n"
      ]
    },
    {
      "cell_type": "code",
      "execution_count": null,
      "metadata": {
        "collapsed": false
      },
      "outputs": [],
      "source": [
        "if symJIT:\n    start3 = time.time()\n    w1 = sm.symbols(f'w:{n}')\n    v1 = sm.symbols(f'v:{n}')\n    dict_w = {q[i]: w1[i] for i in range(n)}\n    dict_v = {u[i]: v1[i] for i in range(n)}\n    MM1 = me.msubs(MM, dict_w, dict_v)\n    force1 = me.msubs(force, dict_w, dict_v)\n    MM1 = [MM1[i, j] for i in range(MM1.shape[0]) for j in range(MM1.shape[1])]\n    force1 = list(force1)\n    pL1 = (m, g, l, iZZ, reibung)\n    MM_jit = compile_func((*w1, *v1), MM1, params=pL1)\n    force_jit = compile_func((*w1, *v1), force1, params=pL1)\n\n    print(f'it took {time.time()-start3:.3f} sec to do compile_func')\n\nelse:\n    pass"
      ]
    },
    {
      "cell_type": "markdown",
      "metadata": {},
      "source": [
        "Use lambdify\n\n"
      ]
    },
    {
      "cell_type": "code",
      "execution_count": null,
      "metadata": {
        "collapsed": false
      },
      "outputs": [],
      "source": [
        "if not symJIT:\n    start3 = time.time()\n    qL = q + u\n    pL = [m, g, l, iZZ, reibung]\n\n    MM_lam = sm.lambdify(qL + pL, MM, cse=True)\n    force_lam = sm.lambdify(qL + pL, force, cse=True)\n\n    print(f'it took {time.time()-start3:.3f} sec to do the lambdification')\nelse:\n    pass"
      ]
    },
    {
      "cell_type": "markdown",
      "metadata": {},
      "source": [
        "## Numerical Integration\n\n"
      ]
    },
    {
      "cell_type": "code",
      "execution_count": null,
      "metadata": {
        "collapsed": false
      },
      "outputs": [],
      "source": [
        "# method='Radau' in solve_ivp gives a more constant total energy if\n# $reibung = 0.$\n\n# Input variables\nm1 = 1.\ng1 = 9.8\nl1 = 20\nreibung1 = 0.\n\nq1 = [3.*np.pi/2. + np.pi * i / n for i in range(1, n+1)]\nu1 = [0. for _ in range(n)]\n\nintervall = 10.0\npunkte = 50\n\nschritte = int(intervall * punkte)\ntimes = np.linspace(0., intervall, schritte)\nt_span = (0., intervall)\n\niZZ1 = 1./12. * m1 * (l1/n)**2        # from the internet\n\npL_vals = [m1, g1, l1, iZZ1, reibung1]\ny0 = [*q1, *u1]\n\nif symJIT is False:\n\n    def gradient(t, y, args):\n        sol = np.linalg.solve(MM_lam(*y, *args), force_lam(*y, *args))\n        return np.array(sol).T[0]\n\n\nelse:\n\n    def gradient(t, y, args):\n        # The list must be reshaped to a matrix.\n        MM_matrix = np.array(MM_jit(*y, *args)).reshape((n*2, n*2))\n        force_vector = np.array(force_jit(*y, *args))\n        sol = np.linalg.solve(MM_matrix, force_vector)\n        return np.array(sol)\n\nstart2 = time.time()\nresultat1 = solve_ivp(gradient, t_span, y0, t_eval=times, args=(pL_vals,),\n                      method='Radau')\nend2 = time.time()\n\nresultat = resultat1.y.T\nprint('resultat shape', resultat.shape)\nprint(resultat1.message, '\\n')\n\nif symJIT:\n    msg = 'used symjit'\nelse:\n    msg = 'used lambdify'\nprint(f\"To numerically integrate an intervall of {intervall} sec the \"\n      f\"routine cycled {resultat1.nfev:,} times and it took \"\n      f\"{end2 - start2:.3f} sec, {msg} \")"
      ]
    },
    {
      "cell_type": "markdown",
      "metadata": {},
      "source": [
        "## Plot the Energies\n\n"
      ]
    },
    {
      "cell_type": "code",
      "execution_count": null,
      "metadata": {
        "collapsed": false
      },
      "outputs": [],
      "source": [
        "if plot_energies:\n    kin_np = np.empty(schritte)\n    pot_np = np.empty(schritte)\n    total_np = np.empty(schritte)\n\n    for i in range(schritte):\n        if symJIT is False:\n            kin_np[i] = kin_lam(*[resultat[i, j]\n                                  for j in range(resultat.shape[1])], *pL_vals)\n            pot_np[i] = pot_lam(*[resultat[i, j]\n                                  for j in range(resultat.shape[1])], *pL_vals)\n            total_np[i] = kin_np[i] + pot_np[i]\n        else:\n            kin_np[i] = kin_jit(*[resultat[i, j]\n                                  for j in range(resultat.shape[1])], *pL_vals)\n            pot_np[i] = pot_jit(*[resultat[i, j]\n                                  for j in range(resultat.shape[1])], *pL_vals)\n            total_np[i] = kin_np[i] + pot_np[i]\n\n    if reibung1 == 0.:\n        max_total = np.max(np.abs(total_np))\n        min_total = np.min(np.abs(total_np))\n        delta = max_total - min_total\n        print(f'max deviation of total energy from constant is '\n              f'{delta/max_total * 100:.3e} % of max. total energy')\n    fig, ax = plt.subplots(figsize=(10, 5))\n    for i, j in zip((kin_np, pot_np, total_np),\n                    ('kinetic energy', 'potential energy', 'total energy')):\n        ax.plot(times, i, label=j)\n    ax.set_title(\"Energies of the system\")\n    ax.set_xlabel('time (sec)')\n    ax.set_ylabel('energy (Nm)')\n    _ = ax.legend()\nelse:\n    pass"
      ]
    }
  ],
  "metadata": {
    "kernelspec": {
      "display_name": "Python 3",
      "language": "python",
      "name": "python3"
    },
    "language_info": {
      "codemirror_mode": {
        "name": "ipython",
        "version": 3
      },
      "file_extension": ".py",
      "mimetype": "text/x-python",
      "name": "python",
      "nbconvert_exporter": "python",
      "pygments_lexer": "ipython3",
      "version": "3.13.3"
    }
  },
  "nbformat": 4,
  "nbformat_minor": 0
}