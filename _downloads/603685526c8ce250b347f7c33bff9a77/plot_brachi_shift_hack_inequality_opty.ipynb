{
  "cells": [
    {
      "cell_type": "markdown",
      "metadata": {},
      "source": [
        "\n# Brachistochrone\n\n## Objective\n\n- Show how to solve a variational problem using opty with variable time\n  interval.\n\n## Introduction\n\nA particle is to slide without friction under the constant force of gravity on\na curve from A to B in the shortest time. B must not be directly under A (else\nthe problem is trivial). The solution curve is called the Brachistochrone_\nwhich is a cycloid.\nOn part of the path, there is a line that the particle must not cross.\n\n\n## Explanation of the Approach Taken\n\nLet the curve be called $b(x)$. If the particle is at $(x(t) ,\nb(x(t))$ then it cannot have a speed component normal to the tangent of the\ncurve at this point. This fact is used to set up the equations of motion.\nWithout loss of generality the starting point is (0, 0).\nThe interfering line is a holonomic inequality constraint.\nThe inequality is may be enforced\n\n- with an additional state variable, which is then bound to be negative. This\n  is done by setting ``hack = True``.\n- with the intrinsic capability of opty to handle the inequality constraint.\n  This is done by setting ``hack = False``.\n\nIf both solutions are available, the difference between the two solutions is\nplotted.\n\n## Notes\n\nThe curve is parameterized by time and a nonholonomic constraint is introduced\nto ensure the motion is always tangent to the curve. The nonholonomic\nconstraint is similar to the constraint present in the `Chaplygin Sleigh`_.\n\n\n**States**\n\n- $x$: x-coordinate of the particle\n- $y$: y-coordinate of the particle, opposite in sign to the\n  gravitational force\n- $u_x$: x-component of the velocity of the particle\n- $u_y$: y-component of the velocity of the particle\n- math:`aux`: auxiliary variable to enforce the holonomic inequality\n  constraint, if ``hack = True``. It is not used if ``hack = False``.\n\n**Inputs**\n\n- $\\beta$: angle of the tangent of the curve with the horizontal\n\n**Known Parameters**\n\n- $m$: mass of the particle\n- $g$: acceleration due to gravity\n- $b_1$: x coordinate of the final point\n- $b_2$: y coordinate of the final point\n- $h_{\\textrm{shift}}$: shift of the curve in the -y direction\n- $\\text{steepness}$: slope of the interfering line\n\n**Free Parameters**\n\n- $h$: time interval\n"
      ]
    },
    {
      "cell_type": "code",
      "execution_count": null,
      "metadata": {
        "collapsed": false
      },
      "outputs": [],
      "source": [
        "import os\nimport numpy as np\nimport sympy as sm\nimport sympy.physics.mechanics as me\nimport matplotlib.pyplot as plt\nfrom opty import Problem\nfrom scipy.optimize import root\nfrom scipy.interpolate import CubicSpline\nfrom matplotlib.animation import FuncAnimation\n\n\nimport time"
      ]
    },
    {
      "cell_type": "markdown",
      "metadata": {},
      "source": [
        "## Equations of Motion\n\n=============================================================================\n``hack`` selects whether to use the intrinsic capability of opt to handle\nthe inequality constraint or to use a hack to enforce the inequality.\n``hack = True`` uses the hack.\n``hack = False`` uses the intrinsic capability of opty.\n\n"
      ]
    },
    {
      "cell_type": "code",
      "execution_count": null,
      "metadata": {
        "collapsed": false
      },
      "outputs": [],
      "source": [
        "hack = True\n# =============================================================================\nif hack:\n    meldung = 'hack used'\nelse:\n    meldung = 'intrinsic capability used'\n\n# The equations of motion represent a particle :math:`P` of mass :math:`m`\n# moving in a uniform gravitational field. The point moves on a surface that\n# applies a normal force to it and the angle of the surface relative to the\n# horizontal is :math:`\\beta(t)`. A nonholonomic constraint to ensure the\n# particle's velocity only has a component tangent to the surface is added to\n# the equations of motion. In addition, a holonomic inequality is added,\n# making it a set of differential algebraic equations.\nN, A = me.ReferenceFrame('N'), me.ReferenceFrame('A')\nO, P = sm.symbols('O P', cls=me.Point)\nO.set_vel(N, 0)\nt = me.dynamicsymbols._t\n\nm, g, h_shift, steepness = sm.symbols('m, g, h_shift, steepness')\nx, y, ux, uy = me.dynamicsymbols('x y u_x u_y')\nbeta, aux = me.dynamicsymbols('beta, aux')\n\nif hack:\n    state_symbols = (x, y, ux, uy, aux)\nelse:\n    state_symbols = (x, y, ux, uy)\n\nA.orient_axis(N, beta, N.z)\n\nP.set_pos(O, x*N.x + y*N.y)\nP.set_vel(N, ux*N.x + uy*N.y)\n\nspeed_constr = sm.Matrix([P.vel(N).dot(A.y)])\n\nkd = sm.Matrix([ux - x.diff(t), uy - y.diff(t)])\n\nbodies = [me.Particle('body', P, m)]\nforces = [(P, -m*g*N.y)]\n\nkane = me.KanesMethod(\n    N,\n    q_ind=[x, y],\n    u_ind=[ux],\n    u_dependent=[uy],\n    kd_eqs=kd,\n    velocity_constraints=speed_constr,\n)\nfr, frstar = kane.kanes_equations(bodies, loads=forces)\n\neom = kd.col_join(fr + frstar)\neom = eom.col_join(speed_constr)\n\nif hack:\n    eom = eom.col_join(sm.Matrix([aux - (-y-steepness*x-h_shift)]))\nelse:\n    eom = eom.col_join(sm.Matrix([(-y - steepness*x - h_shift)]))\neom"
      ]
    },
    {
      "cell_type": "markdown",
      "metadata": {},
      "source": [
        "## Set up the Optimization Problem and Solve It\n\nThe goal is to minimize the time to reach the second point. So make the time\ninterval a variable $h$.\n\n"
      ]
    },
    {
      "cell_type": "code",
      "execution_count": null,
      "metadata": {
        "collapsed": false
      },
      "outputs": [],
      "source": [
        "h = sm.symbols('h')\nnum_nodes = 201\nt0, tf = 0*h, h*(num_nodes - 1)\n\n\ndef obj(free):\n    return free[-1]\n\n\ndef obj_grad(free):\n    grad = np.zeros_like(free)\n    grad[-1] = 1.0\n    return grad"
      ]
    },
    {
      "cell_type": "markdown",
      "metadata": {},
      "source": [
        "Set up the constraints and bounds, objective function and its gradient for\nthe problem. (b1, b2) is the final point and (0, 0) is the starting point is\n(0/0).\n\n"
      ]
    },
    {
      "cell_type": "code",
      "execution_count": null,
      "metadata": {
        "collapsed": false
      },
      "outputs": [],
      "source": [
        "b1 = 10.0\nb2 = -6.0\n\npar_map = {\n        m: 1.0, g: 9.81,\n        h_shift: 0.75,\n        steepness: 0.9,\n}\n\n\ninstance_constraint = (\n    x.func(t0),\n    y.func(t0),\n    ux.func(t0),\n    uy.func(t0),\n    x.func(tf) - b1,\n    y.func(tf) - b2,\n)\n\nif hack:\n    bounds = {\n        h: (0.0, 1.0),\n        beta: (-np.pi/2 + 1.e-5, 0.0),\n        aux: (-100.0, 0.0),\n    }\n\n    eom_bounds = None\n\nelse:\n    bounds = {\n        h: (0.0, 1.0),\n        beta: (-np.pi/2 + 1.e-5, 0.0),\n    }\n    eom_bounds = {4: (-np.inf, 0.0)}"
      ]
    },
    {
      "cell_type": "markdown",
      "metadata": {},
      "source": [
        "backend='numpy' is used to speed up the execution if a solution is available.\nIf no solution is available, backend='cython' is recommended, as it takes a\nlarge number of iterations to reach the optimal solution.\n\n"
      ]
    },
    {
      "cell_type": "code",
      "execution_count": null,
      "metadata": {
        "collapsed": false
      },
      "outputs": [],
      "source": [
        "if hack is False:\n    prob = Problem(\n        obj,\n        obj_grad,\n        eom,\n        state_symbols,\n        num_nodes,\n        h,\n        time_symbol=t,\n        known_parameter_map=par_map,\n        instance_constraints=instance_constraint,\n        bounds=bounds,\n        eom_bounds=eom_bounds,\n    )\nelse:\n    prob = Problem(\n        obj,\n        obj_grad,\n        eom,\n        state_symbols,\n        num_nodes,\n        h,\n        time_symbol=t,\n        known_parameter_map=par_map,\n        instance_constraints=instance_constraint,\n        bounds=bounds,\n    )"
      ]
    },
    {
      "cell_type": "markdown",
      "metadata": {},
      "source": [
        "Solve the problem.\n\n"
      ]
    },
    {
      "cell_type": "code",
      "execution_count": null,
      "metadata": {
        "collapsed": false
      },
      "outputs": [],
      "source": [
        "zeit = time.time()\nnp.random.seed(123)\ninitial_guess = np.random.randn(prob.num_free)*0.1\nprob.add_option('max_iter', 55000)\nsolution, info = prob.solve(initial_guess)\nprint(f\"with {meldung}: \", info['status_msg'])\nax = prob.plot_objective_value()\nax.set_title(f'Objective Value, {meldung}')\n\nprint((f'With {meldung} time taken to solve the problem: '\n       f'{time.time() - zeit:.2f} sec'))"
      ]
    },
    {
      "cell_type": "markdown",
      "metadata": {},
      "source": [
        "State and input trajectories:\n\n"
      ]
    },
    {
      "cell_type": "code",
      "execution_count": null,
      "metadata": {
        "collapsed": false
      },
      "outputs": [],
      "source": [
        "ax = prob.plot_trajectories(solution)\nax[0].set_title(f'State Trajectories,  {meldung}')"
      ]
    },
    {
      "cell_type": "markdown",
      "metadata": {},
      "source": [
        "Constraint violations:\n\n"
      ]
    },
    {
      "cell_type": "code",
      "execution_count": null,
      "metadata": {
        "collapsed": false
      },
      "outputs": [],
      "source": [
        "ax = prob.plot_constraint_violations(solution)\nax[0].set_title(f'Constraint Violations, {meldung}')"
      ]
    },
    {
      "cell_type": "markdown",
      "metadata": {},
      "source": [
        "Plot the differences in the solutions\n\n"
      ]
    },
    {
      "cell_type": "code",
      "execution_count": null,
      "metadata": {
        "collapsed": false
      },
      "outputs": [],
      "source": [
        "if hack:\n    np.savetxt('hack.csv', solution, fmt='%.12f')\nelse:\n    np.savetxt('intrinsic.csv', solution, fmt='%.12f')\n\nif os.path.exists('hack.csv') and os.path.exists('intrinsic.csv'):\n    # Compare the two solutions\n    hack_sol = np.loadtxt('hack.csv')\n    intrinsic_sol = np.loadtxt('intrinsic.csv')\n    hack_sol, *_ = prob.parse_free(hack_sol)\n    intrinsic_sol, *_ = prob.parse_free(intrinsic_sol)\n\n    times = np.linspace(t0, (num_nodes - 1) * solution[-1], num_nodes)\n    fig, ax = plt.subplots(figsize=(7, 2))\n    for i in range(4):\n        ax.plot(times, hack_sol[i] - intrinsic_sol[i])\n    ax.set_xlabel('time')\n    ax.set_ylabel('difference')\n    ax.set_title('Difference in the solutions between hack and intrinsic')"
      ]
    },
    {
      "cell_type": "markdown",
      "metadata": {},
      "source": [
        "## Animate the Solution\n\n"
      ]
    },
    {
      "cell_type": "code",
      "execution_count": null,
      "metadata": {
        "collapsed": false
      },
      "outputs": [],
      "source": [
        "fps = 35"
      ]
    },
    {
      "cell_type": "markdown",
      "metadata": {},
      "source": [
        "Calculate the Brachistochrone from (0, 0) to (b1, b2). It is very sensitive\nto the initial guess.\n\n"
      ]
    },
    {
      "cell_type": "code",
      "execution_count": null,
      "metadata": {
        "collapsed": false
      },
      "outputs": [],
      "source": [
        "def func(x0):\n    \"\"\"Gives the Brachistochrome equation for the starting point at (0, 0) and\n    the final point at (b1, b2)\"\"\"\n    r, theta = x0[0], x0[1]\n    return [r*theta - r*np.sin(theta) - b1, r*(1.0 - np.cos(theta)) - b2]\n\n\nx0 = [1.0, 1.0]\nresultat = root(func, x0)\n\ntimes = np.linspace(0.0, resultat.x[1], num_nodes)\nxx = resultat.x[0]*times - resultat.x[0]*np.sin(times)\nyy = resultat.x[0]*(1.0 - np.cos(times))"
      ]
    },
    {
      "cell_type": "markdown",
      "metadata": {},
      "source": [
        "Set up the plot.\n\n"
      ]
    },
    {
      "cell_type": "code",
      "execution_count": null,
      "metadata": {
        "collapsed": false
      },
      "outputs": [],
      "source": [
        "state_vals, input_vals, _, h_val = prob.parse_free(solution)\nt_arr = np.linspace(t0, num_nodes*solution[-1], num_nodes)\nstate_sol = CubicSpline(t_arr, state_vals.T)\ninput_sol = CubicSpline(t_arr, input_vals.T)\n\nxmin = -1.0\nxmax = b1 + 1.0\nymin = b2 - 1.0\nymax = 1.0\n\narrow_head = me.Point('arrow_head')\narrow_head.set_pos(P, ux*N.x + uy*N.y)\n\ncoordinates = P.pos_from(O).to_matrix(N)\ncoordinates = coordinates.row_join(arrow_head.pos_from(O).to_matrix(N))\n\ncoords_lam = sm.lambdify(list(state_symbols) + [beta] + list(par_map.keys()),\n                         coordinates, cse=True)"
      ]
    },
    {
      "cell_type": "code",
      "execution_count": null,
      "metadata": {
        "collapsed": false
      },
      "outputs": [],
      "source": [
        "def init_plot():\n    fig, ax = plt.subplots(figsize=(7, 7))\n    ax.set_xlim(xmin, xmax)\n    ax.set_ylim(ymin, ymax)\n    ax.set_aspect('equal')\n    ax.set_xlabel('x', fontsize=15)\n    ax.set_ylabel('y', fontsize=15)\n\n    # Plot the Brachistochrone analytical solution.\n    ax.plot(xx, yy, color='red', lw=0.5)\n    ax.scatter([0], [0], color='red', s=10)\n    ax.scatter([b1], [b2], color='green', s=10)\n\n\n    # plot the restrictive line\n    start_x = -0.5\n    ax.plot([start_x, -(b2 + par_map[h_shift])/par_map[steepness]],\n            [-par_map[steepness]*start_x-par_map[h_shift], b2],\n            color='black', lw=0.5)\n\n    # shade the 'forbidden triangle\n    triangle_x = [start_x, -(b2 + par_map[h_shift])/par_map[steepness],\n                 start_x]\n    triangle_y = [-par_map[steepness]*start_x-par_map[h_shift], b2, b2]\n    ax.fill(triangle_x, triangle_y, color='gray', alpha=0.5)\n    ax.plot(triangle_x, triangle_y, color='black', lw=0.5)\n\n    ax.annotate('Brachistochrone', xy=(1.8, -3),\n                arrowprops=dict(arrowstyle='->',\n                        connectionstyle='arc3, rad=-.2', color='green',\n                        lw=0.25),\n                xytext=(4.0, -2.0), fontsize=10)\n\n    # Set up the point and the speed arrow.\n    punkt = ax.scatter([], [], color='red', s=50)\n    # Draw the speed vector.\n    pfeil = ax.quiver([], [], [], [], color='green', scale=25, width=0.004)\n\n    return fig, ax, punkt, pfeil"
      ]
    },
    {
      "cell_type": "markdown",
      "metadata": {},
      "source": [
        "Function to update the plot for each animation frame\n\n"
      ]
    },
    {
      "cell_type": "code",
      "execution_count": null,
      "metadata": {
        "collapsed": false
      },
      "outputs": [],
      "source": [
        "fig, ax, punkt, pfeil = init_plot()\n\n\ndef update(t):\n    message = (f'Running time {t:.2f} sec \\n'\n               f'The green arrow is the speed \\n'\n               f'Slow motion video.')\n    ax.set_title(message, fontsize=12)\n\n    coords = coords_lam(*state_sol(t), input_sol(t), *par_map.values())\n    punkt.set_offsets([coords[0, 0], coords[1, 0]])\n\n    pfeil.set_offsets([coords[0, 0], coords[1, 0]])\n    pfeil.set_UVC(coords[0, 1] - coords[0, 0], coords[1, 1] - coords[1, 0])"
      ]
    },
    {
      "cell_type": "markdown",
      "metadata": {},
      "source": [
        "Create the animation.\n\n"
      ]
    },
    {
      "cell_type": "code",
      "execution_count": null,
      "metadata": {
        "collapsed": false
      },
      "outputs": [],
      "source": [
        "fig, ax, punkt, pfeil = init_plot()\nanimation = FuncAnimation(\n    fig,\n    update,\n    frames=np.arange(t0, (num_nodes + 2)*h_val, 1/fps),\n    interval=3000/fps,\n)\n\nplt.show()"
      ]
    }
  ],
  "metadata": {
    "kernelspec": {
      "display_name": "Python 3",
      "language": "python",
      "name": "python3"
    },
    "language_info": {
      "codemirror_mode": {
        "name": "ipython",
        "version": 3
      },
      "file_extension": ".py",
      "mimetype": "text/x-python",
      "name": "python",
      "nbconvert_exporter": "python",
      "pygments_lexer": "ipython3",
      "version": "3.13.3"
    }
  },
  "nbformat": 4,
  "nbformat_minor": 0
}