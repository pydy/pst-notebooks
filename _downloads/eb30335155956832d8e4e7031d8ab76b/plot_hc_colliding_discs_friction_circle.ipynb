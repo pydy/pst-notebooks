{
  "cells": [
    {
      "cell_type": "markdown",
      "metadata": {},
      "source": [
        "\n# Colliding Discs\n\n## Objectives\n\n- Show how to model impacts using Hunt-Crossley's theory\n- Show how to handle a somewhat non-trivial system using Kane's method in\n  sympy.physics.mechanics\n\n\n## Description\n\n **n** discs, named $Dmc_0....Dmc_{n-1}$ with radius $r_0$ and mass\n $m_0$ are sliding frictionlessly on the horizontal X/Z plane.\nTheir space is limited by a circular wall of radius $R_W$ and center\nat the origin of the inertial frame $N$, which is fixed in space.\n\n The collision force is always on the line $\\overline{Dmc_i, Dmc_j}$,\n $0 \\le i, j \\le n-1$, $i \\neq j$, or on a line perpendicular to\n the tangent of the circular wall at the collision point. Of course, this\n line will go through Dmc[i]\n There is speed dependent friction between discs, with coefficient\n $m_u$ and between wall and discs, with coefficient $m_{uW}$\n\n An observer, a particle of mass $m_o$ may be attached anywhere within\n each disc.\n\n**Note about the force during the collisions**\n\n**Hunt Crossley's method**\n\nReference is this article:\nhttps://www.sciencedirect.com/science/article/pii/S0094114X23000782\n\n\nThis is with dissipation during the collision, the general force is given in\n(63) of the article as:\\\n$f_n = k_0 \\cdot \\rho + \\chi \\cdot \\dot \\rho$, with $k_0$ as\nbelow, $\\rho$ the penetration, and $\\dot\\rho$ the speed of the\npenetration.\nIn the article it is stated, that $n = \\frac{3}{2}$ is a good choice,\nit is derived in Hertz' approach. Of course, $\\rho, \\dot\\rho$ must be\nthe signed magnitudes of the respective vectors.\nA more realistic force is given in (64) as:\n$f_n = k_0 \\cdot \\rho^n + \\chi \\cdot \\rho^n\\cdot \\dot \\rho$, as this\navoids discontinuity at the moment of impact.\n**Hunt and Crossley** give this value for $\\chi$, see table 1:\n\n$\\chi = \\dfrac{3}{2} \\cdot(1 - c_\\tau) \\cdot \\dfrac{k_0}{\\dot\n\\rho^{(-)}}$,\nwhere $c_\\tau = \\dfrac{v_1^{(+)} - v_2^{(+)}}{v_1^{(-)} - v_2^{(-)}}$,\nwhere $v_i^{(-)}, v_i^{(+)}$ are the speeds of $body_i$, before and\nafter the collosion, see (45), $\\dot\\rho^{(-)}$ is the speed right at the\ntime the impact starts. $c_\\tau$ is an experimental factor, apparently\naround 0.8 for steel.\n\nUsing (64), this results in their expression for the force:\n\n$f_n = k_0 \\cdot \\rho^n \\left[1 + \\dfrac{3}{2} \\cdot(1 - c_\\tau) \\cdot\n\\dfrac{\\dot\\rho}{\\dot\\rho^{(-)}}\\right]$\n\nwith $k_0 = \\frac{4}{3\\cdot(\\sigma_1 + \\sigma_2)} \\cdot \\sqrt{\\frac{R_1\n\\cdot R_2}{R_1 + R_2}}$,\n\nwhere\n\n$\\sigma_i = \\frac{1 - \\nu_i^2}{E_i}$,\n\nwith\n\n$\\nu_i$ = Poisson's ratio, $E_i$ = Young\"s modulus,\n$R_1, R_2$ the radii of the colliding bodies, $\\rho$ the\npenetration depth.\n\nAll is near equations (54) and (61) of this article.\n\nAs per the article, $n = \\frac{3}{2}$ is always to be used.\n\n*spring energy* = $k_0 \\cdot \\int_{0}^{\\rho} k^{3/2}\\,dk = k_0\n\\cdot\\frac{2}{5} \\cdot \\rho^{5/2}$\nI assume, the dissipated energy cannot be given in closed form, at least the\narticle does not give one.\n\n**Notes**\n\n1. $c_\\tau = 1.$ gives **Hertz's** solution to the impact problem, also\n   described in the article.\n\n2. From the discs' point of view, the wall is concave. I model this by taking\n   $R_2 = -R_W$.\n   As $|R_1| < |R_2|$ this should give no issues. I do not know, whether\n   this approach is theoretically correct.\n\n**Variables**\n\n- $n$: number of discs\n- $m_0$: mass of the discs\n- $m_o$: mass of the observer\n- $r_0$: radius of the discs\n- $R_W$: radius of the wall\n- $k_0$: modulus of elasticity of the pendulum body\n- $k_{0W}$: modulus of elasticity of the collision disc with a wall\n- $i_{YY_i}$: moment of inertia of the i-th disc\n- $c_\\tau$: the experimental constant needed for Hunt-Crossley\n- $m_u$: coefficient of friction between discs / between disc and wall\n- $m_{uW}$: coefficient of friction between disc and wall\n- $t$: time\n- $q_0...q_{n-1}$: generalized coordinates for the discs\n- $u_0...u_{n-1}$: the angular speeds\n- $x_i, z_i$: the coordinates, in the inertial frame $N$, of the\n  center of the i-th disc\n- $ux_i, uz_i$: their speeds\n- $N$: frame of inertia\n- $P_0$: point fixed in $N$\n- $A_i$: body fixed frame of the i-th disc\n- $Dmc_i$: center of the i-th disc\n- $Po_i$: observer (particle) on i-th disc\n- $\\alpha_i$: distance of observer on i-th disc\n- $CP_i$: contact point of $disc_i$ with the wall\n- $rhodt_{max}$: the collission speed, to be determined during\n  integration, needed for Hunt-Crossley\n"
      ]
    },
    {
      "cell_type": "code",
      "execution_count": null,
      "metadata": {
        "collapsed": false
      },
      "outputs": [],
      "source": [
        "import sympy.physics.mechanics as me\nimport sympy as sm\nfrom scipy.integrate import solve_ivp\nimport numpy as np\nfrom itertools import permutations\nimport matplotlib.pyplot as plt\nfrom matplotlib import animation\nimport matplotlib as mp"
      ]
    },
    {
      "cell_type": "markdown",
      "metadata": {},
      "source": [
        "This is needed to exit a loop, when a feasible initial location of the discs\nwithin the limitations of the wall was found.\n\n"
      ]
    },
    {
      "cell_type": "code",
      "execution_count": null,
      "metadata": {
        "collapsed": false
      },
      "outputs": [],
      "source": [
        "class Rausspringen(Exception):\n    pass"
      ]
    },
    {
      "cell_type": "markdown",
      "metadata": {},
      "source": [
        "## Kane's Equations of Motion\n\n"
      ]
    },
    {
      "cell_type": "markdown",
      "metadata": {},
      "source": [
        "Set up some of the geometry.\n\n"
      ]
    },
    {
      "cell_type": "code",
      "execution_count": null,
      "metadata": {
        "collapsed": false
      },
      "outputs": [],
      "source": [
        "n = 3  # Number of discs, must be larger than 1\n\nif isinstance(n, int) is False or n < 2:\n    raise Exception('n must be an integer larger than 1')\n\nq_list = me.dynamicsymbols(f'q:{n}')\nu_list = me.dynamicsymbols(f'u:{n}')\nx_list = me.dynamicsymbols(f'x:{n}')\nz_list = me.dynamicsymbols(f'z:{n}')\nux_list = me.dynamicsymbols(f'ux:{n}')\nuz_list = me.dynamicsymbols(f'uz:{n}')\n\nCPx_list = list(sm.symbols(f'CPx:{n}'))\nCPz_list = list(sm.symbols(f'CPz:{n}'))\nCP_list = list(sm.symbols(f'CP:{n}', cls=me.Point))\n\n\nrhodtmax = []\nfor i, j in permutations(range(n), r=2):\n    rhodtmax.append(sm.symbols('rhodtmax' + str(i) + str(j)))\n\nrhodtwall = list(sm.symbols(f'rhodtwall:{n}'))\n\nm0, mo, r0, RW, k0, k0W, iYY, ctau, mu, muW = sm.symbols('m0, mo, r0, RW, k0,'\n                                                         'k0W, iYY, ctau, mu,'\n                                                         'muW')\n\nN = me.ReferenceFrame('N')\nP0 = me.Point('P0')\nP0.set_vel(N, 0)\n\nt = me.dynamicsymbols._t\n\nA_list = sm.symbols(f'A:{n}', cls=me.ReferenceFrame)\nDmc_list = sm.symbols(f'Dmc:{n}', cls=me.Point)\nPo_list = sm.symbols(f'Po:{n}', cls=me.Point)\nCP_list = list(sm.symbols(f'CP:{n}', cls=me.Point))\nalpha_list = sm.symbols(f'alpha:{n}')\n\nBody1 = []\nBody2 = []\nfor i in range(n):\n    A_list[i].orient_axis(N, q_list[i], N.y)\n    A_list[i].set_ang_vel(N, u_list[i] * N.y)\n\n    Dmc_list[i].set_pos(P0, x_list[i]*N.x + z_list[i]*N.z)\n    Dmc_list[i].set_vel(N, ux_list[i]*N.x + uz_list[i]*N.z)\n\n    Po_list[i].set_pos(Dmc_list[i], r0 * alpha_list[i] * A_list[i].x)\n    Po_list[i].v2pt_theory(Dmc_list[i], N, A_list[i])\n\n    CP_list[i].set_pos(P0, CPx_list[i]*N.x + CPz_list[i]*N.z)\n\n    I = me.inertia(A_list[i], 0, iYY, 0)\n    body = me.RigidBody('body' + str(i), Dmc_list[i], A_list[i], m0,\n                        (I, Dmc_list[i]))\n    teil = me.Particle('teil' + str(i), Po_list[i], mo)\n    Body1.append(body)\n    Body2.append(teil)\nBODY = Body1 + Body2"
      ]
    },
    {
      "cell_type": "markdown",
      "metadata": {},
      "source": [
        "**Colliding force between discs**\n\nThis function returns the force, as given by Hunt-Crossley, which\n$P_1$ excerts on $P_2$.\nThe relevant speed is only the speed component in $\\overline{P_1 P_2}$\ndirection.\n$sm.Heaviside(2. \\cdot r - abstand, 0)$ ensures, that there is a force\nonly during the collision.\n\nI get $\\dot\\rho^{(-)}$ during integration. The way I defined it, it\nshould always be negative, just like $\\dot\\rho$ in the first phase of\nthe penetration. For whatever reason, this is not always so.\nUsing $\\dfrac{-\\dot\\rho}{|\\dot\\rho^{(-)}|}$ gives the right results.\n\n"
      ]
    },
    {
      "cell_type": "code",
      "execution_count": null,
      "metadata": {
        "collapsed": false
      },
      "outputs": [],
      "source": [
        "def HC_disc(N, P1, P2, r, ctau, rhodtmax, k0):\n    '''\nCalculates the contact force exerted by P1 on P2, according to the\nHunt-Crossley formula given above.\nI assume, that the contact force always acts along the line P1/P2.\nI think, this is a fair assymption if the colliding balls are homogenious.\n\nThe variables in the list are\n\n- N is an me.ReferenceFrame, the inertial frame\n- P1, P2 are me.Point objects. They are the centers of two me.RigidBody\n  objects, here assumed to be two ball each of radius r\n- radius of the ball\n- ctau, the experimental constant needed\n- rhodtmax, the relative speeds of P1 to P2, right at the impact time,\n  measured in N.\n  This has to be calculated numerically during the integration.\n- k0 is the force constant\n    '''\n    vektorP1P2 = P2.pos_from(P1)\n    abstand = vektorP1P2.magnitude()\n    richtung = vektorP1P2.normalize()\n\n    # penetration. Positive if the two balls are in collision\n    rho = (2.*r - abstand)/2.\n    geschw = vektorP1P2.diff(t, N)\n    rhodt = me.dot(geschw, richtung)\n    rho = sm.Max(rho, sm.S(0))   # if rho < 0., rho**(3/2) will give problems\n\n    kraft = (k0 * rho**(3/2) * (1. + 3./2. * (1 - ctau) *\n                                (-rhodt/sm.Abs(rhodtmax))) *\n             sm.Heaviside(2. * r - abstand, 0.) * richtung)\n\n    return kraft"
      ]
    },
    {
      "cell_type": "markdown",
      "metadata": {},
      "source": [
        "**Collision force between disc and the wall**\nAs far as the penetration depth is concerned, this is like two discs\ncolliding: the penetration depth of the wall into the disc is the same as\nthe disc into the wall.\n\n"
      ]
    },
    {
      "cell_type": "code",
      "execution_count": null,
      "metadata": {
        "collapsed": false
      },
      "outputs": [],
      "source": [
        "def HC_wall(N, P1, CP, r, ctau, rhodtwall, k0W):\n\n    '''\nCalculates the contact force exerted by the wall on P1, according to the\nHunt-Crossley formula given above. I assume, that the contact force always\nacts in the direction normal to the tangent of the wall at the\ncollision point CP.\n\nThe variables in the list are\n\n- N is an me.ReferenceFrame, the inertial frame\n- P1, is a me.Point object, the center of the disc\n- CP is the point where the disc collides with the wall.\n- radius of the disc\n- ctau, the experimental constant needed\n- rhodtmax, a list containing the speed right before P1 hits wall_i\n  This has to be calculated numerically during the integration.\n- k0W is the force constant. This is different from k0 as the wall is like a\n  disc with R = -RW.\n\n    '''\n\n    vektor = P1.pos_from(CP)\n    abstand = vektor.magnitude()\n    richtung = vektor.normalize()\n    # penetration. Positive if the disc is in collision with the wall\n    rho = (r - abstand)\n    rhodt = me.dot(P1.vel(N), richtung)\n    rho = sm.Max(rho, sm.S(0))   # if rho < 0., rho**(3/2) will give problems\n\n    kraft0 = (k0W * rho**(3/2) * (1. + 3./2. * (1 - ctau)\n                                  * (-rhodt/sm.Abs(rhodtwall)))\n              * sm.Heaviside(r - abstand, 0.) * richtung)\n\n    return kraft0"
      ]
    },
    {
      "cell_type": "markdown",
      "metadata": {},
      "source": [
        "**Friction when a disc hits another disc**\n\nThis website:\nhttps://math.stackexchange.com/questions/2195047/solve-the-vector-cross-product-equation\n\n\ngives: $b = a \\times x \\rightarrow x = \\dfrac{b \\times a}{|a|^2}$\n\nThis way, one can easily get the force acting on P1, without any further\ngeometric considerations.\n\n"
      ]
    },
    {
      "cell_type": "code",
      "execution_count": null,
      "metadata": {
        "collapsed": false
      },
      "outputs": [],
      "source": [
        "def friction_disc(N, A1, A2, P1, P2, r, ctau, rhodtmax, k0, mu):\n    '''\nwhen two discs collide, their surface speed in general will be different.\nThere is a force caused by friction. Here I calculate the force acting on the\ncontact point CP1 of P1 in direction of the tangent on disc1, whose center is\nP1, proportional to v(CP2) - v(CP1)\n\n* the magnitude of the collision force which P2 excerts on P1\n* the coefficient of friction mu\n\nThe force on CP is equivalent to a force on Dmc and a torque on A\n    '''\n    CPa, CPb = sm.symbols('CPa, CPb', cls=me.Point)\n\n    abstand = P2.pos_from(P1)\n    CPa.set_pos(P1, abstand / 2.)\n    CPa.v2pt_theory(P1, N, A1)\n\n    CPb.set_pos(P2, -abstand / 2.)\n    CPb.v2pt_theory(P2, N, A2)\n    delta_v = CPb.vel(N) - CPa.vel(N)\n\n    force_coll = HC_disc(N, P2, P1, r, ctau, rhodtmax, k0).magnitude()\n    force_fric = (force_coll * mu * delta_v)\n\n    torque = (0.5 * abstand.cross(force_fric) *\n              sm.Heaviside(2. * r - abstand.magnitude()))\n\n    kraft = (1./(0.25 * me.dot(abstand, abstand)) * torque.cross(abstand) *\n             sm.Heaviside(2. * r - abstand.magnitude()))\n\n    return [kraft, torque]"
      ]
    },
    {
      "cell_type": "markdown",
      "metadata": {},
      "source": [
        "**Friction when a disc hits the wall**\n\n"
      ]
    },
    {
      "cell_type": "code",
      "execution_count": null,
      "metadata": {
        "collapsed": false
      },
      "outputs": [],
      "source": [
        "def friction_wall(N, A1, P1, CP, r, ctau, rhodtwall, k0W, mu):\n    '''\nWhen a disc collides with a wall, there will be a force due to friction.\nI calculate the force due to friction on the contact point CP1.\nThis force is parallel to the wall, and proportional to\n* the speed of CP1\n* the magnitude of the collision force\n* the coefficient of friction mu\n    '''\n\n    vektor = P1.pos_from(CP)\n    abstand = vektor.normalize()\n\n    CPa = me.Point('CPa')\n    CPa.set_pos(P1, -abstand)\n    CPa.v2pt_theory(P1, N, A1)\n    force_coll = HC_wall(N, P1, CP, r, ctau, rhodtwall, k0W).magnitude()\n    force_fric = -force_coll * mu * CPa.vel(N)\n\n    torque0 = (CPa.pos_from(P1).cross(force_fric) *\n               sm.Heaviside(r - vektor.magnitude()))\n    kraft0 = (1./me.dot(abstand, abstand) * torque0.cross(-abstand) *\n              sm.Heaviside(r - vektor.magnitude()))\n\n    return [kraft0, torque0]"
      ]
    },
    {
      "cell_type": "markdown",
      "metadata": {},
      "source": [
        "**force from the collision of discs with discs and discs with the wall**\n\nWith *permutations(range(n), r=2)* I get all possible forces of\n$disc_j$ on $disc_i$, $0 \\le i, j \\le n-1, i \\neq j$\nThis is not the most efficient way to do it, as for example\n$F^{disc_i \\space \\backslash \\space disc_j} = -F^{disc_j \\space\n\\backslash \\space disc_i}$, but this way seems easier to keep it all\n'straight'.\n\n"
      ]
    },
    {
      "cell_type": "code",
      "execution_count": null,
      "metadata": {
        "collapsed": false
      },
      "outputs": [],
      "source": [
        "FL = []\n\n# Hunt - Crossley type collision forces between discs and between disc and wall\nzaehler = -1\nfor i, j in permutations(range(n), r=2):\n    zaehler += 1\n    FL.append((Dmc_list[i], HC_disc(N, Dmc_list[j], Dmc_list[i], r0,\n                                    ctau, rhodtmax[zaehler], k0)))\n\nfor i in range(n):\n    FL.append((Dmc_list[i], HC_wall(N, Dmc_list[i], CP_list[i], r0, ctau,\n                                    rhodtwall[i], k0W)))\n\n# Friction forces between discs\nzaehler = -1\nfor i, j in permutations(range(n), r=2):\n    zaehler += 1\n    FL.append((Dmc_list[i], friction_disc(N, A_list[i], A_list[j], Dmc_list[i],\n                                          Dmc_list[j], r0, ctau,\n                                          rhodtmax[zaehler], k0, mu)[0]))\n    FL.append((A_list[i], friction_disc(N, A_list[i], A_list[j], Dmc_list[i],\n                                        Dmc_list[j], r0, ctau,\n                                        rhodtmax[zaehler], k0, mu)[1]))\n\n# Friction forces between disc and wall\nfor i in range(n):\n    FL.append((Dmc_list[i], friction_wall(N, A_list[i], Dmc_list[i],\n                                          CP_list[i], r0, ctau, rhodtwall[i],\n                                          k0W, muW)[0]))\n    FL.append((A_list[i], friction_wall(N, A_list[i], Dmc_list[i],\n                                        CP_list[i], r0, ctau, rhodtwall[i],\n                                        k0W, muW)[1]))"
      ]
    },
    {
      "cell_type": "markdown",
      "metadata": {},
      "source": [
        "**Kane's equations**\n\n"
      ]
    },
    {
      "cell_type": "code",
      "execution_count": null,
      "metadata": {
        "collapsed": false
      },
      "outputs": [],
      "source": [
        "kd = [i - sm.Derivative(j, t) for i, j in zip(u_list + ux_list + uz_list,\n                                              q_list + x_list + z_list)]\n\nq_ind = x_list + z_list + q_list\nu_ind = ux_list + uz_list + u_list\n\nKM = me.KanesMethod(N, q_ind=q_ind, u_ind=u_ind, kd_eqs=kd)\n(fr, frstar) = KM.kanes_equations(BODY, FL)\n\nMM = KM.mass_matrix_full\nprint('MM DS', me.find_dynamicsymbols(MM))\nprint('MM free symbols', MM.free_symbols)\nprint(f'MM contains {sm.count_ops(MM):,} operations')\n\nforce = KM.forcing_full\nprint('force DS', me.find_dynamicsymbols(force), '\\n')\nprint('force free symbols', force.free_symbols, '\\n')\nprint(f'force contains {sm.count_ops(force):,} operations', '\\n')"
      ]
    },
    {
      "cell_type": "markdown",
      "metadata": {},
      "source": [
        "Here various **functions** are defined, which are needed later.\n\n- *rhomax_list*: It is used during integration to calculate the speeds just\n  before impact between $disc_j$ and $disc_i$, $0 \\le i, j\n  \\le n-1, i \\neq j$\n- *rhowall_list*: It is used during integration to calculate the speeds just\n  before impact between $disc_i$ and the walls.\n- *Dmc_pos*: Holds the locations of the centers of the discs. Only for\n  plotting.\n- *Po_pos*: Holds the locations of each observer. Dto.\n- *Dmc_distanz*: Holds the distance between $disc_j$ and\n  $disc_i$, $0 \\le i, j \\le n-1, i \\neq j$. Needed during\n  integration\n- *kinetic_energie*: calculates the kinetic energy of the bodies and\n  particles.\n- *spring_energie*: calculates the spring energy of the colliding bodies.\n\n"
      ]
    },
    {
      "cell_type": "code",
      "execution_count": null,
      "metadata": {
        "collapsed": false
      },
      "outputs": [],
      "source": [
        "derivative_dict = {sm.Derivative(i, t): j for i, j in zip(x_list + z_list,\n                                                          ux_list + uz_list)}\n\nrhomax_list = []\nfor i, j in permutations(range(n), r=2):\n    vektor = Dmc_list[i].pos_from(Dmc_list[j])\n    richtung = vektor.normalize()\n    geschw = vektor.diff(t, N).subs(derivative_dict)\n    rhodt = me.dot(geschw, richtung)\n    rhomax_list.append(rhodt)\nprint('rhomax_list DS:', set.union(*[me.find_dynamicsymbols(rhomax_list[k])\n      for k in range(len(rhomax_list))]), '\\n')\nprint('rhomax_list free symbols:', set.union(*[rhomax_list[k].free_symbols\n      for k in range(len(rhomax_list))]), '\\n')\n\n\nrhowall_list = []\nfor i in range(n):\n    richtung = CP_list[i].pos_from(Dmc_list[i]).normalize()\n    rhodt = me.dot(Dmc_list[i].vel(N), richtung)\n    rhowall_list.append(rhodt)\nprint('rhowall_list DS:', set.union(*[me.find_dynamicsymbols(rhowall_list[k])\n      for k in range(len(rhowall_list))], '\\n'))\nprint('rhowall_list free symbols:', set.union(*[rhowall_list[k].free_symbols\n      for k in range(len(rhowall_list))]))\n\nPo_pos = [[me.dot(Po_list[i].pos_from(P0), uv) for uv in (N.x, N.z)]\n          for i in range(n)]\n\nDmc_distanz = [Dmc_list[i].pos_from(Dmc_list[j]).magnitude()\n               for i, j in permutations(range(n), r=2)]\n\nkin_energie = sum([body.kinetic_energy(N) for body in BODY])\n\nspring_energie = 0.\n# 1. collisions of discs\nfor i in range(n-1):\n    for j in range(i+1, n):\n        distanz = Dmc_list[i].pos_from(Dmc_list[j]).magnitude()\n        rho = sm.Max((2.*r0 - distanz)/2., sm.S(0.))\n        rho = rho**(5/2)\n        spring_energie += (2. * k0 * 2./5. * rho *\n                           sm.Heaviside(2.*r0 - distanz, 0.))\n\n# 2. Collision of discs with the wall\nfor i in range(n):\n    abstand = Dmc_list[i].pos_from(CP_list[i]).magnitude()\n    # penetration. Positive if the disc is in collision with the wall\n    rho = (r0 - abstand)\n    rho = sm.Max(rho, sm.S(0))   # if rho < 0., rho**(3/2) will give problems\n    rho = rho**(5/2)\n    spring_energie += k0W * 2./5. * rho * sm.Heaviside(r0 - abstand, 0.)"
      ]
    },
    {
      "cell_type": "markdown",
      "metadata": {},
      "source": [
        "**Lambdification**\n\n"
      ]
    },
    {
      "cell_type": "code",
      "execution_count": null,
      "metadata": {
        "collapsed": false
      },
      "outputs": [],
      "source": [
        "qL = q_ind + u_ind\npL = [m0, mo, r0, RW, k0, k0W, iYY, ctau, mu, muW] + list(alpha_list) + \\\n    rhodtmax + rhodtwall\npL1 = [m0, mo, r0, RW, k0, k0W, iYY, ctau, mu, muW]\npL2 = [m0, mo, r0, RW, k0, k0W, iYY, ctau, mu, muW] + list(alpha_list)\nprint(CPx_list, CPz_list)\nMM_lam = sm.lambdify(qL + pL, MM, cse=True)\nforce_lam = sm.lambdify(qL + pL + CPx_list + CPz_list, force, cse=True)\n\nrhomax_list_lam = sm.lambdify(qL + pL1, rhomax_list, cse=True)\nrhowall_list_lam = sm.lambdify(qL + pL1 + CPx_list + CPz_list, rhowall_list,\n                               cse=True)\nDmc_distanz_lam = sm.lambdify(x_list + z_list, Dmc_distanz, cse=True)\n\nPo_pos_lam = sm.lambdify(qL + pL2, Po_pos, cse=True)\n\nkin_lam = sm.lambdify(qL + pL2, kin_energie, cse=True)\nspring_lam = sm.lambdify(qL + pL2 + CPx_list + CPz_list, spring_energie,\n                         cse=True)"
      ]
    },
    {
      "cell_type": "markdown",
      "metadata": {},
      "source": [
        "**Determine the contact points of the discs with the wall**\n\nGiven a triangle with sides $a, b, c$ and opposing angles\n$\\alpha, \\beta, \\gamma$ the *law of the sinus* is:\n$\\dfrac{a}{\\sin(\\alpha)} = \\dfrac{b}{\\sin(\\beta)} =\n\\dfrac{c}{\\sin(\\gamma)}$.\nThe *law of cosine* is $c^2 = a^2+b^2 - 2 \\cdot a\n\\cdot b \\cdot \\sin(\\gamma)$\nIn this case:\n\n- $b = | {}^{Dmc}r^{P0} |$\n- $a = R_W - r_0$\n- $\\alpha = \\text{angle}(b, c)$\n\nThe direction of $b$ is known, see above and call it $\\hat b$,\nand the direction of $c$ is: $\\hat c = \\hat v_{Dmc}$\n$\\cos(\\alpha) = \\hat c \\cdot \\hat b$\n$\\sin(\\alpha) = \\sqrt{1-\\cos(\\alpha)^2}$\nFrom the sinus law I get: $\\sin(\\beta) = \\dfrac{b}{a} \\cdot\n\\sin(\\alpha)$\nHence $\\gamma = \\pi - \\alpha - \\beta$\nSo, the sought after $c$ is: $c = \\sqrt{a^2 + b^2 - 2 \\cdot a\n\\cdot b \\cdot \\cos(\\gamma)}$\n\nNow the location of $Dmc$ at contact is known, call it\n$\\overline{Dmc}$\nTo get the contact point $CP$, all I have to do is: $CP =\n\\overline{Dmc} + r_0 \\cdot \\hat a$\n\nThe aproach above works as long as the discs do not touch the wall.\nHowever, when the disc is at the wall, it is easy to find the contact point:\n$CP = R_W \\cdot {}^{Dmc}\\hat r^{P_0}$\nI check during the numerical integration whether a disc is at the wall.\n\n"
      ]
    },
    {
      "cell_type": "code",
      "execution_count": null,
      "metadata": {
        "collapsed": false
      },
      "outputs": [],
      "source": [
        "aCP = list(sm.symbols(f'aCP:{n}'))\nbCP = list(sm.symbols(f'aCP:{n}'))\ncCP = list(sm.symbols(f'cCP:{n}'))\n\nalphaCP = list(sm.symbols(f'alphaCP:{n}'))\nbetaCP = list(sm.symbols(f'betaCP:{n}'))\ngammaCP = list(sm.symbols(f'gammaCP:{n}'))\n\nalphacos = list(sm.symbols(f'alphacos:{n}'))\nalphasin = list(sm.symbols(f'alphasin:{n}'))\nbetasin = list(sm.symbols(f'betasin:{n}'))\n\nDmcCP = list(sm.symbols(f'DmcCP:{n}', cls=me.Point))\nCPh = list(sm.symbols(f'CPh:{n}', cls=me.Point))\nCPhh = list(sm.symbols(f'CPhh:{n}', cls=me.Point))\n\nabstandDcmCP = ['x' for _ in range(n)]\n\nCP_ort = [['x', 'x'] for _ in range(n)]\nCPh_ort = [['x', 'x'] for _ in range(n)]\n\nsubs_dict1 = {sm.Derivative(i, t): j for i, j in zip(x_list + z_list,\n                                                     ux_list + uz_list)}\nfor i in range(n):\n    bCP[i] = P0.pos_from(Dmc_list[i]).magnitude()\n    aCP[i] = RW - r0\n\n    vDmch = ((Dmc_list[i].pos_from(P0).diff(t, N)).normalize()).subs(subs_dict1)\n\n    alphacos[i] = me.dot(P0.pos_from(Dmc_list[i]).normalize(), vDmch)\n    alphasin[i] = sm.sqrt(sm.Abs(1. - alphacos[i]**2))\n    betasin[i] = sm.Piecewise((bCP[i] / aCP[i] * alphasin[i], bCP[i] <= aCP[i]),\n                              (0., True))\n    alphaCP[i] = sm.Piecewise((sm.asin(alphasin[i]), alphacos[i] >= 0.),\n                              (-sm.asin(alphasin[i]) + sm.pi, True))\n    betaCP[i] = sm.asin(betasin[i])\n    gammaCP[i] = sm.pi - alphaCP[i] - betaCP[i]\n\n    cCP[i] = (sm.sqrt(sm.Abs(aCP[i]**2 + bCP[i]**2 - 2.*aCP[i]*bCP[i] *\n                             sm.cos(gammaCP[i]))))\n\n    DmcCP[i].set_pos(Dmc_list[i], cCP[i] * vDmch)\n    CPh[i].set_pos(DmcCP[i], r0 * DmcCP[i].pos_from(P0).normalize())\n    CPhh[i].set_pos(P0, RW * Dmc_list[i].pos_from(P0).normalize())\n\n    abstandDcmCP[i] = Dmc_list[i].pos_from(CPhh[i]).magnitude()\n    CP_ort[i] = [me.dot(CPh[i].pos_from(P0), uv) for uv in (N.x, N.z)]\n    CPh_ort[i] = [me.dot(CPhh[i].pos_from(P0), uv) for uv in (N.x, N.z)]\n\nabstandDmcCP_lam = sm.lambdify(qL + pL1, abstandDcmCP, cse=True)\nCP_ort_lam = sm.lambdify(qL + pL1, CP_ort, cse=True)\nCPh_ort_lam = sm.lambdify(qL + pL1, CPh_ort, cse=True)\nbCP_lam = sm.lambdify(qL + pL1, bCP, cse=True)"
      ]
    },
    {
      "cell_type": "markdown",
      "metadata": {},
      "source": [
        "**Set initial conditions and parameters**\n\n1.\nThe discs are randomly placed within the walls, such that they have a\ndistance of at least $r_0$ from the walls, and they have a distance of\nat least $r_0$ from one another. If this cannot be found after 200\ntrials an exception is raised. As soon as a good placement is found, the\nloop is left.\n\n2.\nAssign random linear speeds to each disc, in the range [-5., 5.] for each\ncomponent.\n\n3.\nAssign arbitray non zero values to rhodtmax and rhowall. They will be\noverwritten during the integration and (hopefully) filled with the correct\nvalues.\n\n4.\nCalculate $k_0$ and $k_{0W}$. I model the wall as a disc with\n$r_W = -R_W$, all discs have same radius $r_0$\n$\\sqrt{\\frac{r_0 \\cdot r_0}{r_0 + r_0}} = \\sqrt{\\frac{r_0}{2}}$\nfor collisions between discs\nI make the assumption, that the material constants of discs and walls are\nthe same.\nIf Young's modulus is large, the integration runs 'forever'.\nI use $2\\cdot 10^3$.\n\n"
      ]
    },
    {
      "cell_type": "code",
      "execution_count": null,
      "metadata": {
        "collapsed": false
      },
      "outputs": [],
      "source": [
        "r01 = 1.            # Radius of a disc\nm01 = 1.            # mass of a pendulum\nmo1 = 1.            # mass of the observer\n\nmu1 = 0.1           # friction between discs\nmuW1 = 0.1          # friction between disc and wall\nctau1 = 0.9        # given in the article\n\nRW1 = 5.0           # radius of the wall, must be larger than r01\n\n# initial conditions for the rotation of each disc\nq_list1 = [0. for _ in range(len(q_list))]\n\n# location of the observers\nalpha_list1 = [0.99 for _ in range(len(alpha_list))]\n\nnp.random.seed(123)\n# 1. randomly place the discs as described above\nzaehler = 0\nwhile zaehler <= 200:\n    zaehler += 1\n    try:\n        x_listen = []\n        z_listen = []\n        for i in range(n):\n            x_listen.append(np.random.choice(np.linspace(-RW1 + 2.*r01,\n                                                         RW1 - 2.*r01, 100)))\n            z_listen.append(np.random.choice(\n                np.linspace(-np.sqrt(RW1**2 - x_listen[-1]**2) + 2.*r01,\n                            np.sqrt(RW1**2 - x_listen[-1]**2) - 2.*r01, 100)))\n        test = np.all(np.array(Dmc_distanz_lam(*x_listen, *z_listen))\n                      - 3.*r01 > 0.)\n        x_list1 = x_listen\n        z_list1 = z_listen\n\n        if test:\n            raise Rausspringen\n    except Rausspringen:\n        break\n\n\nif zaehler <= 200:\n    print(f'it took {zaehler} rounds to get valid initial conditions')\n    print('distance between discs is', [f'{np.array(Dmc_distanz_lam(*x_list1,\n                                        *z_list1))[l] - 2.*r01:.2f}'\n                                        for l in range(len(Dmc_distanz))])\nelse:\n    raise Exception(' no good location for discs found, make RW1 larger.')\n\n# 2. Assign random linear and angular speeds to each disc\nux_list1 = np.random.choice(np.linspace(-5., 5., 100), size=n)\nuz_list1 = np.random.choice(np.linspace(-5., 5., 100), size=n)\nu_list1 = np.random.choice(np.linspace(-15., 15., 100), size=len(q_list))\n\nux_list1 = list(ux_list1)\nuz_list1 = list(uz_list1)\nu_list1 = list(u_list1)\n\n# 3. Assign non-zero values to rhodtmax and rhodtwall\nrhodtmax1 = [1. + k for k in range(len(rhodtmax))]\nrhodtwall1 = [1. + k for k in range(n)]\n\n# 4. Calculate k01 and k0W1\nnu = 0.28  # Poisson's ratio for steel.\nEY = 2.e3   # units: N/m^2, Young's modulus, around 2*10^11 for steel\nRW11 = -RW1\nsigma = (1 - nu**2) / EY\nk01 = 4. / (3.0 * (sigma + sigma)) * np.sqrt(r01 / 2.)\nk0W1 = 4. / (3.0 * (sigma + sigma)) * np.sqrt((r01 * RW11)/(r01 + RW11))\n\niYY1 = 0.25 * m01 * r01**2      # from the internet\n\ny0 = x_list1 + z_list1 + q_list1 + ux_list1 + uz_list1 + u_list1\npL_vals = [m01, mo1, r01, RW1, k01, k0W1, iYY1, ctau1, mu1, muW1] + \\\n    alpha_list1 + rhodtmax1 + rhodtwall1\npL1_vals = [m01, mo1, r01, RW1, k01, k0W1, iYY1, ctau1, mu1, muW1]\npL2_vals = [m01, mo1, r01, RW1, k01, k0W1, iYY1, ctau1, mu1, muW1] + \\\n    list(alpha_list1)\nprint('initial conditions are:', [f'{pL_vals[l]}' for l in range(len(pL_vals))])"
      ]
    },
    {
      "cell_type": "markdown",
      "metadata": {},
      "source": [
        "**Numerical integration**\n\n$\\dot \\rho^{(-)}$ has to be found numerically during integration.\nIf $\\dot \\rho^{(-)} \\approx 0.$ I set it to $10^{-12}$ to avoid\nnumerical issues.\nI use *max_step* in solve_ivp to ensure it does not miss the time close to a\ncollision. Hoever, this drastically increases the time it take to integrate\n\n"
      ]
    },
    {
      "cell_type": "code",
      "execution_count": null,
      "metadata": {
        "collapsed": false
      },
      "outputs": [],
      "source": [
        "intervall = 10.\nmax_step = 0.005\nschritte = 20000\n\ntimes = np.linspace(0, intervall, schritte)\n\n\ndef gradient(t, y, args):\n    global zaehler\n    # here I find rhodtmax, the collision speed of two discs just\n    # before the impact\n    zaehler = -1\n    for i, j in permutations(range(n), r=2):\n        zaehler += 1\n        if (Dmc_distanz_lam(*[y[l] for l in range(2*n)])[zaehler] - 2.*args[2]\n            < 2. * max_step):\n            hilfs1 = rhomax_list_lam(*y, *pL1_vals)[zaehler]\n            if np.abs(hilfs1) < 1.e-12:\n                hilfs1 = np.sign(hilfs1) * 1.e-12\n            args[10 + n + zaehler] = hilfs1\n\n    # Here I find rhodtwall, the collision speed between a disc and the wall\n    # To do so, I first have to find the contact points.\n    CPx_list1 = []\n    CPz_list1 = []\n    args1 = [args[j] for j in range(10)]\n    for i in range(n):\n        if bCP_lam(*y, *args1)[i] < RW1 - r01:\n            CPx_list1.append(CP_ort_lam(*y, *args1)[i][0])\n            CPz_list1.append(CP_ort_lam(*y, *args1)[i][1])\n        else:\n            CPx_list1.append(CPh_ort_lam(*y, *args1)[i][0])\n            CPz_list1.append(CPh_ort_lam(*y, *args1)[i][1])\n\n    laenge = len(rhodtmax)\n    for i in range(n):\n        abstand = abstandDmcCP_lam(*y, *args1)[i]\n        if abstand - args[2] < 2.*max_step:\n            hilfs1 = rhowall_list_lam(*y, *pL1_vals, *CPx_list1, *CPz_list1)[i]\n\n            if np.abs(hilfs1) < 1.e-12:\n                hilfs1 = np.sign(hilfs1) * 1.e-12\n            args[10 + n + laenge + i] = hilfs1\n\n    sol = np.linalg.solve(MM_lam(*y, *args), force_lam(*y, *args, *CPx_list1,\n                                                       *CPz_list1))\n    return np.array(sol).T[0]\n\n\nresultat1 = solve_ivp(gradient, (0., float(intervall)), y0, args=(pL_vals,),\n                      t_eval=times, method='Radau', atol=1.e-6, rtol=1.e-6,\n                      max_step=max_step)\nresultat = resultat1.y.T\nprint(resultat1.message)\n\nprint(f'to calculate an intervall of {intervall:.2f} sec it took '\n      f'{resultat1.nfev:,} loops')\nprint(resultat.shape)"
      ]
    },
    {
      "cell_type": "markdown",
      "metadata": {},
      "source": [
        "This shows, how close the contact points are to the wall. Ideally this\nshould be zero.\n$CP_X, CP_Z$ are used further down, when plotting the energies, so this\nmust be run before the energies are run.\nFor some reason, this takes a long time to run.\nIn my trial runs, the errors of all $CP_i$ were (almost?) identical,\nI do not know, why.\n\n"
      ]
    },
    {
      "cell_type": "code",
      "execution_count": null,
      "metadata": {
        "collapsed": false
      },
      "outputs": [],
      "source": [
        "CP_X = np.empty((schritte, n))\nCP_Z = np.empty((schritte, n))\n\nfor i in range(schritte):\n    for kk in range(n):\n        if (bCP_lam(*[resultat[i, j] for j in range(resultat.shape[1])],\n                    *pL1_vals)[kk] < RW1 - r01):\n            CP_X[i] = CP_ort_lam(*[resultat[i, j]\n                                   for j in range(resultat.shape[1])],\n                                 *pL1_vals)[kk][0]\n            CP_Z[i] = CP_ort_lam(*[resultat[i, j]\n                                   for j in range(resultat.shape[1])],\n                                 *pL1_vals)[kk][1]\n        else:\n            CP_X[i] = CPh_ort_lam(*[resultat[i, j]\n                                    for j in range(resultat.shape[1])],\n                                  *pL1_vals)[kk][0]\n            CP_Z[i] = CPh_ort_lam(*[resultat[i, j]\n                                    for j in range(resultat.shape[1])],\n                                  *pL1_vals)[kk][1]\n\nCPRR = []\nfor kk in range(n):\n    CPR = []\n    for i in range(schritte):\n        CPR.append(np.sqrt(np.abs(RW1**2 - CP_X[i][kk]**2 - CP_Z[i][kk]**2)))\n    CPRR.append(CPR)\n\n\nfig, axes = plt.subplots(n, 1, sharex=True)\nfig.set_size_inches((10.0, 2.0*n))\n\nfor kk in range(n):\n    if kk == 0:\n        axes[kk].set_title(\"Deviation of contact points from ideal position\")\n    axes[kk].plot(times, CPRR[kk], label='CP_'+str(kk))\n    axes[kk].set_ylabel('deviation (m)')\n    if kk == n-1:\n        axes[kk].set_xlabel('time( sec)')\n    _ = axes[kk].legend()"
      ]
    },
    {
      "cell_type": "markdown",
      "metadata": {},
      "source": [
        "Plot whichever generalized coordinates you want to see.\n*schritte* may be very large, to catch the impacts, this is not needed her.\nHence I reduce the number of points to be plotted to around $N_2$.\n\n"
      ]
    },
    {
      "cell_type": "code",
      "execution_count": null,
      "metadata": {
        "collapsed": false
      },
      "outputs": [],
      "source": [
        "N2 = 500\nN1 = int(resultat.shape[0] / N2)\ntimes1 = []\nresultat1 = []\nfor i in range(resultat.shape[0]):\n    if i % N1 == 0:\n        times1.append(times[i])\n        resultat1.append(resultat[i])\nresultat1 = np.array(resultat1)\ntimes1 = np.array(times1)\n\nbezeichnung = (['x' + str(i) for i in range(n)] +\n               ['z' + str(i) for i in range(n)] +\n               ['q' + str(i) for i in range(n)] +\n               ['ux' + str(i) for i in range(n)] +\n               ['uz' + str(i) for i in range(n)] +\n               ['u' + str(i) for i in range(n)])\nfig, ax = plt.subplots(figsize=(10, 5))\nfor i in range(0*n, 2*n):\n    label = 'gen. coord. ' + str(i)\n    ax.plot(times1, resultat1[:, i], label=bezeichnung[i])\nax.set_title('Generalized coordinates')\nax.set_xlabel('time (sec)')\nax.set_ylabel('units of whichever coordinates are chosen')\n_ = ax.legend()"
      ]
    },
    {
      "cell_type": "markdown",
      "metadata": {},
      "source": [
        "Plot the **hysteresis curve** of $disc_i$ when it collides with the\nwall and $disc_i$ when it collides with $disc_j$, $i < j$\nThe $i_0$ is needed to get the (approximately) correct\n$\\dot \\rho^{(-)}$, the speed at the impact.\nI only plot, if an impact did take place.\nThe black numbers on the curves give the time of the impact.\n\n"
      ]
    },
    {
      "cell_type": "code",
      "execution_count": null,
      "metadata": {
        "collapsed": false
      },
      "outputs": [],
      "source": [
        "vDmc = [Dmc_list[i].vel(N).magnitude() for i in range(n)]\nvorzeichen = [sm.sign(me.dot(Dmc_list[i].pos_from(P0).normalize(),\n                             Dmc_list[i].vel(N).normalize()))\n              for i in range(n)]\nvDmc_lam = sm.lambdify(qL + pL2, vDmc, cse=True)\nvorzeichen_lam = sm.lambdify(qL + pL2, vorzeichen, cse=True)\n\nHC_kraft_list = []\nHC_displ_list = []\nHC_times_list = []\nl1_list = []\n\nfor l1 in range(n):\n    HC_kraft = []\n    HC_displ = []\n    HC_times = []\n    zaehler = 0\n\n    i0 = 0\n    for i in range(resultat.shape[0]):\n        abstand = r01 - abstandDmcCP_lam(*[resultat[i, j]\n                                           for j in range(resultat.shape[1])],\n                                         *pL1_vals)[l1]\n        if abstand < 0.:\n            i0 = i+1\n\n        if abstand >= 0. and i0 == i:\n            walldt = vDmc_lam(*[resultat[i, j]\n                                for j in range(resultat.shape[1])],\n                              *pL2_vals)[l1]\n        if abstand >= 0.:\n            rhodt = (vorzeichen_lam(*[resultat[i, j]\n                                      for j in range(resultat.shape[1])],\n                                    *pL2_vals)[l1] *\n                     vDmc_lam(*[resultat[i, j]\n                                for j in range(resultat.shape[1])],\n                              *pL2_vals)[l1])\n            kraft0 = (k0W1 * abstand**(3/2) * (1. + 3./2. * (1 - ctau1) *\n                                               rhodt/walldt))\n            HC_displ.append(abstand)\n            HC_kraft.append(kraft0)\n            HC_times.append((zaehler, times[i]))\n            zaehler += 1\n\n    if len(HC_displ) > 0:\n        HC_displ = np.array(HC_displ)\n        HC_kraft = np.array(HC_kraft)\n        HC_displ_list.append(HC_displ)\n        HC_kraft_list.append(HC_kraft)\n        HC_times_list.append(HC_times)\n        l1_list.append(l1)\n\nfig, ax = plt.subplots(len(HC_displ_list), 1,\n                       figsize=(10, 5.0 * len(HC_displ_list)),\n                       layout='constrained')\n\nfor i in range(len(HC_displ_list)):\n    HC_displ = HC_displ_list[i]\n    HC_kraft = HC_kraft_list[i]\n    HC_times = HC_times_list[i]\n\n    ax[i].plot(HC_displ, HC_kraft)\n    ax[i].set_ylabel('contact force (N)')\n    ax[i].set_title((f'hysteresis curves of successive impacts of '\n                     f'dics_{l1_list[i]}'\n                     f' with the wall, ctau = {ctau1}, '\n                     f'mu = {mu1}, muW = {muW1}'))\n    ax[i].set_xlabel('penetration depth (m)')\n\n    zeitpunkte = 20\n    reduction = max(1, int(len(HC_times)/zeitpunkte))\n    for k in range(len(HC_times)):\n        if k % reduction == 0:\n            coord = HC_times[k][0]\n            ax[i].text(HC_displ[coord], HC_kraft[coord],\n                       f'{HC_times[k][1]:.2f}', color=\"black\")"
      ]
    },
    {
      "cell_type": "markdown",
      "metadata": {},
      "source": [
        "plot the hysteresis curve of disc i colliding with disc j, for i < j only,\n\n"
      ]
    },
    {
      "cell_type": "code",
      "execution_count": null,
      "metadata": {
        "collapsed": false
      },
      "outputs": [],
      "source": [
        "zaehler1 = -1\nHC_kraft_list = []\nHC_displ_list = []\nHC_times_list = []\nl1_list = []\nl2_list = []\n\nfor l1, l2 in permutations(range(n), r=2):\n    zaehler1 += 1\n    HC_kraft = []\n    HC_displ = []\n    HC_times = []\n    zaehler = 0\n\n    i0 = 0\n    for i in range(resultat.shape[0]):\n        abstand = 2.*r01 - Dmc_distanz_lam(*[resultat[i, j]\n                                             for j in range(2*n)])[zaehler1]\n        if abstand < 0.:\n            i0 = i+1\n\n        if abstand >= 0. and i0 == i:\n            walldt = rhomax_list_lam(*[resultat[i, j]\n                                       for j in range(resultat.shape[1])],\n                                     *pL1_vals)[zaehler1]\n        if abstand >= 0.:\n            rhodt = rhomax_list_lam(*[resultat[i, j]\n                                      for j in range(resultat.shape[1])],\n                                    *pL1_vals)[zaehler1]\n            kraft0 = (k01 * abstand**(3/2) * (1. + 3./2. * (1 - ctau1) *\n                                              rhodt/walldt))\n            HC_displ.append(abstand)\n            HC_kraft.append(kraft0)\n            HC_times.append((zaehler, times[i]))\n            zaehler += 1\n\n    if len(HC_displ) > 0 and l1 < l2:\n        HC_displ = np.array(HC_displ)\n        HC_kraft = np.array(HC_kraft)\n        HC_displ_list.append(HC_displ)\n        HC_kraft_list.append(HC_kraft)\n        HC_times_list.append(HC_times)\n        l1_list.append(l1)\n        l2_list.append(l2)\n\nfig, ax = plt.subplots(len(HC_displ_list), 1,\n                       figsize=(10, 5.0 * len(HC_displ_list)),\n                       layout='constrained')\n\nfor i in range(len(HC_displ_list)):\n    HC_displ = HC_displ_list[i]\n    HC_kraft = HC_kraft_list[i]\n    HC_times = HC_times_list[i]\n    l1 = l1_list[i]\n    l2 = l2_list[i]\n\n    ax[i].plot(HC_displ, HC_kraft, color='red')\n    ax[i].set_xlabel('penetration depth (m)')\n    ax[i].set_ylabel('contact force (N)')\n    ax[i].set_title((f'hysteresis curves of successive impacts of dics_{l1} '\n                     f' with disc_{l2}'\n                     f' ctau = {ctau1}, mu = {mu1}, muW = {muW1}'))\n\n    zeitpunkte = 12\n    reduction = max(1, int(len(HC_times)/zeitpunkte))\n    for k in range(len(HC_times)):\n        if k % reduction == 0:\n            coord = HC_times[k][0]\n            ax[i].text(HC_displ[coord], HC_kraft[coord],\n                       f'{HC_times[k][1]:.2f}', color=\"black\")"
      ]
    },
    {
      "cell_type": "markdown",
      "metadata": {},
      "source": [
        "Plot the **energies** of the system.\n\nIf $c_{\\tau} < 1.0$, or $m_u \\neq 0$, or $m_{uW} \\neq 0$\nthe total energy should drop monotonically. This is due to the Hunt-Crossley\nprescription of the forces during a collision, due to friction during the\ncollisions respectively.\nUnless the step size is very small, all impacts may not be shown.\nHowever, this would increase the running time a lot!\n\n"
      ]
    },
    {
      "cell_type": "code",
      "execution_count": null,
      "metadata": {
        "collapsed": false
      },
      "outputs": [],
      "source": [
        "kin_np = np.empty(schritte)\nspring_np = np.empty(schritte)\ntotal_np = np.empty(schritte)\n\nfor i in range(schritte):\n    kin_np[i] = kin_lam(*[resultat[i, j] for j in range(resultat.shape[1])],\n                        *pL2_vals)\n    spring_np[i] = spring_lam(*[resultat[i, j]\n                                for j in range(resultat.shape[1])],\n                              *pL2_vals, *[CP_X[i, j] for j in range(n)],\n                              *[CP_Z[i, j] for j in range(n)])\n    total_np[i] = spring_np[i] + kin_np[i]\n\nfig, ax = plt.subplots(figsize=(10, 5))\nfor i, j in zip((kin_np, spring_np, total_np),\n                ('kinetic energy', 'spring energy', 'total energy')):\n    ax.plot(times, i, label=j)\nax.set_xlabel('time (sec)')\nax.set_ylabel('Energy (Nm)')\nax.set_title((f'Energies of the system with {n} balls, with ctau = {ctau1}, '\n              f'mu = {mu1} and muW = {muW1}'))\n_ = ax.legend()"
      ]
    },
    {
      "cell_type": "markdown",
      "metadata": {},
      "source": [
        "## Animation\n\nAs the number of points in time, given as *schritte* may be verly large, I\nlimit to around *zeitpunkte*. Otherwise it would take a very long time to\nfinish the animation.\n\nThe size of the discs, and the depth of penetration is not to scale.\n\n"
      ]
    },
    {
      "cell_type": "code",
      "execution_count": null,
      "metadata": {
        "collapsed": false
      },
      "outputs": [],
      "source": [
        "times2 = []\nresultat2 = []\n\nzeitpunkte = 500\n\nreduction = max(1, int(len(times)/zeitpunkte))\n\nfor i in range(len(times)):\n    if i % reduction == 0:\n        times2.append(times[i])\n        resultat2.append(resultat[i])\n\nschritte2 = len(times2)\nresultat2 = np.array(resultat2)\ntimes2 = np.array(times2)\nprint('number of points considered:', len(times2))\n\nDmc_X = np.array([[resultat2[i, j] for j in range(n)]\n                  for i in range(schritte2)])\nDmc_Z = np.array([[resultat2[i, j] for j in range(n, 2*n)]\n                  for i in range(schritte2)])\n\nPo_X = np.empty((schritte2, n))\nPo_Z = np.empty((schritte2, n))\nCP_X = np.empty((schritte2, n))\nCP_Z = np.empty((schritte2, n))\n\nfor i in range(schritte2):\n    Po_X[i] = [Po_pos_lam(*[resultat2[i, j] for j in range(resultat.shape[1])],\n                          *pL2_vals)[l][0] for l in range(n)]\n    Po_Z[i] = [Po_pos_lam(*[resultat2[i, j] for j in range(resultat.shape[1])],\n                          *pL2_vals)[l][1] for l in range(n)]\n\nfor i in range(schritte2):\n    for kk in range(n):\n        if (bCP_lam(*[resultat2[i, j] for j in range(resultat2.shape[1])],\n                    *pL1_vals)[kk] < RW1 - r01):\n            CP_X[i] = CP_ort_lam(*[resultat2[i, j]\n                                   for j in range(resultat.shape[1])],\n                                 *pL1_vals)[kk][0]\n            CP_Z[i] = CP_ort_lam(*[resultat2[i, j]\n                                   for j in range(resultat.shape[1])],\n                                 *pL1_vals)[kk][1]\n        else:\n            CP_X[i] = CPh_ort_lam(*[resultat2[i, j]\n                                    for j in range(resultat.shape[1])],\n                                  *pL1_vals)[kk][0]\n            CP_Z[i] = CPh_ort_lam(*[resultat2[i, j]\n                                    for j in range(resultat.shape[1])],\n                                  *pL1_vals)[kk][1]\n\n# This is to asign colors of 'plasma' to the discs.\nTest = mp.colors.Normalize(0, n)\nFarbe = mp.cm.ScalarMappable(Test, cmap='plasma')\nfarben = [Farbe.to_rgba(l) for l in range(n)]    # color of starting position\n\n\ndef animate_pendulum(times2, Dmc_x, Dmc_Z, Po_X, Po_Z):\n    fig, ax = plt.subplots(figsize=(8, 8))\n    ax.axis('on')\n    theta = np.linspace(0., 2.*np.pi, 200)\n    aa = RW1 * np.sin(theta)\n    bb = RW1 * np.cos(theta)\n    ax.plot(aa, bb, linewidth=2)\n\n    LINE1 = []\n    LINE2 = []\n    LINE3 = []\n\n    for i in range(n):\n        # picking the 'right' radius of the discs I do by trial and error.\n        line1, = ax.plot([], [], 'o', markersize=400./RW1)\n        line2, = ax.plot([], [], 'o', markersize=5, color='black')\n        line3, = ax.plot([], [], '-', markersize=0, linewidth=0.3)\n\n        LINE1.append(line1)\n        LINE2.append(line2)\n        LINE3.append(line3)\n\n    def animate(i):\n        ax.set_title((f'System with {n} bodies, running time'\n                      f'{i/schritte2 * intervall:.2f} sec \\n  '\n                      f'ctau = {ctau1}, mu = {mu1}, muW = {muW1}'),\n                     fontsize=12)\n        for j in range(n):\n            LINE1[j].set_data([Dmc_X[i, j]], [Dmc_Z[i, j]])\n            LINE1[j].set_color(farben[j])\n            LINE2[j].set_data([Po_X[i, j]], [Po_Z[i, j]])\n            LINE3[j].set_data([Dmc_X[:i, j]], [Dmc_Z[:i, j]])\n            LINE3[j].set_color(farben[j])\n\n        return LINE1 + LINE2 + LINE3\n\n    anim = animation.FuncAnimation(fig, animate, frames=schritte2,\n                                   interval=1000*times2.max() / schritte2,\n                                   blit=True)\n    return anim\n\n\nanim = animate_pendulum(times2, Dmc_X, Dmc_Z, Po_X, Po_Z)\n\n\nplt.show()"
      ]
    }
  ],
  "metadata": {
    "kernelspec": {
      "display_name": "Python 3",
      "language": "python",
      "name": "python3"
    },
    "language_info": {
      "codemirror_mode": {
        "name": "ipython",
        "version": 3
      },
      "file_extension": ".py",
      "mimetype": "text/x-python",
      "name": "python",
      "nbconvert_exporter": "python",
      "pygments_lexer": "ipython3",
      "version": "3.13.3"
    }
  },
  "nbformat": 4,
  "nbformat_minor": 0
}