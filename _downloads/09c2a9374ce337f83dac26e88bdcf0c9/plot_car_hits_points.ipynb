{
  "cells": [
    {
      "cell_type": "markdown",
      "metadata": {},
      "source": [
        "\n# Car hits Points\n\n## Objective\n\n- Show how the objective function may be used to force an object to hit\n  preset points along the trajectory, at times determined by ``opty``.\n\n\n## Description\nA *conventional car* is modeled: The rear axle is driven, the front axle does\nthe steering.\n\nNo speed possible perpendicular to the wheels.\n\n\nThe car must drive from A to B as fast as possible, and hit four given points\nalong the way.\n\nThe car is moving in the horizontal X/Y plane.\n\n## Explanation of the Objective Function\n\n- Let $P_1, P_2, P_3, P_4$ be the four points to be hit, with x and y\n  coordinates $(x_1, y_1), (x_2, y_2), (x_3, y_3), (x_4, y_4)$, and let\n  ``h`` be the variable time step size.\n- The x - coordinates of the front of the car are given in the array ``free``\n  at the first ``num_nodes`` entries, the y - coordinates at the next\n  ``num_nodes`` entries.\n- One now looks for the entry in the x - coordinates which is closest to, say,\n  $x_1$. Say, this is the $m^{th}$ entry, that is it happens at\n  time $t_m = m \\cdot h$.\n  Now calculate $(\\textrm{free[m]} - x_1)^2 +\n  (\\textrm{free[m + num_nodes]} - y_1)^2$. This is done for all four points.\n- The objective function is the sum of these four values, plus ``free[-1]``,\n  which holds the time step size $h$. A ``weight`` is applied to the\n  time step size, to determine the relative importance of the closeness to\n  the points and the time step size.\n- The gradient of the objective function is calculated accordingly.\n\n\n## Notes\n\n- This method crucially depends on the fact, that ``opty`` looks at the\n  complete trajectory simultaneously.\n- It is obviously a trade-off between the closeness to the points and the\n  the speed.\n- It seems to be quite sensitive, and easily converges to 'solutions' which\n  are visually far from being optimal, so this may be a method of last\n  resort only.\n\n**States**\n\n- $x, y$ - position of the front of the car\n- $q_0, q_f$ - angle of the car body / steering angle\n- $u_0, u_f$ - angular speed of the car body / steering angle speed\n- $u_x, u_y$ - speed of the front of the car in x and y direction\n\n\n**Inputs**\n\n- $F_b$ - force on the rear axle, driving the car\n- $T_f$ - torque on the front axle, steering the car\n\n**Parameters**\n\n- $l$ - length of the car\n- $m_0, m_b, m_f$ - mass of the car body, rear and front axle\n- $i_{ZZ0}, i_{ZZb}, i_{ZZf}$ - inertia of the car body, rear and front\n  axle around the vertical axis\n- $\\textrm{reibung}$ - friction coefficient of the rear axle\n"
      ]
    },
    {
      "cell_type": "code",
      "execution_count": null,
      "metadata": {
        "collapsed": false
      },
      "outputs": [],
      "source": [
        "import sympy.physics.mechanics as me\nimport numpy as np\nimport sympy as sm\nfrom scipy.interpolate import CubicSpline\n\nfrom opty.direct_collocation import Problem\nimport matplotlib.pyplot as plt\nfrom matplotlib.animation import FuncAnimation"
      ]
    },
    {
      "cell_type": "markdown",
      "metadata": {},
      "source": [
        "## Equations of Motion, Kane's Method\n\n"
      ]
    },
    {
      "cell_type": "code",
      "execution_count": null,
      "metadata": {
        "collapsed": false
      },
      "outputs": [],
      "source": [
        "N, A0, Ab, Af = sm.symbols('N A0 Ab Af', cls=me.ReferenceFrame)\nt = me.dynamicsymbols._t\nO, Pb, Dmc, Pf = sm.symbols('O Pb Dmc Pf', cls=me.Point)\nO.set_vel(N, 0)\n\nq0, qf = me.dynamicsymbols('q_0 q_f')\nu0, uf = me.dynamicsymbols('u_0 u_f')\nx, y = me.dynamicsymbols('x y')\nux, uy = me.dynamicsymbols('u_x u_y')\nTf, Fb = me.dynamicsymbols('T_f F_b')\n\nreibung = sm.symbols('reibung')\n\nl, m0, mb, mf, iZZ0, iZZb, iZZf = sm.symbols('l m0 mb mf iZZ0, iZZb, iZZf')\n\nA0.orient_axis(N, q0, N.z)\nA0.set_ang_vel(N, u0 * N.z)\n\nAb.orient_axis(A0, 0, N.z)\n\nAf.orient_axis(A0, qf, N.z)\nrot = Af.ang_vel_in(N)\nAf.set_ang_vel(N, uf * N.z)\nrot1 = Af.ang_vel_in(N)\n\nPf.set_pos(O, x * N.x + y * N.y)\nPf.set_vel(N, ux * N.x + uy * N.y)\n\nPb.set_pos(Pf, -l * A0.y)\nPb.v2pt_theory(Pf, N, A0)\n\nDmc.set_pos(Pf, -l/2 * A0.y)\nDmc.v2pt_theory(Pf, N, A0)\n\n# No speed perpendicular to the wheels\nvel1 = me.dot(Pb.vel(N), Ab.x) - 0\nvel2 = me.dot(Pf.vel(N), Af.x) - 0\n\nI0 = me.inertia(A0, 0, 0, iZZ0)\nbody0 = me.RigidBody('body0', Dmc, A0, m0, (I0, Dmc))\nIb = me.inertia(Ab, 0, 0, iZZb)\nbodyb = me.RigidBody('bodyb', Pb, Ab, mb, (Ib, Pb))\nIf = me.inertia(Af, 0, 0, iZZf)\nbodyf = me.RigidBody('bodyf', Pf, Af, mf, (If, Pf))\nBODY = [body0, bodyb, bodyf]\n\n\n# Forces\nFL = [(Pb, Fb * Ab.y), (Af, Tf * N.z), (Dmc, -reibung * Dmc.vel(N))]\n\nkd = sm.Matrix([ux - x.diff(t), uy - y.diff(t), u0 - q0.diff(t),\n                me.dot(rot1 - rot, N.z)])\nspeed_constr = sm.Matrix([vel1, vel2])\n\nq_ind = [x, y, q0, qf]\nu_ind = [u0, uf]\nu_dep = [ux, uy]\n\nKM = me.KanesMethod(\n    N,\n    q_ind=q_ind,\n    u_ind=u_ind,\n    kd_eqs=kd,\n    u_dependent=u_dep,\n    velocity_constraints=speed_constr,\n)\n\nfr, frstar = KM.kanes_equations(BODY, FL)\neom = fr + frstar\neom = kd.col_join(eom)\neom = eom.col_join(speed_constr)\nprint(f'eom too large to print out. Its shape is {eom.shape} and it has ' +\n      f'{sm.count_ops(eom)} operations')"
      ]
    },
    {
      "cell_type": "markdown",
      "metadata": {},
      "source": [
        "## Set Up the Optimization Problem and Solve It\n\n"
      ]
    },
    {
      "cell_type": "code",
      "execution_count": null,
      "metadata": {
        "collapsed": false
      },
      "outputs": [],
      "source": [
        "state_symbols = [x, y, q0, qf, ux, uy, u0, uf]\n\nh = sm.symbols('h')\nnum_nodes = 100\nt0, tf = 0 * h, (num_nodes - 1) * h\ninterval_value = h\n\n# Specify the known system parameters.\npar_map = {}\npar_map[m0] = 1.0\npar_map[mb] = 0.5\npar_map[mf] = 0.5\npar_map[iZZ0] = 1.\npar_map[iZZb] = 0.5\npar_map[iZZf] = 0.5\npar_map[l] = 3.0\npar_map[reibung] = 0.25\n\n# Coordinates of points to be reached on the journey\npoints = [8.0, 16.0, 24.0, 32.0]\nx1, x2, x3, x4 = points\ny1, y2, y3, y4 = [(-1)**j * 30.0 / np.pi * np.sin(np.pi / 40.0 * i)\n                  for j, i in enumerate(points)]\n\n\ndef proximity_to_points(free):\n    \"\"\"\n    Find the time, where the x - coordinate is closest to the given points,\n    and return the sum of the squared distances to the points.\n    \"\"\"\n    X1 = (free[0: num_nodes] - x1)**2\n    X2 = (free[0: num_nodes] - x2)**2\n    X3 = (free[0: num_nodes] - x3)**2\n    X4 = (free[0: num_nodes] - x4)**2\n\n    Y1 = (free[num_nodes: 2 * num_nodes] - y1)**2\n    Y2 = (free[num_nodes: 2 * num_nodes] - y2)**2\n    Y3 = (free[num_nodes: 2 * num_nodes] - y3)**2\n    Y4 = (free[num_nodes: 2 * num_nodes] - y4)**2\n\n    minx1 = np.argmin(X1)\n    minx2 = np.argmin(X2)\n    minx3 = np.argmin(X3)\n    minx4 = np.argmin(X4)\n    return (X1[minx1] + X2[minx2] + X3[minx3] + X4[minx4] + Y1[minx1] +\n            Y2[minx2] + Y3[minx3] + Y4[minx4])\n\n\ninstance_constraints = (\n    x.func(t0),\n    y.func(t0),\n    ux.func(t0),\n    uy.func(t0),\n    q0.func(t0) + np.pi / 4.0,\n    u0.func(t0),\n    x.func(tf) - 40.0,\n    y.func(tf),\n    ux.func(tf),\n    uy.func(tf),\n)\n\n# Set up the bounds for the optimization variables.\nlimit = 25.0\nbounds = {\n    h: (0.0, 0.5),\n    x: (-5.0, 45.0),\n    y: (-20.0, 20.0),\n    qf: (-np.pi / 4.0, np.pi / 4.0),  # limit the steering angle.\n    Fb: (-limit, limit),\n    Tf: (-limit, limit),\n}\n\n# Set up the objective function and its gradient as explained above.\n\ninitial_guess = np.ones(10 * num_nodes + 1) * 0.01\n\n# Iterate from a simpler problem -more weight on the speed- to coming closer\n# to the points.\nfor i in range(5):\n    # the larger weight, the more the speed is penalized, the less the\n    # closeness to the points is important.\n    weight = 1.e5 / 10**i\n\n    # Set up the objective function and its gradient as explained above.\n    def obj(free):\n        return proximity_to_points(free) + free[-1] * weight\n\n    def obj_grad(free):\n        X1 = (free[0: num_nodes] - x1)**2\n        X2 = (free[0: num_nodes] - x2)**2\n        X3 = (free[0: num_nodes] - x3)**2\n        X4 = (free[0: num_nodes] - x4)**2\n        minx1 = np.argmin(X1)\n        minx2 = np.argmin(X2)\n        minx3 = np.argmin(X3)\n        minx4 = np.argmin(X4)\n\n        grad = np.zeros_like(free)\n        grad[minx1] = 2 * (free[minx1] - x1)\n        grad[minx2] = 2 * (free[minx2] - x2)\n        grad[minx3] = 2 * (free[minx3] - x3)\n        grad[minx4] = 2 * (free[minx4] - x4)\n        grad[minx1 + num_nodes] = 2 * (free[minx1 + num_nodes] - y1)\n        grad[minx2 + num_nodes] = 2 * (free[minx2 + num_nodes] - y2)\n        grad[minx3 + num_nodes] = 2 * (free[minx3 + num_nodes] - y3)\n        grad[minx4 + num_nodes] = 2 * (free[minx4 + num_nodes] - y4)\n        grad[-1] = 1.0 * weight\n        return grad\n\n    # Set up the objective function and its gradient as explained above.\n    prob = Problem(\n        obj,\n        obj_grad,\n        eom,\n        state_symbols,\n        num_nodes,\n        interval_value,\n        known_parameter_map=par_map,\n        instance_constraints=instance_constraints,\n        bounds=bounds,\n    )\n\n    prob.add_option('max_iter', 6000)\n    # Find the optimal solution.\n    solution, info = prob.solve(initial_guess)\n    initial_guess = solution\n    print(f'{i+1} - th iteration')\n    print('message from optimizer:', info['status_msg'])\n    print('Iterations needed', len(prob.obj_value))\n    print(f\"objective value {info['obj_val']:.3e}\")\n    print((f\"Distance to points {np.sqrt(proximity_to_points(solution)):.3e}\"\n           f\" \\n\"))\n\n_ = prob.plot_objective_value()"
      ]
    },
    {
      "cell_type": "markdown",
      "metadata": {},
      "source": [
        "Plot the constraint violations.\n\n"
      ]
    },
    {
      "cell_type": "code",
      "execution_count": null,
      "metadata": {
        "collapsed": false
      },
      "outputs": [],
      "source": [
        "_ = prob.plot_constraint_violations(solution)"
      ]
    },
    {
      "cell_type": "markdown",
      "metadata": {},
      "source": [
        "Plot generalized coordinates / speeds and forces / torques\n\n"
      ]
    },
    {
      "cell_type": "code",
      "execution_count": null,
      "metadata": {
        "collapsed": false
      },
      "outputs": [],
      "source": [
        "_ = prob.plot_trajectories(solution)"
      ]
    },
    {
      "cell_type": "markdown",
      "metadata": {},
      "source": [
        "## Animation\n\n"
      ]
    },
    {
      "cell_type": "code",
      "execution_count": null,
      "metadata": {
        "collapsed": false
      },
      "outputs": [],
      "source": [
        "fps = 15\n\n\ndef add_point_to_data(line, x, y):\n    # to trace the path of the point. Copied from Timo.\n    old_x, old_y = line.get_data()\n    line.set_data(np.append(old_x, x), np.append(old_y, y))\n\n\nstate_vals, input_vals, _, h_val = prob.parse_free(solution)\nt_arr = np.linspace(t0, (num_nodes - 1) * h_val, num_nodes)\nstate_sol = CubicSpline(t_arr, state_vals.T)\ninput_sol = CubicSpline(t_arr, input_vals.T)\n\n# create additional points for the axles\nPbl, Pbr, Pfl, Pfr = sm.symbols('Pbl Pbr Pfl Pfr', cls=me.Point)\n\n# end points of the force, length of the axles\nFbq = me.Point('Fbq')\nla = sm.symbols('la')\nfb, tq = sm.symbols('f_b, t_q')\n\nPbl.set_pos(Pb, -la/2 * Ab.x)\nPbr.set_pos(Pb, la/2 * Ab.x)\nPfl.set_pos(Pf, -la/2 * Af.x)\nPfr.set_pos(Pf, la/2 * Af.x)\n\nFbq.set_pos(Pb, fb * Ab.y)\n\ncoordinates = Pb.pos_from(O).to_matrix(N)\nfor point in (Dmc, Pf, Pbl, Pbr, Pfl, Pfr, Fbq):\n    coordinates = coordinates.row_join(point.pos_from(O).to_matrix(N))\n\npL, pL_vals = zip(*par_map.items())\nla1 = par_map[l] / 1.5                      # length of an axle\ncoords_lam = sm.lambdify((*state_symbols, fb, *pL, la), coordinates,\n                         cse=True)\n\n\ndef init():\n    xmin = np.min(state_vals[0, :]) - 3.0\n    xmax = np.max(state_vals[0, :]) + 3.0\n    ymin = np.min(state_vals[1, :]) - 3.0\n    ymax = np.max(state_vals[1, :]) + 3.0\n\n    fig = plt.figure(figsize=(8, 8))\n    ax = fig.add_subplot(111)\n    ax.set_xlim(xmin, xmax)\n    ax.set_ylim(ymin, ymax)\n    ax.set_aspect('equal')\n    ax.grid()\n\n    ax.scatter([x1, x2, x3, x4], [y1, y2, y3, y4], color='black', marker='o',\n               s=25)\n    ax.scatter(0.0, 0.0, color='red', marker='o', s=25)\n    ax.scatter(40.0, 0.0, color='green', marker='o', s=25)\n\n    line1, = ax.plot([], [], color='orange', lw=2)\n    line2, = ax.plot([], [], color='red', lw=2)\n    line3, = ax.plot([], [], color='magenta', lw=2)\n    line4 = ax.quiver([], [], [], [], color='green', scale=150,\n                      width=0.004, headwidth=8)\n    line5, = ax.plot([], [], color='blue', lw=0.5)\n\n    return fig, ax, line1, line2, line3, line4, line5\n\n\n# Function to update the plot for each animation frame\nfig, ax, line1, line2, line3, line4, line5 = init()\n\n\ndef update(t):\n    message = (f'running time {t:.2f} sec \\n The rear axle is red, the ' +\n               'front axle is magenta \\n The driving/breaking force is green')\n    ax.set_title(message, fontsize=12)\n\n    coords = coords_lam(*state_sol(t), input_sol(t)[0], *pL_vals, la1)\n\n    #   Pb, Dmc, Pf, Pbl, Pbr, Pfl, Pfr, Fbq\n    line1.set_data([coords[0, 0], coords[0, 2]], [coords[1, 0], coords[1, 2]])\n    line2.set_data([coords[0, 3], coords[0, 4]], [coords[1, 3], coords[1, 4]])\n    line3.set_data([coords[0, 5], coords[0, 6]], [coords[1, 5], coords[1, 6]])\n    add_point_to_data(line5, coords[0, 2], coords[1, 2])\n\n    line4.set_offsets([coords[0, 0], coords[1, 0]])\n    line4.set_UVC(coords[0, 7] - coords[0, 0], coords[1, 7] - coords[1, 0])\n    # return line1, line2, line3, line4, #line5, line6,\n\n\ntf = (num_nodes - 1) * h_val\nframes = np.linspace(t0, tf, int(fps * (tf - t0)))\nanimation = FuncAnimation(fig, update, frames=frames, interval=1000 / fps)\n\nplt.show()"
      ]
    }
  ],
  "metadata": {
    "kernelspec": {
      "display_name": "Python 3",
      "language": "python",
      "name": "python3"
    },
    "language_info": {
      "codemirror_mode": {
        "name": "ipython",
        "version": 3
      },
      "file_extension": ".py",
      "mimetype": "text/x-python",
      "name": "python",
      "nbconvert_exporter": "python",
      "pygments_lexer": "ipython3",
      "version": "3.13.3"
    }
  },
  "nbformat": 4,
  "nbformat_minor": 0
}