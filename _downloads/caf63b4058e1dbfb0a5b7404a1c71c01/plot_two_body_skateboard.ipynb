{
  "cells": [
    {
      "cell_type": "markdown",
      "metadata": {},
      "source": [
        "\n# Two Body Skateboard\n\n## Objectives\n\n- Show how to use opty to solve a problem with configuration constraints.\n- Show how to iterate from a simpler problem, straight lines, to a more\n  complex problem, curved lines.\n\n\n## Description\n\nAdmittedly, this is a somewhat contrived example, but it shows how to use opty\n- and it shows opty's capabilities to solve what seem to be non-trivial\nproblems.\n\nTwo boards are connected by a joint. At the back of the first body and on the\nfront of the second body, there is an axle. The axles can be steered and\ndriven.\nThe goal is to keep the centers of the two bodies on two given lines in the\nX/Y plane. The two bodies and the axles are modeled as rigid bodies. As gravity\nplays no role in this model it is disregarded.\n\n## Notes\n\n- when setting up Kane's equations of motion, the configuration constraints\n  have to be converted to velocity constraints.\n- when setting up the equations of motion for opty, either the configuration\n  constraints or the velocity constraints may be added to the equations of\n  motion. Better to use the configuration constraints to avoid the drift\n  inherent in the velocity constraints.\n\n**Constants**:\n\n- $l$ : length of the bodies [m]\n- $m_0, m_b, m_f$ : mass of the bodies, the rear axle, the front axle\n  [kg]\n- $iZZ_0, iZZ_b, iZZ_f$ : inertia of the bodies, the rear axle, the front\n  axle [kg m^2]\n- $a, b$ : parameters of the streets [m], [1/m]\n\n**States**:\n\n- $x, y$ : coordinates of the point, where the rear axle attaches to the\n  main body [m]\n- $ux, uy$ : their speeds [m/s]\n- $q_0, q_1, q_b, q_f$ : gen. coordinates of the main bodies, the rear\n  axle, the front axle [rad]\n- $u_0, u_1, u_b, u_f$ : their speeds [rad/s]\n\n**Specifieds**:\n\n- $T_b, T_f$ : torque at back wheel, torque at front wheel [Nm]\n- $F_b, F_f$ : forces on $A^o_b, A^o_f$ [N]\n\n**Further Parameters**:\n\n- $N$ : the inertial frame\n- $A_0, A_1, A_b, A_f$ : the frames of the bodies\n- $O$ : point fixed in the inertial frame\n- $P_1$ : the joint between the two bodies\n- $A^o_{b}, A^o_{f}$ : the mass centers of the axles\n- $A^o_0, A^o_1$ : the mass centers of the bodies\n"
      ]
    },
    {
      "cell_type": "code",
      "execution_count": null,
      "metadata": {
        "collapsed": false
      },
      "outputs": [],
      "source": [
        "import sympy.physics.mechanics as me\nimport sympy as sm\nimport numpy as np\nfrom scipy.optimize import fsolve\nfrom scipy.interpolate import CubicSpline\nfrom opty.direct_collocation import Problem\nfrom opty.utils import create_objective_function\nimport matplotlib.pyplot as plt\nfrom matplotlib.animation import FuncAnimation"
      ]
    },
    {
      "cell_type": "markdown",
      "metadata": {},
      "source": [
        "Defines the shape of the two lines to be followed by the centers of the\nbodies.\n\n"
      ]
    },
    {
      "cell_type": "code",
      "execution_count": null,
      "metadata": {
        "collapsed": false
      },
      "outputs": [],
      "source": [
        "def strasse(x, a, b):\n    return a * (sm.sin(b * x) + sm.cos(3 * b * x))\n\n\ndef strasse1(x, a, b):\n    return a * sm.sin(b * x) + sm.cos(4 * b * x) + 1."
      ]
    },
    {
      "cell_type": "markdown",
      "metadata": {},
      "source": [
        "## Kane's Equations of Motion\n\n\n"
      ]
    },
    {
      "cell_type": "code",
      "execution_count": null,
      "metadata": {
        "collapsed": false
      },
      "outputs": [],
      "source": [
        "N, A0, A1, Ab, Af = sm.symbols('N A0 A1 Ab Af', cls=me.ReferenceFrame)\nt = me.dynamicsymbols._t\nO, Aob, Ao0, P1, Ao1, Aof = sm.symbols('O Aob Ao0 P1 Ao1 Aof', cls=me.Point)\nO.set_vel(N, 0)\n\nq0, q1, qb, qf = me.dynamicsymbols('q_0 q_1 q_b q_f')\nu0, u1, ub, uf = me.dynamicsymbols('u_0 u_1 u_b u_f')\nx, y = me.dynamicsymbols('x y')\nux, uy = me.dynamicsymbols('u_x u_y')\nTb, Tf, Fb, Ff = me.dynamicsymbols('T_b T_f F_b F_f')\n\nl, m0, mb, mf, iZZ0, iZZb, iZZf = sm.symbols('l m0 mb mf iZZ0, iZZb, iZZf')\na, b = sm.symbols('a b')\n\nA0.orient_axis(N, q0, N.z)\nA0.set_ang_vel(N, u0 * N.z)\nA1.orient_axis(N, q1, N.z)\nA1.set_ang_vel(N, u1 * N.z)\nAb.orient_axis(N, qb, N.z)\nAb.set_ang_vel(N, ub * N.z)\nAf.orient_axis(N, qf, N.z)\nAf.set_ang_vel(N, uf * N.z)\n\nAob.set_pos(O, x * N.x + y * N.y)\nAob.set_vel(N, ux * N.x + uy * N.y)\n\nAo0.set_pos(Aob, l/2 * A0.y)\nAo0.v2pt_theory(Aob, N, A0)\n\nP1.set_pos(Aob, l * A0.y)\nP1.v2pt_theory(Aob, N, A0)\n\nAo1.set_pos(P1, l/2 * A1.y)\nAo1.v2pt_theory(P1, N, A1)\n\nAof.set_pos(P1, l * A1.y)\nAof.v2pt_theory(P1, N, A1)\n\nconstr_Ao0 = (me.dot(Ao0.pos_from(O), N.y) -\n              strasse(me.dot(Ao0.pos_from(O), N.x), a, b))\nconstr_Ao0_dt = constr_Ao0.diff(t)\n\nconstr_Ao1 = (me.dot(Ao1.pos_from(O), N.y) -\n              strasse1(me.dot(Ao1.pos_from(O), N.x), a, b))\nconstr_Ao1_dt = constr_Ao1.diff(t)\n\nI0 = me.inertia(A0, 0, 0, iZZ0)\nbody0 = me.RigidBody('body0', Ao0, A0, m0, (I0, Ao0))\nI1 = me.inertia(A1, 0, 0, iZZ0)\nbody1 = me.RigidBody('body1', Ao1, A1, m0, (I1, Ao1))\nIb = me.inertia(Ab, 0, 0, iZZb)\nbodyb = me.RigidBody('bodyb', Aob, Ab, mb, (Ib, Aob))\nIf = me.inertia(Af, 0, 0, iZZf)\nbodyf = me.RigidBody('bodyf', Aof, Af, mf, (If, Aof))\nBODY = [body0, body1, bodyb, bodyf]\n\nFL = [(Aob, Fb * Ab.y), (Aof, Ff * Af.y), (Ab, Tb * N.z), (Af, Tf * N.z)]\n\nkd = sm.Matrix([ux - x.diff(t), uy - y.diff(t), u0 - q0.diff(t),\n                u1 - q1.diff(t), ub - qb.diff(t), uf - qf.diff(t)])\nspeed_constr = [constr_Ao0_dt, constr_Ao1_dt]\nhol_constr = sm.Matrix([constr_Ao0, constr_Ao1])\n\nq_ind = [x, y, qb, qf]\nq_dep = [q0, q1]\nu_ind = [ux, uy, ub, uf]\nu_dep = [u0, u1]\n\nKM = me.KanesMethod(\n    N,\n    q_ind=q_ind,\n    u_ind=u_ind,\n    kd_eqs=kd,\n    q_dependent=q_dep,\n    u_dependent=u_dep,\n    configuration_constraints=hol_constr,\n    velocity_constraints=speed_constr,\n)\nfr, frstar = KM.kanes_equations(BODY, FL)\n\neom = kd.col_join(fr + frstar)\neom = eom.col_join(hol_constr)\nprint(f'eoms contain {sm.count_ops(eom):,} operations and have '\n      f'shape {eom.shape}')"
      ]
    },
    {
      "cell_type": "markdown",
      "metadata": {},
      "source": [
        "Needed further down for the animation.\n\n"
      ]
    },
    {
      "cell_type": "code",
      "execution_count": null,
      "metadata": {
        "collapsed": false
      },
      "outputs": [],
      "source": [
        "strasse2 = strasse(x, a, b)\nstrasse3 = strasse1(x, a, b)\nstrasse_lam = sm.lambdify((x, a, b), strasse2, cse=True)\nstrasse1_lam = sm.lambdify((x, a, b), strasse3, cse=True)"
      ]
    },
    {
      "cell_type": "markdown",
      "metadata": {},
      "source": [
        "Needed to ensure to configuration constrains are satisfied at the start.\n\n"
      ]
    },
    {
      "cell_type": "code",
      "execution_count": null,
      "metadata": {
        "collapsed": false
      },
      "outputs": [],
      "source": [
        "constr_Ao0_lam = sm.lambdify((y, x, q0, a, b, l), constr_Ao0, cse=True)\nconstr_Ao1_lam = sm.lambdify((q1, x, y, q0, a, b, l), constr_Ao1, cse=True)"
      ]
    },
    {
      "cell_type": "markdown",
      "metadata": {},
      "source": [
        "## Set up the Optimization Problem.\n\n\n"
      ]
    },
    {
      "cell_type": "code",
      "execution_count": null,
      "metadata": {
        "collapsed": false
      },
      "outputs": [],
      "source": [
        "state_symbols = tuple((x, y, q0, q1, qb, qf, ux, uy, u0, u1, ub, uf))\nlaenge = len(state_symbols)\nconstant_symbols = (a, b, l, m0, mb, mf, iZZ0, iZZb, iZZf)\nspecified_symbols = (Fb, Ff, Tb, Tf)\nunknown_symbols = []\n\nduration = 7.5\nnum_nodes = 300\nt0, tf = 0.0, duration\ninterval_value = duration / (num_nodes - 1)"
      ]
    },
    {
      "cell_type": "markdown",
      "metadata": {},
      "source": [
        "Specify the known system parameters.\n\n"
      ]
    },
    {
      "cell_type": "code",
      "execution_count": null,
      "metadata": {
        "collapsed": false
      },
      "outputs": [],
      "source": [
        "par_map = {}\npar_map[m0] = 1.0\npar_map[mb] = 0.1\npar_map[mf] = 0.1\npar_map[iZZ0] = 1.0\npar_map[iZZb] = 0.1\npar_map[iZZf] = 0.1\npar_map[l] = 3.0\npar_map[a] = 1.75\npar_map[b] = 0.0\nx1 = 0.0\nq01 = -0.5"
      ]
    },
    {
      "cell_type": "markdown",
      "metadata": {},
      "source": [
        "Calculate the initial value of y, so that the configuration constraint is\nsatisfied.\nAs the initial speeds are set to zero, the resulting speed constraint is\nsatisfied automatically.\n\n"
      ]
    },
    {
      "cell_type": "code",
      "execution_count": null,
      "metadata": {
        "collapsed": false
      },
      "outputs": [],
      "source": [
        "def hol_func(x0, *args):\n    return constr_Ao0_lam(x0, *args)\n\n\ndef hol_func1(x0, *args):\n    return constr_Ao1_lam(x0, *args)\n\n\nx0 = 1.0\nargs = (x1, q01, par_map[a], par_map[b], par_map[l])\ny1 = fsolve(hol_func, x0, args)\n\nargs = (x1, y1[0], q01, par_map[a], par_map[b], par_map[l])\nq11 = fsolve(hol_func1, x0, args)"
      ]
    },
    {
      "cell_type": "markdown",
      "metadata": {},
      "source": [
        "Set up the objective function.\n\n"
      ]
    },
    {
      "cell_type": "code",
      "execution_count": null,
      "metadata": {
        "collapsed": false
      },
      "outputs": [],
      "source": [
        "objective = sm.Integral((Fb**2) + (Ff**2) + (Tb**2) + (Tf**2))\nobj, obj_grad = create_objective_function(\n    objective,\n    state_symbols,\n    specified_symbols,\n    unknown_symbols,\n    num_nodes,\n    interval_value,\n)"
      ]
    },
    {
      "cell_type": "markdown",
      "metadata": {},
      "source": [
        "Set up the constraints, and the bounds.\n\n"
      ]
    },
    {
      "cell_type": "code",
      "execution_count": null,
      "metadata": {
        "collapsed": false
      },
      "outputs": [],
      "source": [
        "initial_state_constraints = {\n    x: x1,\n    y: y1[0],\n    q0: q01,\n    q1: q11[0],\n    qb: -0.2,\n    qf: -0.3,\n    ux: 0.0,\n    uy: 0.0,\n    u0: 0.0,\n    u1: 0.0,\n    ub: 0.0,\n    uf: 0.0,\n}\n\n\nfinal_state_constraints = {\n    x: 12.,\n    ux: 0.0,\n}\n\ninstance_constraints = (tuple(xi.subs({t: t0}) - xi_val\n                              for xi, xi_val in\n                              initial_state_constraints.items()) +\n                        tuple(xi.subs({t: tf}) - xi_val\n                              for xi, xi_val in\n                              final_state_constraints.items()))\n\ngrenze = 300.0\nbounds = {\n    Fb: (-grenze, grenze),\n    Ff: (-grenze, grenze),\n    Tb: (-grenze, grenze),\n    Tf: (-grenze, grenze),\n    qb: (-np.pi/2, np.pi/2),\n    qf: (-np.pi/2, np.pi/2),\n}"
      ]
    },
    {
      "cell_type": "markdown",
      "metadata": {},
      "source": [
        "## Solve the Optimization Problem\n\nFor this problem opty does not find a solution unless either the curves are\nstraight lines or the initial guess is very close to the solution.\nSo the program below iterates from the straight curve to the curve\nwith the desired parameters. Solutions are the initial guess of the next\niteration.\n\n"
      ]
    },
    {
      "cell_type": "code",
      "execution_count": null,
      "metadata": {
        "collapsed": false
      },
      "outputs": [],
      "source": [
        "inkrement = 0.0125\ninitial_guess = np.ones((len(state_symbols) +\n                         len(specified_symbols)) * num_nodes) * 0.01\n\nfor i in range(15):\n    par_map[b] = inkrement * i\n\n    # As the shape of the curves changes in every loop, the instance\n    # constraints have to be recalculated to match the configuration\n    # constraints.\n    x0 = 1.\n    args = (x1, q01, par_map[a], par_map[b], par_map[l])\n    y1 = fsolve(hol_func, x0, args)\n\n    args = (x1, y1[0], q01, par_map[a], par_map[b], par_map[l])\n    q11 = fsolve(hol_func1, x0, args)\n\n    initial_state_constraints[y] = y1[0]\n    initial_state_constraints[q1] = q11[0]\n    instance_constraints = (tuple(xi.subs({t: t0}) - xi_val\n                                  for xi, xi_val in\n                                  initial_state_constraints.items()) +\n                            tuple(xi.subs({t: tf}) - xi_val\n                                  for xi, xi_val in\n                                  final_state_constraints.items()))\n\n    # As the instance constraints change, Problem has to be built for every\n    # iteration.\n    prob = Problem(\n        obj,\n        obj_grad,\n        eom,\n        state_symbols,\n        num_nodes,\n        interval_value,\n        known_parameter_map=par_map,\n        instance_constraints=instance_constraints,\n        bounds=bounds,\n    )\n\n    prob.add_option('max_iter', 3000)\n\n    solution, info = prob.solve(initial_guess)\n    np.save('skate_solution', solution)\n    print(f'{i+1} - th iteration')\n    print('message from optimizer:', info['status_msg'])\n    print('Iterations needed', len(prob.obj_value))\n    print(f\"objective value {info['obj_val']:.3e} \\n\")\n    initial_guess = solution\n\n_ = prob.plot_objective_value()"
      ]
    },
    {
      "cell_type": "markdown",
      "metadata": {},
      "source": [
        "Plot the constraint violations.\n\n"
      ]
    },
    {
      "cell_type": "code",
      "execution_count": null,
      "metadata": {
        "collapsed": false
      },
      "outputs": [],
      "source": [
        "_ = prob.plot_constraint_violations(solution)"
      ]
    },
    {
      "cell_type": "markdown",
      "metadata": {},
      "source": [
        "Plot the results.\n\n"
      ]
    },
    {
      "cell_type": "code",
      "execution_count": null,
      "metadata": {
        "collapsed": false
      },
      "outputs": [],
      "source": [
        "_ = prob.plot_trajectories(solution)"
      ]
    },
    {
      "cell_type": "markdown",
      "metadata": {},
      "source": [
        "## Animate the Simulation.\n\n\n"
      ]
    },
    {
      "cell_type": "code",
      "execution_count": null,
      "metadata": {
        "collapsed": false
      },
      "outputs": [],
      "source": [
        "fps = 10\n\nstate_vals, input_vals, _ = prob.parse_free(solution)\nt_arr = np.linspace(t0, tf, num_nodes)\nstate_sol = CubicSpline(t_arr, state_vals.T)\ninput_sol = CubicSpline(t_arr, input_vals.T)\n\n# create additional points for the axles\nAobl, Aobr, Aofl, Aofr = sm.symbols('Aobl Aobr Aofl Aofr', cls=me.Point)\nFbq, Ffq = sm.symbols('Fbq Ffq', cls=me.Point)\nla = sm.symbols('la')\nfb, ff = sm.symbols('f_b f_f')\n\nAobl.set_pos(Aob, -la/2 * Ab.x)\nAobr.set_pos(Aob, la/2 * Ab.x)\nAofl.set_pos(Aof, -la/2 * Af.x)\nAofr.set_pos(Aof, la/2 * Af.x)\n\nFbq.set_pos(Aob, fb * Ab.y)\nFfq.set_pos(Aof, ff * Af.y)\n\ncoordinates = Aob.pos_from(O).to_matrix(N)\nfor point in (Ao0, P1, Ao1, Aof, Aobl, Aobr, Aofl, Aofr, Fbq, Ffq):\n    coordinates = coordinates.row_join(point.pos_from(O).to_matrix(N))\ncoordinates_lam = sm.lambdify((x, y, q0, q1, qb, qf, fb, ff, l, a, b, la),\n                              coordinates, cse=True)\n\n\ndef init_plot():\n    l1 = par_map[l]\n    a1 = par_map[a]\n    b1 = par_map[b]\n    la1 = l1 / 2\n\n    xmin = -2.5\n    xmax = 12.5\n    ymin = -2.5\n    ymax = 6.0\n    fig, ax = plt.subplots(figsize=(9, 9))\n    ax.set_xlim(xmin-1, xmax + 1.)\n    ax.set_ylim(ymin-1, ymax + 1.)\n    ax.set_aspect('equal')\n    ax.grid()\n    ax.set_xlabel('X-axis')\n    ax.set_ylabel('Y-axis')\n\n    strasse_x = np.linspace(xmin, xmax, 100)\n    ax.plot(strasse_x, strasse_lam(strasse_x, par_map[a], par_map[b]),\n            color='black', linestyle='-', linewidth=0.75)\n    ax.plot(strasse_x, strasse1_lam(strasse_x, par_map[a], par_map[b]),\n            color='red', linestyle='-', linewidth=0.75)\n\n    ax.axvline(initial_state_constraints[x], color='r', linestyle='--',\n               linewidth=1)\n    ax.axvline(final_state_constraints[x], color='green', linestyle='--',\n               linewidth=1)\n\n    line1, = ax.plot([], [], color='blue', lw=2)\n    line1a, = ax.plot([], [], color='blue', lw=2)\n    line2, = ax.plot([], [], color='red', lw=2)\n    line3, = ax.plot([], [], color='magenta', lw=2)\n    line4 = ax.quiver([], [], [], [], color='green', scale=7, width=0.004)\n    line5 = ax.quiver([], [], [], [], color='green', scale=7, width=0.004)\n    line6, = ax.plot([], [], color='blue', marker='o', markersize=7)\n    line7, = ax.plot([], [], color='black', marker='o', markersize=7)\n    line8, = ax.plot([], [], color='red', marker='o', markersize=7)\n    return (fig, ax, line1, line1a, line2, line3, line4, line5, line6, line7,\n            line8, l1, a1, b1, la1)\n\n\n(fig, ax, line1, line1a, line2, line3, line4, line5, line6, line7, line8, l1,\n    a1, b1, la1) = init_plot()\n\n\ndef update(frame):\n    message = (f'running time {frame:.2f} sec \\n the back axle is red,' +\n               'the front axle is magenta \\n The driving forces are green')\n    ax.set_title(message, fontsize=12)\n\n    coords = coordinates_lam(*state_sol(frame)[: 6], *input_sol(frame)[0: 2],\n                             l1, a1, b1, la1)\n    line1.set_data([coords[0, 0], coords[0, 2]], [coords[1, 0], coords[1, 2]])\n    line1a.set_data([coords[0, 2], coords[0, 4]], [coords[1, 2], coords[1, 4]])\n    line2.set_data([coords[0, 5], coords[0, 6]], [coords[1, 5], coords[1, 6]])\n    line3.set_data([coords[0, 7], coords[0, 8]], [coords[1, 7], coords[1, 8]])\n\n    line4.set_offsets([coords[0, 0], coords[1, 0]])\n    line4.set_UVC(coords[0, -2] - coords[0, 0], coords[1, -2] - coords[1, 0])\n\n    line5.set_offsets([coords[0, 4], coords[1, 4]])\n    line5.set_UVC(coords[0, -1] - coords[0, 4], coords[1, -1] - coords[1, 4])\n\n    line6.set_data([coords[0, 2]], [coords[1, 2]])\n    line7.set_data([coords[0, 1]], [coords[1, 1]])\n    line8.set_data([coords[0, 3]], [coords[1, 3]])\n\n\nanimation = FuncAnimation(fig, update, frames=np.arange(t0, tf, 1 / fps),\n                          interval=1000/fps)\n\nplt.show()"
      ]
    }
  ],
  "metadata": {
    "kernelspec": {
      "display_name": "Python 3",
      "language": "python",
      "name": "python3"
    },
    "language_info": {
      "codemirror_mode": {
        "name": "ipython",
        "version": 3
      },
      "file_extension": ".py",
      "mimetype": "text/x-python",
      "name": "python",
      "nbconvert_exporter": "python",
      "pygments_lexer": "ipython3",
      "version": "3.13.3"
    }
  },
  "nbformat": 4,
  "nbformat_minor": 0
}