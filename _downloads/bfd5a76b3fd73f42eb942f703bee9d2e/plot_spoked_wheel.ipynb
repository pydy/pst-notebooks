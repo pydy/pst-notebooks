{
  "cells": [
    {
      "cell_type": "markdown",
      "metadata": {},
      "source": [
        "\n# Spoked, Rimless Wheel\n\n## Objectives\n\n- Show how to use the event feature of solve_ivp, which allows to stop the\n  integration when an event has occured, here a second spoke hits the road.\n- Show how to use Kane's equations of motion to set up the equations of motion\n  for a more difficult problem.\n\n\n## Introduction\n\nA wheel with n spokes distributed evenly around the hub $Dmc$ with mass\n$m_{Dmc}$, having lengths $l_0...l_{n-1}$, with spoke\n$sp_i$ havimg mass $m_{sp_i}$,\ncenter of mass $Dmc_{sp_i}$ and moment of inertia around the Z - axis of\n$iZZ_{sp_i}$, and having a particle $DmcE_{sp_i}$ at the end is\n'rolling' on an uneven street.\nIt is described here:\nhttp://ruina.tam.cornell.edu/research/topics/locomotion_and_robotics/tinkertoy_walker/prediction_stable_walking_error_analysis.pdf \\\n\n\n## Notes\n\n- Not all eventualities are considered. If, for example, the street is\n  shaped in such a way that a portion of the spoke will touch it before its\n  end point does, this is ignored.\n- There is the option to make it 'look like an ellipse' by giving the spokes\n  the appropriate lengths.\n- It may be noteworthy, that the rotational speed of the wheel may change\n  discontinuously, when a new spoke touches the street. This is because the\n  moment of inertia changes, and the total energy must be conserved.\n"
      ]
    },
    {
      "cell_type": "code",
      "execution_count": null,
      "metadata": {
        "collapsed": false
      },
      "outputs": [],
      "source": [
        "import sympy as sm\nimport sympy.physics.mechanics as me\nimport numpy as np\nfrom scipy.integrate import solve_ivp\nfrom scipy.optimize import fsolve\n\nfrom matplotlib import animation\nimport matplotlib as mp\nimport matplotlib.pyplot as plt"
      ]
    },
    {
      "cell_type": "markdown",
      "metadata": {},
      "source": [
        "Set the geometry, define points, etc.\n\n For each spoke touching the ground, a  **separate Kane's EOMs** is set up\n fuerther down. This requires, that *different* points for each EOM are\n defined, while of course, they physically describe the same object, e.g.\n the center of the wheel.\n==============================\n\n"
      ]
    },
    {
      "cell_type": "code",
      "execution_count": null,
      "metadata": {
        "collapsed": false
      },
      "outputs": [],
      "source": [
        "n = 7     # number of spokes\n#=============================\nif isinstance(n, int) is False or n <= 2:\n    raise Exception('n must be an integer larger than 2')\nN = me.ReferenceFrame('N')\nO = me.Point('O')\nO.set_vel(N, 0)\nt = me.dynamicsymbols._t\n\nDmc = list(sm.symbols(f'Dmc {0}:{n}', cls=me.Point)) # mass center of the wheel\n# body fixed frames of each spoke\nA = list(sm.symbols(f'A{0}:{n}', cls=me.ReferenceFrame))\n# length of each spoke\nl = list(sm.symbols(f'l{0}:{n}'))\n\nDmcEsp = [[sm.symbols('DmcEsp' + str(i) + str(j), cls=me.Point)\n           for j in range(n)] for i in range(n)]  # end points of each spoke\nDmcsp = [[sm.symbols('Dmcsp' + str(i) + str(j), cls=me.Point)\n           for j in range(n)] for i in range(n)]  # mass centers of each spoke\n\nCP = sm.symbols(f'CP', cls=me.Point)  # contact points of each spoke with the street\n# x - coordinate of the contact point of the wheel with the street, of course\n# y - coordinate is: gesamt(x0, amamplitude, frequenz)\nx0 = sm.symbols(f'x0')\n\nmDmc = sm.symbols('mDmc')  # mass of center of the wheel\nmsp = list(sm.symbols(f'msp{0}:{n}'))  # mass of each spoke\nmEsp = list(sm.symbols(f'mEsp{0}:{n}'))  # mass of each end point of each spoke\n\nspoke_no = sm.symbols('spoke_no', int=True)\n\namplitude, frequenz = sm.symbols('amplitude, frequenz')  # for the road profile\nreibung, g = sm.symbols('reibung, g')  # friction coefficient 'in the' wheel,\n                                       # gravity\n\nq, u = me.dynamicsymbols('q, u')  # generalized coordinates and speeds of the\n                                  # wheel\n\nphi = 2 * sm.pi / n  # angle between each spoke\n\nA[0].orient_axis(N, q, N.z)  # orientation of the wheel\nA[0].set_ang_vel(N, u * N.z)  # angular velocity of the wheel\n\nfor i in range(1, n):  # orientation of each spoke\n    A[i].orient_axis(A[0], i * phi, N.z)"
      ]
    },
    {
      "cell_type": "markdown",
      "metadata": {},
      "source": [
        "Modeling the street\n\n\n"
      ]
    },
    {
      "cell_type": "code",
      "execution_count": null,
      "metadata": {
        "collapsed": false
      },
      "outputs": [],
      "source": [
        "rumpel = 3  # the higher the number the more 'uneven the street'\n#==============================================================\ndef gesamt(x, amplitude, frequenz):\n    strasse       = sum([amplitude/j * sm.sin(j*frequenz * x)\n                         for j in range(1, rumpel)])\n    strassen_form = (frequenz/4. * x)**2\n    return strassen_form + strasse"
      ]
    },
    {
      "cell_type": "markdown",
      "metadata": {},
      "source": [
        "## Set up Kanes Equations\n*value* is the number of the spoke presently touching the street\n\n"
      ]
    },
    {
      "cell_type": "code",
      "execution_count": null,
      "metadata": {
        "collapsed": false
      },
      "outputs": [],
      "source": [
        "Dmc_ort_list = []\nDmcEsp_ort_list = []\nDmcsp_ort_list = []\nBODY_list = []\n\n\ndef KANE(value, drucken=False):\n    # set up Kane's equations for each spoke\n    # contact point of the spoke touching the street with the street\n    CP.set_pos(O, x0*N.x + gesamt(x0, amplitude, frequenz)*N.y)\n    CP.set_vel(N, 0)\n    # endpoint of spoke nummber 'value' is contacting the street\n    DmcEsp[value][value].set_pos(CP, 0)\n    DmcEsp[value][value].set_vel(N, 0)\n    Dmc[value].set_pos(DmcEsp[value][value], -l[value]*A[value].x)\n\n\n    Dmc[value].v2pt_theory(DmcEsp[value][value], N, A[value])\n    Dmcsp[value][value].set_pos(DmcEsp[value][value], -l[value]/2.*A[value].x)\n    Dmcsp[value][value].v2pt_theory(DmcEsp[value][value], N, A[value])\n\n    for i in range(n):\n        Dmcsp[value][i].set_pos(Dmc[value], l[i]/2. * A[i].x)\n        Dmcsp[value][i].v2pt_theory(Dmc[value], N, A[i])\n\n        DmcEsp[value][i].set_pos(Dmc[value], l[i] * A[i].x)\n        DmcEsp[value][i].v2pt_theory(Dmc[value], N, A[i])\n\n    Dmc_ort_list.append(Dmc[value].pos_from(O))\n    DmcEsp_ort_list.append([DmcEsp[value][i].pos_from(O) for i in range(n)])\n    Dmcsp_ort_list.append([Dmcsp[value][i].pos_from(O) for i in range(n)])\n\n    BODY = [me.Particle('pDmc', Dmc[value], mDmc)]\n    for i in range(n):\n        BODY.append(me.Particle(f'pDmcEsp{value}{i}', DmcEsp[value][i],\n                                mEsp[i]))\n\n        iZZ = 1./12. * msp[i] * l[i]**2\n        I = me.inertia(A[i], 0, 0, iZZ)\n        BODY.append(me.RigidBody(f'spoke{value}{i}', Dmcsp[value][i],\n                                 A[i], msp[i], (I, Dmcsp[value][i])))\n    BODY_list.append(BODY)\n\n    FL = [(Dmc[value], -mDmc * g * N.y)]\n    for i in range(n):\n        FL.append((Dmcsp[value][i], -msp[i] * g * N.y))\n        FL.append((DmcEsp[value][i], -mEsp[i] * g * N.y))\n    FL.append((A[0], -u * reibung * N.z))  # 'internal' damping of the wheel\n\n    kd = [u - q.diff()]\n    q_ind = [q]\n    u_ind = [u]\n    KM = me.KanesMethod(N, q_ind, u_ind, kd_eqs=kd)\n    fr, frstar = KM.kanes_equations(BODY, FL)\n    MM = KM.mass_matrix_full\n    force = KM.forcing_full\n    if drucken == True:\n        print('MM DS', me.find_dynamicsymbols(MM))\n        print('MM FS', MM.free_symbols)\n        print(f'MM has {sm.count_ops(MM)} operations, '\n              f'{sm.count_ops(sm.count_ops(sm.cse(MM)))} after cse, \\n')\n\n        print('force DS', me.find_dynamicsymbols(force))\n        print('force FS', force.free_symbols)\n        print(f'force has {sm.count_ops(force)} operations, '\n              f'{sm.count_ops(sm.count_ops(sm.cse(force)))} after cse, \\n')\n    return [MM, force]"
      ]
    },
    {
      "cell_type": "markdown",
      "metadata": {},
      "source": [
        "Kane's equations of motion for each spoke.\n\n"
      ]
    },
    {
      "cell_type": "code",
      "execution_count": null,
      "metadata": {
        "collapsed": false
      },
      "outputs": [],
      "source": [
        "# Drucken = True: print some statistics of each mass matrix and each\n# forcing vector.\ndrucken = False\nMM_list = ['m' + str(j) for j in range(n)]\nforce_list = ['f' + str(j) for j in range(n)]\nfor i in range(n):\n    MM, force = KANE(i, drucken)[0:2]\n    MM_list[i] = MM\n    force_list[i] = force"
      ]
    },
    {
      "cell_type": "markdown",
      "metadata": {},
      "source": [
        "Set up various **functions** needed later\\\nFor each spoke_no, the 'name' of the spoke touching the street,\na separate energy is needed.\n\n"
      ]
    },
    {
      "cell_type": "code",
      "execution_count": null,
      "metadata": {
        "collapsed": false
      },
      "outputs": [],
      "source": [
        "kin_energie = [sum(body.kinetic_energy(N) for body in BODY_list[i])\n               for i in range(n)]\n\npot_energie = []\nfor value in range(n):\n    pot_energie1 = 0\n    pot_energie1 += mDmc * g * Dmc[value].pos_from(O).dot(N.y)\n    pot_energie1 += sum([m * g * body.pos_from(O).dot(N.y) for m, body in\n                         zip(mEsp, DmcEsp[value])])\n    pot_energie1 += sum([m * g * body.pos_from(O).dot(N.y) for m, body in\n                         zip(msp, Dmcsp[value])])\n    pot_energie.append(pot_energie1)\n\ngesamt1 = gesamt(x0, amplitude, frequenz)\n\n# these are the locations of the points, needed for the animation\nDmc_loc = []\nDmcEsp_loc = []\nDmcsp_loc = []\nfor i in range(n):\n    Dmc_loc.append([Dmc_ort_list[i].dot(uv) for uv in (N.x, N.y)])\n    DmcEsp_loc.append([[DmcEsp_ort_list[i][j].dot(uv) for uv in (N.x, N.y)]\n                       for j in range(n)])\n    Dmcsp_loc.append([[Dmcsp_ort_list[i][j].dot(uv) for uv in (N.x, N.y)]\n                      for j in range(n)])\n    test = np.array(DmcEsp_loc)"
      ]
    },
    {
      "cell_type": "markdown",
      "metadata": {},
      "source": [
        "Lambdification\n\n"
      ]
    },
    {
      "cell_type": "code",
      "execution_count": null,
      "metadata": {
        "collapsed": false
      },
      "outputs": [],
      "source": [
        "qL = [q, u]\npL = [mDmc] + msp + mEsp + l + [amplitude, frequenz, reibung, g] + [x0, spoke_no]\n\nMM_lam = sm.lambdify(qL + pL, MM_list, cse=True)\nforce_lam = sm.lambdify(qL + pL, force_list, cse=True)\n\nkin_lam = sm.lambdify(qL + pL, kin_energie, cse=True)\npot_lam = sm.lambdify(qL + pL, pot_energie, cse=True)\n\ngesamt1_lam   = sm.lambdify([x0, amplitude, frequenz], gesamt1, cse=True)\n\nDmc_loc_lam = sm.lambdify(qL + pL, Dmc_loc, cse=True)\nDmcEsp_loc_lam = sm.lambdify(qL + pL, DmcEsp_loc, cse=True)\nDmcsp_loc_lam = sm.lambdify(qL + pL, Dmcsp_loc, cse=True)"
      ]
    },
    {
      "cell_type": "markdown",
      "metadata": {},
      "source": [
        "New angular velocity\nAs the spokes may be of different lengths and masses, the moment of inertia\nwill generally change, when a new spoke touches the street and becomes the\nnew 'contact point, see here:\nhttps://en.wikipedia.org/wiki/Parallel_axis_theorem \\\nIn order to keep the total energy constant, the angular velocity must change\ndiscontinuously, too.\n(Of course the potential energy cannot change discontinuoulsy, infiniterly\nstrong forces would be reqired for this)\nThe new angular velocity is calculated here.\n\n"
      ]
    },
    {
      "cell_type": "code",
      "execution_count": null,
      "metadata": {
        "collapsed": false
      },
      "outputs": [],
      "source": [
        "u_neu = sm.symbols('u_neu')\n\n\ndef new_speed(q_old, u_old, speiche_neu, x0_neu, args):\n    kin_alt = kin_lam(q_old, u_old, *args)[args[-1]]\n    kin_neu = kin_energie[speiche_neu]\n    kin_neu_lam = sm.lambdify([u] + [q]  + pL, kin_neu - kin_alt, cse=True)\n\n    def func(y, args1):\n        return kin_neu_lam(y, *args1)\n    y = u_old\n    pL_vals1 = [pL_vals[i] for i in range(len(pL_vals)-2)]\n    args1 = [q_old] + pL_vals1 + [x0_neu, speiche_neu]\n\n    ergebnis = fsolve(func, y, args1)\n    return ergebnis"
      ]
    },
    {
      "cell_type": "markdown",
      "metadata": {},
      "source": [
        "This function calculates the distance in Y direction of the end point of\neach spoke from the street.\n\n"
      ]
    },
    {
      "cell_type": "code",
      "execution_count": null,
      "metadata": {
        "collapsed": false
      },
      "outputs": [],
      "source": [
        "def abstand(y, args):\n    '''\n    this function calculates the distance between the end points of each spoke\n    and the street it returns: the number of the spoke i, its X coordinate,\n    and its Y distance from the street\n    '''\n    DELTA = []\n    for i in range(n):\n        x_coord = DmcEsp_loc_lam(*y, *args)[args[-1]][i][0]\n        delta1 = (DmcEsp_loc_lam(*y, *args)[args[-1]][i][1] -\n                  gesamt1_lam(x_coord, args[-6], args[-5]))\n        DELTA.append([i, x_coord, delta1])\n    return DELTA"
      ]
    },
    {
      "cell_type": "markdown",
      "metadata": {},
      "source": [
        "This function **triggers an event with solve_ivp**, if any spoke, other\nthan the one currently touching the street, is close to touching the stree,\ntoo.\n\n"
      ]
    },
    {
      "cell_type": "code",
      "execution_count": null,
      "metadata": {
        "collapsed": false
      },
      "outputs": [],
      "source": [
        "def event(t, y, args):\n    global new_x0, new_spoke_no, zaehl_event, delta\n    zaehl_event += 1\n    '''\n    this function checks, whether any of the spokes touches the street.\n    if a second spoke is about to touch the street, the function returns 1.\n    If solve_ivp 'decides' that an event has happened, the new X ccordinate\n    and the 'new' spoke touching the street are available via global.\n    (I see no other way of doing it, as event is limited as to what it is\n    allowed to return.)\n    spoke_no is the number of the spoke which is going to touch the street\n    next, x0 is the x coordinate of the contact point of the wheel with the\n    street\n    '''\n    DELTA = abstand(y, args)\n    DELTA1 = min(DELTA, key=lambda x: x[2])\n    new_spoke_no, new_x0, delta = DELTA1[0], DELTA1[1], DELTA1[2]\n    if delta >= 1.e-5:\n        return -1\n    else:\n        if new_spoke_no != args[-1]:\n            return 1.\n        else:\n            return -1."
      ]
    },
    {
      "cell_type": "markdown",
      "metadata": {},
      "source": [
        "Set the **initial conditions** and the **parameters** for the numerical\nintegration\n\n"
      ]
    },
    {
      "cell_type": "code",
      "execution_count": null,
      "metadata": {
        "collapsed": false
      },
      "outputs": [],
      "source": [
        "#==============================================================================\nellipse = False   # if True, the wheel is drawn as an ellipse, if False,\n# whatever you set it at.\n#==============================================================================\ndef ellipse_radius(a, b, phi):\n    '''\n    this function calculates the radius of the ellipse at the angle phi,\n    measured from the x-axis\n    '''\n    return a * b / np.sqrt((b * np.cos(phi))**2 + (a * np.sin(phi))**2)\n\n# enter the values of the parameters and initial conditions here\nmDmc1 = 1.  # mass of the wheel\n\nmEsp1 = [1. + i/2 for i in range(n)]     # mass of the end points of each spoke\nl1    = [3. - 2*i/n for i in range(n)]   # length of each spoke\nmsp1 = [1. * l1[i] for i in range(n)]    # mass of each spoke\nif ellipse == True:\n    a1 = 2.  # semi-axis of the wheel\n    b1 = 1.  # semi-axis of the wheel2\n    phi = 2 * np.pi / n\n    for i in range(n):\n        l1[i] = ellipse_radius(a1, b1, i * phi)\n\n        msp1[i] = 1./n * l1[i]\n        # Should be zero, but this will cause numerical problems:\n        # The mass matrix will be singular\n        mEsp1[i] = 0.0000001\n\namplitude1 = 1.\nfrequenz1 = 0.75\nreibung1 = 0.\ng1 = 9.81\n\nx01 = 5.\nspoke_no1 = 0\n\nq1 = -np.pi/2.\nu1 =-5.\n\nintervall = 30.\npunkte = 200   # punkte * invervall is the number of points in time\n\n#=======================================================================================================\npL_vals = ([mDmc1] + msp1 + mEsp1 + l1 + [amplitude1, frequenz1, reibung1, g1]\n           + [x01, spoke_no1])\ny0 = [q1, u1]\n\n# check, that only the spoke labelled spoke_no1 touches the street at the\n# beginning\nDELTA = abstand(y0, pL_vals)\n\nfor i, x_coord, delta in DELTA:\n    if delta < 1e-5 and i != spoke_no1:\n        print(f'Spoke {i} touches the street at the beginning, '\n              f'change l1({spoke_no1}) or change x01, or change q1')\n        raise Exception()"
      ]
    },
    {
      "cell_type": "markdown",
      "metadata": {},
      "source": [
        "## Numerical integration\n\n*keyword events in solve_ivp*:\nIn this case an event has happened, if a second contact point was found.\nA function has to be definded (Called it event), such that it returns a\nnegative real value if the even has not happened, and a positive real value\nif it has happened.\nhttps://stackoverflow.com/questions/76233727/scipys-solve-ivp-has-a-keyword-events-my-question-is-regarding-this-keyword?rq=2\n\nIf (as done here, of course), *event.terminal = True*,  solve_ivp stops\nwhen the event has happened and returns the results obtained so far.\nThey are in *ergebnis*.\nThen the new $\\dfrac{d}{dt}q(t)$ for the new inital values, as in general\nthe angular velocity changes *discontinuously* with a new contact point.\n\nNote: if the result of solve_ivp(...) is called resultat,\nthen *resultat.y_events[i][j][k]* holds the value of the k-th coordinate\n(of the result of the integration) when the i-th event has happend for the\n(j+1)-th time. Since I use event_terminal = True, and there is only one\nevent, i = j = 0 in this example\n*resultat.t_events[i][j]* hold the time when the i-th event has happened\nfor the (j+1)-th time.\n\n\n"
      ]
    },
    {
      "cell_type": "code",
      "execution_count": null,
      "metadata": {
        "collapsed": false
      },
      "outputs": [],
      "source": [
        "#==============================================================================\nevent_info    = False    # if True, data related to the occurence of events\n#are printed\n#==============================================================================\n\nschritte = int(intervall * punkte)\ntimes = np.linspace(0, intervall, schritte)\nzaehl_event = 0   # number of calls of the event function\nsprungzeit = []   # list of the times, when the wheel touches the street\nparams = []   # collects nw_x0 and new_spoke_no\n# store the values of spoke_no and x0, used with the previous integration\nold_spoke, old_x0 = pL_vals[-1], pL_vals[-2]\n#==============================================\nevent.terminal = True  # if True, this stops the integration if and when event\n#occurs\n\ndef gradient(t, y, args):\n    vals = np.concatenate((y, args))\n    # select the mass matrix and the forcing vector of the spoke which is\n    # currently touching the street\n    sol = np.linalg.solve(MM_lam(*vals)[args[-1]], force_lam(*vals)[args[-1]])\n    return np.array(sol).T[0]\n\nstarttime  = 0.\nergebnis = []  # partial results of the integration are collected here\nevent_dict = {-1: 'Integration failed', 0: 'Integration finished successfully',\n            1: 'some termination event'}\nfunktionsaufrufe = 0   # number of calls of the rhs of the ode"
      ]
    },
    {
      "cell_type": "markdown",
      "metadata": {},
      "source": [
        "here the 'piecewise' integration starts.\n\n"
      ]
    },
    {
      "cell_type": "code",
      "execution_count": null,
      "metadata": {
        "collapsed": false
      },
      "outputs": [],
      "source": [
        "while starttime < intervall:\n\n    resultat1 = solve_ivp(gradient, (starttime, float(intervall)), y0,\n                          t_eval=times, args=(pL_vals,), events=event,\n                          atol=1.e-7, rtol=1.e-7, max_step=0.01)\n    resultat = resultat1.y.T\n    ergebnis.append(resultat)\n    funktionsaufrufe += resultat1.nfev\n\n    if len(resultat1.y_events[0]) > 0:\n        if event_info is True:\n            print((f'new_x0 = {new_x0:.3f}, new_spoke_no = {new_spoke_no}, '\n                  f'time {resultat1.t_events[0][0]:.3f}, '\n                  f' u = {resultat1.y_events[0][0][1]:.3f}, '\n                  f'q = {resultat1.y_events[0][0][0]:.3f}, '\n                  f'distance of spoke to ground = {delta:.3e}, '\n                  f' shape of resultat: {resultat.shape}'))\n\n        params.append([resultat.shape[0], old_spoke, old_x0])\n        new_u = new_speed(resultat1.y_events[0][0][0],\n                          resultat1.y_events[0][0][1], new_spoke_no, new_x0,\n                          pL_vals)    # get the new speed of the wheel,\n                                      # to keep total energy constant.\n\n        pL_vals[-1] = new_spoke_no\n        pL_vals[-2] = new_x0\n        y0 = [resultat1.y_events[0][0][0], new_u[0]]\n\n        zeit = resultat1.t_events[0][0]\n        sprungzeit.append(zeit)\n        old_spoke, old_x0 = new_spoke_no, new_x0\n\n        starttime = resultat1.t_events[0][0]\n\n        schritte = int((intervall - starttime) * punkte)\n        times = np.linspace(starttime, intervall, schritte)\n\n    # run through the loop once only, if mit_event = False,\n    # or no second contact points\n    else:\n        params.append([resultat.shape[0], old_spoke, old_x0])\n        starttime = intervall\n\nprint('final message is: ', resultat1.message)\n# stack the individual results of the various integrations,\n# to get the complete results.\n\nif zaehl_event > 0:\n    resultat = np.vstack(ergebnis)\nprint((f'the shape of the total result is {resultat.shape}, '\n       f'meaning {resultat.shape[0]:,} points in time were considered, '\n       f'the rhs was called {funktionsaufrufe:,} times.'))\n\n# set these values for the subsequent plots below.\nschritte = resultat.shape[0]\ntimes = np.linspace(0., starttime, schritte)\nprint((f'event was called {zaehl_event}, times and a new contact was '\n       f' encountered {len(sprungzeit):,} times'))"
      ]
    },
    {
      "cell_type": "markdown",
      "metadata": {},
      "source": [
        "Plot the angular velocity\nThe red lines are where a second contact point is detected.\n\n"
      ]
    },
    {
      "cell_type": "code",
      "execution_count": null,
      "metadata": {
        "collapsed": false
      },
      "outputs": [],
      "source": [
        "fig, ax = plt.subplots(1, 1, figsize=(10, 5))\nax.plot(times, resultat[:, 1])\nfor i in range(len(sprungzeit)):\n    ax.axvline(sprungzeit[i], color='red', linestyle='--', lw=0.25)\nax.set_xlabel('time in seconds')\nax.set_ylabel('angular velocity in rad/sec')\n_ = ax.set_title((f'angular velocity of the wheel. \\n The red lines show the '\n                  f' times when a second spoke touches the street'))"
      ]
    },
    {
      "cell_type": "markdown",
      "metadata": {},
      "source": [
        "Plot the energy of the system\n\n"
      ]
    },
    {
      "cell_type": "code",
      "execution_count": null,
      "metadata": {
        "collapsed": false
      },
      "outputs": [],
      "source": [
        "kin_np = np.empty(schritte)\npot_np = np.empty(schritte)\ntotal_np = np.empty(schritte)\n\nzaehler = -1\nfor i in range(len(ergebnis)):\n    value = params[i][1]  # which spoke is touching the street is stored in params\n    x0_value = params[i][2]   # X coordnate where it touches the street\n    laenge = params[i][0]     # length of ergebnis[i]\n\n    pL_vals[-2] = x0_value\n    pL_vals[-1] = value\n\n    for j in range(laenge):\n        zaehler += 1\n        kin_np[zaehler] = kin_lam(ergebnis[i][j, 0], ergebnis[i][j, 1],\n                                  *pL_vals)[value]\n        pot_np[zaehler] = pot_lam(ergebnis[i][j, 0], ergebnis[i][j, 1],\n                                  *pL_vals)[value]\n        total_np[zaehler] = kin_np[zaehler] + pot_np[zaehler]\n\nif reibung1 == 0.:\n    print((f'the deviation ot total energy from being constant is '\n           f'{(np.max(total_np) - np.min(total_np))/np.max(total_np) *100:.2e}'\n           f'  % of max total energy'))\n\nfig, ax = plt.subplots(1, 1, figsize=(10, 5))\nax.plot(times, kin_np, label='kinetic energy')\nax.plot(times, pot_np, label='potential energy')\nax.plot(times, total_np, label='total energy')\nax.set_title(f'Energy of the wheel, friction = {reibung1}')\nax.set_xlabel('time (sec)')\nax.set_ylabel('energy (Joule)')\n_ = ax.legend()"
      ]
    },
    {
      "cell_type": "markdown",
      "metadata": {},
      "source": [
        "## Animation\nReduce the number of points drawn to around *zeitpunkte* otherwise it will\ntake a long time to build the animation.\n\n"
      ]
    },
    {
      "cell_type": "code",
      "execution_count": null,
      "metadata": {
        "collapsed": false
      },
      "outputs": [],
      "source": [
        "zeitpunkte = 500\n\n# find the coordinates of Dmc and DncEsp.\nDmc_np = np.empty((schritte, 2))\nDmcEsp_np = np.empty((schritte, n, 2))\n\nzaehler = -1\nfor i in range(len(ergebnis)):\n    value = params[i][1]   # which spoke is touching the street is stored in params\n    x0_value = params[i][2]   # X coordnate where it touches the street\n    laenge = params[i][0]   # length of ergebnis[i]\n\n    pL_vals[-2] = x0_value\n    pL_vals[-1] = value\n\n    for j in range(laenge):\n        zaehler += 1\n        Dmc_np[zaehler] = Dmc_loc_lam(ergebnis[i][j, 0], ergebnis[i][j, 1],\n                                      *pL_vals)[value]\n        DmcEsp_np[zaehler] = [DmcEsp_loc_lam(ergebnis[i][j, 0],\n                                             ergebnis[i][j, 1],\n                                             *pL_vals)[value][k]\n                              for k in range(n)]\n\n# reduce the number of points of time to around zeitpunkte\ntimes2  = []\nDmc_liste = []\nDmcEsp_liste = []\n\nreduction = max(1, int(len(times)/zeitpunkte))\n\nfor i in range(len(times)):\n    if i % reduction == 0:\n        times2.append(times[i])\n        Dmc_liste.append(Dmc_np[i])\n        DmcEsp_liste.append(DmcEsp_np[i])\n\nschritte2 = len(times2)\nprint(f'animation used {schritte2} points in time')\nDmc_np = np.array(Dmc_liste)\nDmcEsp_np = np.array(DmcEsp_liste)\ntimes2 = np.array(times2)\n\n# needed to give the picture the right size.\nxmin = np.min(DmcEsp_np[:, :, 0]) - 1\nxmax = np.max(DmcEsp_np[:, :, 0]) + 1\nymin = np.min(DmcEsp_np[:, :, 1]) - 1\nymax = np.max(DmcEsp_np[:, :, 1]) + 1\n\n# Data to draw the uneven street\nstrassex = np.linspace(xmin, xmax, schritte2)\nstrassey = [gesamt1_lam(strassex[i], amplitude1, frequenz1)\n            for i in range(schritte2)]\n\n# This is to asign colors of 'plasma' to the spokes\nTest = mp.colors.Normalize(0, n)\nFarbe = mp.cm.ScalarMappable(Test, cmap='plasma')\nfarben = [Farbe.to_rgba(l) for l in range(n)]   # color of the spokes\n\n\nif u1 > 0.:\n    wohin = 'left'\nelse:\n    wohin = 'right'\n\n\ndef init_plot():\n    fig, ax = plt.subplots(figsize=(10, 10), subplot_kw={'aspect': 'equal'})\n\n    ax.axis('on')\n    ax.set_xlim(xmin, xmax)\n    ax.set_ylim(ymin, ymax)\n    ax.plot(strassex, strassey)   # plot the street\n\n    line1, = ax.plot([], [], 'o-', color='black', markersize=10)  # center of the wheel\n    LINE = ['spoke' + str(i) for i in range(n)]    # holds the spokes\n    for i in range(n):\n        LINE[i], = ax.plot([], [], color=farben[i], lw=2.)\n\n    return fig, ax, line1, LINE\n\n\nfig, ax, line1, LINE = init_plot()\n\n\ndef update(i):\n    message = (f'running time {times[i]:.2f} sec \\n Initial speed is '\n               f' {np.abs(u1):.2f} radians/sec to the {wohin}')\n    ax.set_title(message, fontsize=12)\n    ax.set_xlabel('X direction', fontsize=12)\n    ax.set_ylabel('Y direction', fontsize=12)\n\n    line1.set_data([Dmc_np[i, 0]], [Dmc_np[i, 1]])  # update center of the wheel\n    for spoke in range(n):                          # update the spokes\n        LINE[spoke].set_data([Dmc_np[i, 0], DmcEsp_np[i, spoke, 0]],\n                                 [Dmc_np[i, 1], DmcEsp_np[i, spoke, 1]])\n\n    return line1, LINE"
      ]
    },
    {
      "cell_type": "markdown",
      "metadata": {},
      "source": [
        "Create the animation\n\n"
      ]
    },
    {
      "cell_type": "code",
      "execution_count": null,
      "metadata": {
        "collapsed": false
      },
      "outputs": [],
      "source": [
        "fig, ax, line1, LINE = init_plot()\nanim = animation.FuncAnimation(fig, update, frames=schritte2,\n                               interval=1250*np.max(times2) / schritte2)\n\n\nplt.show()"
      ]
    }
  ],
  "metadata": {
    "kernelspec": {
      "display_name": "Python 3",
      "language": "python",
      "name": "python3"
    },
    "language_info": {
      "codemirror_mode": {
        "name": "ipython",
        "version": 3
      },
      "file_extension": ".py",
      "mimetype": "text/x-python",
      "name": "python",
      "nbconvert_exporter": "python",
      "pygments_lexer": "ipython3",
      "version": "3.13.3"
    }
  },
  "nbformat": 4,
  "nbformat_minor": 0
}