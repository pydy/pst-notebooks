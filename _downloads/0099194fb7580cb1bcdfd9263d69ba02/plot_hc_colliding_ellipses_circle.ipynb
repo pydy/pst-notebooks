{
  "cells": [
    {
      "cell_type": "markdown",
      "metadata": {},
      "source": [
        "\n# Colliding Ellipses\n\n## Objectives\n\n- Show how to use Hunt-Crossley's method to model collisions between ellipses\n  and between ellipses and a circular wall.\n- Show how to use Kane's method to get the equations of motion for the system.\n  The forces are the main difficulty.\n- Show a somewhat nontrivial right hand side for ``solve_ivp`` where the\n  distances and speeds have to be calculated numerically for every step of the\n  integration.\n\n## Description\n\n**n** homogenious ellipses, named $Dmc_0....Dmc_{n-1}$ with semi axes\n$a, b$ and mass $m_0$ are sliding frictionlessly on the horizontal\nX/Z plane.\n\nTheir space is limited by a circular wall of radius $R_W$ with center at\nthe origin. An observer, a particle of mass $m_o$ may be attached\nanywhere within each ellipse.\n\nTo model the collisions, I use **Hunt Crossley's method**\n\nThe reference is this article:\n\nhttps://www.sciencedirect.com/science/article/pii/S0094114X23000782 \\\n\nThis is with dissipation during the collision, the general force is given\nin (63) as\n\n$f_n = k_0 \\cdot \\rho + \\chi \\cdot \\dot \\rho$,\n\nwith\n$k_0$ as below,\n\n$\\rho$ the penetration,\n\nand\n\n$\\dot\\rho$ the speed of the penetration.\n\nOf course, $\\rho, \\dot\\rho$ must be the signed magnitudes of the\nrespective vectors.\n\nA more realistic force is given in (64) as:\n\n$f_n = k_0 \\cdot \\rho^n + \\chi \\cdot \\rho^n\\cdot \\dot \\rho$, as this\navoids discontinuity at the moment of impact.\n\nIn the article it is stated, that $n = \\frac{3}{2}$ is a good choice,\nit is derived in Hertz' approach.\n\n**Hunt and Crossley** give this value for $\\chi$, see table 1:\n\n$\\chi = \\dfrac{3}{2} \\cdot(1 - c_\\tau) \\cdot \\dfrac{k_0}{\\dot\n\\rho^{(-)}}$\n\nwhere\n\n$c_\\tau = \\dfrac{v_1^{(+)} - v_2^{(+)}}{v_1^{(-)} - v_2^{(-)}}$,\n\nwhere\n\n$v_i^{(-)}, v_i^{(+)}$ are the speeds of $\\textrm{body}_i$, before\nand after the collosion, see (45), $\\dot\\rho^{(-)}$ is the speed right at\nthe time the impact starts. $c_\\tau$ is an experimental factor,\napparently around 0.8 for steel.\n\nUsing (64), this results in their expression for the force:\n\n$f_n = k_0 \\cdot \\rho^n \\left[1 + \\dfrac{3}{2} \\cdot(1 - c_\\tau) \\cdot\n\\dfrac{\\dot\\rho}{\\dot\\rho^{(-)}}\\right]$\n\nwith\n\n$k_0 = \\frac{4}{3\\cdot(\\sigma_1 + \\sigma_2)} \\cdot \\sqrt{\\frac{R_1\n\\cdot R_2}{R_1 + R_2}}$,\n\nwhere\n\n$\\sigma_i = \\frac{1 - \\nu_i^2}{E_i}$\n\nwith\n\n$\\nu_i$ = Poisson's ratio, $E_i$ = Young's modulus,\n$R_1, R_2$ the radii of the colliding bodies, $\\rho$ the\npenetration depth.\nAll is near equations (54) and (61) of this article.\n\nAs per the article, $n = \\frac{3}{2}$ is always to be used.\n(If I understood correctly, Hertz arrived at this exponent on theoretical\ngrounds)\n\nspring energy = $k_0 \\cdot \\int_{0}^{\\rho} k^{3/2}\\,dk$ =\n$k_0 \\cdot\\frac{2}{5} \\cdot \\rho^{5/2}$\nI assume, the dissipated energy cannot be given in closed form, at least the\narticle does not give one.\n\n## Notes\n\n- $c_\\tau = 1$ gives **Hertz's** solution to the impact problem, also\n  described in the article.\n- From the ellipse's' point of view, the wall is concave. I model this by\n  taking $R_2 = -R_W$.\n  As $max(a, b)| < |R_2|$ this will give no **mathematical** problems.\n  I do not know, whether this approach is physically correct.\n- For more than two ellipses, integration runs a very long time, hours.\n\n**Variables / Parameters**\n\n- $n$ : number of ellipses\n- $q_0...q_{n-1}$: generalized coordinates for the ellipses\n- $u_0...u_{n-1}$: the angular speeds\n- $x_i, z_i$: the coordinates, in the inertial frame $N$, of the\n  center of the i-th ellipse\n- $N$: frame of inertia\n- $P_0$: point fixed in $N$\n- $A_i$: body fixed frame of the i-th ellipse\n- $m_i$: mass of the i-th ellipse\n- $Dmc_i$: center of the i-th ellipse\n- $Po_i$: observer (particle) on i-th ellipse\n- $\\alpha_i, \\beta_i$: distance of observer on i-th ellipse\n- $a, b, R_W$: semi axes of the ellipses, radius of the wall\n- $i_{YY_i}$: moment of inertia of the i-th ellipse\n- $\\text{reibung}$: coefficient of friction between ellipses / between\n  ellipse and wall.\n- $\\nu_e, \\nu_w$: Poison's coefficients of the ellipses / of the wall\n- $EY_e, EY_w$: dto for Young's moduli\n- $c_\\tau$: the experimental constant needed for Hunt-Crossley\n- $rhodt_{max}$: the collision speed between two ellipses, to be\n  determined during integration, needed for Hunt_Crossley\n- $rhodt_{wall}$: the collision speeds when $disc_i$ hits a wall\n- $CPh_i$: contact point of $\\textrm{ellipse_i}$ with the wall\n- $CPhs_i$: point on the ellipse which has had contact with the wall.\n- $|{}^{CPh_i} r^{CPhs_i}|$ is the penetration depth.\n- $CPhe_i$: potential contact points of $\\textrm{ellipse_i}$ with\n  $\\textrm{ellipse_j}$. Penetration depth is\n  $|{}^{CPhe_i} r^{CPhe_j}|$\n- $l_{\\textrm{list}}, le_{\\textrm{list}}$: lists holding the penetration\n  depth of $\\textrm{ellipse_i}$ with the wall / penetration depth of\n  $\\textrm{ellipse_i}$ and $\\textrm{ellipse_j}$.\n- $\\textrm{epsilon}_{\\textrm{list}}, \\textrm{epsilone}_{\\textrm{list}}$:\n  lists holding the angles of the different contact points as discribed in the\n  body fixed frames $A_i$.\n"
      ]
    },
    {
      "cell_type": "code",
      "execution_count": null,
      "metadata": {
        "collapsed": false
      },
      "outputs": [],
      "source": [
        "import sympy.physics.mechanics as me\nimport sympy as sm\nfrom scipy.integrate import solve_ivp\nfrom scipy.optimize import minimize, root\nimport numpy as np\n\nfrom itertools import permutations\nimport matplotlib.pyplot as plt\nfrom matplotlib import animation\nfrom matplotlib import patches\nimport matplotlib as mp\nmp.rcParams['animation.embed_limit'] = 2**126"
      ]
    },
    {
      "cell_type": "markdown",
      "metadata": {},
      "source": [
        "This is needed to exit a loop, when a feasible initial location of the discs\nwithin the limitations of the wall was found.\n\n"
      ]
    },
    {
      "cell_type": "code",
      "execution_count": null,
      "metadata": {
        "collapsed": false
      },
      "outputs": [],
      "source": [
        "class Rausspringen(Exception):\n    pass"
      ]
    },
    {
      "cell_type": "markdown",
      "metadata": {},
      "source": [
        "Set up the geometry.\n\n"
      ]
    },
    {
      "cell_type": "code",
      "execution_count": null,
      "metadata": {
        "collapsed": false
      },
      "outputs": [],
      "source": [
        "n = 2         # n > 1\n\nif isinstance(n, int) is False or n < 2:\n    raise Exception('n must be an integer larger than 1')\n\nq_list = me.dynamicsymbols(f'q:{n}')\nu_list = me.dynamicsymbols(f'u:{n}')\nx_list = me.dynamicsymbols(f'x:{n}')\nz_list = me.dynamicsymbols(f'z:{n}')\nux_list = me.dynamicsymbols(f'ux:{n}')\nuz_list = me.dynamicsymbols(f'uz:{n}')\n\nCPh_list = list(sm.symbols(f'CPh:{n}', cls=me.Point))\nCPhx_list = list(sm.symbols(f'CPhx:{n}'))\nCPhz_list = list(sm.symbols(f'CPhz:{n}'))\n\nCPhs_list = list(sm.symbols(f'CPhs:{n}', cls=me.Point))\nCPhsx_list = list(sm.symbols(f'CPhsx:{n}'))\nCPhsz_list = list(sm.symbols(f'CPhsz:{n}'))\n\nA_list = sm.symbols(f'A:{n}', cls=me.ReferenceFrame)\nDmc_list = sm.symbols(f'Dmc:{n}', cls=me.Point)\nPo_list = sm.symbols(f'Po:{n}', cls=me.Point)\nalpha_list = list(sm.symbols(f'alpha:{n}'))\nbeta_list = list(sm.symbols(f'beta:{n}'))\n\nepsilon_list = list(sm.symbols(f'epsilon:{n}'))\nl_list = list(sm.symbols(f'l:{n}'))\n\nrhodtmax = [sm.symbols(f'rhodtmax{i}{j}')\n            for i, j in permutations(range(n), r=2)]\nle_list = [sm.symbols(f'le{i}{j}')\n           for i, j in permutations(range(n), r=2)]\nepsilone_list = [sm.symbols(f'epsilone{i}{j}, epsilone{j}{i}')\n                 for i, j in permutations(range(n), r=2)]\nrhodtwall = list(sm.symbols(f'rhodtwall:{n}'))\n\nrichtung_list = [sm.symbols(f'richtungx{i}, richtungz{j}')\n                 for i, j in permutations(range(n), r=2)]\n\nt = me.dynamicsymbols._t\n\nm0, mo, iYY, a, b, RW, nue = sm.symbols('m0, mo, iYY, a, b, RW, nue')\nnuw, EYe, EYw, ctau, reibung = sm.symbols('nuw, EYe, EYw, ctau, reibung')\n\nN = me.ReferenceFrame('N')\nP0 = me.Point('P0')\nP0.set_vel(N, 0)\n\nBody1 = []\nBody2 = []\nfor i in range(n):\n    A_list[i].orient_axis(N, q_list[i], N.y)\n    A_list[i].set_ang_vel(N, u_list[i] * N.y)\n\n    Dmc_list[i].set_pos(P0, x_list[i]*N.x + z_list[i]*N.z)\n    Dmc_list[i].set_vel(N, ux_list[i]*N.x + uz_list[i]*N.z)\n\n    Po_list[i].set_pos(Dmc_list[i], a * alpha_list[i] * A_list[i].x + b *\n                       beta_list[i] * A_list[i].z)\n    Po_list[i].v2pt_theory(Dmc_list[i], N, A_list[i])\n\n    Ib = me.inertia(A_list[i], 0, iYY, 0)\n    body = me.RigidBody('body' + str(i), Dmc_list[i], A_list[i], m0,\n                        (Ib, Dmc_list[i]))\n    teil = me.Particle('teil' + str(i), Po_list[i], mo)\n    Body1.append(body)\n    Body2.append(teil)\nBODY = Body1 + Body2"
      ]
    },
    {
      "cell_type": "markdown",
      "metadata": {},
      "source": [
        "**Find the point where the ellipse hits the wall**\n\nIf $CP_h \\in \\textrm{circumference of the ellipse}$ is a potential\ncollision point, then its 'counterpart' $CP_{hs} \\in \\textrm{wall}$\nmust be on the line through $P_0,  CP_h$ where $P_0$ is\nthe center of the circular wall.\nObviously $|{}^{P_0} \\bar r^{CP_{hs}}| = R_W$, the radius of the\ncircular wall.\n\nI try to find the pair $(CP_h , CP_{hs})$, which has the shortest\ndistance from each other.\nThis minimum is essentially [up to points $(q, m_x, m_z) \\in \\\\R^3$ of\nLebesque measure zero] unique- still minimize(..) does not always find it,\nsee below.\nThe $\\nabla$ - method does not work well here. I think, this is so\nbecause the distance does not depend continuously on $(q, m_x, m_z)$.\n\n"
      ]
    },
    {
      "cell_type": "code",
      "execution_count": null,
      "metadata": {
        "collapsed": false
      },
      "outputs": [],
      "source": [
        "lang = sm.symbols('lang')\nCPh = [sm.symbols('CPh' + str(i), cls=me.Point) for i in range(n)]\nCPhs = [sm.symbols('CPhs' + str(i), cls=me.Point) for i in range(n)]\n\n\ndef CPhxe(epsilon):\n    return a * sm.cos(epsilon)\n\n\ndef CPhze(epsilon):\n    return b * sm.sin(epsilon)\n\n\nCPh_list = []\nCPhs_list = []  # just needed for the plot of the initial conditions\n# define CPh\nfor i in range(n):\n    CPh[i].set_pos(Dmc_list[i], CPhxe(epsilon_list[i])*A_list[i].x +\n                   CPhze(epsilon_list[i])*A_list[i].z)\n\n    nhat_hilfs = CPh[i].pos_from(P0).normalize()\n    CPhs[i].set_pos(CPh[i], sm.Abs(lang)*nhat_hilfs)\n\n    CPh_list.append([me.dot(CPh[i].pos_from(P0), uv) for uv in (N.x, N.z)])\n    CPhs_list.append([me.dot(CPhs[i].pos_from(P0), uv) for uv in (N.x, N.z)])\n\n\ndef distanzCPhiwall(i, epsilon):\n    CPh[i].set_pos(Dmc_list[i], CPhxe(epsilon)*A_list[i].x +\n                   CPhze(epsilon)*A_list[i].z)\n\n    # if this is < 0., there is a collision.\n    return RW - CPh[i].pos_from(P0).magnitude()\n\n\n# this function will be minimized during integration to get the distance from\n# ellipse to wall\nabstand = [distanzCPhiwall(i, epsilon_list[i]) for i in range(n)]\nmin_distanzCPhiwall_lam = [sm.lambdify([epsilon_list[i]] + q_list + x_list +\n                                       z_list + [a, b, RW], abstand[i],\n                                       cse=True) for i in range(n)]\n\n# the use of the jacobian with minimize(..) seems to help its accuracy\njakobw = [abstand[i].diff(epsilon_list[i]) for i in range(n)]\njakobw_lam = [sm.lambdify([epsilon_list[i]] + q_list + x_list + z_list +\n                          [a, b, RW], jakobw[i], cse=True) for i in range(n)]\n\n# needed for plotting initial conditions only.\nCPh_list_lam = [sm.lambdify(\n    q_list + x_list + z_list + [a, b, RW, epsilon_list[i]], CPh_list[i],\n    cse=True) for i in range(n)]\nCPhs_list_lam = [sm.lambdify(\n    q_list + x_list + z_list + [a, b, RW, lang, epsilon_list[i]],\n    CPhs_list[i], cse=True) for i in range(n)]"
      ]
    },
    {
      "cell_type": "markdown",
      "metadata": {},
      "source": [
        "**Find the potential collision points of any two ellipses**\n\nThis article gives a method to find the distance between two ellipses.\n\nhttps://www.geometrictools.com/Documentation/DistanceEllipse2Ellipse2.pdf\n\nI did not use it, but did it more or less numerically, see below.\nI assume, that no more than two ellipses collide at the same time. As the\ninitial conditions of the ellipses are set randomly\nProb(three bodies colliding at the same time) $\\approx 0$.\nIn order to get the potential contact points, say, $CPhe_i, CPhe_j$,\nI try to find the minimum distance between any two points on the\ncircumferences on the respective ellipses.\nI do this in two ways:\n\n- calculate the distance between the two ellipses, using the cosine theorem\n- minimize $|{}^{CPhe_i} \\bar r^{CPhe_j}(\\epsilon_i, \\epsilon_j)|$\n  directly, using scipy's minimize function\n- calculate $\\dfrac{d}{d\\epsilon_i} |{}^{CPhe_i} \\bar r^{CPhe_j}\n  (\\epsilon_i,\n  \\epsilon_j)|$ and $\\dfrac{d}{d\\epsilon_j} |{}^{CPhe_i}\n  \\bar r^{CPhe_j}(\\epsilon_i, \\epsilon_j)|$, and solve for $\\epsilon_i,\n  \\epsilon_j$. This is only a **sufficient** condition for a minimum, it\n  could also give a maximum. With the right initial guess, scipy's **root**\n  function should give the minimum. During integration, this seems to be\n  faster than the first option.\n\nStill, when the distance becomes very small,\nI switch to minimize(..), with small tolerance and with the Jacobian. For\nsome reason, the $\\nabla$ method does not work well anymore in this\nsituation.\n\nIf $| {}^{CPhe_i} \\bar r^{CPhe_j} | \\approx 0.$ it becomes numerically\ncritical to get the direction ${}^{CPhe_i} \\bar r^{CPhe_j}$. So, I\nallow the possibility to fix the direction before the distance becomes too\nsmall. See also the comment in the numerical integration.\n\n"
      ]
    },
    {
      "cell_type": "code",
      "execution_count": null,
      "metadata": {
        "collapsed": false
      },
      "outputs": [],
      "source": [
        "def CPhxe(epsilon):\n    return a * sm.cos(epsilon)\n\n\ndef CPhze(epsilon):\n    return b * sm.sin(epsilon)\n\n\ndef vorzeichen(i, j, epsilon1, epsilon2):\n\n    # the idea is this: I calculate the triangle abc, with\n    #\n    # - a := Dmc_i - CPh_i`,\n    # - b := CPhe_j`\n    # - c := Dmc_i.pos_from(Dmc_j).magnitude`\n    #\n    # and get c using the cosine theorem:\n    #\n    # - c^2 = a^2 + b^2 - 2 \\cdot a \\cdot b \\cdot \\cos(\\gamma)`\n    #\n    # while c < Dmc_i.pos_from(Dmc_j).magnitude, the ellipses are separated.\n\n    Pi = me.Point('Pi')\n    Pj = me.Point('Pj')\n    Pi.set_pos(Dmc_list[i], CPhxe(epsilon1)*A_list[i].x +\n               CPhze(epsilon1)*A_list[i].z)\n    Pj.set_pos(Dmc_list[j], CPhxe(epsilon2)*A_list[j].x +\n               CPhze(epsilon2)*A_list[j].z)\n\n    rr = Dmc_list[i].pos_from(Dmc_list[j]).magnitude()\n    r1 = Dmc_list[i].pos_from(Pi)\n    r2 = Dmc_list[j].pos_from(Pj)\n    gamma_cos = (me.dot(r1.normalize(), r2.normalize()))\n    r1 = r1.magnitude()\n    r2 = r2.magnitude()\n    r3 = sm.sqrt(r1**2 + r2**2 - 2. * r1 * r2 * gamma_cos)\n    hilfs1 = rr - r3\n    hilfs2 = sm.Piecewise((-1., hilfs1 <= 0.), (1., hilfs1 > 0.))\n    return hilfs2  # -1., if the ellipses have penetrated\n\n\ndef distanzCPheiCPhej(i, j, epsilon1, epsilon2):\n    P1, P2 = sm.symbols('P1, P2', cls=me.Point)\n    P1.set_pos(Dmc_list[i], CPhxe(epsilon1)*A_list[i].x +\n               CPhze(epsilon1)*A_list[i].z)\n    P2.set_pos(Dmc_list[j], CPhxe(epsilon2)*A_list[j].x +\n               CPhze(epsilon2)*A_list[j].z)\n    vektor = P2.pos_from(P1)\n    return vektor.magnitude() * vorzeichen(i, j, epsilon1, epsilon2)\n\n\ndef richtungCPheiCPhej(i, j, epsilon1, epsilon2):\n    P1, P2 = sm.symbols('P1, P2', cls=me.Point)\n    P1.set_pos(Dmc_list[i], CPhxe(epsilon1)*A_list[i].x +\n               CPhze(epsilon1)*A_list[i].z)\n    P2.set_pos(Dmc_list[j], CPhxe(epsilon2)*A_list[j].x +\n               CPhze(epsilon2)*A_list[j].z)\n    vektor = P2.pos_from(P1).normalize()\n    return [me.dot(vektor, uv) for uv in (N.x, N.z)]\n\n\n# These function will be minimized numerically during integratrion to get the\n# distance from ellipse_i to ellipse_j\n# the jacobina is needed for the distances between the ellipses, if it is\n# very small, minimize does not work well in this case without it.\nmin_distanzCPheiCPhej_lam = []\nmin_distanzCPheiCPhej_lam1 = []\njakob_lam = []\n\nzaehler = -1\nfor i, j in permutations(range(n), r=2):\n    zaehler += 1\n    abstand = distanzCPheiCPhej(i, j, epsilone_list[zaehler][0],\n                                epsilone_list[zaehler][1])\n    abstanddeidej = [abstand.diff(epsilone_list[zaehler][0]),\n                     abstand.diff(epsilone_list[zaehler][1])]\n    jakob = sm.Matrix([abstand.diff(epsilone_list[zaehler][0]),\n                       abstand.diff(epsilone_list[zaehler][1])])\n\n    min_distanzCPheiCPhej_lam.append((sm.lambdify([epsilone_list[zaehler][0],\n                                                   epsilone_list[zaehler][1]] +\n                                                  q_list + x_list + z_list +\n                                                  [a, b], abstand, cse=True)))\n\n    min_distanzCPheiCPhej_lam1.append((sm.lambdify([epsilone_list[zaehler][0],\n                                                    epsilone_list[zaehler][1]]\n                                                   + q_list + x_list + z_list\n                                                   + [a, b], abstanddeidej,\n                                                   cse=True)))\n\n    jakob_lam.append(sm.lambdify(\n        [epsilone_list[zaehler][0], epsilone_list[zaehler][1]] + q_list +\n        x_list + z_list + [a, b], jakob, cse=True))\n\n\nrichtung_lam = []\nzaehler = -1\nfor i, j in permutations(range(n), r=2):\n    zaehler += 1\n    richtungij = richtungCPheiCPhej(i, j, epsilone_list[zaehler][0],\n                                    epsilone_list[zaehler][1])\n    richtung_lam.append((sm.lambdify([epsilone_list[zaehler][0],\n                                      epsilone_list[zaehler][1]] + q_list +\n                                     x_list + z_list + [a, b], richtungij,\n                                     cse=True)))\n\n\n# just needed for plotting initial situation\nepsilonei = sm.symbols('epsilonei')\nCPhe = list(sm.symbols('CPhe' + str(i), cls=me.Point) for i in range(n))\n\nCPhe_list = []\nfor i in range(n):\n    CPhe[i].set_pos(Dmc_list[i], CPhxe(epsilonei)*A_list[i].x +\n                    CPhze(epsilonei)*A_list[i].z)\n    CPhe_list.append([me.dot(CPhe[i].pos_from(P0), uv)\n                      for uv in (N.x, N.z)])\nCPhe_list_lam = sm.lambdify(q_list + x_list + z_list + [a, b, epsilonei],\n                            CPhe_list, cse=True)"
      ]
    },
    {
      "cell_type": "markdown",
      "metadata": {},
      "source": [
        "**Collision force between ellipse and the wall**\n\nI use the Hunt_Crossley model.\nIn the H-C model the radii of the osculating circles of the colliding bodies\nare needed. From the ellipse's point of view, the wall is concave. Hence\nI use $R_2 = -R_W$. I do **not know**, whether this is 'covered' by\nthe theory.\n\nI add a speed dependent frictional force between ellipse and wall. It acts\nin the line of the tangent at the collision point, directed opposite to the\nspeed component in that direction. It is proportional to the magnitude of\nthis speed component and to the magnitude of the impact force.\n\n"
      ]
    },
    {
      "cell_type": "code",
      "execution_count": null,
      "metadata": {
        "collapsed": false
      },
      "outputs": [],
      "source": [
        "# needed in the functions below.\nrhodt_dict = {sm.Derivative(i, t): j\n              for i, j in zip(q_list + x_list + z_list,\n                              u_list + ux_list + uz_list)}\n\n\ndef HC_wall(i, N, A, Dmc, CPh, epsilon, a, b, RW, nue, nuw, EYe, EYw, ctau,\n            reibung, rhodtwall, l):\n\n    # curvature of the ellipse at the point (a*cos(epsilon) / b*sin(epsilon))\n    kappa1 = ((a * b) / (sm.sqrt((a*sm.cos(epsilon))**2 +\n                                 (b*sm.sin(epsilon))**2))**3)\n\n    R1 = 1. / kappa1\n    R2 = -RW\n    sigmae = (1. - nue**2) / EYe\n    sigmaw = (1. - nuw**2) / EYw\n    k0 = 4./3. * 1./(sigmae + sigmaw) * sm.sqrt(R1*R2 / (R1 + R2))\n    nhat = CPh.pos_from(P0).normalize()\n    rhodt = me.dot(CPh.pos_from(P0).diff(t, N), nhat).subs(rhodt_dict)\n    rho = sm.Abs(l) * sm.Heaviside(-l, sm.S(0))\n\n    fHC_betrag = (k0 * rho**(3/2) * (1. + 3./2. * (1. - ctau) * (rhodt) /\n                                     sm.Abs(rhodtwall)))\n    # force is acting on CPh, hence the minus sign.\n    fHC = fHC_betrag * (-nhat) * sm.Heaviside(-l, sm.S(0))\n\n    # friction force on CPh\n    that = nhat.cross(A_list[i].y)\n    vCPh = (me.dot(CPh.pos_from(P0).diff(t, N), that)).subs(rhodt_dict)\n    F_friction = (fHC.magnitude() * reibung * vCPh * (-that) *\n                  sm.Heaviside(-l, sm.S(0)))\n\n    return fHC + F_friction"
      ]
    },
    {
      "cell_type": "markdown",
      "metadata": {},
      "source": [
        "**Collision between any two ellipses**\nI use Hunt-Crossley's method to model it.\nI add a speed dependent frictional force between the ellipses. It acts in\nthe line of the tangent at the collision point, directed opposite to the\nspeed component in that direction. It is proportional to the magnitude of\nthis speed component and to the magnitude of the impact force.\n\nThe H-C method needs the radii of the colliding bodies.\nThis gives the curvature of an ellipse:\n\nhttps://en.wikipedia.org/wiki/Radius_of_curvature\n\n"
      ]
    },
    {
      "cell_type": "code",
      "execution_count": null,
      "metadata": {
        "collapsed": false
      },
      "outputs": [],
      "source": [
        "def HC_ellipse(i, j, epsiloni, epsilonj, l, rhodtellipse, richtungx,\n               richtungz):\n    # this calculates the force of ellipse_i on ellipse_j during their\n    # collision.\n    # i, j are the respective ellipses\n    # epsilone list of angles\n    # l is the distance between ellipse_i and ellipse_j, negative during\n    # penetration\n    # rhodtellipse is the collision speed right before impact.\n\n    # curvature of the ellipse at the point (a*cos(delta) / b*sin(delta))\n    kappa1 = ((a * b) / (((a*sm.cos(epsiloni))**2 +\n                          (b*sm.sin(epsiloni))**2))**(sm.S(3)/2))\n    kappa2 = ((a * b) / (((a*sm.cos(epsilonj))**2 +\n                          (b*sm.sin(epsilonj))**2))**(sm.S(3)/2))\n\n    R1 = 1. / kappa1\n    R2 = 1. / kappa2\n    sigmae = (1. - nue**2) / EYe\n    k0 = 4./3. * 1./(sigmae + sigmae) * sm.sqrt(R1*R2 / (R1 + R2))\n\n    P1, P2 = sm.symbols('P1, P2', cls=me.Point)\n    P1.set_pos(Dmc_list[i], CPhxe(epsiloni)*A_list[i].x +\n               CPhze(epsiloni)*A_list[i].z)\n    P2.set_pos(Dmc_list[j], CPhxe(epsilonj)*A_list[j].x +\n               CPhze(epsilonj)*A_list[j].z)\n\n    vei = P1.pos_from(P0).diff(t, N)\n    vej = P2.pos_from(P0).diff(t, N)\n    # only the speed in direction of the collision is important here\n    # DURING a collision, this points from ellipse_i to ellipse_j.\n    # Note, that richtung was normalized when created.\n    richtung = richtungx*N.x + richtungz*N.z\n    rhodt = me.dot(vei - vej, richtung).subs(rhodt_dict)\n    rho = sm.Abs(l) * sm.Heaviside(-l, sm.S(0))\n\n    fHC_betrag = (k0 * rho**(3/2) * (1. + 3./2. * (1. - ctau) * (rhodt) /\n                                     sm.Abs(rhodtellipse)))\n    fHC = fHC_betrag * richtung * sm.Heaviside(-l, sm.S(0))\n\n    # friction force on CPhej\n    that = richtung.cross(A_list[i].y)\n    vCPhej = (me.dot(vei - vej, that)).subs(rhodt_dict)\n    F_friction = (fHC.magnitude() * (-reibung) * vCPhej * (-that) *\n                  sm.Heaviside(-l, sm.S(0)))\n\n    return fHC + F_friction"
      ]
    },
    {
      "cell_type": "markdown",
      "metadata": {},
      "source": [
        "Set the **force** acting on the system.\n\nI do not do this the most economical way, as I do not consider that\n$\\bar f_{\\textrm{ellipse}_i \\space \\textrm{on} \\space\n\\textrm{ellipse}_j} = -\\bar f_{\\textrm{ellipse}_j \\space \\textrm{on} \\space\n\\textrm{ellipse}_i}$ but it makes the 'book keeping' easier.\n\n"
      ]
    },
    {
      "cell_type": "code",
      "execution_count": null,
      "metadata": {
        "collapsed": false
      },
      "outputs": [],
      "source": [
        "CPhej = list(sm.symbols(f'CPhej:{n}', cls=me.Point))\nFL_wall = []\nfor i in range(n):\n    FL_wall.append((CPh[i], HC_wall(i, N, A_list[i], Dmc_list[i], CPh[i],\n                                    epsilon_list[i], a, b, RW, nue, nuw, EYe,\n                                    EYw, ctau, reibung, rhodtwall[i],\n                                    l_list[i])))\n\nFL_ellipse = []\nzaehler = -1\n\nfor i, j in permutations(range(n), r=2):\n    zaehler += 1\n    CPhej[j].set_pos(Dmc_list[j], CPhxe(epsilone_list[zaehler][1])*A_list[j].x\n                     + CPhze(epsilone_list[zaehler][1])*A_list[j].z)\n    CPhej[j].set_vel(N, (CPhej[j].pos_from(P0).diff(t, N)))\n    FL_ellipse.append((CPhej[j], HC_ellipse(i, j, epsilone_list[zaehler][0],\n                                            epsilone_list[zaehler][1],\n                                            le_list[zaehler],\n                                            rhodtmax[zaehler],\n                                            richtung_list[zaehler][0],\n                                            richtung_list[zaehler][1])))\n\nFL = FL_wall + FL_ellipse"
      ]
    },
    {
      "cell_type": "markdown",
      "metadata": {},
      "source": [
        "**Kane's equations**\n\n"
      ]
    },
    {
      "cell_type": "code",
      "execution_count": null,
      "metadata": {
        "collapsed": false
      },
      "outputs": [],
      "source": [
        "kd = [i - sm.Derivative(j, t)\n      for i, j in zip(u_list + ux_list + uz_list, q_list + x_list + z_list)]\n\nq_ind = q_list + x_list + z_list\nu_ind = u_list + ux_list + uz_list\n\nKM = me.KanesMethod(N, q_ind=q_ind, u_ind=u_ind, kd_eqs=kd)\n(fr, frstar) = KM.kanes_equations(BODY, FL)\n\nMM = KM.mass_matrix_full\nprint('MM DS', me.find_dynamicsymbols(MM))\nprint('MM free symbols', MM.free_symbols)\nprint(f'MM contains {sm.count_ops(MM):,} operations')\n\n\nforce = KM.forcing_full\nprint('force DS', me.find_dynamicsymbols(force))\nprint('force free symbols', force.free_symbols)\na123 = sm.count_ops(force)\nb123 = sm. count_ops(sm.cse(force))\nprint(f'force contains {a123:,} operations.')"
      ]
    },
    {
      "cell_type": "markdown",
      "metadata": {},
      "source": [
        "Here various **functions** are defined, which are needed later.\n\n- *rhomax_list*: It is used during integration to calculate the speeds just\n  before impact between $\\textrm{ellipse}_j$ and\n  $\\textrm{ellipse}_i$, $0 \\le i, j \\le n-1$, $i \\neq j$\n- *rhowall_list*: It is used during integration to calculate the speeds just\n  before impact between $\\textrm{ellipse}_i$ and the wall.\n- *Po_pos*: Holds the locations of each observer.\n- *Dmc_distanz*: Holds the distance between the centers of\n  $\\textrm{ellipse}_j$ and $\\textrm{ellipse}_i$,\n  $0 \\le i, j \\le n-1, i \\neq j$. Needed for initial conditions.\n- *kinetic_energie*: calculates the kinetic energy of the bodies and\n  particles.\n- *spring_energie*: calculates the spring energy of the colliding bodies.\n\n"
      ]
    },
    {
      "cell_type": "code",
      "execution_count": null,
      "metadata": {
        "collapsed": false
      },
      "outputs": [],
      "source": [
        "derivative_dict = {sm.Derivative(i, t): j\n                   for i, j in zip(q_list + x_list + z_list,\n                                   u_list + ux_list + uz_list)}\n\nrhodtwall_list = []\nfor i in range(n):\n    richtung = CPh[i].pos_from(P0).normalize()\n    rhodt = me.msubs(me.dot(CPh[i].pos_from(P0).diff(t, N), richtung),\n                     derivative_dict)\n    rhodtwall_list.append(rhodt)\n\n# collision speed between ellipse_i and ellipse_j right brfore impact.\n# it is the speed with which ellipse_i hits ellipse_j\nzaehler = -1\nrhodtmax_list = []\nfor i, j in permutations(range(n), r=2):\n    zaehler += 1\n    vei = (CPhe[i].pos_from(P0).diff(t, N).subs(derivative_dict).\n           subs({epsilonei: epsilone_list[zaehler][0]}))\n    vej = (CPhe[j].pos_from(P0).diff(t, N).subs(derivative_dict).\n           subs({epsilonei: epsilone_list[zaehler][1]}))\n\n    # only the speed in direction of the collision is important here\n    richtung = (richtung_list[zaehler][0] * N.x +\n                richtung_list[zaehler][1] * N.z)\n    rhodtmax_list.append(me.msubs(me.dot(vei - vej, richtung),\n                                  derivative_dict))\n\nPo_pos = [[me.dot(Po_list[i].pos_from(P0), uv) for uv in (N.x, N.z)]\n          for i in range(n)]\n\nkin_energie = sum([body.kinetic_energy(N) for body in BODY])\n\nspring_energie = 0.\n# 1. collisions of ellipses\nzaehler = -1\nfor i, j in permutations(range(n), r=2):\n    zaehler += 1\n    kappa1 = ((a * b) / (sm.sqrt((a*sm.cos(epsilone_list[zaehler][0]))**2 +\n                                 (b*sm.sin(epsilone_list[zaehler][0]))**2))**3)\n    kappa2 = ((a * b) / (sm.sqrt((a*sm.cos(epsilone_list[zaehler][1]))**2 +\n                                 (b*sm.sin(epsilone_list[zaehler][1]))**2))**3)\n    R1 = 1. / kappa1\n    R2 = 1. / kappa2\n    sigmae = (1. - nue**2) / EYe\n    k0 = 4./3. * 1./(sigmae + sigmae) * sm.sqrt(R1*R2 / (R1 + R2))\n\n    rho = sm.Abs(le_list[zaehler])\n    rho = rho**(5/2)\n\n    # the factor 0.5 is needed, as I consider each energy twice.\n    spring_energie += ((k0 * 2./5. * rho *\n                        sm.Heaviside(-le_list[zaehler], 0.)) * 0.5)\n\n# 2. Collision of ellipse with the wall\nfor i in range(n):\n    kappa1 = ((a * b) / (sm.sqrt((a*sm.cos(epsilon_list[i]))**2 +\n                                 (b*sm.sin(epsilon_list[i]))**2))**3)\n    R1 = 1. / kappa1\n    R2 = -RW\n    sigmae = (1. - nue**2) / EYe\n    sigmaw = (1. - nuw**2) / EYw\n    k0 = 4./3. * 1./(sigmae + sigmaw) * sm.sqrt(R1*R2 / (R1 + R2))\n    rho = sm.Abs(l_list[i])**(5/2)\n    spring_energie += k0 * 2./5. * rho * sm.Heaviside(-l_list[i], 0.)\n\n# Needed only for the initial conditions\nDmc_distanz = [Dmc_list[i].pos_from(Dmc_list[j]).magnitude()\n               for i, j in permutations(range(n), r=2)]"
      ]
    },
    {
      "cell_type": "markdown",
      "metadata": {},
      "source": [
        "**Lambdification**\n\n"
      ]
    },
    {
      "cell_type": "code",
      "execution_count": null,
      "metadata": {
        "collapsed": false
      },
      "outputs": [],
      "source": [
        "qL = q_ind + u_ind\npL = ([m0, mo, iYY, a, b, RW, nue, nuw, EYe, EYw, ctau, reibung] + l_list +\n      le_list + epsilon_list + epsilone_list + alpha_list + beta_list +\n      rhodtwall + rhodtmax + richtung_list)\n\npL1 = ([m0, mo, iYY, a, b, RW, nue, nuw, EYe, EYw, ctau, reibung] + l_list +\n       le_list + epsilon_list + epsilone_list)\n\npL2 = ([m0, mo, iYY, a, b, RW, nue, nuw, EYe, EYw, ctau, reibung] +\n       alpha_list + beta_list)\n\npL3 = ([m0, mo, iYY, a, b, RW, nue, nuw, EYe, EYw, ctau, reibung] + l_list +\n       epsilon_list + le_list + epsilone_list)\n\npL4 = ([m0, mo, iYY, a, b, RW, nue, nuw, EYe, EYw, ctau, reibung] + l_list +\n       epsilon_list)\n\nMM_lam = sm.lambdify(qL + pL, MM, cse=True)\nforce_lam = sm.lambdify(qL + pL, force, cse=True)\n\nrhodtwall_lam = (sm.lambdify(qL + pL, rhodtwall_list, cse=True))\nrhodtmax_list_lam = (sm.lambdify(qL + pL, rhodtmax_list, cse=True))\n\nPo_pos_lam = sm.lambdify(q_list + x_list + z_list + alpha_list +\n                         beta_list + [a, b], Po_pos, cse=True)\n\nkin_lam = sm.lambdify(qL + pL2, kin_energie, cse=True)\nspring_lam = sm.lambdify(qL + pL3, spring_energie, cse=True)\n\nDmc_distanz_lam = sm.lambdify(x_list + z_list, Dmc_distanz, cse=True)"
      ]
    },
    {
      "cell_type": "markdown",
      "metadata": {},
      "source": [
        "**Set initial conditions and parameters**\n\n1.\n\nThe ellipses are randomly placed within the wall, such that they have a\ndistance of at least $r_0$ from the walls, and they have a distance of\nat least $r_0$ from one another. If this cannot be found after\n200 trials an exception is raised. As soon as a good placement is found,\nthe loop is left.\nDoing this, I consider the ellipses to be discs, with\n$r_0 = \\max(a_1, b_1)$. This is 'on the safe side', so to speak.\n\n2.\n\nAssign random generalized speeds to each ellipse,\nin the range [-5., 5.] for each component.\n\n3.\n\nAssign arbitray non zero values to rhodtmax and rhowall. They will be\noverwritten during the integration and (hopefully) filled with the\ncorrect values.\n\n"
      ]
    },
    {
      "cell_type": "code",
      "execution_count": null,
      "metadata": {
        "collapsed": false
      },
      "outputs": [],
      "source": [
        "# Input variables\nm01 = 1.         # mass of a pendulum\nmo1 = 1.         # mass of the observer\na1 = 2.          # semi axis of ellipses\nb1 = 1.          # dto.\nRW1 = 6.5        # radius of wall\nnue1 = 0.28      # Poisson's number of ellipse\nnuw1 = 0.28      # dto. for wall\nEYe1 = 1.e7      # Young's modulus for ellipse\nEYw1 = 1.e7      # dto. for wall\nctau1 = 0.975    # experimerntal constant needed for H-C's method\nreibung1 = 0.01  # friction between ellipses / between ellipses and the wall\n\nnp.random.seed(123456)\n# initial angle of the ellipses\nq_list1 = [*np.random.choice(np.linspace(-np.pi, np.pi, 100), size=n)]\n\nalpha_list1 = [0.5 for _ in range(len(alpha_list))]  # location of observer\nbeta_list1 = [0.5 for _ in range(len(beta_list))]   # dto.\n\n# initial speed of center of the ellipse in X, Z directions\nux_list1 = list(4. * np.random.choice(np.linspace(-5., 5., 100), size=n))\nuz_list1 = list(4. * np.random.choice(np.linspace(-5., 5., 100), size=n))\n\n# initial rotationmal speed\nu_list1 = list(3.*np.random.choice(np.linspace(-5., 5., 100),\n                                   size=len(q_list)))\n\n# initial walues of no consequence, anything will do.\nrhodtwall1 = [1. + k for k in range(n)]\nrhodtmax1 = [1. for _ in range(n*(n-1))]\nrichtung_list1 = [(1., 0.) for _ in range(n*(n-1))]\n\n# Moment of inertia of the ellipses\niYY1 = 0.25 * m01 * (a1**2 + b1**2)\n\n# 1. randomly place the ellipses as described above\nzaehler = 0\nr01 = max(a1, b1)\nwhile zaehler <= 10000:\n    zaehler += 1\n    try:\n        x_listen = []\n        z_listen = []\n        for i in range(n):\n            x_listen.append(np.random.choice(np.linspace(-RW1 + 2.*r01, RW1 -\n                                                         2.0 * r01, 100)))\n            z_listen.append(np.random.choice(\n                np.linspace(-np.sqrt(RW1**2 - x_listen[-1]**2) + 2.*r01,\n                            np.sqrt(RW1**2 - x_listen[-1]**2) - 2.*r01, 100)))\n        test = np.all(np.array(Dmc_distanz_lam(*x_listen, *z_listen)) -\n                      3.*r01 > 0.)\n        x_list1 = x_listen\n        z_list1 = z_listen\n\n        if test:\n            raise Rausspringen\n    except Rausspringen:\n        break\n\nif zaehler <= 200:\n    print(f'it took {zaehler} rounds to get valid initial conditions')\nelse:\n    raise Exception(('no good location for ellipses found, make RW1 larger, '\n                     'or try again.'))\n\n# make a plot of the initial situation\nfig, ax = plt.subplots(figsize=(10, 10))\nax.set_aspect('equal')\ntheta = np.linspace(0., 2.*np.pi, 200)\naa = RW1 * np.sin(theta)\nbb = RW1 * np.cos(theta)\nax.plot(aa, bb, linewidth=2)\nax.plot(0., 0., marker='x', color='black')\n\n# This is to asign colors of 'plasma' to the ellipses.\nTest = mp.colors.Normalize(0, n)\nFarbe = mp.cm.ScalarMappable(Test, cmap='plasma')\n# color of the starting position\nfarben = [Farbe.to_rgba(l1) for l1 in range(n)]\n\n# intermediate storage, used to set the initial conditions when the\n# integration starts, also for plot of the initial conditions\nl_hilfs = []\nepsilon_hilfs = []\nTEST1 = []\n\n\n# Just to adapt the arguments so they fit minimize\ndef funcw(x0, args):\n    return min_distanzCPhiwall_lam[kk](*x0, *args)\n\n\ndef funce(x0, args):\n    return min_distanzCPheiCPhej_lam[zaehler](*x0, *args)\n\n\ndef func_jakobw0(x0, args1):\n    return jakobw_lam[kk](*x0, *args1)\n\n\ndef func_jakob0(x0, args1):\n    return jakob_lam[zaehler](*x0, *args1).reshape(2)\n\n\n# get the closest distance between ellipse and wall\nfor kk in range(n):\n    x0 = 1.\n    args1 = q_list1 + x_list1 + z_list1 + [a1, b1, RW1]\n    epsilon_min = minimize(funcw, x0, args1, jac=func_jakobw0, tol=1.e-16)\n    min_eps = (epsilon_min.x % (2.*np.pi))\n    ll_min = funcw(min_eps, args1)\n    TEST1.append((ll_min, kk, min_eps[0]))\n    l_hilfs.append(ll_min)\n    epsilon_hilfs.append(min_eps[0])\n\n    elli = patches.Ellipse((x_list1[kk], z_list1[kk]), width=2.*a1,\n                           height=2.*b1, angle=-np.rad2deg(q_list1[kk]),\n                           zorder=1, fill=True, color=farben[kk], ec='black')\n    ax.add_patch(elli)\n    weite = 10.\n    ax.plot(x_list1[kk], z_list1[kk], color='yellow', marker='o', markersize=2)\n    ax.plot(Po_pos_lam(*q_list1, *x_list1, *z_list1, *alpha_list1,\n                       *beta_list1, a1, b1)[kk][0],\n            Po_pos_lam(*q_list1, *x_list1, *z_list1, *alpha_list1,\n                       *beta_list1, a1, b1)[kk][1], color='white', marker='o',\n            markersize=5)\n    ax.set_title(('Potential contact points \\n The red arrows give '\n                  'the relative initial speeds \\n The white dots are the '\n                  'particles'))\n\nfor kk in range(len(TEST1)):\n    koerper1 = TEST1[kk][1]\n    epsilon1 = TEST1[kk][2]\n    laenge = TEST1[kk][0]\n    x11 = CPh_list_lam[koerper1](*q_list1, *x_list1, *z_list1, a1, b1, RW1,\n                                 epsilon1)[0]\n    x12 = CPhs_list_lam[koerper1](*q_list1, *x_list1, *z_list1, a1, b1, RW1,\n                                  laenge, epsilon1)[0]\n    z11 = CPh_list_lam[koerper1](*q_list1, *x_list1, *z_list1, a1, b1, RW1,\n                                 epsilon1)[1]\n    z12 = CPhs_list_lam[koerper1](*q_list1, *x_list1, *z_list1, a1, b1, RW1,\n                                  laenge, epsilon1)[1]\n\n    ax.plot([x11, x12], [z11, z12], color=farben[koerper1], linestyle='-')\n\n\n# find possible collision points between the ellipses\nzaehler = -1\nTEST3 = []\nle_hilfs = []\nepsilone_hilfs = []\n\nfor i, j in permutations(range(n), r=2):\n    zaehler += 1\n    x0 = (1., 1.)  # initial guess\n    args1 = q_list1 + x_list1 + z_list1 + [a1, b1]\n    epsilon_min = minimize(funce, x0, args1, jac=func_jakob0, tol=1.e-16)\n    min_eps = epsilon_min.x % (2.*np.pi)\n    ll_min = funce(min_eps, args1)\n    TEST3.append([ll_min, i, j, min_eps[0], min_eps[1], zaehler])\n    le_hilfs.append(ll_min)\n    epsilone_hilfs.append((min_eps[0], min_eps[1]))\n\nfor kk in range(len(TEST3)):\n    koerper1 = TEST3[kk][1]\n    koerper2 = TEST3[kk][2]\n    epsilon1 = TEST3[kk][3]\n    epsilon2 = TEST3[kk][4]\n    x11 = CPhe_list_lam(*q_list1, *x_list1, *z_list1, a1, b1,\n                        epsilon1)[koerper1][0]\n    x12 = CPhe_list_lam(*q_list1, *x_list1, *z_list1, a1, b1,\n                        epsilon2)[koerper2][0]\n    z11 = CPhe_list_lam(*q_list1, *x_list1, *z_list1, a1, b1,\n                        epsilon1)[koerper1][1]\n    z12 = CPhe_list_lam(*q_list1, *x_list1, *z_list1, a1, b1,\n                        epsilon2)[koerper2][1]\n\n    ax.plot([x11, x12], [z11, z12], color=farben[koerper1], linestyle='dotted')\n\n# plot the initial speeds\nux_np = np.array(ux_list1)\nuz_np = np.array(uz_list1)\nu_np = np.array(u_list1)\n# normalize the initial speed arrows.\ngroesse = max(np.max(np.abs(ux_np)), np.max(np.abs(uz_np)))\nif np.abs(groesse) < 1.e-5:\n    groesse = 1.\n\n# If I do not multiply with max(a1, b1) the arrows are too short to be\n# seen properly\nux_np = ux_np/groesse * 2. * max(a1, b1)\nuz_np = uz_np/groesse * 2. * max(a1, b1)\nu_np = u_np / np.max(np.abs(u_np))\n\n# plot the linear speed arrows\nstyle = \"Simple, tail_width=0.5, head_width=4, head_length=8\"\nkw = dict(arrowstyle=style, color=\"red\")\nfor i in range(n):\n    a11 = patches.FancyArrowPatch(\n        (x_list1[i], z_list1[i]), (x_list1[i] + ux_np[i], z_list1[i] +\n                                   uz_np[i]), **kw)\n    ax.add_patch(a11)\n\n# plot the curved arrows for the rotational speed\nfor j, i in enumerate(u_np):\n    farbe = 'red'\n    if i >= 0.:\n        zeit = np.linspace(0., i * 1.9 * np.pi, 100)\n        xk = 1.5 * b1 * np.cos(zeit) + x_list1[j]\n        zk = 1.5 * b1 * np.sin(zeit) + z_list1[j]\n        ax.plot(xk, zk, color=farbe)\n        ax.arrow(xk[0], zk[0], xk[0] - xk[1], zk[0] - zk[1], shape='full',\n                 lw=0.5, length_includes_head=True, head_width=0.25,\n                 color=farbe)\n    else:\n        zeit = np.linspace(2.*np.pi, (1+i) * 1.9 * np.pi, 100)\n        xk = 1.5 * b1 * np.cos(zeit) + x_list1[j]\n        zk = 1.5 * b1 * np.sin(zeit) + z_list1[j]\n        ax.plot(xk, zk, color=farbe)\n        ax.arrow(xk[0], zk[0], xk[0] - xk[1], zk[0] - zk[1], shape='full',\n                 lw=0.5, length_includes_head=True, head_width=0.25,\n                 color=farbe)"
      ]
    },
    {
      "cell_type": "markdown",
      "metadata": {},
      "source": [
        "**Numerical integration**\n\nThe integration seems 'tricky':\n\nFor the minimum distance between ellipses I switch the methods depending on\nthe distance:\n\n- If the distance is very small, or negative, I minimize\n  $\\textrm{distance}(\\epsilon_i, \\epsilon_j, \\textrm{parameters}) =\n  |{}^{CPhe_i}\n  \\bar r^{CPhe_j}(\\epsilon_i, \\epsilon_j)|$  This seems to work better in\n  this case than the $\\nabla$ method, wqhich actually fails quite\n  often. However, without the jacobian, minimize(..) did not work well\n  at all.\n- If the distance is large, I use\n  $\\nabla_{\\epsilon_i, \\epsilon_j} distance(\\epsilon_i, \\epsilon_j,\n  parameters) = 0$ to get $\\epsilon_i, \\epsilon_j$. However this is\n  only a *necessary* condition, and it will only converge to a minimum,\n  if the initial guess is close to the minimum. As in this case, the minimum\n  distance depends **continuously** on the motion of the ellipses, this seems\n  to work fine if the distances are large.\n- the cut-off between the methods is 0.0002.\n\nIn the case of the minimum distance between ellipse and wall, it does **not**\ndepend continuously on the motion of the ellipse, hence I use\n*scipy's minimize()* here. I believe, this is slow and 'inaccurate' - and\ndoes not always find the minimum, as can be seen from the plots.\nI think, this 'inaccuracy', and possibly a non continuous dependency of the\nresult on the parameters send the simulation on a 'wild goose chase' when\nsolve_ivp tries to improve the accuracy by going back/forth in time and\nchanging the step size.\n(I came up with this 'explanation', since *Radau*, which normally works very\nwell with my simulations, did not work well at all here.)\n\n\nAs my numerous trials indicated, this integration is very susceptible to\ninitial conditions and parameters. For example\n(reibung = friction in German):\n\n- with reibung1 = 0.25 max_step = $10^{-4}$ works fine.\n- with reibung1 = 0.30, I had to use max_step = $10^{-5}$ to make it\n  work.\n\n"
      ]
    },
    {
      "cell_type": "code",
      "execution_count": null,
      "metadata": {
        "collapsed": false
      },
      "outputs": [],
      "source": [
        "intervall = 10.0  # time interval for the integration\nschritte = 1000\nmax_step = 0.0001\n\n# Adapt the arguments so they fit minimize.\n\n\ndef funcw1(x0, args):\n    kk = args[-1]\n    args1 = [args[i] for i in range(len(args)-1)]\n    return min_distanzCPhiwall_lam[kk](*x0, *args1)\n\n\ndef func_jakobw(x0, args):\n    kk = args[-1]\n    args1 = [args[i] for i in range(len(args)-1)]\n    return jakobw_lam[kk](*x0, *args1)\n\n\ndef funce1(x0, args):\n    zaehler = args[-1]\n    args1 = [args[i] for i in range(len(args)-1)]\n    return min_distanzCPheiCPhej_lam[zaehler](*x0, *args1)\n\n\ndef funce1_abs(x0, args):\n    zaehler = args[-1]\n    args1 = [args[i] for i in range(len(args)-1)]\n    return abs(min_distanzCPheiCPhej_lam[zaehler](*x0, *args1))\n\n\ndef funce1didj(x0, args):\n    zaehler = args[-1]\n    args1 = [args[i] for i in range(len(args)-1)]\n    return min_distanzCPheiCPhej_lam1[zaehler](*x0, *args1)\n\n\ndef func_jakob1(x0, args):\n    zaehler = args[-1]\n    args1 = [args[i] for i in range(len(args)-1)]\n    return jakob_lam[zaehler](*x0, *args1).reshape(2)\n\n\n# transfer the starting values from the previous cell\nl_list1 = l_hilfs\nepsilon_list1 = epsilon_hilfs\nle_list1 = le_hilfs\nepsilone_list1 = epsilone_hilfs\n\ny0 = q_list1 + x_list1 + z_list1 + u_list1 + ux_list1 + uz_list1\npL_vals = ([m01, mo1, iYY1, a1, b1, RW1, nue1, nuw1, EYe1, EYw1, ctau1,\n            reibung1] + l_list1 + le_list1 + epsilon_list1 + epsilone_list1 +\n           alpha_list1 + beta_list1 + rhodtwall1 + rhodtmax1 + richtung_list1)\n\npL1_vals = [m01, mo1, iYY1, a1, b1, RW1, nue1, nuw1, EYe1, EYw1, ctau1,\n            reibung1] + l_list1 + le_list1 + epsilon_list1 + epsilone_list1\n\npL2_vals = [m01, mo1, iYY1, a1, b1, RW1, nue1, nuw1, EYe1, EYw1, ctau1,\n            reibung1] + alpha_list1 + beta_list1\n\nprint('starting parameters')\nfor i, j in zip(pL, pL_vals):\n    print(f'{str(i):<25} = {j}')\nprint('\\n')\n\ntimes = np.linspace(0, intervall, int(schritte*intervall))\n\n# needed for the energies further down\nLAENGEe = []\nzeit = []\nellipsee = []\n\nLAENGEw = []\nzeitw = []\nellipsew = []\n\n\ndef gradient(t, y, args):\n    # find the distance of the ellipses from the wall. and also find rhodtwall\n    LAENGEw1 = []\n    ellipsew1 = []\n    for kk in range(n):\n        x0 = args[12 + n + n*(n-1) + kk]\n\n        args1 = [y[i] for i in range(3*n)] + [a1, b1, RW1] + [kk]\n        if args[12 + kk] < 0.0002:\n            tol1 = 1.e-16\n        else:\n            tol1 = 1.e-10\n        epsilon_min = minimize(funcw1, x0, args1, jac=func_jakobw, tol=tol1)\n        min_eps = epsilon_min.x % (2.*np.pi)\n        ll_min = funcw1(min_eps, args1)\n        args[12 + kk] = ll_min\n        args[12 + n + n*(n-1) + kk] = min_eps[0]\n        LAENGEw1.append(ll_min)\n        ellipsew1.append(min_eps)\n\n        if 0. <= ll_min <= 0.1:\n            args[12 + 4*n + 2*n*(n-1) + kk] = rhodtwall_lam(*y, *args)[kk]\n\n    LAENGEw.append(LAENGEw1)\n    ellipsew.append(ellipsew1)\n    zeitw.append(t)\n\n    # find possible collision points between the ellipses, and also find\n    # rhodtmax\n    zaehler = -1\n    LAENGEe1 = []\n    ellipsee1 = []\n    for _ in range(n*(n-1)):\n        zaehler += 1\n        x0 = args[12 + n + n*(n-1) + n + zaehler]  # initial guess\n        args1 = [y[ij] for ij in range(3*n)] + [a1, b1] + [zaehler]\n\n    # if the ellipses are very close to each other, I switch to minimize:\n    #\n    # - as this does not happen often, it does not slow down the simulation too\n    #   much\n    # - if the distances are very small, this seems better than the gradient\n    #   method - which is faster\n    # - without the jacobian it did not work.\n    #\n    # Note, that I niminize the 'unsigned' distance\n        if args[12 + n + zaehler] <= 0.0002:\n            epsilon_min = minimize(funce1_abs, x0, args1, jac=func_jakob1,\n                                   tol=1.e-16)\n        else:\n            epsilon_min = root(funce1didj, x0, args1)\n\n        min_eps = epsilon_min.x % (2.*np.pi)\n        ll_min = funce1(min_eps, args1)\n\n        LAENGEe1.append(ll_min)\n        ellipsee1.append((min_eps[0], min_eps[1]))\n\n        args[12 + n + zaehler] = ll_min\n        args[12 + n + n*(n-1) + n + zaehler] = (min_eps[0], min_eps[1])\n\n        if 0. <= ll_min <= 0.01:\n            rhodteiej = rhodtmax_list_lam(*y, *args)[zaehler]\n            args[12 + 5*n + 2*n*(n-1) + zaehler] = rhodteiej\n\n    # If the distance between the contact points becomes very small,\n    # calculating the direction CPhe_i.pos_from(CPhej) seems to become\n    # numerically difficult. This allows me to fix the direction once\n    # the distance is small. Of course, mechanically speaking not correct,\n    # but since the intervall of 'incorrect directions is very small,\n    # it should not matter too much.\n        args_hilfs = [args[12 + n + n*(n-1) + n + zaehler][0],\n                      args[12 + n + n*(n-1) + n + zaehler][1],\n                      *[y[i] for i in range(3*n)], a1, b1]\n        if ll_min >= 1.e-12:\n            args[12 + 5*n + 3*n*(n-1) + zaehler] = richtung_lam[\n                zaehler](*args_hilfs)\n    # After penetration, the direction has to be reversed to ensure that the\n    # contact is the force of ellipse_i on ellipse_j\n        elif ll_min < -1.e-12:\n            args[12 + 5*n + 3*n*(n-1) + zaehler] = [-richtung_lam[zaehler]\n                                                    (*args_hilfs)[0],\n                                                    -richtung_lam[zaehler]\n                                                    (*args_hilfs)[1]]\n        else:\n            pass\n    LAENGEe.append(LAENGEe1)\n    zeit.append(t)\n    ellipsee.append(ellipsee1)\n\n    sol = np.linalg.solve(MM_lam(*y, *args), force_lam(*y, *args))\n    return np.array(sol).T[0]\n\n\nresultat1 = solve_ivp(gradient, (0., float(intervall)), y0, args=(pL_vals,),\n                      t_eval=times, max_step=max_step)\n\nresultat = resultat1.y.T\n\nprint(resultat1.message)\n\nprint((f'to calculate an intervall of {intervall:.2f} sec '\n       f'it made {resultat1.nfev:,} function calls'))\nprint('shape of resultat', resultat.shape)"
      ]
    },
    {
      "cell_type": "markdown",
      "metadata": {},
      "source": [
        "Plot any **coordinates** you want to see.\n\n"
      ]
    },
    {
      "cell_type": "code",
      "execution_count": null,
      "metadata": {
        "collapsed": false
      },
      "outputs": [],
      "source": [
        "N2 = 1000\n\nN1 = max(1, int(resultat.shape[0] / N2))\ntimes1 = []\nresultat1 = []\nfor i in range(resultat.shape[0]):\n    if i % N1 == 0:\n        times1.append(times[i])\n        resultat1.append(resultat[i])\nresultat1 = np.array(resultat1)\ntimes1 = np.array(times1)\n\nbezeichnung = (['q' + str(i) for i in range(n)] +\n               ['x' + str(i) for i in range(n)] +\n               ['z' + str(i) for i in range(n)] +\n               ['u' + str(i) for i in range(n)] +\n               ['ux' + str(i) for i in range(n)] +\n               ['uz' + str(i) for i in range(n)])\n\nfig, ax = plt.subplots(figsize=(10, 5))\nfor i in range(1*n, 3*n):\n    label = 'gen. coord. ' + str(i)\n    ax.plot(times1, resultat1[:, i], label=bezeichnung[i])\nax.set_title('Generalized coordinates')\nax.set_xlabel('time (sec)')\nax.set_ylabel('units of whichever coordinates are chosen')\n_ = ax.legend()"
      ]
    },
    {
      "cell_type": "markdown",
      "metadata": {},
      "source": [
        "Plot the **energies** of the system.\n\nIf $c_{\\tau} < 1$ or $reibung \\neq 0$, the total energy should\ndrop monotonically. This is due to the Hunt-Crossley prescription of the\nforces during a collision, due to friction during the collisions\nrespectively.\n\nWith $c_{\\tau} = 1$ and $reibung = 0$, the energy is **not**\nconstant when two ellipses collide. I do not know, whether there is an error\nin my program, or whether it is related to the 'tricky' integration.\nWith larger $EY_e$, this error seems to drop.\nI think, the peaks in the total energy show that I do not catch the correct\ntimings when I plot them. I think so, because the kinetic energy does drop\nas expected.\n\n"
      ]
    },
    {
      "cell_type": "code",
      "execution_count": null,
      "metadata": {
        "collapsed": false
      },
      "outputs": [],
      "source": [
        "schritte = resultat.shape[0]\nkin_np = np.empty(schritte)\nspring_np = np.empty(schritte)\ntotal_np = np.empty(schritte)\n\n# find the distance of the ellipses from the wall\n# find the distances between ellipse\n# I try to match the values collected in the integration closely to the times\n# given back by the integration.\n# argumentw will hold the positions, where this is the case.\nargumentw = [0]\nzeitw = np.array(zeitw)\nfor zeit1 in times[: -1]:\n    start = argumentw[-1]\n    start1 = np.min(np.argwhere(zeitw >= zeit1))\n    argumentw.append(start1)\nif len(argumentw) != len(times):\n    raise Exception('Something went wrong')\n\nlaengew1 = []\nelliw1 = []\nfor index in argumentw:\n    laengew1.append(LAENGEw[index])\n    elliw1.append(ellipsew[index])\n\n# find the distances between ellipse\n# I try to match the values collected in the integration closely to the times\n# given back by the integration.\n# argumente will hold the positions, where this is the case.\nargumente = [0]\nzeit = np.array(zeit)\nfor zeit1 in times[: -1]:\n    start = argumente[-1]\n    start1 = np.min(np.argwhere(zeit >= zeit1))\n    argumente.append(start1)\nif len(argumente) != len(times):\n    raise Exception('Something went wrong')\n\nlaengee1 = []\nellie1 = []\nfor index in argumente:\n    laengee1.append(LAENGEe[index])\n    ellie1.append(ellipsee[index])\n\nfor i in range(schritte):\n    kin_np[i] = kin_lam(*[resultat[i, j] for j in range(resultat.shape[1])],\n                        *pL2_vals)\n    spring_np[i] = spring_lam(*[resultat[i, j]\n                                for j in range(resultat.shape[1])],\n                              *[pL_vals[k] for k in range(12)], *laengew1[i],\n                              *elliw1[i], *laengee1[i], *ellie1[i]).squeeze()\n    total_np[i] = spring_np[i] + kin_np[i]\n\nfig, (ax1, ax2, ax3, ax4, ax5, ax6) = plt.subplots(6, 1, figsize=(8, 15),\n                                                   layout='constrained',\n                                                   sharex=True)\nfor i, j in zip((kin_np, spring_np),\n                ('kinetic energy', 'spring energy')):\n    ax1.plot(times[: schritte], i, label=j)\nax1.set_ylabel('Energy (Nm)')\nax1.set_title(f'A: Kinetic and spring energies of the system with \\n {n} '\n              f'ellipses, with ctau = {ctau1} and friction = {reibung1}')\nax1.legend()\n\nfor i, j in zip((kin_np, spring_np, total_np),\n                ('kinetic energy', 'spring energy', 'total energy')):\n    ax2.plot(times[: schritte], i, label=j)\nax2.set_ylabel('Energy (Nm)')\nax2.set_title(f'B: Additionally total energy of the system with \\n {n} '\n              f'ellipses, with ctau = {ctau1} and friction = {reibung1}')\nax2.legend()\n\nfor koerper in range(n):\n    laengew1 = np.array(laengew1)\n    ax3.plot(times, laengew1[:, koerper], label=f'$ellipse_{koerper}$')\n    ax3.set_title('distance of ellipses from wall \\n (Vertical segments '\n                  'in the graphs indicate, that the distance was not found '\n                  'correctly)')\n    ax3.set_ylabel('distance (m)')\nax3.legend()\n\nfor koerper in range(n):\n    laengew2 = [min(laengew1[jj, koerper], 0.) for jj in range(len(laengew1))]\n    ax4.plot(times, laengew2, label=f'$ellipse_{koerper}$')\nax4.set_title('penetration of ellipses into the wall')\nax4.set_ylabel('distance (m)')\nax4.legend()\n\nzaehler = -1\nfor i, j in permutations(range(n), r=2):\n    zaehler += 1\n    laengee1 = np.array(laengee1)\n    ax5.plot(times, laengee1[:, zaehler], label=f'distance of $ellipse_{i}$ '\n             f'from $ellipse_{j}$')\nax5.set_title('distance of ellipses from each other')\nax5.set_ylabel('distance (m)')\nax5.legend()\n\nzaehler = -1\nfor i, j in permutations(range(n), r=2):\n    zaehler += 1\n    laengee2 = [min(laengee1[jj, zaehler], 0.0) for jj in range(len(laengee1))]\n    ax6.plot(times, laengee2, label=f'penetration of $ellipse_{i}$ '\n             f'into $ellipse_{j}$')\nax6.set_title('penetration of ellipses into each other')\nax6.set_xlabel('time (sec)')\nax6.set_ylabel('distance (m)')\n_ = ax6.legend()"
      ]
    },
    {
      "cell_type": "markdown",
      "metadata": {},
      "source": [
        "## Animation\n\nAs the number of points in time, given as *schritte* may be verly large,\nI limit to around *zeitpunkte*. Otherwise it would take a very long time to\nfinish the animation.\n\n"
      ]
    },
    {
      "cell_type": "code",
      "execution_count": null,
      "metadata": {
        "collapsed": false
      },
      "outputs": [],
      "source": [
        "times2 = []\nresultat2 = []\n\nzeitpunkte = 500\n\nreduction = max(1, int(resultat.shape[0]/zeitpunkte))\n\nfor i in range(resultat.shape[0]):\n    if i % reduction == 0:\n        times2.append(times[i])\n        resultat2.append(resultat[i])\n\nschritte2 = len(times2)\nresultat2 = np.array(resultat2)\ntimes2 = np.array(times2)\nprint('number of points considered:', len(times2))\n\n# X and Z - coordinates of the centers of the ellipses\nDmc_X = np.array([[resultat2[i, j] for j in range(n, 2*n)]\n                  for i in range(schritte2)])\nDmc_Z = np.array([[resultat2[i, j] for j in range(2*n, 3*n)]\n                  for i in range(schritte2)])\n\nPo_X = np.empty((schritte2, n))\nPo_Z = np.empty((schritte2, n))\n\nfor i in range(schritte2):\n    Po_X[i] = [Po_pos_lam(*[resultat2[i, j]\n                            for j in range(int(resultat.shape[1]/2.))],\n                          *alpha_list1, *beta_list1, a1, b1)[l1][0]\n               for l1 in range(n)]\n    Po_Z[i] = [Po_pos_lam(*[resultat2[i, j]\n                            for j in range(int(resultat.shape[1]/2.))],\n                          *alpha_list1, *beta_list1, a1, b1)[l1][1]\n               for l1 in range(n)]\n\n# This is to asign colors of 'plasma' to the discs.\nTest = mp.colors.Normalize(0, n)\nFarbe = mp.cm.ScalarMappable(Test, cmap='plasma')\n# color of the starting position\nfarben = [Farbe.to_rgba(l1) for l1 in range(n)]\n\n\ndef animate_pendulum(times2, Dmc_X, Dmc_Z, Po_X, Po_Z):\n\n    fig, ax = plt.subplots(figsize=(8, 8))\n    ax.axis('on')\n    theta = np.linspace(0., 2.*np.pi, 200)\n    aa = RW1 * np.sin(theta)\n    bb = RW1 * np.cos(theta)\n    ax.plot(aa, bb, linewidth=2)\n\n    LINE1 = []\n    LINE2 = []\n    LINE3 = []\n    LINE4 = []\n\n    for i in range(n):\n        x1 = resultat2[0, n+i]\n        z1 = resultat2[0, 2*n+i]\n        elli = patches.Ellipse((x1, z1), width=2.*a1, height=2.*b1,\n                               angle=-np.rad2deg(resultat2[0, i]), zorder=1,\n                               fill=True, color=farben[i], ec='black')\n        line1 = ax.add_patch(elli)\n\n        # the observers\n        line2, = ax.plot([], [], 'o', markersize=5, color='white',\n                         markeredgecolor='black')\n\n        # tracing the centers of the ellipses\n        line3, = ax.plot([], [], '-', markersize=0, linewidth=0.3)\n        line4, = ax.plot([], [], 'o', markersize=5, color='yellow',\n                         markeredgecolor='black')\n\n        LINE1.append(line1)\n        LINE2.append(line2)\n        LINE3.append(line3)\n        LINE4.append(line4)\n\n    def animate(i):\n        ax.set_title(f'System with {n} bodies, running time {times2[i]:.2f} '\n                     f'sec, $ c_\\\\tau$ = {ctau1}, friction = {reibung1} \\n '\n                     f'The white dots are the particles', fontsize=12)\n        for j in range(n):\n            LINE1[j].set_center((resultat2[i, n+j], resultat2[i, 2*n+j]))\n            LINE1[j].set_angle(-np.rad2deg(resultat2[i, j]))\n            LINE1[j].set_color(farben[j])\n\n            LINE2[j].set_data([Po_X[i, j]], [Po_Z[i, j]])\n            LINE3[j].set_data([Dmc_X[:i, j]], [Dmc_Z[:i, j]])\n            LINE3[j].set_color(farben[j])\n            LINE4[j].set_data(([resultat2[i, n+j]], [resultat2[i, 2*n+j]]))\n\n        return LINE1 + LINE2 + LINE3 + LINE4\n\n    anim = animation.FuncAnimation(fig, animate, frames=schritte2,\n                                   interval=2000*times2.max() / schritte2,\n                                   blit=True)\n    return anim\n\n\nanim = animate_pendulum(times2, Dmc_X, Dmc_Z, Po_X, Po_Z)\n\n\nplt.show()"
      ]
    }
  ],
  "metadata": {
    "kernelspec": {
      "display_name": "Python 3",
      "language": "python",
      "name": "python3"
    },
    "language_info": {
      "codemirror_mode": {
        "name": "ipython",
        "version": 3
      },
      "file_extension": ".py",
      "mimetype": "text/x-python",
      "name": "python",
      "nbconvert_exporter": "python",
      "pygments_lexer": "ipython3",
      "version": "3.13.3"
    }
  },
  "nbformat": 4,
  "nbformat_minor": 0
}