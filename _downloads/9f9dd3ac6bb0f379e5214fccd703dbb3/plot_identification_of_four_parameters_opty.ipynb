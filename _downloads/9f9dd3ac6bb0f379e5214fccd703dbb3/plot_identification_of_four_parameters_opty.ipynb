{
  "cells": [
    {
      "cell_type": "markdown",
      "metadata": {},
      "source": [
        "\n# Parameter Identification with Non-Contiguous Measurements.\n\n## Objective\n\n- Show how to use opty to estimate parameters of a mechanical system from noisy\n  measurements.\n- Show a way to handle explicit time in the equations of motion (very\n  small point)\n\n\n## Description\n\nFor parameter estimation it is common to collect measurements of a system's\ntrajectories for distinct experiments. For example, if you are identifying the\nparameters of a mass-spring-damper system, you will excite the system with\ndifferent initial conditions multiple times. The data cannot simply be stacked\nand the identification run because the measurement data would be discontinuous\nbetween trials.\n\nA work around in opty is to create a set of differential equations with unique\nstate variables for each measurement trial that all share the same constant\nparameters. You can then identify the parameters from all measurement trials\nsimultaneously by passing the uncoupled differential equations to opty.\n\nFor example:\n\n*number_of_measurements* measurements of the location of a simple system\nconsisting of a mass connected to a fixed point by a spring and a damper, with\na force = $F_1 \\sin(\\omega \\cdot t)$ acting on the mass. The movement is\nin a horizontal direction. $c, F_1, k, \\omega$ are to be identified.\n\n\n## Notes\n\nThis is just a slightly more elaborate version of an example from opty:\nhttps://opty.readthedocs.io/stable/examples/intermediate/plot_non_contiguous_parameter_identification.html#sphx-glr-examples-intermediate-plot-non-contiguous-parameter-identification-py\n\n\n**State Variables**\n\n- $x_i$: position of the mass of the i - th measurement trial [m]\n- $u_i$: speed of the mass of the i - th measurement trial [m/s]\n\n**Parameters**\n\n- $m$: mass  [kg]\n- $c$: damping coefficient  [Ns/m]\n- $k$: spring constant  [N/m]\n- $l_0$: natural length of the spring [m]\n- $F_1$: amplitude of the force [N]\n- $\\omega$: frequency of the force [rad/s]\n"
      ]
    },
    {
      "cell_type": "markdown",
      "metadata": {},
      "source": [
        "Set up the equations of motion and integrate them to get the measurements.\n\n\n"
      ]
    },
    {
      "cell_type": "code",
      "execution_count": null,
      "metadata": {
        "collapsed": false
      },
      "outputs": [],
      "source": [
        "import sympy as sm\nimport numpy as np\nimport sympy.physics.mechanics as me\nimport matplotlib.pyplot as plt\nfrom scipy.integrate import solve_ivp\nfrom opty import Problem\n\nnumber_of_measurements = 15\nt0, tf = 0, 10\nnum_nodes = 400\ntimes = np.linspace(t0, tf, num_nodes)\nt_span = (t0, tf)\nnp.random.seed(1234)\n\nx = me.dynamicsymbols(f'x:{number_of_measurements}')\nu = me.dynamicsymbols(f'u:{number_of_measurements}')\nfx = me.dynamicsymbols('f_x')\nm, c, k, l0 = sm.symbols('m, c, k, l0')\nF1, omega = sm.symbols('F1, omega')\nt = me.dynamicsymbols._t\nT = me.dynamicsymbols('T')\n\neom1 = sm.Matrix([x[i].diff(t) - u[i] for i in range(number_of_measurements)])\neom2 = sm.Matrix([m*u[i].diff(t) + c*u[i] + k*(x[i] - l0) -\n                  F1*sm.sin(omega*T)\n                  for i in range(number_of_measurements)])\neom = eom1.col_join(eom2)"
      ]
    },
    {
      "cell_type": "markdown",
      "metadata": {},
      "source": [
        "Print the equations of motion.\n\n\n"
      ]
    },
    {
      "cell_type": "code",
      "execution_count": null,
      "metadata": {
        "collapsed": false
      },
      "outputs": [],
      "source": [
        "sm.pprint(eom)"
      ]
    },
    {
      "cell_type": "markdown",
      "metadata": {},
      "source": [
        "Equations of motion for the solve_ivp integration.\n\n\n"
      ]
    },
    {
      "cell_type": "code",
      "execution_count": null,
      "metadata": {
        "collapsed": false
      },
      "outputs": [],
      "source": [
        "rhs1 = np.array([u[i] for i in range(number_of_measurements)])\nrhs2 = np.array([1/m * (-c*u[i] - k*(x[i] - l0) + F1*sm.sin(omega*t))\n                 for i in range(number_of_measurements)])\nrhs = np.concatenate((rhs1, rhs2))\n\nqL = x + u\npL = [m, c, k, l0, F1, omega, t]\n\nrhs_lam = sm.lambdify(qL + pL, rhs)\n\n\ndef gradient(t, x, args):\n    args[-1] = t\n    return rhs_lam(*x, *args).reshape(2 * number_of_measurements)\n\n\n# Different initial conditions for the different measurements.\nx0 = np.array([2 + (i / 4) * (-1)**i for i in range(number_of_measurements)] +\n              [0 for _ in range(number_of_measurements)])\npL_vals = [1.0, 0.25, 2.0, 1.0, 6.0, 3.0, t0]\n\nresultat1 = solve_ivp(gradient, t_span, x0, t_eval=times, args=(pL_vals,))\nresultat = resultat1.y.T"
      ]
    },
    {
      "cell_type": "markdown",
      "metadata": {},
      "source": [
        "Create the noisy measurements: simply add noise to the results of the\nintegration.It is assumed, that only the locations are measured, not the\nspeeds.\n\n"
      ]
    },
    {
      "cell_type": "code",
      "execution_count": null,
      "metadata": {
        "collapsed": false
      },
      "outputs": [],
      "source": [
        "measurements = []\n\nfor i in range(number_of_measurements):\n    measurements.append(resultat[:, i] + np.random.randn(resultat.shape[0]) *\n                        1.0 / (i / 20 + 1) + np.random.randn(1) * 1.0 /\n                        (i / 20 + 1))"
      ]
    },
    {
      "cell_type": "markdown",
      "metadata": {},
      "source": [
        "## Set up the Estimation Problem.\nThe idea is Gauss' method of least squares:\nhttps://en.wikipedia.org/wiki/Least_squares\n\nIf some measurement is considered more reliable, its weight w may be\nincreased.\n\nobjective = $\\int_{t_0}^{t_f} \\left[ \\sum_{i=1}^{\n\\textrm{number_of_measurements}} (w_i \\cdot (x_i - x_i^m)^2 \\right] dt$\n\n\n"
      ]
    },
    {
      "cell_type": "code",
      "execution_count": null,
      "metadata": {
        "collapsed": false
      },
      "outputs": [],
      "source": [
        "# This is added to get the explicit time for opty.\neom = eom.col_join(sm.Matrix([T.diff(t) - 1]))\nstate_symbols = x + u + [T]\n\ninterval_value = (tf - t0) / (num_nodes - 1)\n\npar_map = {m: pL_vals[0],\n           l0: pL_vals[3],\n           }\n\n# Weight vector. Here measurements with higher order number are considered\n# more reliable, so their weight is set to be larger.\nw = [1 + i for i in range(number_of_measurements)]\n\n\ndef obj(free):\n    return interval_value * np.sum([w[i] * np.sum(\n        (free[i*num_nodes:(i+1)*num_nodes] - measurements[i])**2)\n        for i in range(number_of_measurements)])\n\n\ndef obj_grad(free):\n    grad = np.zeros_like(free)\n    for i in range(number_of_measurements):\n        grad[i*num_nodes: (i+1)*num_nodes] = 2*w[i]*interval_value*(\n            free[i*num_nodes:(i+1)*num_nodes] - measurements[i]\n        )\n    return grad\n\n\nbounds = {\n    c: (0, 1),\n    k: (1, 3),\n    F1: (5, 10),\n    omega: (2, 7),\n}\n\ninstance_constraints = (\n                        T.func(t0) - 0.0,\n                        )\n\nproblem = Problem(\n    obj,\n    obj_grad,\n    eom,\n    state_symbols,\n    num_nodes,\n    interval_value,\n    known_parameter_map=par_map,\n    instance_constraints=instance_constraints,\n    bounds=bounds,\n    time_symbol=me.dynamicsymbols._t,\n)"
      ]
    },
    {
      "cell_type": "markdown",
      "metadata": {},
      "source": [
        "This gives the unknown parameters, and their sequence in the solution vector.\n\n"
      ]
    },
    {
      "cell_type": "code",
      "execution_count": null,
      "metadata": {
        "collapsed": false
      },
      "outputs": [],
      "source": [
        "print('unknown parameters are:', problem.collocator.unknown_parameters)"
      ]
    },
    {
      "cell_type": "markdown",
      "metadata": {},
      "source": [
        "Initial guess.\n\n"
      ]
    },
    {
      "cell_type": "code",
      "execution_count": null,
      "metadata": {
        "collapsed": false
      },
      "outputs": [],
      "source": [
        "list1 = [list(measurements[i]) for i in range(number_of_measurements)]\nlist1 = list(np.array(list1).flat)\ninitial_guess = np.array(\n    list1\n    + list(np.zeros(number_of_measurements*num_nodes))\n    + list(np.linspace(t0, tf, num_nodes))\n    + [0, 0, 0, 0]\n)"
      ]
    },
    {
      "cell_type": "markdown",
      "metadata": {},
      "source": [
        "Solve the Optimization Problem.\n\n\n"
      ]
    },
    {
      "cell_type": "code",
      "execution_count": null,
      "metadata": {
        "collapsed": false
      },
      "outputs": [],
      "source": [
        "solution, info = problem.solve(initial_guess)\nprint(info['status_msg'])\n_ = problem.plot_objective_value()"
      ]
    },
    {
      "cell_type": "code",
      "execution_count": null,
      "metadata": {
        "collapsed": false
      },
      "outputs": [],
      "source": [
        "_ = problem.plot_constraint_violations(solution)"
      ]
    },
    {
      "cell_type": "markdown",
      "metadata": {},
      "source": [
        "## Results obtained\n\n\n"
      ]
    },
    {
      "cell_type": "code",
      "execution_count": null,
      "metadata": {
        "collapsed": false
      },
      "outputs": [],
      "source": [
        "print('As the true values are known in this example, an error can be given')\nprint(f'Estimate of dampening constant is {solution[-3]:.2f} error is '\n      f'{(solution[-3] - pL_vals[1])/pL_vals[1] * 100:.2f} %')\nprint(f'Estimate of spring constant is    {solution[-2]:.2f} error is '\n      f'{(solution[-2] - pL_vals[2])/pL_vals[2] * 100:.2f} %')\nprint(f'Estimate of force is              {solution[-4]:.2f} error is '\n      f'{(solution[-4] - pL_vals[4])/pL_vals[4] * 100:.2f} %')\nprint(f'Estimate of the frequency is      {solution[-1]:.2f} error is '\n      f'{(solution[-1] - pL_vals[5])/pL_vals[5] * 100:.2f} %')"
      ]
    },
    {
      "cell_type": "markdown",
      "metadata": {},
      "source": [
        "Plot the measurements.\n\n"
      ]
    },
    {
      "cell_type": "code",
      "execution_count": null,
      "metadata": {
        "collapsed": false
      },
      "outputs": [],
      "source": [
        "fig, ax = plt.subplots(number_of_measurements, 1,\n                       figsize=(8, 1.25 * number_of_measurements),\n                       sharex=True, layout='constrained')\nfor i in range(number_of_measurements):\n    ax[i].plot(times, measurements[i])\n    ax[i].set_ylabel(f'Set - {i+1} [m]')\nax[0].set_title('Measurements')\n_ = ax[-1].set_xlabel('Time [sec]')\n\nplt.show()"
      ]
    }
  ],
  "metadata": {
    "kernelspec": {
      "display_name": "Python 3",
      "language": "python",
      "name": "python3"
    },
    "language_info": {
      "codemirror_mode": {
        "name": "ipython",
        "version": 3
      },
      "file_extension": ".py",
      "mimetype": "text/x-python",
      "name": "python",
      "nbconvert_exporter": "python",
      "pygments_lexer": "ipython3",
      "version": "3.13.3"
    }
  },
  "nbformat": 4,
  "nbformat_minor": 0
}