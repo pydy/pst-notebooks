{
 "cells": [
  {
   "cell_type": "code",
   "execution_count": null,
   "id": "bb96b3b0-c997-42c7-8892-9c5e7e4648ae",
   "metadata": {},
   "outputs": [],
   "source": [
    "import sympy as sm\n",
    "import sympy.physics.mechanics as me\n",
    "import numpy as np\n",
    "import opty\n",
    "from opty.utils import create_objective_function, parse_free\n",
    "from opty.direct_collocation import Problem\n",
    "me.init_vprinting()\n",
    "import matplotlib.pyplot as plt"
   ]
  },
  {
   "cell_type": "markdown",
   "id": "fd374ab7",
   "metadata": {},
   "source": [
    "The example below is from [**Davide Sandonà**](https://github.com/Davide-sd).\n",
    "\n",
    "I only made a few insignificant changes."
   ]
  },
  {
   "cell_type": "markdown",
   "id": "840a76e2-02fc-42ea-80e0-c117c33938c3",
   "metadata": {},
   "source": [
    "## Schematic\n",
    "\n",
    "Taken from [this paper](https://www.sciencedirect.com/science/article/abs/pii/S0005109801001455)"
   ]
  },
  {
   "attachments": {},
   "cell_type": "markdown",
   "id": "e1edac77-7c8c-4240-b041-b07fd64a3f68",
   "metadata": {},
   "source": [
    "![Wheel Based Inverted Pendulum](data:image/png;base64,iVBORw0KGgoAAAANSUhEUgAAAPcAAAE/CAYAAACaQFU+AAAACXBIWXMAAA7EAAAOxAGVKw4bAAAgAElEQVR4nOyddVhU2R/GX7olVEJEDELB7o5FMbE7sHvXWtu1OxFrlRW7u0VXwTUxULEBSZFSumFmvr8/kPtjFIQZ7swdxvt5nnmeuTP3nvNemPee+p5zVIiIwMPDo3Soci2Ah4dHNvDm5uFRUnhz8/AoKby5eXiUFN7cPDxKCm9uHh4lhTc3D4+Swpubh0dJ4c3Nw6Ok8Obm4VFSeHPz8CgpvLl5eJQU3tw8PEqKEplbhJyMdGQJRFwL4eFRCJTE3EJEn3NFFT196NSaBZ9E3uA8PEph7pyQ/Rg79jQM+09E18ydGDbtIqKFXKvi4eGWsm/ujFdwG7MRonl34HtyNy49vYQRIfMw6UAIcrjWxsPDISplfSWWrMALOBFSH0O6VIVW/ofp73H+dCQaD+0EK00u1fHwcEeZLrkFcfexe/VaLJ62Cg9Tv32YEYizG1Zhy8pBaDvxNpI5VcjDwx3qXAuQjgx8PLsBG68EI+DSE0TqNoKmqgjp749j2fIL+KoVg1chiVBvWcafXjw8paBs/vZFQqjajYXbnqXoWQXQrvsbrEL2Yu6uDAz/5yT+ntEGFQBYN6kGHa618vBwRNk0t6oBqtexgm72J7yJVodd03js2CnE5PXjUc9AFakfn+EzrNGhuXlZrZrw8JSa0v/2RTnIyBRBU0cb6nJ+VAjiXsLvqyoyfB6j3iEP1NYFgFS89fJHtmFbONnpylcQD48CUTo7CqNxzrUK9PR1UGuWD+QdO5Ly2gfBlItyPeagf9Vvz6nsUPjci4Nane6oX06+enh4FIlSmDsHIfvHYuxpQ/Sf2BWZO4dh2sVoyC92JA3vvJ4hXacT/hxhzwyDCWMewesjYNu5CcqL3V0Wwv/dBffrURDkf5Qdhstuy7DLL01uqnl45IXU5s545YYxG0WYd8cXJ3dfwtNLIxAybxIOhMgpdCQ7HD53oqHeaDDamf3/NpJfXMVbMkfbdtbQEuUgSwAI4x/jwIrpcB0wFatOfkDmt3PTX7rj93nnkK7HD4bzKB9SmjsLkSFmmH/jIua3MIYq1GHRdT1uXhwFteBYuUSGCeN84RUEVO/YGBWYu8hC+JN3SIcO8Gwbpv+xBtc/50BFxw595q/D7LbG0NHT+nbTOQi/dQOxtkPQvTpvbh7lQ8oONW3Y9R4Fu+8+1avVB6NqlVpTiUh5eRVvROZwaW71/8g0ZCM+PBGAKt5G2GDfxoHI61PThCG+IC0pBzoNy+XddHYATh0ORrVhLqjBe5tHCSlVh1pO1C2sd22Pmqba0DSxQZMO7fHbjP+QWvylpaZc2+34kBqJI52NCnxqiA57XiMiMRr33fKN/Q1BKr6kEgwqGUEdIsTf3oRdgdYY2Mu2wMOBh0d5kNLcIiQ9WIquvQ9Ce8g2XL/rg5NzayHkzn1k17WBHrsaC0XN0BIW+mo/fq5fCVZGhVRIBCmITdeASQU9qCT64eSpx8iwGYDedry1eZQTqarlovibmD3ME2Y7/PFH1/JQBaBvk4sM2KBLswqKGRkjSMXXdAEyQ29id0g6tEVZsOzTB/baXAvj4ZENUvhQgNBjS3FM0BNT2pf/lkASXp5/iizztmhvraAloXo5mOmn4/GBB6jcxwFvn+ig1wAH8GEuPMqK5ObODsCJv5/BsOsg1NfP+0gUfx+e1xOg07ALHPRZVsgW2vWw5EkMvrzYjo6JF3DbZCzG1OWtzaO8SGzunLDrOPVBF81c6iDPx1l4+89ynE0EHLo3RMHurazwf7HL/Tqi/h81grDLbli2yw9chI2oG5rBUD0N/icewGHmMNjyveQ8SozE5k56cR3vqTraO5YDIELCvW3Y/VEHuqgB5xbmUAMAYTweH1iB6a4DMHXVSXz4f9QI3H+fh3PpepCfr0RIfbkfGy+EQwBAEHoWnhnTsL6PBX7sjuPhUR4k7FDLQNjTYOTqOKKaiTpyQo5h9eXK6GkZi10mLfBbdU1kp2VDQ1cHdn3mY135Zzg9VQ9a3x4hOeG3cCPWFiO6V5ejuQlJLw5j3corSA5qAKRbYvKa/rDip4vxKDkS/sRzkRKTAmSGw+fAUlwJqYxpa3vibc+RgFYD+Hksxh2TwVgwtg6MDYEvaUnI0WmIcnlRIwg4dRjB1YbBRa5RI2qwGnkJT228EajbCG0bWEJXIbvzeXjYRUJza8PM1hRAIG69rYHT7q6opRWKO4kCQDURmQ3+wLKO+XOoBUj9kgoyqAQjdUAUfxubdgXCenIv2Mq7Q11VH9Xb9ER1OWfLw8MlEppbC45zbuLdaGPYWRt8a7NaY+yNzxhhkmfi/yNASmw6NEwqQE8lEX4nT+Fxhg0G9LbjI8J4eOSAxC1PVb0qqCUWgqYKXdNKhYwXC5D6NR2CzFDc3B2CdG0Rsiz7oA8fNcLDIxdk2PpURzkzfaQ/PoAHlfvA4e0T6PQaAAc5Di136dIFDg4OyMnhVzDn+fWQobm1UW/JE8R8eYHtHRNx4bYJxo6pK7eIMD8/P9y4cQPv37/Hhg0b5JQrD4/iINt+Y3VDmBmqI83/BB44zMQwOUaNLFu2jHm/a9cuvvTm+eWQiblFqS+xf+MFhOdFjeCsZwamre8DCzlFjfj5+eHKlSvMcXR0NPbt2yefzHl4FASZbCck/LQfneqvhPHkyWiAdFj2mYGRjYzkNlvMxcVFzNwAUKVKFQQFBUFTk4855fk1kNFeYSKkhTyAd6AuGrVtAEs5Ro34+fmhcePGhX73999/Y9KkSXLTwsPDJWV+I8DvKazUzocvvXl+JeQeiOnv74/atWvDw8OD9bS/b2t/T0REBN/25vllkHvJPWDAAJw5cwYAMGLECLi7u8PY2JiVtH9WaudjaGiIuLg4vvTmUXrkXnI3a9aMeX/48GE4ODjg0qVLrKTt5eVV7DnJyckIDQ1lJT8eHkVG7hMfzc3NxY5jYmLQq1cvDB06FNu2bUP58uWlTvv8+fO4ceMGc+zh4YGcnBwMHz4cRkZ5y0jUqFEDNWrUkDoPxUGEnIxMiDR1oC3vTdp4ygYkZy5dukQACn2ZmprSmTNnWMvLyMiIAFBgYCBraSoGAoo6O4zMAILNdPJOEHItiEcBkfsjP78ELYy4uDj0798fQ4YMASlXJz6r5ITsx9ixp2HYfyK6Zu7EsGkXES2/Tdp4yghyN7ehoWGx55w4cQLPnj2Tg5oySMYruI3ZCNG8O/A9uRuXnl7CiJB5mHQgRC7bOPGUHRTS3PPmzUOTJk3koKbskRUZArP5N3BxfgsYqwLqFl2x/uZFjFILRizvbp4CKFS1vGvXrggMDMS6devkqKhsoW3XG6N+08S99a5oX9MU2pomsGk/Be6HriIkm2t1PIqE3M1tYGDww2fq6nmd9m3btoWtra28JZUpREkPsLRrbxzUHoJt1+/C5+Rc1Aq5g/vZdWEjj32ceMoMcje3qqoqTE1NmWN3d3d4enoCAFavXo2YmBh5Syo7iOJxc/YweJotwdY/uqJutZpo0doGuRmATZdmBbYy5uHhwNwAsG/fPqxduxZfvnzBtGnT4OrqipYtWyItLQ0LFizgQlKZQBB6DEuPCdBzSnuU//afS3p5Hk+zzNG2vTW/Nh2POFyPxeXz9OlTUlFRIRUVFXr69CkraSrXOHcWvVlVi1TNx9Gd1G8fCb/S5UHGBJ1udPYrp+J4FBCFqcg1btwYrq6uICJMmzaNazmKR04Yrp/6AN1mLqjzbT+2rLf/YHnePk5oKNZPmYPwiyswZdJSnAzIAACIkt/gzLplOPQhS+7SebhBYcwNAOvWrYOBgQEePXqEo0ePci1HsUh6gevvCdXbO6IcAFHCPWzb/RE6ukAN5xYwL7DKTcZbT6w8+RFhXisxaspZfE4PgOfkCdh00RfRuZzdAY+cUShzm5ubY+HChQDyxrrT09M5VqQ4ZIQ9RXCuDipXM4F6TghOrL6Myj0tEZtigha/VYdmdhqyRXnnqlv2xdbDh3D070Eo9+4STm3di9w5N+H7yAvz6vBLS/8qKJS5AWDmzJmoUaMGPn/+jPXr13MtR2HITYlBCjIR7nMAS6e6IX3UEjgl3kMItJDr54HFK08i8NuGi5pGZtBXAwwb9IBjyh08qD4NExoo6t7KPLJC4cytpaWFTZs2AQA2bdqE8PBwjhUpBtpmtjAFEHjrLWrMWofxdbSR8SURAqgiMbMB/lg2FnW+G+dW1a+MGsbq0KpYTv7T/3g4R+HMDQC9e/eGk5MTMjMzMWfOHK7lKARajnNw810Y4v33wrWWHgB1WI+9gc+JYbixrCPMf3BvNgLOX0GaXhpePvnMx53/gijsGmpv3rxB/fr1IRQK8d9//6Ft27YSp2FsbIykpCQEBgYqdOQbESElJQXJyclISkpCcHAwqlSpgkaNGkmeWHog7oVVgG3cbqx554xhMUPR7vJ4vLjdDSGP1NChR025bQzBwzHcjsT9nClTphAAql+/PgmFks9ZVrRx7tzcXPrzzz+pefPmVLduXapSpQoZGhqSqqpqofPbk5OTJc4j69UyqqWpR7aD91FQFlHao5lUDaCKrafRieAsGdwVj6KisCU3ACQkJMDW1hYJCQnw8PDA+PHjJbpe0UruhISEEq80o6+vj9TUVMkzEaYh+nM2TKqU/xaxloOEiC/QsLSEgZw2heBRDBSyzZ2PiYkJsy3QX3/9heTkZG4FlRITExM4OzsXe56Kigpu374tXSZq+rBgjA0AmjCpwhv7V0ShzQ0AkydPhoODA+Li4rBixQqu5ZSabdu2MbPgimL27Nlo2rSpnBTxKCsKb251dXW4ubkBALZv347AwECOFZWOqlWriq0A+z329vZK8RDj4R6FNzcAODs7w8XFBbm5uZg5cybXcqTmwoULcHR0xIMHDwr9XkVFBfv374e2Nh9FxlN6yoS5AWDLli3Q1NTEtWvXcP36da7lSMSbN2/QsWNH9OnTB8HBwbC0tMTo0aN/OG/GjBlo0aIFBwp5lBKuu+slYc6cOQSAatasSbm5ucWez/VQWHx8PE2ZMoXU1NQIAOno6NDixYspLS2NhEIh1atXjxn2srGxoYyMDE508ignZcrcKSkpZGZmRgDIzc2t2PO5Mndubi5t27aNTExMGPMOGDCAwsLCxM7z8fFhvv/vv//kqpFH+SlT5iYi8vT0JABkZGREX758+em5XJj75s2b5ODgwJi2fv36PzXuuXPnyNvbW276eH4dypy5hUIhNWrUiADQxIkTf3quPM0dFBRELi4ujKkrVqxIHh4eUkXW8fCwQZkzNxHR/fv3CQCpqqrSy5cvizxPHuZOTk6m2bNnk6amJgEgDQ0NmjVrFiUlJcksTx6eklAmzU1ENHjwYAJA7du3L/IcWZpbKBTS3r17mT4AANS9e3cKCAhgPS8eHmkos+aOiIggXV1dAlDk5oGyMvf9+/eZpkF+7/3169dZzYOHp7SUmXHu77GyssLcuXMBAHPmzEFWluwX/vv06ROGDBmC1q1bw8/PD0ZGRnBzc8Pr16/RpUsXmefPwyMRXD9dSkNGRgZVqVKFANCqVat++J6tkjsjI4OWLl3K1BTU1NRo0qRJxfbW8/BwSZk2NxHR8ePHCQDp6enR58+fxb5jw9zHjx8nKysrpgreoUMH8vf3L61sHh6ZU2ar5fkMHjwYrVu3Rnp6OubNm8daus+fP0ebNm0wZMgQfPr0CdWqVcOZM2fg7e2NunXrspaPbBEhJyMdWQIR10J4uIDrpwsb+Pn5kaqqKqmoqJCvry/zuTQld0xMDI0ZM4ZZHUVfX59Wr15NmZmZspAuQwQUdXYYmQEEm+nkncCPt/9qKIW5iYjGjh1LAKhZs2YkEomISDJzZ2dn04YNG6hcuXIEgFRUVGjEiBE/VPXLCtnB/1BXI02y6z+Rulqqk8XwcxQl4FoVjzxREHMLKe3jNXL7vS+1q2NNlarYU6MOA+nPXbcotIQFZmxsLGPM0aNHU9OmTUlFRYUAUI0aNWjlypUUExNT6LUXL14kGxsbpl3drFkzsRpAmSPdn9a1s6POax9SgpAoN+oazW1pSz33BlM219p45Ab35hYm0pOtfagyQNCwoibdXWnqH+NoQOsqpA6Qes3RdPBDyRzu6upa6EKD+S91dXVauXIlc/7bt2/J2dmZ+b5SpUp06NAhpuQvq2QGnKf910NJbDnEtHd0bv9NiuDd/cvAsbkz6d32TmQAkGG7RXRV7JeXS5+vzqFGmiBYutKZzz+vU548eZIpqYt7TZs2jX7//XdSV1cnAKStrU2LFi2itLQ02d5uCRg9ejQNHDiQ/Pz8uJbCU8bh1NzZAduotSYIdrPov0I7fAT0+fQgKg9QhaEXKKaIPqHw8HAmtlvSV79+/Sg0NFSWt1liPn78KKbNxcVFYpPnxt4jN9emVNl2LHmnfPswPYDOLBlKrasbU9VRt4iPev814NDcqXRvsiUBhtT3XCwV2Zeb+5G2NVUloCFt+lB4nXLBggUSm1pfX598fHxkdXNSERAQUKjWkpk8nYLOLKUJo4ZTOyMQKk2m+2lCSnt3hGYP6k+jXFtTOYBMht+ilGJS4lEOuDN36l2aYA6CQR+6nPCzEwUU/k9zUgWo9sYPP3QI5eTkkKmpqVSltqJsVpBPUeYukcmFKRT8KoLSs4Noc12QdpfTFP5qD0353YNepggp8/kCqg5QA/dgKn4NGx5lgLP94QQxT/EoBkDdtqhl8LMz1VChbktYwReB/75B2mx7mBT4NioqCnFxcVJpGDBgAMzNzaW6VhYUt2Xx5cuXcfnyZVSrVg0fPnyApqbm/79UNUD1OgZAqg/eRKvDrnc8duwUYfKWyaitC3z5+AyfYY3ezc35TQF/ETj7P2fHf0ISAJVyZihXjAo1PWPoAMiJi0KyADApcH5mZqbUGvz9/eHv7y/19VwRGhqK58+fo3nz5j98J4h7Cb+vqsjweYx6hzxQWxcAUvHWyx/Zhm3hZMfvFParwJm51TR1oAGAsjOQI8JP12EVpMQhDQDUtKCuIv6dsbGx1BpmzZqFBg0aSH0920RHRzMz3YrC2NgYixYtKtTYAJDy2gfBlAv7HnPQv+q3f292KHzuxUGtTnfULyd+fk74Raxbfx3CdjMxb5A9dEXJeHPub5zJ6I35rjXBL7JchuGqPSD8fIDaqIFgOZUeFDMCFXeqE2kBZDTIq9Ce3iZNmkjVoZaamiqTe5OWn7W5HR0d6eTJk8WMwafSvYkWBB1nOhr1/y5KQdhuaqoCqrnyjfjYd/ob2jV2CI3oak0q2r/Rocg0+uAxhFo0a06d172ishZwyyMOdx1q2e9pXR0QUJ3mPUv/yYkJdH2IMQFa1PFodKG96vv375fY3FOmTJHVnUlNYeYumam/kfWGVtiD1Fvvo8gCf6j48y6kB3OacDeVSJhNmfk9atmJFJMqIEq4RoNNzan/llU0e+dzUqxHHo+0cDgUlkshf7ciDYAMuh+hyCJiVLLebaQm6iAYDaRLXwsfMMvMzCRHR8cSG9vQ0JA+fvwow3uTjpiYGGbCikSm/oYgYi+1VAXZLXtVoITOpOcLahBQjSZsWU3Tpiylc2HfjTkIo+lIB12q0O8YRfBd6UoDtxFqqY9onh0IKE99PQN+qAYKE31pdRsdArSo3Y6An8ZFh4eHU40aNYo1toqKCv3777+yvKtS4eXlRZcvX5YqBDbhUh8qB3Ma5pVY4NMk+neoCQEVqNWMkxRQaCUple6MsyTzof/yAS5KBOex5WmvtlJHAxBgQh2XXKB3iQIiyqKoR//QuNoaBICsXE9SeAlKlLi4OBo9ejRpa2v/1OBr166V+X1xgSApkqJSf6wCCVI/U0Ri0X/ArA+HaPZgO9J3WE1v+dhzpUGFiIiVnrlSkBFwAgvG/IFtD7+Kf6FRHT2X/oPd836DhQT9+gkJCTh27BiCg4MhFAphbm6OkJAQeHp6Asjb2D4wMBAWFhYs3kVZIx2B98JQwTYOu9e8g/OwGAxtdxnjX9xGt5BHUOvQAzX5UbMyjUKYOw8Bvry6hX8fvcenFHVUrFYP7bq0Rg196RaL8fPzw3///Qcgb1vc1q1bw87Ojgl4GTlyJA4cOMCW+LJH9mssb9AYGwV9sf3aAYy2eIFZdVrALa01pm0/iA2DqkOLa408pYPbioPs2LhxI1MNHzBgABEReXh4iLW9nzx5wrFKLhFQalQ4fS0wNpYdH06RKfyKDspCmV9DTRLGjh2L+vXrAwCICNOmTQMpSsVF7qhB36IKyhconjVNqsDSQI07STysorTmtre3x4ABAzBgwAC0bNkSAKCqqgp3d3fmHF9fXxw9epQriTw8MkWB2tzyY+DAgTh9+jQAwNLSEgEBAdDT0+NYFQ8Puyhtyf0zNm7cCB0dHQDA58+fsW7dOo4V8fCwzy9pbmtra8yePZs53rRpE8LDwzlUxMPDPr9ktRwAMjIyYG9vj8jISABA//79mao6D48yoLTmjomJwadPnwAAJiYmqFGjxg/nHD16FMOHD2eO79y5g3bt2slNIw+PLFHaavmRI0fQtGlTNG3aFAsWLCj0nGHDhjE96QAwY8YMiET81js8yoHSmrukuLu7Q0UlbwWIly9fYu/evRwr4uFhB6U1t76+PiwsLGBhYQETE5Miz2vcuDFGjhzJHP/1119ITk6Wh0QeHpmitG1uSYiJiYGdnR1SU1MBADNnzsSWLVs4VsXDUzqUtuSWBHNzcyxcuJA53rFjBwICAjhUxMNTeviS+xvZ2dlwdHREcHAwAKBbt264evUqx6p4uECUk4FMkSZ0tNXLdOlXlrWzipaWFjZt2sQcX7t2DdevX+dQEQ8XCKPPwbWKHvR1amGWTyLK8tgJX3J/R8eOHXH79m0AQM2aNfHq1StoaGhwrIpHLuSEYG/vRpga3BGjazyC58sOOOV3AH0syuZMOaUtubdu3QotLS1oaWlh2LBhEl2nppb3z/zw4QN27NghK4k8CkUGXrmNwUbRPNzxPYndl57i0ogQzJt0ACE5XGuTDqU1t0AgQE5ODnJycpCbm1vi62rXro2JEycyxytWrMCXL19kIZFHkciKRIjZfNy4OB9NVOOQKLJA1/U3cXGUGoJjy6a7ldbcpWHlypXM2HhSUhIWL17MsSIeWZMe+hphoV5Y1rc+zMycsDMoG4AeavUZhU5WmsVer4gobZs7OTkZX7/mLbior68PMzMzia7fvn07pk2bBiBvkYfnz5+jXr16rOvkUQxyEsIQHPwQ63sNw8EcV9wOPYjffrpBpeKjtOYuLQKBAPXq1cO7d+8AAO3bt4ePjw/HqnhkSto9TLBti322B/Hpjissyni9tozLlx3q6upwc3Njju/cuYMzZ85wqIhH1gi/vsHzGKBGh/owUQJnKMEtyA5nZ2e4uLgwx3PmzEFWVhaHinhkSdrHBwiFMRq1tlaKZZ15cxfDli1bmE3uw8LCsHnzZo4V8cgGAWL9XyFBtRY6OhhAlPQS+2b2RrNqRjCwH4/r8WUvnEVpzX369Gk4OTnByckJK1eulDodGxsbTJ8+nTleu3YtoqKi2JDIo1CkIehBGFC9Axy+HsCEISvwslJPDG9XDmmB53HCP51rgRKjtOYODw+Ht7c3vL298fr161KltXjxYqa3PT09HfPmzWNDIo8ikR2JZ29TYWCVhZOe6Rh39DS2zRmD0aOdYYoMxKcJuFYoMUprbjYxMDDA6tWrmeOjR4/C19eXQ0U8rJMWgEfhQOr7cDSZPRnNTfKiFIVZaciBMaxMyl4IsgTb65UtunbtiooVKwIAqlatWur0Ro8ejb///ht+fn4gIkyfPh2+vr7MKi48ZZuM0CcIzAbqzliB/lXybSHA1w8fkKRZC21tyuCuiHLevqhMc//+fbGtgA8cOMC1JB5WEFL0kbakjjq04UOBPYyF0XSsow7pOB2kyPwt1LLD6MLyyTRxyQn6kJ53bdLr07R26UF6//0G8xzDV8sloFWrVhg8eDBzvGDBAqSlpXGoiIcdMhHyKBiCyh3QpvL/Q02FMbdxwM8cYxb3gqUaAGTgredKnPwYBq+VozDl7GekB3hi8oRNuOgbjZLPYJATXD9dyhoRERGkq6vLlN4LFizgWhJPaRFEkEdTEJruo8/C/A/T6fmShmQ35irFMZ9lU2JMKgkoga4NNiXz/lto1eyd9DyVG9nFwZfcEmJlZYU5c+Ywx1u2bEFoaCiHinhKTWY4nkcCiH2N0FQAyEbExSVYHDwGp927oSLjEk0YmelDDYZo0MMRKXceoPq0CWigz5nyn6K0seUPHz7EzZs3AQCOjo4YMGAAa2lnZmbC3t6e2fSgT58+OHfuHGvp88gZUTxuzWyHrtveQqBWEXb166NF32lYNqsHqmoXfknaf+NRc3AGDnw4io6G8pVbYriuOsiKjRs3MlXnAQMGsJ7+8ePHxTrXbt++zXoePPIklxKCntD9px8pIbeYU7M+0KHZg8lO34FWv80u5mTu4KvlUjJ48GC0bt2aOZ4xYwaEQiGHinhKhzqMbZqgVeMaMC5igDg98B7eJsTAZ/NOpAyagYEWwTh1NRjxb6/iyocM+cotAUpr7rp162LcuHEYN24cOnbsKJM83N3doaqa9yd8/fo1PDw8ZJIPjyKQjZDjE9GwSlt4WEzDuMa10b1HJfjPbYfeHmlwqKZ44+BK2+aWF2PHjsW+ffsAABUqVEBgYCCMjY05VsUjC4Rp0ficbYIq5b/NGctJQMQXDVhaGkARl1DkzV1KYmNjYWdnh5SUFADAtGnT4O7uzrEqHh4lrpbLCzMzM/z111/M8c6dO/H+/XsOFfHw5MGX3MWQkZGB+Ph4pKSkFPqKjIz8YV+xzp07w8vLiyPFPDx5KK25IyIiEBgYCCCvdK1Tp47Eady5cwddu3aVavWVy5cvo0ePHhJfxyNfjh49irVr12Lnzp1o1/BX06IAACAASURBVK4d13LYhbtRONnCxjj3+fPnxcayf/bq1asXOTs7M8e2traUk5PD8l3xsEVaWhr9/vvvzP/L2dmZa0msw7e5f0LPnj1LtJxxjx49cOHCBbi5uUFdPW+QNCgoiO9YU1C8vb1Rp04dsd1k6taty6Ei2aC05i5fvjzs7e1hb28PS0tLia4VCAR4+PAhlixZwuzZXRRGRkbM+LaDgwMmT57MfLdy5UrExcVJLp5HJqSmpmLSpElwcnL6YT6AlZUVR6pkCNdVB0UgMjKSrly5QsuWLaPOnTuTgYGBWJVbRUWlyOr4oUOHxNJKSEig8uXLM9+PGzdONqKFafTx+g6aPagDNapZlSpXc6RmTr1o+JQl5PHvR0oTFp/Er8SNGzfIysqqyP+jMs7NV9oONQBISUnB/fv3IRAIkJmZiZSUFMTHxyMuLg6RkZEIDQ1FUFAQkpOTf7i2YsWK6NixI7p37w5HR0c0bdr0hz3HXFxccOnSpR+u3bVrF6ZOnQogb7eSZ8+eoUGDBqzdlyjRF1tGDcScS5+gUqkZenZqhGoGGQh79Rj/3X2PRFTHvGdvsa5REbMefjEmTZqEPXv2/PScCxcuoFevXnJSJCe4frrIkubNm5eoM0xDQ4Pq1KlDI0eOpF27dtGrV69IJBKJpTVnzhyxa4yMjCgqKqrQfAUCAdWuXZs5t02bNuzdVOpTWtFMkwA9arXIi6K+m7eQGX6L3H6fRRei+aKbiOjjx48l+g34+PhwLZV1lLrkdnd3x7Fjx6Curg4dHR0YGBjA2NgYpqamsLS0RNWqVWFjYwMbG5ti9+BOSUlBpUqVkJ6et8Tt4cOHMXz48CLP9/b2hpOTE3N84sQJDBo0qJR3lIZHcxqi5aYgWE/5F37bO6K80vaasMeaNWuwaNGin57z/PlzVmtXCgHXTxdZIRAIKDMzkzIzM1kbkjp48CABoEGDBpXo/N69ezMlQ5UqVSgjI6NU+QsiDlBHbRAM+9CZGL5kloSwsDDq169fkSV3cHAw1xJZR2nNLav53JGRkSU+Nzg4mLS0tBgdy5cvL0XOQvp8sB1pAFTB9V9KKkVKvyoeHh4EgNTU1H4wd3x8PNfyWIev1EmIJMNq1atXx8yZM5nj9evXIzIyUsqc0xF45x1yoYE6XetCURf/UFSSk5OZOQCbNm3Cnj17oK+ftz6StrY2ypUrx6U8mcCbW8YsWrQIFhYWAPLi1OfOnStlSgIkxaQCMEJVcx3W9P0q5MccODg44Pfff8eECRMQGRmJNWvW4PDhw0zwkTKhtB1qmZmZTOeXlpYWDAy420n9wIEDGD16NHN8//59tGrVSsJUknFjcFV0OQkMvhmG450KlN2CL3j18BW+MCN1aihn1xxNrPihMAAIDAxE7dq1kZubixs3bsDZ2ZlrSfKB63bBr4BIJKImTZow7btGjRr9MNRWPNn0fp0DAaB6bh9JbJmv+LPUUUO8DVl3y3fn/MJ0796dAFCPHj24liJX+Gq5HFBRUcG2bduYrYf8/Pywf/9+CVPRRJX2nVEFwJtTN/Gp4L50Jj1x4UsiEhMTEXl1JCqyJVwJ8PLywtWrV6GpqfnD1Fxlhze3nGjevDmGDh3KHC9cuLDYuPXv0a0/GmNrA8JHG7HtccFr1aFnaAQjIyMY6mvw/9RvCAQCpkNz2rRpsLW15ViRfOF/B3Jk/fr10NPTA5C3PFP79u1RvXp1GBsbo1KlSujevTuuXLkCkaiIjd61HPG72yRUQSi2jpyH63H8aqs/Y8eOHfjw4QNMTU2xePFiruXIH1nW+YXZ6ZSWmUtchFscOXKEGjduTI0bN1aoLX8WL15cbCikra0tvXnzpogUUun5BicyBAjWfWjVhbeU+G2TOmF6FD3Y2Ja0+TY3ffnyhYyMjAgA/fPPP1zL4QSZmVsQdZaGmYEAG5runSB3g8t6UwJpyMnJod9++61Esc6Ghob0+vXrIlLKpOBzC6lzlfxgDFXSUCsQ9+7Qg5belf/fXJGYNGkSAaCGDRuSUPhr/iVkY+7sYPqnqxFp2vWniV0tSd1iOJ2LEhR/HYvIwtzChGd0YPFY6tXJhcauuUaREhaNJSm1C75sbGx+/sMUptLH/06T5/YNtHbTDtp34go9+JhE8v1LKx7+/v5MFNq9e/e4lsMZMjB3Ovmva0d2ndfSwwQhUW4UXZvbkmx77qVgOe68EhQUROfPn6fz58/TkydPSp1e2uu/aXTP38nz3mt6enIa1VLTpGYb3lJWCa/PysqiihUrSmRuAHTp0qVSa//V6NChg0RzAJQV9s2dGUDn91+n0Cyi3KRoSsgmIkqjd+f2080Ixd1X6WcIoi/SGFt7mnb3W0S3IIx2NQLBdgn5l9DdR48eldjYAKhr166yuzEl5MyZMwSAdHR0KCIigms5nMJ6b3l66GuEhXphWd/6MDNzws6gbAB6qNVnFDpZaRZ7vcIhisGFqaNw3HQGZrT4FhWmZoTqNkZAuC8+ppcsmefPn0uV/YsXL6S67lckOzub2V55zpw5yrl0kgSwbm4Ns0bo3KMp8MIfCfqN0bKKFttZyJUM/11YdC4bbX/vDWsm/FgNOgZaQE4iEjOLGLb6jszMTOnyz1C8DeYUlc2bNyM0NBRWVlaYN28e13I4h/VoeU2Tqqil+QmaBKg5OKGWHts5yJMk3N20EwHabbCig+l3T0IVAGrQUCvZ81Ha/cNMTEykuu5XIyoqCmvXrgWQF0+gq6t4G/PJG5kEsQi/vsHzGKBGh/ow4ShM5s6dO5g5cyZmzpyJQ4cOSZdI6nOcuJkAlXp90axCwRsRIOVrGmBggfIlnJvh4uIilQRpr/vVmD9/PtLS0tC6dWsMGTKEazmKgSwa8kn/DiMTGNOQm9wtKcDGUFjWq2VkBxCgTSaW1alWg8bUqK49WZsbkQZAcFxH7yXoI2zUqJHEHWrv37+XSvuvhK+vL6moqJCqqir5+flxLUdhkEG5KkCs/yskqNZCRwcDiJJeYt/M3mhWzQgG9uNxPb5kbVRFIDP8BT4DsBu3Gps2u2Gbuzs2r1+LNX8NhQ0Aq07tIUkf4bJlyyTKf8iQIahZs6ZE1/xqEBGmT58OIsKoUaPQsGFDriUpDuw/LxLpSh8Dgs0ievTSk8Z26UN/bPCkbSOtCChPrrdT2M+yEO7cuUOzZs2iWbNm/bC2eMkQUvSBZgRUpNE+4prTfWdSFVQg11uS10x27NhRohK7Ro0alJmZKYXuX4tDhw4RADIwMKCYmBiu5SgU7Js76zUtswMZdPiTZvyxjR7F58VLpd4ZS6bQoe4XE1jPUjYIKHx3IwIsaeqDtAKfZ9LzBTVItcoMepRW5MU/5fLly9SwYcOfmltfX5+io6NZuRNlJS0tjSpVqkQAaP369XLMWUAJvu40pF550jbtSO7v84IdhLHe9PfZYFKUaA72q+VpAXgUDqS+D0eT2ZPR3EQNACDMSkMOjGFl8vMlhBUHNegY6UMNucjKLdCUSPPDviNRaDhtIhpKORLQo0cP+Pn5wdfXFwsXLsTkyZMxa9Ys7N69GxUqVMjLJi0NCxcuZOE+lJc1a9YgKioKNjY2mDFjhpxyFSHp/jL0HHsN+o1rQzvuFg7ejoYQIsTc3IidXhHIlpOSYmH7aZH+dC5VA6juuncFnmC59HFrPYKmEx0rQ4vlJ3kNIiNoUqfTX799IqCIg52pYq259ChVNnnu3r2bKb1VVFTo6dOnssmojBMSEkLa2toEgC5evCi/jJP+o9/ta9LMBylEmS9oYQ2Q6dg7lJIdQNt796d/ghVnLh7L5hZS9JG2pI46tOFDgcqJMJqOddQhHaeDFFmGZjUIwvZQCzWQ6eiblEBEgpgrNKlhO1rmmySzGVdCoZDq1avHGLxly5Yyyqlsk78GuZ6eHoWFhckpVwFFHupIJg7L6XUWEVEsHW+vTipN9tCLi9No1N8fSjzXQB6wHMSSiZBHwRBU7oc2lf/fjSyMuY0DfuYYc74XLPNq6cgK/xf7LgjQe2pXVFIHgGyEXd6FA5/aYvaURtAvpZKgoCC8evUKAFC5cmU0a9ZM4jTUrAZi49ydaL+2P9p+agMrXQt03XUOU5oZymyVC1VVVWzduhUdOnQAADx8+BDHjh0TW8XlV+fOnTs4e/YsACA9PR1Vq1aFiooKGjZsCCMjIxgbG8PY2FjsfeXKldG9e3dmqSupEETg4vb7MOiyGtW1AEAXlWuago7txbJrU7F5mz0UKh6T1UeFIII8moLQdB99Zoq2dHq+pCHZjblKcUIiEnwl3/3LaUJbQ0KFkcR0nqf50owqGlRnw3tWOiTYm/IpoMTgp/TwZbhcd84suDtG5cqVKT09XX6ZKzACgYCp2bRs2VKimIHNmzeXLu9wD2qpoUvdzudvYCCg0B0NCKhFa94pSjfa/2G3AMoMx/NIALGvEZoKANmIuLgEi4PH4LR7N1RUBaCiA7s+87FudlsY6+hB65uCnPBbuBFriyHdq0Oxppeowah6Y7SoVwV6coy227RpE7S188LfIiMjsX79evllrsD8888/8Pf3R/ny5XHlyhWEhYWV+Fp7e/tS5Z3y6jpe51qgnvW30FZhAgLeJwJIx5cUwU+v5QJ2f666tdCvvyPUw93Qurwp7Bu7YMnb9tixdyrq5tezVXVhbKgJQVoScnQqoty3KnnAqcMIrjYYLjXYsbaFhQWaNm2Kpk2blsmF8apWrYo///yTOd64cSMiIiI4VMQ9SUlJzFpoy5cvh7GxMaytreHp6Vnstc7OzujevXspcs/G5+fvkIpysDTWAITxuLthAW5YdYcNInD7fiRySpG6TGC/MpBLCUFP6P7Tj5RQZMdhLgW71yfdRnsoQkAk/HqVXCuqkO0Sf4XqkOCaguO4AGjgwIFcS+KUGTNmEACqXbs2CQTiPbOdOnUqsjqurq7OQhhvKt2bVIkACxq6ZSf9NawvzT4fQdlJN2mYCQiWw2n7sT20aNxsOhWmGD3mHO04koWXi+qi/dN1CPHqgODdMzFi7kP0u/cKqxvwu2QU5PDhw3B1dWWO7969izZt2sgkr4yMDAQEBODDhw+Ij49HZmYmsrKyfnhpaWnBzMwMFhYWsLCwgLm5OSwsLGBmZlbsVsjS8uHDB9StWxe5ubm4deuW2PbIABAWFgZHR8dCp8j27t0b58+fL6UCAUJ2tYHdVF8IzTvir30HsbRrJagjDY9mN0TLzUHQcBgDj9PbMMqB3amQQqEQampqkl/IzTMlle5OqER6rTfR8Z0baa/nCLK2m0tP+T6jHxCJRNS8eXOmFGrQoEGpF/wTiUT07Nkz2rt3L/3555/UrVs3qlq1KqmoqEi1Wkz+S0VFhSpXrkz9+/cnNzc3evz4MWvbJ3fp0oUAUK9evYo8x93dvUhdW7ZsKb2IrBh64x9KSd8P5+bGU4D/R2YVWja5cOEC2djYSLUWHEfmzqSXi+0IGrXp94sf6eEse6o55ymVxNu9evVifoR2dnbUrFkzcnZ2poEDB9L48eNp9uzZtGrVKjp48OAPVbeyyuPHj8WM5+HhIXEaKSkpdObMGRo1ahSZmZmVysSSvHR0dKht27Y0f/588vLyotxcyausV65cIQCkpaVFHz9+LPI8oVD4Qw96u3btmPdTpkwpUyuhzp49m9EuzSqu3G0EKEhGbLoezDReYl7Laah44g5m1yy+M83R0RHv3r0rURbLli3D5MmTlWKL1pEjRzLz0k1NTREUFFTsPUVEROD8+fO4cuUK7t69i5yc4rt8dHR0ULNmTVhaWkJbWxs6OjrQ1tZmXjo6OsjMzER0dDSio6MRExOD6OhoJCQklOg+zMzMMGTIELi6uqJBgwbFnp+bm4vatWsjMDAQ8+bNw7p16356/ocPH1CrVi0AQK1atfD27Vts27YNs2bNgkgkQr9+/XD06FFoaSnUiHShPH36FM2aNQMRQV1dHffu3UPz5s1LnoAsnjiSkPrwT2o15BSVdOXjT58+SVx6KMq65aXh8+fPpK+vz9zTn3/+WeS5d+/epT59+pCqqupPO5maNWtGY8aMoY0bN9LVq1cpJCRE6pItKyuLwsLC6NKlSzRv3jxq06YNEx5a1KtOnTq0YcMGioqKKjLdzZs3EwCysLCg1NSSxfwePHiQWrRoQf7+/sxnZ8+eJS0tLQJAnTp1KjNxAyNHjqTOnTvTu3fvJL5W7uYWprygfRvOU1guEeWG0IGxk+lkhGRVtX379hVr6IIhnMpgbiKi1atXM/ekoaFBAQEBzHc5OTl09OhRaty4cZF/k/Lly9Pw4cPpxIkTlJQk+4U0cnJyyNfXl7Zs2UK9e/cu0uxqamrUu3dvevXqldj1cXFxZGhoSABo//79pdbj4+NDBgYGTHU9LU3KaX0sc+vWLWrVqhXFxsb+8F12tvTBMXI3tyBiH3UwqUZ9F22glYuW0r5niVLFaed3sBT20tDQoIULFyqdubOysqhatWrMfXXv3p2Sk5Np7dq1ZGlpWejfws7OjubPn0/379/nvL2ZmJhIe/bsoVatWhWqVVVVlYYMGUJBQUFERDR+/HgCQI0bN5Ziy+PCefz4MbPNUIcOHSgjI4OVdKVl3LhxzP2PHTuW1bQ5qJYLKTX4Ll28/owi06X/sUVERIhVU79/NWrUiO7evUs5OTlK07FGlFe9LHifxsbGhd5/p06d6Nq1a6yZgm2Cg4Np6dKlVL169UKbDH369GE6ER8+fMhq3k+ePGFqBN26dWOtR18a9uzZI3bfnz59Yi1tztvcpaHg9Mj8l6GhIZUrV445Hjp0KKt/MEWgadOmhRpaS0uLxowZ85M9xhSTS5cuUd26dQu9J3t7+xK3tSXh4cOHpKenRwBo2LBhnD0E82cBtm3bll68eMFq2mXa3CKR6IeN9Y4fP05xcXE0YcIEpkNJV1eXli9fznkVrLSkpaXRnDlzSF1d/YdmyOLFiwtts5UVRCIRHTt2jGxtbX8wePXq1enBgwes5+nl5UUaGhoEQOY7wT58+JBcXV0LrUV++fJFJnmWaXMT5U3az/8RNGjQQOy7Fy9eiI1zWltb08mTJzlSWjquXr1KVlZWhZZu5cqVk9kPRN6kpqaSiYlJoZ1uCxcuZL0Knb8GG1uddt8jEoloxIgRTB67du1iPY+iKPPmJiI6f/48devWjT58+FDo96dOnSJra2vmD9ymTRt6/vy5nFVKh0gkoqVLl/4QPWZtbS3W5zBp0iSupbLCihUrCABVqVKF/vrrrx9qKQ0bNpRqWOhnLFu2jACQpqYm6+17ov93DAKgChUqyK0GqRTmLgxPT0+ytbUlW1tbmj59OmVmZtLKlSuZdpaqqiqNGzeO4uLiuJZaJMnJyeTi4vJDu3rp0qWUmZlJW7duFSvZCo7rlkU+ffpEurq6BICpYT158oTs7OzE/gY6Ojq0fft21vIViUQ0YMAAAkCVKlVifRXV/CG9xo0by6R5URRKa+6iFmuIjIykYcOGMSWhoaEhbdq0idMe08J49+4d2dvbi/2oa9asKTa7KTc3l2rVqsV836FDBw4Vl56hQ4cSAGrbtq3Y5+np6TRlypQfqupTp05lbXgvLS2NateuTQDot99+kyrdFy9e0IYNGwr97u3bt3LvtPvlzJ3Pw4cPqUmTJmLjwZcvX+ZA6Y+cP3+eCbbIf/Xq1YtSUn5c893Ly0vsvLNnz3KguPQ8fPiQqVEV1Wt87do1Mjc3F7vfgQMHlirQoyABAQFMU2flypUlvi49PZ3GjRtHqqqqpKKiQo8fP2ZFT2lRWnNHRESQt7c3eXt705s3bwo9RyQS0YEDB8jCwoL5sXTp0oXTLXx27dol1r5WUVGhFStW/PSp3717d+b8atWqUVZW2ZoVLxKJmAft+PHjf3ruly9fxGbJASAnJ6dCH3zScOTIEWbMuaQmFYlEYpGBzZs3Z0VLaVFac0tCamoqzZ8/n4k9VldXp+nTp1NiYqJcdXh6eooZ29DQkK5cuVLsdYGBgcyQDgBavXq1HNSyx/79+5n7LclwXnp6OnXr1u2Hjja2hgKHDRvG1OZK2vn14MEDAvIWkvj3339Z0VFaeHMXIDg4mHr37i3Ws7lr1y65RLgdOXJEbKKHtbW1WOx4cfz555/Mtfr6+vT582cZqmWPlJQUpqq9adOmEl+Xm5tLrq6uYga3sbGh8PDwUmtKSkqiypUrEwCaM2eO2Hfv37+nS5cuFXqdl5eXQkVD8uYuhFu3bjGdKwCobt265O3tLbP8Tp8+TWpqakx+lpaWFBwcLFEaycnJZGpqyqTh6uoqI7XsMm/ePKaUlLRTUyQSic15BkCOjo6UnJxcal3Xrl1jRiH8/PwoOTmZpk+fTurq6mRsbExfv34tPhGO4c1dBAKBgHbu3Enly5dnfjh9+/alkJAQVvO5ePGiWJXa3NxcohK7IB4eHmJtdUXp2CmK4OBgpilUkuZHUWzatEnM4M7OzlItCvE9+b33TZo0oS9fvogF10yZMqXU6csapTW3l5cXjR49mkaPHk1///231OkkJCTQH3/8wQRTaGtr08KFC1mJd7579y7z485vBhTV+VcShEIhNWjQQKxjR1EnjhAR0wTq0qVLqdNavHixmMHZCOqJjY1lZpDt3buXtm3bxlT/i6qaKxJKa272NiXI4+3bt+Ts7MykWalSJTp48KDU5omLixNb2dTY2JhevnxZap13794V+5FLt32x7Ll16xbTecnW6MSQIUPE7l3addNCQkKYueU7d+4kADR9+nTKzc2lPXv2sDb0Jmt4c0vIpUuXxCY3NGvWjHx9fSVKQyQSUefOncWiziRN42cMHDhQ7CGkKIsS5CMQCJg+jenTp7OWblZWltgaaqqqqhKVsKmpqbRgwQLS0tKiRo0aMQ/uZ8+elclJR0pr7ocPH9Ly5ctp+fLldObMGVbTzs7Opg0bNjBTS1VUVGj48OEl7qFeu3atWAnDZiglEVF4eDjp6Ogw6S9atIjV9EvLjh07mGYI28ONcXFxYgta6Ovrl7hz8smTJ2JDkZ6enqxqkzdKa255EBMTQ2PHjmWGsPT09GjVqlWUmZlZ5DX3798XmwzRr18/mWgr2AbV1tam0NBQmeQjKQkJCUwnZWn6Qn7Gu3fvmMUY8oNcSkr+8JqVlRVduHBBJvrkBW9uFvDz86PWrVszP6aqVavS6dOnfzjv69evzPhpfjSZrNYyS09PF8tLVg8RSfnjjz8IyFvjTpbLPp0+fVqsdvTPP/+Iff/58+dCp8lGRUXR8uXLy8wCij+DNzeLHD9+XGzOdfv27cVmag0ePJj5TlNTk548eSJTPUePHhX7gfv4+Mg0v+J4+/YtU2uRh5a+ffuKRft9/vxZbHbguHHjZK6BS3hzs0xGRgYtW7aMmbqopqZGEydOpKtXr4oZzc3NTS56Ci5GWK9ePU4jqPJHG/r27SuX/KKjo8XWmOvZsycT6prf4VZW5vVLg9Ka+/Xr1+Tp6Umenp4yjS4rioiICLGSumAEWpMmTeQ2/vz06VOxTiJZtXOL4+LFi0z7n+1AoJ9R0MwA6OjRo8yy12ZmZnT16lW5aZE3SmtuWQ2FScq9e/fEem8ByWKo2WDUqFFigTLynhCTnZ1NNjY2BIAWLlwot3y/fv1KQqFQbNixYsWKdO3aNZo9ezYrYaqKDG9uGZOZmVno2mfdunWTOsxUUqKjo8Xmh8+YMUMu+eazYcMGuY655+Tk0JYtW8jIyIh2795NYWFhYktSbdy4UeYaFAGlNffp06epU6dO1KlTJ1q1ahVnOgruEqKpqUnjx48nTU1NAvJWLZ05c6Zcdv9Yt24do0NDQ0Nuc9ZjYmKYeAB5RcstWrToh5rKggULmM/Mzc1/OlypLCituRWBL1++iJWY+dMHg4KCqGfPnmJVxT179sh0aKhg1RhgJ567JIwZM4aJ5JNXP0NsbCzzQDE2Nqa7d+9SXFwc08kJgHbu3CkXLVzCm1uGFCwtK1as+EMJffPmTXJwcGDOqV+/Pt25c0dmei5cuCDWNCjNTKyS8OzZM2bpITbDawtS1Kozbm5uNGXKFLGpmTNmzGDu3draWuHWzWMb3twyQiQSUY0aNZgf07Jlywo9Lzc3l7Zt2yY2ZNO/f38KCwuTia6OHTsy+Ugzh1oS8ofhRowYwXraQqGQ9uzZQ2ZmZiWOF4iMjGSaRABo3759rOtSJHhzy4gbN26IDYNFRkb+9PyvX7/SlClTmCEzbW1t+uuvv1iPlHrz5o3YsNzmzZtZTT+f48ePM7HdslgVZuTIkcw9SDK1dcKECcx1tra2nG+OKEuU1tyJiYkUGBhIgYGBFB0dLff8C0ZH9erVq8TXvX79mpycnJhrK1euTEeOHGG1vTp16lSxyC22127PyMhgRghktZ5b/ppl+Q+Qt2/flui6kJAQsdj+W7duyUSfIqC05uZyKCwqKkrsB3Tt2jWJ0zh//rxYtb5FixashavGx8eLrSpS3IqjkrJ06VImdl6WvdLDhg2jkSNHUlRUlETX9erVi7n3iRMnykgd9/DmlgErV65k8q5WrZrUVb+srCxau3YtM0aroqIi1Y+5MLZv3y4WhsnWDpMRERHMdNPSTrUViUR0+PBhqlOnTqFrlkn7d81fvji/o1ORFjVkE6U199atW0lHR4d0dHRo+PDhcs27YIm7Zs2aUqcXHR1No0aNYsJI9fX1ac2aNaVanzw3N5ccHR0Znd/v8iEtgwYNIoCd3U8KrsfO5pplycnJYstb3b59m7W0FQmlNTdXBAcHiw03sdmZ9PTpU2rRogWTdvXq1encuXNSp/fvv/+KaT116lSp9N27d4/pQGRj3zJ3d3exdnV8fHyp08ynYJyBsmyi+D28uVmm4Aqkjo6OMsnj6NGjYnO1nZyc6PXr11KlVfBHbm1tLXUbWSgUUsOGDVk1S25uLjk4OMhkaPDwgURfSwAAETpJREFU4cPMfZuamipl1Zw3N8vkV0sBdtcH+5709HRavHgx075VU1OjyZMnS7ye9sePH8XGflesWCGVnr179xIAMjIykniv8HPnzlH//v0LHRFga5ug7/m+as7FzEFZw5ubRUQiEVWsWJH5wchj+duwsDCxBRGNjY3J3d1donW7586dy1yvq6tLnz59kkhDcnIymZmZESDZPPWcnByxoBp5r1lWsE2/ZMkSueYtD3hzs8jLly/FAlfkOaXw7t27YmuWOzg40I0bN0p0bUpKCmNOADRs2DCJ8s7f9aNWrVoSbwZQcEsgKysrVjYTKCmrVq1i8nZxcZFbvvJCac29a9cuMjU1JVNTU9bHcYti8+bNYlFT8kYoFJKHh4dY7cHFxYUCAwOLvdbT05O5RkVFhR4+fFiiPIOCgphqvZeXl8Sao6KiSF9fX65TYPPJ3zIIyNvCSdlQWnNzMc5dcBNBLpcTTkpKolmzZjHbFGlqaha7OMH329CWdLUYFxcXAkDdu3f/6Xk3btwocuqtrOLoiyM2NlZstICtXUIVBd7cLFJw3Lg0Q1RsERAQINauNDMzo7179xYZ/FEwpBMA7d+//6fp58fPa2hoFFnqJiQkMA8ANoNl2KLgri/Xr1/nWg6rKK25Y2Ji6NmzZ/Ts2TO5rdmlp6fH/FAU6Ud8/fp1qlmzJqOtYcOGdO/evULPLbglj7m5eZG91fnDVABo1qxZReYtFAqZNcuAvBVhFYkePXqwGnCkSCitueXN91U8eayuIgm5ubnk5ubGbGwHgAYNGkQRERFi50VERIgtajB//vxC08sPMDE1NS32Xn18fBhjs7EfGpssWbKEudf+/ftzLYdVeHOzhK+vr9hwlKLy5csXmjRpEjPtU0dHh5YuXSo2tXTZsmXMvairq1OrVq3IwsKCTExMyNbWlqZNm8asdOLh4cFcd+/evSKbIyXtoJM3BTcvaNCgAddyWIU3N0vkz1/Or/YqOv7+/tShQwexYahjx44RUd6UzYJDY0W9KlSoQNnZ2RQdHc0E73Cxumpp8Pb2Zu6natWqXMthFVXwsEJoaCjzvlq1ahwqKRl169aFt7c3zpw5g2rVquHTp08YOnQo2rRpg1OnTiExMbHYNL5+/Yrhw4dDRUUF169fZz5bvny5rOWzhpGREfM+KSmJQyXso7TmvnTpEvr164d+/fphy5YtMs8vPDyceV8WzJ1Pv3798O7dO6xevRr6+vq4f/8+Ro0ahZycnBJdf/r0aZw4cQKLFy8GADRt2hSDBg2SpWRWMTY2Zt6npKSAiDhUwy7qXAuQFYGBgTh37hwAQE1NTeb5ZWVlMe/19fVlnh+baGtrY+HChRg1ahQGDBiAhw8fSnT99u3b8e7dO1hZWWHgwIFQUVGRkVL2KVhyi0QiJCcni31WllHakptHcipVqgShUCjxdcHBwfDx8cGgQYPKlLEBwNDQUOw4MjKSIyXso7Ql92+//YatW7cCAOzs7DhWU3Z4/vy51Nd17tyZZTWy5/uH0fnz51G7dm2O1LCL0pq7YcOGaNiwIdcyyhRCoRC5ublSXZuRkcGyGp7SwlfLeRjU1NRgYGAg1bUFO6bKMiYmJlxLYA3e3DxiuLi4SHVdjx49WFYiH76vqfTu3ZsjJezDm5slylpHUlFMmTJF4ms6duxYZvs1vh/bVpYaCKDEbe7nz5/j7t27API61Lp16ybT/AoOn8TGxso0L1nSqlUrODs74+bNmyU6X01NjRnjLosUDNbR1NSErq4uh2rYRWlLbm9vb8ycORMzZ87EgQMHZJ5fwcCVgtFqZZHTp0+jadOmxZ6npqaGAwcOoG3btnJQJRsKltzKMr6dj9KaW94ok7nLlSsHHx8fzJgxA+XKlSv0nObNm+PGjRsYPny4nNWxS8GSW9nMrbTVcnt7e/Tv3x8A0KJFC5nnV9DcYWFhIKIy3Q7X1dWFm5sbVq1ahRMnTuDNmzfIyspC+fLl0a9fPzRo0IBriawQHR3NvC9fvjyHSthHac3t4uIidc+vNBQ0d3Z2NqKjo1GpUiW55S8r9PT0MHbsWK5lyIyCQTuOjo4cKmEfvlrOEnp6eqhYsSJzXNar5r8KBc2tbEFPvLlZpGDpHRwczKESnpIgEong7+/PHPPm5imSgjHJ9+7d41AJT0kIDAxEWloaAEBdXR316tXjWBG7KK25Y2Nj8ezZMzx79gwhISFyyfO3335j3t++fVsuefJIT8Eqec2aNaGtrc2hGvZRWnMfPnwYTZo0QZMmTTB//ny55FnQ3KGhoXy7W8F58eIF815Zev8LorTm5gILCws4ODgwx3zprdjcunWLed+oUSMOlcgGpR0K09PTg5mZGQD5Bic4OTnh3bt3APLMPW7cOLnlLVPS3uL4P1cQUWD1JRIRtMpbw65OU7RuWgOGsl/whjU+fvyIly9fMseyDk/mBK5XaFQ2Lly4ILbvc0m25CkLCD/vpSYAARXI1sGRHB0dydHBnqpWyNsGV9O2By08F0LS7e4tf9asWcP8n+rVq8e1HJnAV8tZpn379syabXFxcXj69CnHilim9jxcefEGb968wZu3HxD6JR3xzw9grO4NrOnbEmPPREHyhZrkz+nTp5n3AwYM4FCJ7ODNzTKGhoZo06YNc+zh4cGhGnmgBpMGI7H96iH0MYrBsblb8VzBF2UJDg4W60zjzc1TYsaPH8+8P3HiBJKTkzlUIx/ULJ0xrIkmEOoNv6+KXXYXLLXr1q1bZueiFwdvbhnQv39/JhQ1PT0dR44c4ViRHBAk4lNcDqBhBBMdxe5ZO378OPNeWUttQInNvXXrVmhra0NbW1vu0xI1NTUxatQo5njPnj1yzV/+CPD5wnKs9wfK952Ctgq8DNmNGzfw6tUr5njgwIEcqpEtSjsUJhAIkJ2dDQAl3j2DTSZMmIBNmzaBiPD69Ws8ePAArVq1krsO1kkLhd/9/xCtBpAwB2mxgXjidQg7Dj1Bau3puL69N8wVuOBevXo1875Hjx5KWyUHlNjcXGNjYwMnJycmUOLvv/9WDnOH7cJQp10FPtBAxVot0XX5Jayc64LqChzBeffuXbGY/0WLFnGoRg5wPRYnKxITEykoKIiCgoIoJiaGEw1nzpxhxlLV1NTo1atXnOhgA2acu9o8epZe/PmKiLOzM/P/cHJy4lqOzFHaNreRkRFsbGzwv/buN6SpNY4D+HfTqSMllAwV/8wQc6YhWWgaDsVJgqAQFkToQBEJjQgrKF9IhQTaixIt0Df5KkIDQQtxiZg6szJITCORymIurJaZzuZ87ou4595zNW96rz7bs98HxHZw9j3HfXfOzp/nREVFSWeqbbW8vDzpdFSHw4EzZ85wyUGAp0+fygZ9FH6tDYF3qDkDDw8P1NbWSo+NRiM6Ojo4JnJfV65ckf6dkpKC9PR0jmm2BpV7k2VnZ8vuoVVRUYGlpSWOidxPR0cH2trapMfusNYGqNxbora2VjoldXx8HLdu3eKcyH3Mzs6itLRUepyamirmRSKrELbcLS0t0Ov10Ov1sk0yHuLi4mSDDFZVVeHz588cE22EAkolAA+FS71qzp07J92W19vbG01NTZwTbSHee/Q2S01NjbRnND8/n3ccZrFYmJ+fn5QpNzeXdyTh9fT0MIVCIS3z6upq3pG2lAu9B7u2nTt34tKlS9LjtrY2XL9+nWMisS0sLKC4uBiMMQA/R1o5e/Ys51RbS8H+nHvBjI6OSpdbRkZGQqfTcU4EMMaQk5OD+/fvA/h5mmp/fz/279/POZl4Tp8+Lb15enp6YmhoSMihlNbEd8PB/czMzLDQ0FBpUzEyMpJZrVbesYTS1NQkLV8A7MKFC7wjcSHsmtuZ9fX1IT09XTokduTIEbS0tHBOJYbu7m4cPnxYuu92QkICBgcH4e3tzTnZ1vOoqqqq4h3C3YSHh0OlUkkDKI6NjUGlUrn03TKdwfj4OLKysjA//3O0iJCQEHR3dyMgwIkvU9tEtObmhDGG7OxsdHZ2StOuXbtGp6hu0MzMDJKTk6U7vWzbtg29vb3C3UVkPYQtt8lkks4l3rNnj3THT2cyMzODtLQ0jI2NSdPq6+tx8uRJjqlcj81mg16vR19fHwBAqVTi3r17yM3N5ZyMM46f9zeVsx3n/pUPHz6wqKgoKatCoWBNTU28Y7kMq9XK0tLSZDvQampqeMdyCnScm7M/PxdqNBoAPzfXS0pK3GNopv/IbDYjLS0Nvb290rSSkhJUVFRwTOU8hB2sYe/evdIpnwcOHOCcZm1hYWF4+PAhdDod3r9/j+XlZRgMBnz58gXl5eW84zml169fIysrC2/evJGmFRcXo6Gh4ddPcje8Nx3IX169esWCgoJkm5iFhYVsYcFVhvrfGk+ePGGBgYGy5XTx4kXesZwOldvJjI6OsrCwMNkLNzExkb179453NKfQ2trKfH19pWWjVCpZXV0d71hOicrthCwWC9PpdLKCBwYGsp6eHt7RuJmdnWUGg0G2TLy8vNidO3d4R3NaVG4nZbfb2alTp2QvZk9PT3b16lVmt9t5x9tSjx49YhqNRrYs/Pz8WFdXF+9oTk3Ycr99+5YZjUZmNBrZyMgI7zgb1tzczNRqteyFHRcXx3p7e3lH23SLi4vs/PnzTKlUyub/4MGDbGJignc8pydsuV3lOPfvePbsGYuIiJC9wAGwgoICZrFYeMfbFN3d3SwhIUE2vyqVil2+fJktLS3xjucS6Di3C9i3bx+eP3+O0tJSKJV//cmam5uxe/du1NfXY3l5mWPC/8/Q0BAyMzORkZEhu392TEwMTCYTKisrpSGryNqELXdAQACio6MRHR2NkJAQ3nH+M39/f9y8eRODg4NITEyUplutVpSVlSEuLg6NjY2w2WwcU27cyMgI8vLykJSUJF1QAwAKhQJlZWUYHh6WzTf5Dbw3Hcj6ORwO1tDQwPz9/Vdsqu/YsYNVVlYys9nMO+Zvefz4MTt+/PiKz9UAWEZGBjOZTLwjuiwqtwv7+PEjMxgMqxbDy8uLFRYWsuHhYd4xV5iammLV1dVMq9WuyA2AJSUlMaPRyDumy6NyC2BiYoKVl5fLTu74+9euXbtYeXk56+zsZIuLi1wyzs3Nsdu3b7OMjIxV34wAsPj4eNbW1sYln4iEveTTHVmtVjQ2NqKurg5TU1Or/oyvry/0ej1ycnKQmZmJ8PDwTcliNpvR39+PgYEBDAwMYHh4WBod5e8UCgV0Oh1KS0tx9OhRKBSKTcnjjoQt9/LysjSMkYeHh1vtYV1aWkJraytu3LgBk8mEtf7Evr6+iImJQWxsLLRaLbRaLWJjYxEaGgpvb2/Z3vl/+vTpE8xmM6anp2E2m2E2m/HixQv09/fLLuhYTXR0NAoKCnDixAlERERsdFbJGoQtd21trTSUbX5+Pu7evcs5ER/T09Po6OhAe3s7urq68P3793U9X6VSwcfHBz4+PlCr1VCr1Zifn4fFYln3fc8DAgJw7NgxFBQUIDk5eV3PJesn7CWfoaGhOHToEABAq9VyTsNPUFAQioqKUFRUhMXFRfT09KC9vR0PHjzA5OTkmmt1ALDb7bDb7fj27du6/2+NRoOUlBSkpqYiJSUF8fHxbrUFxZuwa27y7+bm5jA+Po6XL19ibGxM+j45OQmHw/Fbv0OtViM4OBjBwcEICgqCRqNBcnIyUlNTERwcvMlzQNZC5SYr/PjxA1+/foXNZsPCwgJsNpvsy8vLSyrz9u3becclv0DlJkRQwp5+Soi7o3ITIigqNyGConITIigqNyGConITIigqNyGConITIigqNyGConITIigqNyGConITIigqNyGConITIigqNyGConITIigqNyGConITIigqNyGConITIigqNyGC+gPCwJlLGsJXNgAAAABJRU5ErkJggg==)"
   ]
  },
  {
   "cell_type": "markdown",
   "id": "43f68ac5-243d-4acf-bcda-9bcd08cd0248",
   "metadata": {},
   "source": [
    "Let's consider an inverted pendulum, with a wheel and a motor connected to its free end. The motor applies the torque $T_{w}(t)$ on the wheel.\n",
    "\n",
    "The pendulum starts at some configuration:\n",
    "$$\n",
    "\\begin{aligned}\n",
    "\\theta(t=0) &= \\theta_{0} \\\\\n",
    "\\alpha(t=0) &= 0 \\\\\n",
    "\\dot{\\theta}(t=0) &= \\dot{\\alpha}(t=0) = 0\n",
    "\\end{aligned}\n",
    "$$\n",
    "\n",
    "Swing the pendulum from $\\theta_{0}$ to standing up using minimal input energy with a bounded $T_{w}(t)$ magnitude.\n",
    "\n",
    "For simplicity, I'm not going to consider friction on the joints, nor disturbance torques. Also, the numerical quantities used in this example are \"random\", they are not taken from the paper."
   ]
  },
  {
   "cell_type": "markdown",
   "id": "982fa1f8-505e-4ed0-a280-24f3f1cc7f64",
   "metadata": {},
   "source": [
    "## Equation of Motion"
   ]
  },
  {
   "cell_type": "code",
   "execution_count": null,
   "id": "25a99fbd-254e-48da-a062-0cd5656ae7cb",
   "metadata": {},
   "outputs": [],
   "source": [
    "alpha, theta = me.dynamicsymbols(\"alpha, theta\")\n",
    "alphad, thetad = me.dynamicsymbols(\"alpha, theta\", 1)\n",
    "u1, u2 = me.dynamicsymbols(\"u1, u2\")\n",
    "Tw = me.dynamicsymbols(\"T_w\") # torque applied by the motor to the wheel\n",
    "\n",
    "r, L, g, m_rod, m_disk = sm.symbols(\"r, L, g, m_r, m_d\")\n",
    "\n",
    "t = me.dynamicsymbols._t\n",
    "\n",
    "N, N_aux, A, B = sm.symbols(\"N, N_aux, A, B\", cls=me.ReferenceFrame)\n",
    "auxx, auxy, auxt, fx, fy, tz = me.dynamicsymbols(\"auxx, auxy, auxt, fx, fy, tz\")\n",
    "\n",
    "# N_aux is needed to get the reaction torque at O (should be zero)\n",
    "N_aux.orient_axis(N, N.z, 0)\n",
    "N_aux.set_ang_vel(N, auxt*N.z)\n",
    "\n",
    "A.orient_axis(N_aux, N.z, theta)\n",
    "A.set_ang_vel(N_aux, thetad*N.z)\n",
    "\n",
    "B.orient_axis(A, N.z, alpha)\n",
    "B.set_ang_vel(A, alphad*N.z)\n",
    "\n",
    "inertia_rod = me.inertia(A, 0, 0, 1/12*m_rod*L**2)\n",
    "inertia_disk = me.inertia(B, 0, 0, m_disk*r**2/2)\n",
    "\n",
    "# O: pin joint of the pendulum\n",
    "# G: center of mass of the rod\n",
    "# P: pin joint of the wheel\n",
    "O, P, G = sm.symbols(\"O, P, G\", cls=me.Point)\n",
    "G.set_pos(O, -L/2 * A.y) # assume center of mass of rod is located here\n",
    "P.set_pos(O, -L * A.y)\n",
    "\n",
    "O.set_vel(N, auxx*N.x + auxy*N.y)\n",
    "\n",
    "G.v2pt_theory(O, N, A)\n",
    "P.v2pt_theory(O, N, A)\n",
    "\n",
    "bodies = [\n",
    "    me.RigidBody(\"rod\", G, A, m_rod, (inertia_rod, G)),\n",
    "    me.RigidBody(\"disk\", P, B, m_disk, (inertia_disk, P))\n",
    "]\n",
    "\n",
    "loads = [\n",
    "    (G, -m_rod * g * N.y),\n",
    "    (P, -m_disk * g * N.y),\n",
    "    (O, fx*N.x + fy*N.y),\n",
    "    (B, Tw * N.z),\n",
    "    (A, -Tw * N.z),  # do not forget to add the reaction torque!\n",
    "    (N_aux, tz * N.z),\n",
    "]\n",
    "\n",
    "kd_eqs = [\n",
    "    thetad - u1,\n",
    "    alphad - u2,\n",
    "]\n",
    "kane = me.KanesMethod(\n",
    "    N,\n",
    "    q_ind=[theta, alpha],\n",
    "    u_ind=[u1, u2],\n",
    "    u_auxiliary=[auxx, auxy, auxt],\n",
    "    kd_eqs=kd_eqs\n",
    ")\n",
    "\n",
    "fr, frstar = kane.kanes_equations(bodies, loads)\n",
    "# remove the last three equations, pertaining to the reaction forces\n",
    "eom = sm.Matrix([(fr + frstar)[i] for i in (0, 1)])\n",
    "eom = sm.Matrix.col_join(sm.Matrix(kd_eqs), eom)\n",
    "eom"
   ]
  },
  {
   "cell_type": "markdown",
   "id": "e4033317-a6b6-44c8-91d4-f15686daf293",
   "metadata": {},
   "source": [
    "## Opty setup"
   ]
  },
  {
   "cell_type": "code",
   "execution_count": null,
   "id": "b486c17b-3b10-4fdc-a657-0d294603f640",
   "metadata": {},
   "outputs": [],
   "source": [
    "num_nodes = 500\n",
    "t0, tf = 0, 10.\n",
    "times = np.linspace(t0, tf, num_nodes)\n",
    "\n",
    "h = (tf - t0) / (num_nodes - 1)\n",
    "constant_symbols = [g, L, m_rod, m_disk]\n",
    "L_val, m_rod_val, m_disk_val, r_val = 2, 1, 1.0, 0.5\n",
    "parameter_map = {\n",
    "    g: 9.91,\n",
    "    L: 2.0,\n",
    "    r: 0.5,\n",
    "    m_rod: 1.0,\n",
    "    m_disk: 1.0,\n",
    "}\n",
    "\n",
    "state_symbols = [\n",
    "    theta, alpha, u1, u2\n",
    "]\n",
    "specified_symbols = [\n",
    "    Tw,\n",
    "]\n",
    "\n",
    "# Objective function and its gradient\n",
    "t = sm.symbols(\"t\")\n",
    "objective = sm.Integral(Tw**2, t)\n",
    "obj, obj_grad = create_objective_function(\n",
    "    objective,\n",
    "    state_symbols,\n",
    "    specified_symbols,\n",
    "    [],\n",
    "    num_nodes,\n",
    "    h\n",
    ")\n",
    "\n",
    "instance_constraints = [\n",
    "    theta.subs(t, 0),\n",
    "    theta.subs(t, tf) - np.pi,\n",
    "    alpha.subs(t, 0),\n",
    "    u1.subs(t, 0),\n",
    "    u1.subs(t, tf),\n",
    "    u2.subs(t, 0),\n",
    "]\n",
    "\n",
    "bounds = {\n",
    "    Tw: (-10.0, 10.0),\n",
    "}\n",
    "\n",
    "problem = Problem(\n",
    "    obj,\n",
    "    obj_grad,\n",
    "    eom,\n",
    "    state_symbols,\n",
    "    num_nodes,\n",
    "    h,\n",
    "    known_parameter_map=parameter_map,\n",
    "    instance_constraints=instance_constraints,\n",
    "    bounds=bounds,\n",
    "    time_symbol=t\n",
    ")\n",
    "problem.add_option('max_iter', 3000)"
   ]
  },
  {
   "cell_type": "markdown",
   "id": "c9c62ee3-a946-404c-823c-02306964ecf8",
   "metadata": {},
   "source": [
    "## Initial conditions"
   ]
  },
  {
   "cell_type": "code",
   "execution_count": null,
   "id": "1174a857-ca2e-46fd-97c8-5abff05fada4",
   "metadata": {},
   "outputs": [],
   "source": [
    "initial_guess = np.random.rand(problem.num_free)\n",
    "problem.plot_trajectories(initial_guess)"
   ]
  },
  {
   "cell_type": "markdown",
   "id": "ee1ea680-6100-4eaf-9fb0-813cd9f27a25",
   "metadata": {},
   "source": [
    "### Solution\n",
    "\n",
    "Iterating sometimes helps convergence.\\\n",
    "A solution from a previous run is stored in wheel_based_inverted_pendulum_solution.npy to speed up the calculation for tihs example."
   ]
  },
  {
   "cell_type": "code",
   "execution_count": null,
   "id": "b7e9b197-58dd-4c03-9de9-eabfdfbe9d21",
   "metadata": {
    "scrolled": true
   },
   "outputs": [],
   "source": [
    "for _ in range(3):\n",
    "    solution, info = problem.solve(initial_guess)\n",
    "    print(info['status_msg'])\n",
    "    initial_guess = solution\n",
    "\n",
    "problem.plot_objective_value()\n",
    "problem.plot_trajectories(solution)\n",
    "problem.plot_constraint_violations(solution)"
   ]
  },
  {
   "cell_type": "markdown",
   "id": "f0e648e4",
   "metadata": {},
   "source": [
    "Calculate the reaction forces.\\\n",
    "Since the system is so small, I do the calculations symbolically."
   ]
  },
  {
   "cell_type": "code",
   "execution_count": null,
   "id": "6eb28afd",
   "metadata": {},
   "outputs": [],
   "source": [
    "rhs = kane.rhs()\n",
    "reaction_forces = me.msubs(kane.auxiliary_eqs, {i.diff(t): j for i, j in\n",
    "    zip(state_symbols, rhs)})\n",
    "reaction_forces = sm.solve(reaction_forces, [fx, fy, tz])\n",
    "\n",
    "reaction_forces_lam = sm.lambdify(state_symbols + specified_symbols +\n",
    "    [i for i in parameter_map.keys()], [reaction_forces[i] for i in reaction_forces.keys()],\n",
    "    cse=True)\n",
    "\n",
    "react_force = np.empty((num_nodes, 3))\n",
    "state_sol, input_sol, _ = parse_free(solution, len(state_symbols), len(specified_symbols), num_nodes)\n",
    "\n",
    "\n",
    "for i in range(num_nodes):\n",
    "    react_force[i] = reaction_forces_lam(\n",
    "        *state_sol[:, i], input_sol[i], *list(parameter_map.values())\n",
    ")\n",
    "\n",
    "\n",
    "names = ['reaction_force x', 'reaction_force y', 'reaction_torque z']\n",
    "\n",
    "fig, ax = plt.subplots(3, 1, figsize=(6.5, 6), sharex=True)\n",
    "for i in range(3):\n",
    "    ax[i].plot(times, react_force[:, i])\n",
    "    ax[i].set_ylabel(names[i])\n",
    "ax[0].set_title(\"Reaction forces and reaction torque\")\n",
    "ax[-1].set_xlabel(\"Time [s]\");\n"
   ]
  },
  {
   "cell_type": "markdown",
   "id": "235189cc-f5d4-431c-b238-94fcdcb45495",
   "metadata": {},
   "source": [
    "## Animation"
   ]
  },
  {
   "cell_type": "code",
   "execution_count": null,
   "id": "0d8c76a3-56e1-4350-bf4a-8700c65e51e0",
   "metadata": {},
   "outputs": [],
   "source": [
    "\n",
    "from matplotlib.animation import FuncAnimation\n",
    "from IPython.display import HTML\n",
    "\n",
    "xP = sm.lambdify([L, theta], P.pos_from(O) & N.x)\n",
    "yP = sm.lambdify([L, theta], P.pos_from(O) & N.y)\n",
    "rot = sm.lambdify([alpha, theta], N.dcm(B))\n",
    "points = np.array([[r_val, 0, 0], [0, 0, 0], [0, r_val, 0]])\n",
    "points_on_wheel = np.array([[0, r_val, 0]])\n",
    "\n",
    "state_traj, input_traj, constants = opty.utils.parse_free(\n",
    "    solution, problem.collocator.num_states,\n",
    "    problem.collocator.num_unknown_input_trajectories,\n",
    "    problem.collocator.num_collocation_nodes,\n",
    "    variable_duration=problem.collocator._variable_duration)\n",
    "\n",
    "fig, ax = plt.subplots()\n",
    "\n",
    "idx0 = 0\n",
    "th0 = state_traj[0, idx0]\n",
    "al0 = state_traj[1, idx0]\n",
    "xP0 = xP(L_val, th0)\n",
    "yP0 = yP(L_val, th0)\n",
    "phi = np.linspace(0, 2*np.pi, 50, endpoint=True)\n",
    "x_wheel = r_val * np.cos(phi)\n",
    "y_wheel = r_val * np.sin(phi)\n",
    "points_on_wheel_transformed = (rot(al0, th0) @ points_on_wheel.T).T\n",
    "\n",
    "pendulum, = ax.plot([0, xP0], [0, yP0])\n",
    "wheel, = ax.plot(xP0 + x_wheel, yP0 + y_wheel)\n",
    "points_on_wheel_handler = ax.scatter(xP0 + points_on_wheel_transformed[:, 0], yP0 + points_on_wheel_transformed[:, 1])\n",
    "\n",
    "ax.set_aspect(\"equal\")\n",
    "w = (L_val + r_val) * 1.25\n",
    "ax.axis([-w, w, -w, w])\n",
    "\n",
    "def update(idx):\n",
    "    theta = state_traj[0, idx]\n",
    "    alpha = state_traj[1, idx]\n",
    "    xP_cur = xP(L_val, theta)\n",
    "    yP_cur = yP(L_val, theta)\n",
    "    points_on_wheel_transformed = (rot(alpha, theta) @ points_on_wheel.T).T\n",
    "\n",
    "    pendulum.set_data([0, xP_cur], [0, yP_cur])\n",
    "    wheel.set_data(xP_cur + x_wheel, yP_cur + y_wheel)\n",
    "    points_on_wheel_handler.set_offsets(np.c_[xP_cur + points_on_wheel_transformed[:, 0], yP_cur + points_on_wheel_transformed[:, 1]])\n",
    "    ax.set_title(\"t = {:.2f} s\".format(times[idx]))\n",
    "\n",
    "# update(0)\n",
    "plt.close(fig)\n",
    "ani = FuncAnimation(fig, func=update, frames=len(times))\n",
    "HTML(ani.to_jshtml(fps=50))"
   ]
  },
  {
   "cell_type": "code",
   "execution_count": null,
   "id": "c0729b69-a8a4-4b7d-9747-243172148eb9",
   "metadata": {},
   "outputs": [],
   "source": []
  }
 ],
 "metadata": {
  "kernelspec": {
   "display_name": "Python 3 (ipykernel)",
   "language": "python",
   "name": "python3"
  },
  "language_info": {
   "codemirror_mode": {
    "name": "ipython",
    "version": 3
   },
   "file_extension": ".py",
   "mimetype": "text/x-python",
   "name": "python",
   "nbconvert_exporter": "python",
   "pygments_lexer": "ipython3",
   "version": "3.12.5"
  }
 },
 "nbformat": 4,
 "nbformat_minor": 5
}
